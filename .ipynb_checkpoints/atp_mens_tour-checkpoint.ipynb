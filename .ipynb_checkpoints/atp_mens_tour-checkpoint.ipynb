{
 "cells": [
  {
   "cell_type": "code",
   "execution_count": 26,
   "metadata": {
    "_cell_guid": "b1076dfc-b9ad-4769-8c92-a6c4dae69d19",
    "_uuid": "8f2839f25d086af736a60e9eeb907d3b93b6e0e5"
   },
   "outputs": [],
   "source": [
    "import numpy as np\n",
    "import pandas as pd\n",
    "import matplotlib.pyplot as plt\n",
    "from matplotlib.pyplot import xticks\n",
    "from scipy.stats import skew\n",
    "import seaborn as sns\n",
    "import os\n",
    "import reportlab\n",
    "from reportlab.pdfgen import canvas\n",
    "from fpdf import FPDF\n"
   ]
  },
  {
   "cell_type": "code",
   "execution_count": 2,
   "metadata": {
    "tags": [
     "parameters"
    ]
   },
   "outputs": [],
   "source": [
    "#file_path1={'file_name': '/Users/psehgal/Data.csv'}\n",
    "#file_location = file_path1['file_name'] \n",
    "file_name = '/Users/psehgal/Data.csv'"
   ]
  },
  {
   "cell_type": "code",
   "execution_count": 3,
   "metadata": {
    "_uuid": "0a8931240e7c2fc0e524bd770a0b4f20e42ce1f4"
   },
   "outputs": [
    {
     "name": "stderr",
     "output_type": "stream",
     "text": [
      "/Users/psehgal/opt/anaconda3/lib/python3.7/site-packages/IPython/core/interactiveshell.py:3058: DtypeWarning: Columns (11,12) have mixed types.Specify dtype option on import or set low_memory=False.\n",
      "  interactivity=interactivity, compiler=compiler, result=result)\n"
     ]
    }
   ],
   "source": [
    "#data = pd.read_csv('/Users/psehgal/dev/airflow_home/kaggleatpdata.csv', dtype='unicode')\n",
    "data = pd.read_csv(file_name, encoding = 'ISO-8859-1')"
   ]
  },
  {
   "cell_type": "code",
   "execution_count": 4,
   "metadata": {
    "_uuid": "05fc6bfaa59d8f8a8e248386d620a6fbffeb4996"
   },
   "outputs": [
    {
     "data": {
      "text/html": [
       "<div>\n",
       "<style scoped>\n",
       "    .dataframe tbody tr th:only-of-type {\n",
       "        vertical-align: middle;\n",
       "    }\n",
       "\n",
       "    .dataframe tbody tr th {\n",
       "        vertical-align: top;\n",
       "    }\n",
       "\n",
       "    .dataframe thead th {\n",
       "        text-align: right;\n",
       "    }\n",
       "</style>\n",
       "<table border=\"1\" class=\"dataframe\">\n",
       "  <thead>\n",
       "    <tr style=\"text-align: right;\">\n",
       "      <th></th>\n",
       "      <th>ATP</th>\n",
       "      <th>Location</th>\n",
       "      <th>Tournament</th>\n",
       "      <th>Date</th>\n",
       "      <th>Series</th>\n",
       "      <th>Court</th>\n",
       "      <th>Surface</th>\n",
       "      <th>Round</th>\n",
       "      <th>Best of</th>\n",
       "      <th>Winner</th>\n",
       "      <th>...</th>\n",
       "      <th>UBW</th>\n",
       "      <th>UBL</th>\n",
       "      <th>LBW</th>\n",
       "      <th>LBL</th>\n",
       "      <th>SJW</th>\n",
       "      <th>SJL</th>\n",
       "      <th>MaxW</th>\n",
       "      <th>MaxL</th>\n",
       "      <th>AvgW</th>\n",
       "      <th>AvgL</th>\n",
       "    </tr>\n",
       "  </thead>\n",
       "  <tbody>\n",
       "    <tr>\n",
       "      <th>0</th>\n",
       "      <td>1</td>\n",
       "      <td>Adelaide</td>\n",
       "      <td>Australian Hardcourt Championships</td>\n",
       "      <td>3/01/2000</td>\n",
       "      <td>International</td>\n",
       "      <td>Outdoor</td>\n",
       "      <td>Hard</td>\n",
       "      <td>1st Round</td>\n",
       "      <td>3</td>\n",
       "      <td>Dosedel S.</td>\n",
       "      <td>...</td>\n",
       "      <td>NaN</td>\n",
       "      <td>NaN</td>\n",
       "      <td>NaN</td>\n",
       "      <td>NaN</td>\n",
       "      <td>NaN</td>\n",
       "      <td>NaN</td>\n",
       "      <td>NaN</td>\n",
       "      <td>NaN</td>\n",
       "      <td>NaN</td>\n",
       "      <td>NaN</td>\n",
       "    </tr>\n",
       "    <tr>\n",
       "      <th>1</th>\n",
       "      <td>1</td>\n",
       "      <td>Adelaide</td>\n",
       "      <td>Australian Hardcourt Championships</td>\n",
       "      <td>3/01/2000</td>\n",
       "      <td>International</td>\n",
       "      <td>Outdoor</td>\n",
       "      <td>Hard</td>\n",
       "      <td>1st Round</td>\n",
       "      <td>3</td>\n",
       "      <td>Enqvist T.</td>\n",
       "      <td>...</td>\n",
       "      <td>NaN</td>\n",
       "      <td>NaN</td>\n",
       "      <td>NaN</td>\n",
       "      <td>NaN</td>\n",
       "      <td>NaN</td>\n",
       "      <td>NaN</td>\n",
       "      <td>NaN</td>\n",
       "      <td>NaN</td>\n",
       "      <td>NaN</td>\n",
       "      <td>NaN</td>\n",
       "    </tr>\n",
       "    <tr>\n",
       "      <th>2</th>\n",
       "      <td>1</td>\n",
       "      <td>Adelaide</td>\n",
       "      <td>Australian Hardcourt Championships</td>\n",
       "      <td>3/01/2000</td>\n",
       "      <td>International</td>\n",
       "      <td>Outdoor</td>\n",
       "      <td>Hard</td>\n",
       "      <td>1st Round</td>\n",
       "      <td>3</td>\n",
       "      <td>Escude N.</td>\n",
       "      <td>...</td>\n",
       "      <td>NaN</td>\n",
       "      <td>NaN</td>\n",
       "      <td>NaN</td>\n",
       "      <td>NaN</td>\n",
       "      <td>NaN</td>\n",
       "      <td>NaN</td>\n",
       "      <td>NaN</td>\n",
       "      <td>NaN</td>\n",
       "      <td>NaN</td>\n",
       "      <td>NaN</td>\n",
       "    </tr>\n",
       "    <tr>\n",
       "      <th>3</th>\n",
       "      <td>1</td>\n",
       "      <td>Adelaide</td>\n",
       "      <td>Australian Hardcourt Championships</td>\n",
       "      <td>3/01/2000</td>\n",
       "      <td>International</td>\n",
       "      <td>Outdoor</td>\n",
       "      <td>Hard</td>\n",
       "      <td>1st Round</td>\n",
       "      <td>3</td>\n",
       "      <td>Federer R.</td>\n",
       "      <td>...</td>\n",
       "      <td>NaN</td>\n",
       "      <td>NaN</td>\n",
       "      <td>NaN</td>\n",
       "      <td>NaN</td>\n",
       "      <td>NaN</td>\n",
       "      <td>NaN</td>\n",
       "      <td>NaN</td>\n",
       "      <td>NaN</td>\n",
       "      <td>NaN</td>\n",
       "      <td>NaN</td>\n",
       "    </tr>\n",
       "    <tr>\n",
       "      <th>4</th>\n",
       "      <td>1</td>\n",
       "      <td>Adelaide</td>\n",
       "      <td>Australian Hardcourt Championships</td>\n",
       "      <td>3/01/2000</td>\n",
       "      <td>International</td>\n",
       "      <td>Outdoor</td>\n",
       "      <td>Hard</td>\n",
       "      <td>1st Round</td>\n",
       "      <td>3</td>\n",
       "      <td>Fromberg R.</td>\n",
       "      <td>...</td>\n",
       "      <td>NaN</td>\n",
       "      <td>NaN</td>\n",
       "      <td>NaN</td>\n",
       "      <td>NaN</td>\n",
       "      <td>NaN</td>\n",
       "      <td>NaN</td>\n",
       "      <td>NaN</td>\n",
       "      <td>NaN</td>\n",
       "      <td>NaN</td>\n",
       "      <td>NaN</td>\n",
       "    </tr>\n",
       "    <tr>\n",
       "      <th>...</th>\n",
       "      <td>...</td>\n",
       "      <td>...</td>\n",
       "      <td>...</td>\n",
       "      <td>...</td>\n",
       "      <td>...</td>\n",
       "      <td>...</td>\n",
       "      <td>...</td>\n",
       "      <td>...</td>\n",
       "      <td>...</td>\n",
       "      <td>...</td>\n",
       "      <td>...</td>\n",
       "      <td>...</td>\n",
       "      <td>...</td>\n",
       "      <td>...</td>\n",
       "      <td>...</td>\n",
       "      <td>...</td>\n",
       "      <td>...</td>\n",
       "      <td>...</td>\n",
       "      <td>...</td>\n",
       "      <td>...</td>\n",
       "      <td>...</td>\n",
       "    </tr>\n",
       "    <tr>\n",
       "      <th>46647</th>\n",
       "      <td>54</td>\n",
       "      <td>St. Petersburg</td>\n",
       "      <td>St. Petersburg Open</td>\n",
       "      <td>23/09/2016</td>\n",
       "      <td>ATP250</td>\n",
       "      <td>Indoor</td>\n",
       "      <td>Hard</td>\n",
       "      <td>Quarterfinals</td>\n",
       "      <td>3</td>\n",
       "      <td>Zverev A.</td>\n",
       "      <td>...</td>\n",
       "      <td>NaN</td>\n",
       "      <td>NaN</td>\n",
       "      <td>1.57</td>\n",
       "      <td>2.38</td>\n",
       "      <td>NaN</td>\n",
       "      <td>NaN</td>\n",
       "      <td>1.66</td>\n",
       "      <td>2.45</td>\n",
       "      <td>1.60</td>\n",
       "      <td>2.30</td>\n",
       "    </tr>\n",
       "    <tr>\n",
       "      <th>46648</th>\n",
       "      <td>54</td>\n",
       "      <td>St. Petersburg</td>\n",
       "      <td>St. Petersburg Open</td>\n",
       "      <td>23/09/2016</td>\n",
       "      <td>ATP250</td>\n",
       "      <td>Indoor</td>\n",
       "      <td>Hard</td>\n",
       "      <td>Quarterfinals</td>\n",
       "      <td>3</td>\n",
       "      <td>Wawrinka S.</td>\n",
       "      <td>...</td>\n",
       "      <td>NaN</td>\n",
       "      <td>NaN</td>\n",
       "      <td>1.22</td>\n",
       "      <td>4.33</td>\n",
       "      <td>NaN</td>\n",
       "      <td>NaN</td>\n",
       "      <td>1.24</td>\n",
       "      <td>4.91</td>\n",
       "      <td>1.21</td>\n",
       "      <td>4.34</td>\n",
       "    </tr>\n",
       "    <tr>\n",
       "      <th>46649</th>\n",
       "      <td>54</td>\n",
       "      <td>St. Petersburg</td>\n",
       "      <td>St. Petersburg Open</td>\n",
       "      <td>24/09/2016</td>\n",
       "      <td>ATP250</td>\n",
       "      <td>Indoor</td>\n",
       "      <td>Hard</td>\n",
       "      <td>Semifinals</td>\n",
       "      <td>3</td>\n",
       "      <td>Zverev A.</td>\n",
       "      <td>...</td>\n",
       "      <td>NaN</td>\n",
       "      <td>NaN</td>\n",
       "      <td>2.38</td>\n",
       "      <td>1.57</td>\n",
       "      <td>NaN</td>\n",
       "      <td>NaN</td>\n",
       "      <td>3.12</td>\n",
       "      <td>1.57</td>\n",
       "      <td>2.68</td>\n",
       "      <td>1.46</td>\n",
       "    </tr>\n",
       "    <tr>\n",
       "      <th>46650</th>\n",
       "      <td>54</td>\n",
       "      <td>St. Petersburg</td>\n",
       "      <td>St. Petersburg Open</td>\n",
       "      <td>24/09/2016</td>\n",
       "      <td>ATP250</td>\n",
       "      <td>Indoor</td>\n",
       "      <td>Hard</td>\n",
       "      <td>Semifinals</td>\n",
       "      <td>3</td>\n",
       "      <td>Wawrinka S.</td>\n",
       "      <td>...</td>\n",
       "      <td>NaN</td>\n",
       "      <td>NaN</td>\n",
       "      <td>1.33</td>\n",
       "      <td>3.40</td>\n",
       "      <td>NaN</td>\n",
       "      <td>NaN</td>\n",
       "      <td>1.41</td>\n",
       "      <td>3.80</td>\n",
       "      <td>1.31</td>\n",
       "      <td>3.40</td>\n",
       "    </tr>\n",
       "    <tr>\n",
       "      <th>46651</th>\n",
       "      <td>54</td>\n",
       "      <td>St. Petersburg</td>\n",
       "      <td>St. Petersburg Open</td>\n",
       "      <td>25/09/2016</td>\n",
       "      <td>ATP250</td>\n",
       "      <td>Indoor</td>\n",
       "      <td>Hard</td>\n",
       "      <td>The Final</td>\n",
       "      <td>3</td>\n",
       "      <td>Zverev A.</td>\n",
       "      <td>...</td>\n",
       "      <td>NaN</td>\n",
       "      <td>NaN</td>\n",
       "      <td>3.30</td>\n",
       "      <td>1.33</td>\n",
       "      <td>NaN</td>\n",
       "      <td>NaN</td>\n",
       "      <td>3.58</td>\n",
       "      <td>1.36</td>\n",
       "      <td>3.36</td>\n",
       "      <td>1.31</td>\n",
       "    </tr>\n",
       "  </tbody>\n",
       "</table>\n",
       "<p>46652 rows × 54 columns</p>\n",
       "</div>"
      ],
      "text/plain": [
       "       ATP        Location                          Tournament        Date  \\\n",
       "0        1        Adelaide  Australian Hardcourt Championships   3/01/2000   \n",
       "1        1        Adelaide  Australian Hardcourt Championships   3/01/2000   \n",
       "2        1        Adelaide  Australian Hardcourt Championships   3/01/2000   \n",
       "3        1        Adelaide  Australian Hardcourt Championships   3/01/2000   \n",
       "4        1        Adelaide  Australian Hardcourt Championships   3/01/2000   \n",
       "...    ...             ...                                 ...         ...   \n",
       "46647   54  St. Petersburg                 St. Petersburg Open  23/09/2016   \n",
       "46648   54  St. Petersburg                 St. Petersburg Open  23/09/2016   \n",
       "46649   54  St. Petersburg                 St. Petersburg Open  24/09/2016   \n",
       "46650   54  St. Petersburg                 St. Petersburg Open  24/09/2016   \n",
       "46651   54  St. Petersburg                 St. Petersburg Open  25/09/2016   \n",
       "\n",
       "              Series    Court Surface          Round  Best of       Winner  \\\n",
       "0      International  Outdoor    Hard      1st Round        3   Dosedel S.   \n",
       "1      International  Outdoor    Hard      1st Round        3   Enqvist T.   \n",
       "2      International  Outdoor    Hard      1st Round        3    Escude N.   \n",
       "3      International  Outdoor    Hard      1st Round        3   Federer R.   \n",
       "4      International  Outdoor    Hard      1st Round        3  Fromberg R.   \n",
       "...              ...      ...     ...            ...      ...          ...   \n",
       "46647         ATP250   Indoor    Hard  Quarterfinals        3    Zverev A.   \n",
       "46648         ATP250   Indoor    Hard  Quarterfinals        3  Wawrinka S.   \n",
       "46649         ATP250   Indoor    Hard     Semifinals        3    Zverev A.   \n",
       "46650         ATP250   Indoor    Hard     Semifinals        3  Wawrinka S.   \n",
       "46651         ATP250   Indoor    Hard      The Final        3    Zverev A.   \n",
       "\n",
       "       ... UBW UBL   LBW   LBL  SJW  SJL  MaxW  MaxL  AvgW  AvgL  \n",
       "0      ... NaN NaN   NaN   NaN  NaN  NaN   NaN   NaN   NaN   NaN  \n",
       "1      ... NaN NaN   NaN   NaN  NaN  NaN   NaN   NaN   NaN   NaN  \n",
       "2      ... NaN NaN   NaN   NaN  NaN  NaN   NaN   NaN   NaN   NaN  \n",
       "3      ... NaN NaN   NaN   NaN  NaN  NaN   NaN   NaN   NaN   NaN  \n",
       "4      ... NaN NaN   NaN   NaN  NaN  NaN   NaN   NaN   NaN   NaN  \n",
       "...    ...  ..  ..   ...   ...  ...  ...   ...   ...   ...   ...  \n",
       "46647  ... NaN NaN  1.57  2.38  NaN  NaN  1.66  2.45  1.60  2.30  \n",
       "46648  ... NaN NaN  1.22  4.33  NaN  NaN  1.24  4.91  1.21  4.34  \n",
       "46649  ... NaN NaN  2.38  1.57  NaN  NaN  3.12  1.57  2.68  1.46  \n",
       "46650  ... NaN NaN  1.33  3.40  NaN  NaN  1.41  3.80  1.31  3.40  \n",
       "46651  ... NaN NaN  3.30  1.33  NaN  NaN  3.58  1.36  3.36  1.31  \n",
       "\n",
       "[46652 rows x 54 columns]"
      ]
     },
     "execution_count": 4,
     "metadata": {},
     "output_type": "execute_result"
    }
   ],
   "source": [
    "data"
   ]
  },
  {
   "cell_type": "code",
   "execution_count": 5,
   "metadata": {
    "_uuid": "35bac39d0eb0df67bd9b060ff1fe40961d192d8a"
   },
   "outputs": [
    {
     "data": {
      "text/plain": [
       "array(['International', 'Grand Slam', 'International Gold', 'Masters',\n",
       "       'Masters Cup', 'International Series', 'ATP250', 'ATP500',\n",
       "       'Masters 1000'], dtype=object)"
      ]
     },
     "execution_count": 5,
     "metadata": {},
     "output_type": "execute_result"
    }
   ],
   "source": [
    "data.Series.unique()"
   ]
  },
  {
   "cell_type": "code",
   "execution_count": 6,
   "metadata": {},
   "outputs": [],
   "source": [
    "# Best 10 players on clay, grass, and hard surfaces"
   ]
  },
  {
   "cell_type": "code",
   "execution_count": 7,
   "metadata": {},
   "outputs": [],
   "source": [
    "# df with column names\n",
    "surface = data[['Surface', 'Winner', 'Loser']]"
   ]
  },
  {
   "cell_type": "code",
   "execution_count": 8,
   "metadata": {},
   "outputs": [
    {
     "data": {
      "text/plain": [
       "(46652, 3)"
      ]
     },
     "execution_count": 8,
     "metadata": {},
     "output_type": "execute_result"
    }
   ],
   "source": [
    "surface.shape"
   ]
  },
  {
   "cell_type": "code",
   "execution_count": 9,
   "metadata": {},
   "outputs": [],
   "source": [
    "# create 2 df for winner and looser and change the column names to player\n",
    "surface_w = surface[['Surface', 'Winner']]\n",
    "surface_l = surface[['Surface', 'Loser']]\n",
    "surface_w.columns = ['Surface', 'Player']\n",
    "surface_l.columns = ['Surface', 'Player']"
   ]
  },
  {
   "cell_type": "code",
   "execution_count": 10,
   "metadata": {},
   "outputs": [],
   "source": [
    "# add 1 more column to the df and fill with sequential nums from 1 to length of df\n",
    "surface_w['idx'] = range(1, len(surface_w) + 1)\n",
    "surface_l['idx'] = range(1, len(surface_l) + 1)"
   ]
  },
  {
   "cell_type": "code",
   "execution_count": 11,
   "metadata": {},
   "outputs": [],
   "source": [
    "# count the num of winning matches for every surface and player combination \n",
    "surface_w = surface_w.groupby(['Surface', 'Player']).count()\n",
    "surface_w = surface_w.reset_index()\n",
    "surface_w.columns = ['Surface', 'Player', 'Count_Win']\n"
   ]
  },
  {
   "cell_type": "code",
   "execution_count": 12,
   "metadata": {},
   "outputs": [],
   "source": [
    "# count the num of lost matches for every surface and player combination\n",
    "surface_l = surface_l.groupby(['Surface', 'Player']).count()\n",
    "surface_l = surface_l.reset_index()\n",
    "surface_l.columns = ['Surface', 'Player', 'Count_Lose']"
   ]
  },
  {
   "cell_type": "code",
   "execution_count": 13,
   "metadata": {},
   "outputs": [],
   "source": [
    "surface = pd.merge(surface_w, surface_l, on=['Surface', 'Player'])"
   ]
  },
  {
   "cell_type": "code",
   "execution_count": 14,
   "metadata": {},
   "outputs": [],
   "source": [
    "surface['total_play'] = surface['Count_Win'] + surface['Count_Lose']"
   ]
  },
  {
   "cell_type": "code",
   "execution_count": 15,
   "metadata": {},
   "outputs": [],
   "source": [
    "surface['perc_win'] = round(surface['Count_Win'] / surface['total_play'],4)*100"
   ]
  },
  {
   "cell_type": "code",
   "execution_count": 16,
   "metadata": {},
   "outputs": [],
   "source": [
    "surface = surface[surface.total_play > 50]"
   ]
  },
  {
   "cell_type": "code",
   "execution_count": 17,
   "metadata": {},
   "outputs": [
    {
     "data": {
      "text/html": [
       "<div>\n",
       "<style scoped>\n",
       "    .dataframe tbody tr th:only-of-type {\n",
       "        vertical-align: middle;\n",
       "    }\n",
       "\n",
       "    .dataframe tbody tr th {\n",
       "        vertical-align: top;\n",
       "    }\n",
       "\n",
       "    .dataframe thead th {\n",
       "        text-align: right;\n",
       "    }\n",
       "</style>\n",
       "<table border=\"1\" class=\"dataframe\">\n",
       "  <thead>\n",
       "    <tr style=\"text-align: right;\">\n",
       "      <th></th>\n",
       "      <th>Surface</th>\n",
       "      <th>Player</th>\n",
       "      <th>Count_Win</th>\n",
       "      <th>Count_Lose</th>\n",
       "      <th>total_play</th>\n",
       "      <th>perc_win</th>\n",
       "    </tr>\n",
       "  </thead>\n",
       "  <tbody>\n",
       "    <tr>\n",
       "      <th>612</th>\n",
       "      <td>Clay</td>\n",
       "      <td>Nadal R.</td>\n",
       "      <td>351</td>\n",
       "      <td>35</td>\n",
       "      <td>386</td>\n",
       "      <td>90.93</td>\n",
       "    </tr>\n",
       "    <tr>\n",
       "      <th>969</th>\n",
       "      <td>Grass</td>\n",
       "      <td>Federer R.</td>\n",
       "      <td>147</td>\n",
       "      <td>20</td>\n",
       "      <td>167</td>\n",
       "      <td>88.02</td>\n",
       "    </tr>\n",
       "    <tr>\n",
       "      <th>1435</th>\n",
       "      <td>Hard</td>\n",
       "      <td>Djokovic N.</td>\n",
       "      <td>469</td>\n",
       "      <td>82</td>\n",
       "      <td>551</td>\n",
       "      <td>85.12</td>\n",
       "    </tr>\n",
       "    <tr>\n",
       "      <th>1468</th>\n",
       "      <td>Hard</td>\n",
       "      <td>Federer R.</td>\n",
       "      <td>622</td>\n",
       "      <td>124</td>\n",
       "      <td>746</td>\n",
       "      <td>83.38</td>\n",
       "    </tr>\n",
       "    <tr>\n",
       "      <th>1129</th>\n",
       "      <td>Grass</td>\n",
       "      <td>Murray A.</td>\n",
       "      <td>90</td>\n",
       "      <td>18</td>\n",
       "      <td>108</td>\n",
       "      <td>83.33</td>\n",
       "    </tr>\n",
       "    <tr>\n",
       "      <th>944</th>\n",
       "      <td>Grass</td>\n",
       "      <td>Djokovic N.</td>\n",
       "      <td>65</td>\n",
       "      <td>14</td>\n",
       "      <td>79</td>\n",
       "      <td>82.28</td>\n",
       "    </tr>\n",
       "    <tr>\n",
       "      <th>351</th>\n",
       "      <td>Clay</td>\n",
       "      <td>Djokovic N.</td>\n",
       "      <td>169</td>\n",
       "      <td>39</td>\n",
       "      <td>208</td>\n",
       "      <td>81.25</td>\n",
       "    </tr>\n",
       "    <tr>\n",
       "      <th>1185</th>\n",
       "      <td>Grass</td>\n",
       "      <td>Roddick A.</td>\n",
       "      <td>82</td>\n",
       "      <td>21</td>\n",
       "      <td>103</td>\n",
       "      <td>79.61</td>\n",
       "    </tr>\n",
       "    <tr>\n",
       "      <th>1295</th>\n",
       "      <td>Hard</td>\n",
       "      <td>Agassi A.</td>\n",
       "      <td>203</td>\n",
       "      <td>56</td>\n",
       "      <td>259</td>\n",
       "      <td>78.38</td>\n",
       "    </tr>\n",
       "    <tr>\n",
       "      <th>1131</th>\n",
       "      <td>Grass</td>\n",
       "      <td>Nadal R.</td>\n",
       "      <td>58</td>\n",
       "      <td>17</td>\n",
       "      <td>75</td>\n",
       "      <td>77.33</td>\n",
       "    </tr>\n",
       "    <tr>\n",
       "      <th>381</th>\n",
       "      <td>Clay</td>\n",
       "      <td>Federer R.</td>\n",
       "      <td>203</td>\n",
       "      <td>60</td>\n",
       "      <td>263</td>\n",
       "      <td>77.19</td>\n",
       "    </tr>\n",
       "    <tr>\n",
       "      <th>1717</th>\n",
       "      <td>Hard</td>\n",
       "      <td>Murray A.</td>\n",
       "      <td>369</td>\n",
       "      <td>110</td>\n",
       "      <td>479</td>\n",
       "      <td>77.04</td>\n",
       "    </tr>\n",
       "    <tr>\n",
       "      <th>1022</th>\n",
       "      <td>Grass</td>\n",
       "      <td>Hewitt L.</td>\n",
       "      <td>103</td>\n",
       "      <td>31</td>\n",
       "      <td>134</td>\n",
       "      <td>76.87</td>\n",
       "    </tr>\n",
       "    <tr>\n",
       "      <th>57</th>\n",
       "      <td>Carpet</td>\n",
       "      <td>Federer R.</td>\n",
       "      <td>46</td>\n",
       "      <td>14</td>\n",
       "      <td>60</td>\n",
       "      <td>76.67</td>\n",
       "    </tr>\n",
       "    <tr>\n",
       "      <th>1719</th>\n",
       "      <td>Hard</td>\n",
       "      <td>Nadal R.</td>\n",
       "      <td>363</td>\n",
       "      <td>112</td>\n",
       "      <td>475</td>\n",
       "      <td>76.42</td>\n",
       "    </tr>\n",
       "    <tr>\n",
       "      <th>1802</th>\n",
       "      <td>Hard</td>\n",
       "      <td>Roddick A.</td>\n",
       "      <td>402</td>\n",
       "      <td>136</td>\n",
       "      <td>538</td>\n",
       "      <td>74.72</td>\n",
       "    </tr>\n",
       "    <tr>\n",
       "      <th>1824</th>\n",
       "      <td>Hard</td>\n",
       "      <td>Sampras P.</td>\n",
       "      <td>73</td>\n",
       "      <td>26</td>\n",
       "      <td>99</td>\n",
       "      <td>73.74</td>\n",
       "    </tr>\n",
       "    <tr>\n",
       "      <th>1244</th>\n",
       "      <td>Grass</td>\n",
       "      <td>Tsonga J.W.</td>\n",
       "      <td>42</td>\n",
       "      <td>16</td>\n",
       "      <td>58</td>\n",
       "      <td>72.41</td>\n",
       "    </tr>\n",
       "    <tr>\n",
       "      <th>520</th>\n",
       "      <td>Clay</td>\n",
       "      <td>Kuerten G.</td>\n",
       "      <td>105</td>\n",
       "      <td>40</td>\n",
       "      <td>145</td>\n",
       "      <td>72.41</td>\n",
       "    </tr>\n",
       "    <tr>\n",
       "      <th>385</th>\n",
       "      <td>Clay</td>\n",
       "      <td>Ferrero J.C.</td>\n",
       "      <td>221</td>\n",
       "      <td>86</td>\n",
       "      <td>307</td>\n",
       "      <td>71.99</td>\n",
       "    </tr>\n",
       "    <tr>\n",
       "      <th>167</th>\n",
       "      <td>Carpet</td>\n",
       "      <td>Safin M.</td>\n",
       "      <td>46</td>\n",
       "      <td>18</td>\n",
       "      <td>64</td>\n",
       "      <td>71.88</td>\n",
       "    </tr>\n",
       "    <tr>\n",
       "      <th>621</th>\n",
       "      <td>Clay</td>\n",
       "      <td>Nishikori K.</td>\n",
       "      <td>60</td>\n",
       "      <td>24</td>\n",
       "      <td>84</td>\n",
       "      <td>71.43</td>\n",
       "    </tr>\n",
       "    <tr>\n",
       "      <th>766</th>\n",
       "      <td>Clay</td>\n",
       "      <td>Thiem D.</td>\n",
       "      <td>59</td>\n",
       "      <td>24</td>\n",
       "      <td>83</td>\n",
       "      <td>71.08</td>\n",
       "    </tr>\n",
       "    <tr>\n",
       "      <th>874</th>\n",
       "      <td>Grass</td>\n",
       "      <td>Berdych T.</td>\n",
       "      <td>59</td>\n",
       "      <td>24</td>\n",
       "      <td>83</td>\n",
       "      <td>71.08</td>\n",
       "    </tr>\n",
       "    <tr>\n",
       "      <th>1422</th>\n",
       "      <td>Hard</td>\n",
       "      <td>Del Potro J.M.</td>\n",
       "      <td>220</td>\n",
       "      <td>90</td>\n",
       "      <td>310</td>\n",
       "      <td>70.97</td>\n",
       "    </tr>\n",
       "    <tr>\n",
       "      <th>316</th>\n",
       "      <td>Clay</td>\n",
       "      <td>Coria G.</td>\n",
       "      <td>129</td>\n",
       "      <td>53</td>\n",
       "      <td>182</td>\n",
       "      <td>70.88</td>\n",
       "    </tr>\n",
       "    <tr>\n",
       "      <th>1192</th>\n",
       "      <td>Grass</td>\n",
       "      <td>Rusedski G.</td>\n",
       "      <td>41</td>\n",
       "      <td>17</td>\n",
       "      <td>58</td>\n",
       "      <td>70.69</td>\n",
       "    </tr>\n",
       "    <tr>\n",
       "      <th>384</th>\n",
       "      <td>Clay</td>\n",
       "      <td>Ferrer D.</td>\n",
       "      <td>293</td>\n",
       "      <td>122</td>\n",
       "      <td>415</td>\n",
       "      <td>70.60</td>\n",
       "    </tr>\n",
       "    <tr>\n",
       "      <th>605</th>\n",
       "      <td>Clay</td>\n",
       "      <td>Moya C.</td>\n",
       "      <td>203</td>\n",
       "      <td>85</td>\n",
       "      <td>288</td>\n",
       "      <td>70.49</td>\n",
       "    </tr>\n",
       "    <tr>\n",
       "      <th>1550</th>\n",
       "      <td>Hard</td>\n",
       "      <td>Hewitt L.</td>\n",
       "      <td>324</td>\n",
       "      <td>138</td>\n",
       "      <td>462</td>\n",
       "      <td>70.13</td>\n",
       "    </tr>\n",
       "  </tbody>\n",
       "</table>\n",
       "</div>"
      ],
      "text/plain": [
       "     Surface          Player  Count_Win  Count_Lose  total_play  perc_win\n",
       "612     Clay        Nadal R.        351          35         386     90.93\n",
       "969    Grass      Federer R.        147          20         167     88.02\n",
       "1435    Hard     Djokovic N.        469          82         551     85.12\n",
       "1468    Hard      Federer R.        622         124         746     83.38\n",
       "1129   Grass       Murray A.         90          18         108     83.33\n",
       "944    Grass     Djokovic N.         65          14          79     82.28\n",
       "351     Clay     Djokovic N.        169          39         208     81.25\n",
       "1185   Grass      Roddick A.         82          21         103     79.61\n",
       "1295    Hard       Agassi A.        203          56         259     78.38\n",
       "1131   Grass        Nadal R.         58          17          75     77.33\n",
       "381     Clay      Federer R.        203          60         263     77.19\n",
       "1717    Hard       Murray A.        369         110         479     77.04\n",
       "1022   Grass       Hewitt L.        103          31         134     76.87\n",
       "57    Carpet      Federer R.         46          14          60     76.67\n",
       "1719    Hard        Nadal R.        363         112         475     76.42\n",
       "1802    Hard      Roddick A.        402         136         538     74.72\n",
       "1824    Hard      Sampras P.         73          26          99     73.74\n",
       "1244   Grass     Tsonga J.W.         42          16          58     72.41\n",
       "520     Clay      Kuerten G.        105          40         145     72.41\n",
       "385     Clay    Ferrero J.C.        221          86         307     71.99\n",
       "167   Carpet        Safin M.         46          18          64     71.88\n",
       "621     Clay    Nishikori K.         60          24          84     71.43\n",
       "766     Clay        Thiem D.         59          24          83     71.08\n",
       "874    Grass      Berdych T.         59          24          83     71.08\n",
       "1422    Hard  Del Potro J.M.        220          90         310     70.97\n",
       "316     Clay        Coria G.        129          53         182     70.88\n",
       "1192   Grass     Rusedski G.         41          17          58     70.69\n",
       "384     Clay       Ferrer D.        293         122         415     70.60\n",
       "605     Clay         Moya C.        203          85         288     70.49\n",
       "1550    Hard       Hewitt L.        324         138         462     70.13"
      ]
     },
     "execution_count": 17,
     "metadata": {},
     "output_type": "execute_result"
    }
   ],
   "source": [
    "surface.sort_values(by='perc_win', ascending=False).head(30)"
   ]
  },
  {
   "cell_type": "code",
   "execution_count": 18,
   "metadata": {},
   "outputs": [
    {
     "data": {
      "text/plain": [
       "array(['Carpet', 'Clay', 'Grass', 'Hard'], dtype=object)"
      ]
     },
     "execution_count": 18,
     "metadata": {},
     "output_type": "execute_result"
    }
   ],
   "source": [
    "surface.Surface.unique()"
   ]
  },
  {
   "cell_type": "code",
   "execution_count": 32,
   "metadata": {},
   "outputs": [],
   "source": [
    "# Best players on Clay\n",
    "\n",
    "top_Clay = surface[surface.Surface == 'Clay'].sort_values(by='perc_win', ascending = False).head(10)"
   ]
  },
  {
   "cell_type": "code",
   "execution_count": 33,
   "metadata": {},
   "outputs": [
    {
     "data": {
      "text/plain": [
       "Text(0.5, 1, 'Best players on Clay')"
      ]
     },
     "execution_count": 33,
     "metadata": {},
     "output_type": "execute_result"
    },
    {
     "data": {
      "image/png": "[encoded data removed]",
      "text/plain": [
       "<Figure size 720x360 with 1 Axes>"
      ]
     },
     "metadata": {
      "needs_background": "light"
     },
     "output_type": "display_data"
    }
   ],
   "source": [
    "# plot the graph\n",
    "g=sns.catplot(x='Player', y='perc_win', data=top_Clay, kind='bar', height=5, aspect=2)\n",
    "g.set_xticklabels(labels = top_Clay.Player,  rotation=90)\n",
    "plt.title('Best players on Clay')"
   ]
  },
  {
   "cell_type": "code",
   "execution_count": 34,
   "metadata": {},
   "outputs": [
    {
     "data": {
      "image/png": "[encoded data removed]",
      "text/plain": [
       "<Figure size 432x288 with 1 Axes>"
      ]
     },
     "metadata": {
      "needs_background": "light"
     },
     "output_type": "display_data"
    }
   ],
   "source": [
    "top_Clay.plot(kind='bar')\n",
    "\n",
    "plt.savefig('topclay.png')\n"
   ]
  },
  {
   "cell_type": "code",
   "execution_count": 21,
   "metadata": {},
   "outputs": [],
   "source": [
    "# Best player on Grass\n",
    "\n",
    "top_Grass = surface[surface.Surface == 'Grass'].sort_values(by='perc_win', ascending = False).head(10)"
   ]
  },
  {
   "cell_type": "code",
   "execution_count": 22,
   "metadata": {},
   "outputs": [
    {
     "data": {
      "text/plain": [
       "Text(0.5, 1, 'Best players on Grass')"
      ]
     },
     "execution_count": 22,
     "metadata": {},
     "output_type": "execute_result"
    },
    {
     "data": {
      "image/png": "[encoded data removed]",
      "text/plain": [
       "<Figure size 720x360 with 1 Axes>"
      ]
     },
     "metadata": {
      "needs_background": "light"
     },
     "output_type": "display_data"
    }
   ],
   "source": [
    "# plot the graph\n",
    "g=sns.catplot(x='Player', y='perc_win', data=top_Grass, kind='bar', size=5, aspect=2)\n",
    "g.set_xticklabels(labels = top_Grass.Player,  rotation=90)\n",
    "plt.title('Best players on Grass')"
   ]
  },
  {
   "cell_type": "code",
   "execution_count": null,
   "metadata": {},
   "outputs": [],
   "source": [
    "top_Grass.plot(kind='bar')\n",
    "\n",
    "plt.savefig('topgrass.png')"
   ]
  },
  {
   "cell_type": "code",
   "execution_count": 23,
   "metadata": {},
   "outputs": [],
   "source": [
    "# Best players on Hard surface\n",
    "\n",
    "top_Hard = surface[surface.Surface == 'Hard'].sort_values(by='perc_win', ascending = False).head(10)"
   ]
  },
  {
   "cell_type": "code",
   "execution_count": 24,
   "metadata": {},
   "outputs": [
    {
     "data": {
      "text/plain": [
       "Text(0.5, 1, 'Best players on Hard Surface')"
      ]
     },
     "execution_count": 24,
     "metadata": {},
     "output_type": "execute_result"
    },
    {
     "data": {
      "image/png": "[encoded data removed]",
      "text/plain": [
       "<Figure size 720x360 with 1 Axes>"
      ]
     },
     "metadata": {
      "needs_background": "light"
     },
     "output_type": "display_data"
    }
   ],
   "source": [
    "# plot the graph\n",
    "g=sns.catplot(x='Player', y='perc_win', data=top_Hard, kind='bar', size=5, aspect=2)\n",
    "g.set_xticklabels(labels = top_Hard.Player,  rotation=90)\n",
    "plt.title('Best players on Hard Surface')"
   ]
  },
  {
   "cell_type": "code",
   "execution_count": 25,
   "metadata": {},
   "outputs": [],
   "source": [
    "top_Hard.plot(kind='bar')\n",
    "\n",
    "plt.savefig('tophard.png')"
   ]
  },
  {
   "cell_type": "code",
   "execution_count": null,
   "metadata": {},
   "outputs": [],
   "source": [
    "#https://www.blog.pythonlibrary.org/2018/06/05/creating-pdfs-with-pyfpdf-and-python/\n",
    "pdf = FPDF()\n",
    "pdf.add_page()\n",
    "pdf.set_font(\"Arial\", size=12)\n",
    "pdf.cell(200, 10, txt=\"ATP Mens Tour Report!\", ln=1, align=\"C\")\n",
    "\n",
    "pdf.ln(5) #down 5 lines\n",
    "pdf.cell(10,15,txt=\"The following graph shows the top players on clay surface\")#, ln=1, align=\"C\")\n",
    "pdf.ln(10) #down 5 lines\n",
    "pdf.image('/Users/psehgal/dev/airflow_home/topclay.png')#, x=0, y=8, w=100)\n",
    "\n",
    "pdf.ln(5)\n",
    "pdf.cell(10,15,txt=\"The following graph shows the top players on Grass surface\")\n",
    "pdf.ln(10)\n",
    "pdf.image('/Users/psehgal/dev/airflow_home/topgrass.png')\n",
    "\n",
    "pdf.ln(5)\n",
    "pdf.cell(10,15,txt=\"The following graph shows the top players on Hard Surface surface\")\n",
    "pdf.ln(10)\n",
    "pdf.image('/Users/psehgal/dev/airflow_home/tophard.png')\n",
    "\n",
    "pdf.output(\"atp_mens_tour_pdf_report.pdf\")\n"
   ]
  }
 ],
 "metadata": {
  "celltoolbar": "Tags",
  "kernelspec": {
   "display_name": "Python 3",
   "language": "python",
   "name": "python3"
  },
  "language_info": {
   "codemirror_mode": {
    "name": "ipython",
    "version": 3
   },
   "file_extension": ".py",
   "mimetype": "text/x-python",
   "name": "python",
   "nbconvert_exporter": "python",
   "pygments_lexer": "ipython3",
   "version": "3.7.4"
  }
 },
 "nbformat": 4,
 "nbformat_minor": 1
}
