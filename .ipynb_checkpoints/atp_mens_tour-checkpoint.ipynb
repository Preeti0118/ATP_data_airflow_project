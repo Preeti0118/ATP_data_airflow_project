{
 "cells": [
  {
   "cell_type": "code",
   "execution_count": 1,
   "metadata": {
    "_cell_guid": "b1076dfc-b9ad-4769-8c92-a6c4dae69d19",
    "_uuid": "8f2839f25d086af736a60e9eeb907d3b93b6e0e5"
   },
   "outputs": [],
   "source": [
    "import numpy as np\n",
    "import pandas as pd\n",
    "import matplotlib.pyplot as plt\n",
    "from matplotlib.pyplot import xticks\n",
    "from scipy.stats import skew\n",
    "import seaborn as sns\n",
    "import os\n",
    "#import warnings\n",
    "#import os\n",
    "#print(os.listdir(\"../input\"))\n",
    "#import warnings\n",
    "#warnings.filterwarnings('ignore')\n"
   ]
  },
  {
   "cell_type": "code",
   "execution_count": 2,
   "metadata": {
    "_uuid": "0a8931240e7c2fc0e524bd770a0b4f20e42ce1f4"
   },
   "outputs": [
    {
     "name": "stderr",
     "output_type": "stream",
     "text": [
      "/Users/psehgal/opt/anaconda3/lib/python3.7/site-packages/IPython/core/interactiveshell.py:3058: DtypeWarning: Columns (11,12) have mixed types. Specify dtype option on import or set low_memory=False.\n",
      "  interactivity=interactivity, compiler=compiler, result=result)\n"
     ]
    }
   ],
   "source": [
    "data = pd.read_csv('/Users/psehgal/dev/airflow_home/kaggleatpdata.csv', encoding = 'ISO-8859-1')"
   ]
  },
  {
   "cell_type": "code",
   "execution_count": 3,
   "metadata": {
    "_uuid": "05fc6bfaa59d8f8a8e248386d620a6fbffeb4996"
   },
   "outputs": [
    {
     "data": {
      "text/html": [
       "<div>\n",
       "<style scoped>\n",
       "    .dataframe tbody tr th:only-of-type {\n",
       "        vertical-align: middle;\n",
       "    }\n",
       "\n",
       "    .dataframe tbody tr th {\n",
       "        vertical-align: top;\n",
       "    }\n",
       "\n",
       "    .dataframe thead th {\n",
       "        text-align: right;\n",
       "    }\n",
       "</style>\n",
       "<table border=\"1\" class=\"dataframe\">\n",
       "  <thead>\n",
       "    <tr style=\"text-align: right;\">\n",
       "      <th></th>\n",
       "      <th>ATP</th>\n",
       "      <th>Location</th>\n",
       "      <th>Tournament</th>\n",
       "      <th>Date</th>\n",
       "      <th>Series</th>\n",
       "      <th>Court</th>\n",
       "      <th>Surface</th>\n",
       "      <th>Round</th>\n",
       "      <th>Best of</th>\n",
       "      <th>Winner</th>\n",
       "      <th>...</th>\n",
       "      <th>UBW</th>\n",
       "      <th>UBL</th>\n",
       "      <th>LBW</th>\n",
       "      <th>LBL</th>\n",
       "      <th>SJW</th>\n",
       "      <th>SJL</th>\n",
       "      <th>MaxW</th>\n",
       "      <th>MaxL</th>\n",
       "      <th>AvgW</th>\n",
       "      <th>AvgL</th>\n",
       "    </tr>\n",
       "  </thead>\n",
       "  <tbody>\n",
       "    <tr>\n",
       "      <th>0</th>\n",
       "      <td>1</td>\n",
       "      <td>Adelaide</td>\n",
       "      <td>Australian Hardcourt Championships</td>\n",
       "      <td>3/01/2000</td>\n",
       "      <td>International</td>\n",
       "      <td>Outdoor</td>\n",
       "      <td>Hard</td>\n",
       "      <td>1st Round</td>\n",
       "      <td>3</td>\n",
       "      <td>Dosedel S.</td>\n",
       "      <td>...</td>\n",
       "      <td>NaN</td>\n",
       "      <td>NaN</td>\n",
       "      <td>NaN</td>\n",
       "      <td>NaN</td>\n",
       "      <td>NaN</td>\n",
       "      <td>NaN</td>\n",
       "      <td>NaN</td>\n",
       "      <td>NaN</td>\n",
       "      <td>NaN</td>\n",
       "      <td>NaN</td>\n",
       "    </tr>\n",
       "    <tr>\n",
       "      <th>1</th>\n",
       "      <td>1</td>\n",
       "      <td>Adelaide</td>\n",
       "      <td>Australian Hardcourt Championships</td>\n",
       "      <td>3/01/2000</td>\n",
       "      <td>International</td>\n",
       "      <td>Outdoor</td>\n",
       "      <td>Hard</td>\n",
       "      <td>1st Round</td>\n",
       "      <td>3</td>\n",
       "      <td>Enqvist T.</td>\n",
       "      <td>...</td>\n",
       "      <td>NaN</td>\n",
       "      <td>NaN</td>\n",
       "      <td>NaN</td>\n",
       "      <td>NaN</td>\n",
       "      <td>NaN</td>\n",
       "      <td>NaN</td>\n",
       "      <td>NaN</td>\n",
       "      <td>NaN</td>\n",
       "      <td>NaN</td>\n",
       "      <td>NaN</td>\n",
       "    </tr>\n",
       "    <tr>\n",
       "      <th>2</th>\n",
       "      <td>1</td>\n",
       "      <td>Adelaide</td>\n",
       "      <td>Australian Hardcourt Championships</td>\n",
       "      <td>3/01/2000</td>\n",
       "      <td>International</td>\n",
       "      <td>Outdoor</td>\n",
       "      <td>Hard</td>\n",
       "      <td>1st Round</td>\n",
       "      <td>3</td>\n",
       "      <td>Escude N.</td>\n",
       "      <td>...</td>\n",
       "      <td>NaN</td>\n",
       "      <td>NaN</td>\n",
       "      <td>NaN</td>\n",
       "      <td>NaN</td>\n",
       "      <td>NaN</td>\n",
       "      <td>NaN</td>\n",
       "      <td>NaN</td>\n",
       "      <td>NaN</td>\n",
       "      <td>NaN</td>\n",
       "      <td>NaN</td>\n",
       "    </tr>\n",
       "    <tr>\n",
       "      <th>3</th>\n",
       "      <td>1</td>\n",
       "      <td>Adelaide</td>\n",
       "      <td>Australian Hardcourt Championships</td>\n",
       "      <td>3/01/2000</td>\n",
       "      <td>International</td>\n",
       "      <td>Outdoor</td>\n",
       "      <td>Hard</td>\n",
       "      <td>1st Round</td>\n",
       "      <td>3</td>\n",
       "      <td>Federer R.</td>\n",
       "      <td>...</td>\n",
       "      <td>NaN</td>\n",
       "      <td>NaN</td>\n",
       "      <td>NaN</td>\n",
       "      <td>NaN</td>\n",
       "      <td>NaN</td>\n",
       "      <td>NaN</td>\n",
       "      <td>NaN</td>\n",
       "      <td>NaN</td>\n",
       "      <td>NaN</td>\n",
       "      <td>NaN</td>\n",
       "    </tr>\n",
       "    <tr>\n",
       "      <th>4</th>\n",
       "      <td>1</td>\n",
       "      <td>Adelaide</td>\n",
       "      <td>Australian Hardcourt Championships</td>\n",
       "      <td>3/01/2000</td>\n",
       "      <td>International</td>\n",
       "      <td>Outdoor</td>\n",
       "      <td>Hard</td>\n",
       "      <td>1st Round</td>\n",
       "      <td>3</td>\n",
       "      <td>Fromberg R.</td>\n",
       "      <td>...</td>\n",
       "      <td>NaN</td>\n",
       "      <td>NaN</td>\n",
       "      <td>NaN</td>\n",
       "      <td>NaN</td>\n",
       "      <td>NaN</td>\n",
       "      <td>NaN</td>\n",
       "      <td>NaN</td>\n",
       "      <td>NaN</td>\n",
       "      <td>NaN</td>\n",
       "      <td>NaN</td>\n",
       "    </tr>\n",
       "    <tr>\n",
       "      <th>...</th>\n",
       "      <td>...</td>\n",
       "      <td>...</td>\n",
       "      <td>...</td>\n",
       "      <td>...</td>\n",
       "      <td>...</td>\n",
       "      <td>...</td>\n",
       "      <td>...</td>\n",
       "      <td>...</td>\n",
       "      <td>...</td>\n",
       "      <td>...</td>\n",
       "      <td>...</td>\n",
       "      <td>...</td>\n",
       "      <td>...</td>\n",
       "      <td>...</td>\n",
       "      <td>...</td>\n",
       "      <td>...</td>\n",
       "      <td>...</td>\n",
       "      <td>...</td>\n",
       "      <td>...</td>\n",
       "      <td>...</td>\n",
       "      <td>...</td>\n",
       "    </tr>\n",
       "    <tr>\n",
       "      <th>46647</th>\n",
       "      <td>54</td>\n",
       "      <td>St. Petersburg</td>\n",
       "      <td>St. Petersburg Open</td>\n",
       "      <td>23/09/2016</td>\n",
       "      <td>ATP250</td>\n",
       "      <td>Indoor</td>\n",
       "      <td>Hard</td>\n",
       "      <td>Quarterfinals</td>\n",
       "      <td>3</td>\n",
       "      <td>Zverev A.</td>\n",
       "      <td>...</td>\n",
       "      <td>NaN</td>\n",
       "      <td>NaN</td>\n",
       "      <td>1.57</td>\n",
       "      <td>2.38</td>\n",
       "      <td>NaN</td>\n",
       "      <td>NaN</td>\n",
       "      <td>1.66</td>\n",
       "      <td>2.45</td>\n",
       "      <td>1.60</td>\n",
       "      <td>2.30</td>\n",
       "    </tr>\n",
       "    <tr>\n",
       "      <th>46648</th>\n",
       "      <td>54</td>\n",
       "      <td>St. Petersburg</td>\n",
       "      <td>St. Petersburg Open</td>\n",
       "      <td>23/09/2016</td>\n",
       "      <td>ATP250</td>\n",
       "      <td>Indoor</td>\n",
       "      <td>Hard</td>\n",
       "      <td>Quarterfinals</td>\n",
       "      <td>3</td>\n",
       "      <td>Wawrinka S.</td>\n",
       "      <td>...</td>\n",
       "      <td>NaN</td>\n",
       "      <td>NaN</td>\n",
       "      <td>1.22</td>\n",
       "      <td>4.33</td>\n",
       "      <td>NaN</td>\n",
       "      <td>NaN</td>\n",
       "      <td>1.24</td>\n",
       "      <td>4.91</td>\n",
       "      <td>1.21</td>\n",
       "      <td>4.34</td>\n",
       "    </tr>\n",
       "    <tr>\n",
       "      <th>46649</th>\n",
       "      <td>54</td>\n",
       "      <td>St. Petersburg</td>\n",
       "      <td>St. Petersburg Open</td>\n",
       "      <td>24/09/2016</td>\n",
       "      <td>ATP250</td>\n",
       "      <td>Indoor</td>\n",
       "      <td>Hard</td>\n",
       "      <td>Semifinals</td>\n",
       "      <td>3</td>\n",
       "      <td>Zverev A.</td>\n",
       "      <td>...</td>\n",
       "      <td>NaN</td>\n",
       "      <td>NaN</td>\n",
       "      <td>2.38</td>\n",
       "      <td>1.57</td>\n",
       "      <td>NaN</td>\n",
       "      <td>NaN</td>\n",
       "      <td>3.12</td>\n",
       "      <td>1.57</td>\n",
       "      <td>2.68</td>\n",
       "      <td>1.46</td>\n",
       "    </tr>\n",
       "    <tr>\n",
       "      <th>46650</th>\n",
       "      <td>54</td>\n",
       "      <td>St. Petersburg</td>\n",
       "      <td>St. Petersburg Open</td>\n",
       "      <td>24/09/2016</td>\n",
       "      <td>ATP250</td>\n",
       "      <td>Indoor</td>\n",
       "      <td>Hard</td>\n",
       "      <td>Semifinals</td>\n",
       "      <td>3</td>\n",
       "      <td>Wawrinka S.</td>\n",
       "      <td>...</td>\n",
       "      <td>NaN</td>\n",
       "      <td>NaN</td>\n",
       "      <td>1.33</td>\n",
       "      <td>3.40</td>\n",
       "      <td>NaN</td>\n",
       "      <td>NaN</td>\n",
       "      <td>1.41</td>\n",
       "      <td>3.80</td>\n",
       "      <td>1.31</td>\n",
       "      <td>3.40</td>\n",
       "    </tr>\n",
       "    <tr>\n",
       "      <th>46651</th>\n",
       "      <td>54</td>\n",
       "      <td>St. Petersburg</td>\n",
       "      <td>St. Petersburg Open</td>\n",
       "      <td>25/09/2016</td>\n",
       "      <td>ATP250</td>\n",
       "      <td>Indoor</td>\n",
       "      <td>Hard</td>\n",
       "      <td>The Final</td>\n",
       "      <td>3</td>\n",
       "      <td>Zverev A.</td>\n",
       "      <td>...</td>\n",
       "      <td>NaN</td>\n",
       "      <td>NaN</td>\n",
       "      <td>3.30</td>\n",
       "      <td>1.33</td>\n",
       "      <td>NaN</td>\n",
       "      <td>NaN</td>\n",
       "      <td>3.58</td>\n",
       "      <td>1.36</td>\n",
       "      <td>3.36</td>\n",
       "      <td>1.31</td>\n",
       "    </tr>\n",
       "  </tbody>\n",
       "</table>\n",
       "<p>46652 rows × 54 columns</p>\n",
       "</div>"
      ],
      "text/plain": [
       "       ATP        Location                          Tournament        Date  \\\n",
       "0        1        Adelaide  Australian Hardcourt Championships   3/01/2000   \n",
       "1        1        Adelaide  Australian Hardcourt Championships   3/01/2000   \n",
       "2        1        Adelaide  Australian Hardcourt Championships   3/01/2000   \n",
       "3        1        Adelaide  Australian Hardcourt Championships   3/01/2000   \n",
       "4        1        Adelaide  Australian Hardcourt Championships   3/01/2000   \n",
       "...    ...             ...                                 ...         ...   \n",
       "46647   54  St. Petersburg                 St. Petersburg Open  23/09/2016   \n",
       "46648   54  St. Petersburg                 St. Petersburg Open  23/09/2016   \n",
       "46649   54  St. Petersburg                 St. Petersburg Open  24/09/2016   \n",
       "46650   54  St. Petersburg                 St. Petersburg Open  24/09/2016   \n",
       "46651   54  St. Petersburg                 St. Petersburg Open  25/09/2016   \n",
       "\n",
       "              Series    Court Surface          Round  Best of       Winner  \\\n",
       "0      International  Outdoor    Hard      1st Round        3   Dosedel S.   \n",
       "1      International  Outdoor    Hard      1st Round        3   Enqvist T.   \n",
       "2      International  Outdoor    Hard      1st Round        3    Escude N.   \n",
       "3      International  Outdoor    Hard      1st Round        3   Federer R.   \n",
       "4      International  Outdoor    Hard      1st Round        3  Fromberg R.   \n",
       "...              ...      ...     ...            ...      ...          ...   \n",
       "46647         ATP250   Indoor    Hard  Quarterfinals        3    Zverev A.   \n",
       "46648         ATP250   Indoor    Hard  Quarterfinals        3  Wawrinka S.   \n",
       "46649         ATP250   Indoor    Hard     Semifinals        3    Zverev A.   \n",
       "46650         ATP250   Indoor    Hard     Semifinals        3  Wawrinka S.   \n",
       "46651         ATP250   Indoor    Hard      The Final        3    Zverev A.   \n",
       "\n",
       "       ... UBW UBL   LBW   LBL  SJW  SJL  MaxW  MaxL  AvgW  AvgL  \n",
       "0      ... NaN NaN   NaN   NaN  NaN  NaN   NaN   NaN   NaN   NaN  \n",
       "1      ... NaN NaN   NaN   NaN  NaN  NaN   NaN   NaN   NaN   NaN  \n",
       "2      ... NaN NaN   NaN   NaN  NaN  NaN   NaN   NaN   NaN   NaN  \n",
       "3      ... NaN NaN   NaN   NaN  NaN  NaN   NaN   NaN   NaN   NaN  \n",
       "4      ... NaN NaN   NaN   NaN  NaN  NaN   NaN   NaN   NaN   NaN  \n",
       "...    ...  ..  ..   ...   ...  ...  ...   ...   ...   ...   ...  \n",
       "46647  ... NaN NaN  1.57  2.38  NaN  NaN  1.66  2.45  1.60  2.30  \n",
       "46648  ... NaN NaN  1.22  4.33  NaN  NaN  1.24  4.91  1.21  4.34  \n",
       "46649  ... NaN NaN  2.38  1.57  NaN  NaN  3.12  1.57  2.68  1.46  \n",
       "46650  ... NaN NaN  1.33  3.40  NaN  NaN  1.41  3.80  1.31  3.40  \n",
       "46651  ... NaN NaN  3.30  1.33  NaN  NaN  3.58  1.36  3.36  1.31  \n",
       "\n",
       "[46652 rows x 54 columns]"
      ]
     },
     "execution_count": 3,
     "metadata": {},
     "output_type": "execute_result"
    }
   ],
   "source": [
    "data"
   ]
  },
  {
   "cell_type": "code",
   "execution_count": 4,
   "metadata": {
    "_uuid": "35bac39d0eb0df67bd9b060ff1fe40961d192d8a"
   },
   "outputs": [
    {
     "data": {
      "text/plain": [
       "array(['International', 'Grand Slam', 'International Gold', 'Masters',\n",
       "       'Masters Cup', 'International Series', 'ATP250', 'ATP500',\n",
       "       'Masters 1000'], dtype=object)"
      ]
     },
     "execution_count": 4,
     "metadata": {},
     "output_type": "execute_result"
    }
   ],
   "source": [
    "data.Series.unique()"
   ]
  },
  {
   "cell_type": "code",
   "execution_count": 5,
   "metadata": {
    "_uuid": "20e45a54b7b88024dcda1b581984e6da438b4256"
   },
   "outputs": [],
   "source": [
    "# Evolution rank of Federer, Nadal and Djokovic"
   ]
  },
  {
   "cell_type": "code",
   "execution_count": 6,
   "metadata": {
    "_uuid": "a0ac894266f22454e2c017e86c8284e44be3b80a"
   },
   "outputs": [],
   "source": [
    "top3 = data[(data.Winner.isin(['Federer R.', 'Nadal R.', 'Djokovic N.'])) | (data.Loser.isin(['Federer R.', 'Nadal R.', 'Djokovic N.']))]\n",
    "top3 = top3[['Date', 'Winner', 'Loser', 'WRank', 'LRank']]"
   ]
  },
  {
   "cell_type": "code",
   "execution_count": 7,
   "metadata": {
    "_uuid": "3330b3300087c22da4fa74fa988f68fdf7dc2103",
    "scrolled": true
   },
   "outputs": [],
   "source": [
    "top3_w = top3[top3.Winner.isin(['Federer R.', 'Nadal R.', 'Djokovic N.'])]\n",
    "top3_l = top3[top3.Loser.isin(['Federer R.', 'Nadal R.', 'Djokovic N.'])]\n",
    "\n",
    "top3_w = top3_w[['Date', 'Winner', 'WRank']]\n",
    "top3_l = top3_l[['Date', 'Loser', 'LRank']]"
   ]
  },
  {
   "cell_type": "code",
   "execution_count": 8,
   "metadata": {
    "_uuid": "5461a721cf0b2738f4458b225519360596dbe8e6"
   },
   "outputs": [],
   "source": [
    "top3_w.columns = ['Date','Player','Rank']\n",
    "top3_l.columns = ['Date','Player', 'Rank']"
   ]
  },
  {
   "cell_type": "code",
   "execution_count": 9,
   "metadata": {
    "_uuid": "68160539565ffe0325a20da67a4d41eb888f872c"
   },
   "outputs": [],
   "source": [
    "top3 = pd.concat([top3_w, top3_l], sort=False)\n",
    "top3['Date'] = pd.to_datetime(top3.Date, format='%d/%m/%Y')\n",
    "top3 = top3.sort_values(['Date'])"
   ]
  },
  {
   "cell_type": "code",
   "execution_count": 10,
   "metadata": {
    "_uuid": "cd2a78735758af53b57991ba6062b6a02e2c3328"
   },
   "outputs": [],
   "source": [
    "top3.Rank = top3.Rank.astype(int)\n",
    "\n",
    "# Remove outline Ranks\n",
    "top3 = top3[top3.Rank < 100]"
   ]
  },
  {
   "cell_type": "code",
   "execution_count": 11,
   "metadata": {
    "_uuid": "618e4469e3d07c8552b7b454566cb0fb9c25cb9e",
    "scrolled": true
   },
   "outputs": [],
   "source": [
    "federer = top3[top3.Player == 'Federer R.']\n",
    "nadal = top3[top3.Player == 'Nadal R.']\n",
    "djokovic = top3[top3.Player == 'Djokovic N.']"
   ]
  },
  {
   "cell_type": "code",
   "execution_count": 12,
   "metadata": {
    "_uuid": "ab9172cd2c07430366591a872302a4711419a404"
   },
   "outputs": [
    {
     "name": "stderr",
     "output_type": "stream",
     "text": [
      "/Users/psehgal/opt/anaconda3/lib/python3.7/site-packages/pandas/plotting/_matplotlib/converter.py:103: FutureWarning: Using an implicitly registered datetime converter for a matplotlib plotting method. The converter was registered by pandas on import. Future versions of pandas will require you to explicitly register matplotlib converters.\n",
      "\n",
      "To register the converters:\n",
      "\t>>> from pandas.plotting import register_matplotlib_converters\n",
      "\t>>> register_matplotlib_converters()\n",
      "  warnings.warn(msg, FutureWarning)\n"
     ]
    },
    {
     "data": {
      "text/plain": [
       "Text(0.5, 0.98, 'Rank Evolution for the Big 3')"
      ]
     },
     "execution_count": 12,
     "metadata": {},
     "output_type": "execute_result"
    },
    {
     "data": {
      "image/png": "[encoded data removed]",
      "text/plain": [
       "<Figure size 864x576 with 1 Axes>"
      ]
     },
     "metadata": {
      "needs_background": "light"
     },
     "output_type": "display_data"
    }
   ],
   "source": [
    "fig = plt.figure(figsize=(12,8))\n",
    "sns.lineplot(x='Date', y='Rank', data=federer)\n",
    "sns.lineplot(x='Date', y='Rank', data=nadal)\n",
    "sns.lineplot(x='Date', y='Rank', data=djokovic)\n",
    "fig.legend(bbox_to_anchor=(-0.2, 0.8, 1., 0), labels=['Federer','Nadal','Djokovic'])\n",
    "fig.suptitle('Rank Evolution for the Big 3')"
   ]
  },
  {
   "cell_type": "code",
   "execution_count": 13,
   "metadata": {
    "_uuid": "63d8b28d6fa3f471a25fbb770b6dcf51acca495e"
   },
   "outputs": [
    {
     "data": {
      "text/plain": [
       "Text(0.5, 0.98, 'Rank Evolution for the Big 3 in the top 10')"
      ]
     },
     "execution_count": 13,
     "metadata": {},
     "output_type": "execute_result"
    },
    {
     "data": {
      "image/png": "[encoded data removed]",
      "text/plain": [
       "<Figure size 1296x720 with 1 Axes>"
      ]
     },
     "metadata": {
      "needs_background": "light"
     },
     "output_type": "display_data"
    }
   ],
   "source": [
    "# Let's zoom on the top 10 \n",
    "fig = plt.figure(figsize=(18,10))\n",
    "sns.lineplot(x='Date', y='Rank', data=federer[federer.Rank <=10])\n",
    "sns.lineplot(x='Date', y='Rank', data=nadal[nadal.Rank <=10])\n",
    "sns.lineplot(x='Date', y='Rank', data=djokovic[djokovic.Rank <=10])\n",
    "fig.legend(bbox_to_anchor=(-0.2, 0.8, 1., 0), labels=['Federer','Nadal','Djokovic'])\n",
    "fig.suptitle('Rank Evolution for the Big 3 in the top 10')"
   ]
  },
  {
   "cell_type": "code",
   "execution_count": 14,
   "metadata": {
    "_uuid": "13c73a5cf866a70bad51ef6093cf41d773382405"
   },
   "outputs": [],
   "source": [
    "# Grand Slams titles for the Big 3"
   ]
  },
  {
   "cell_type": "code",
   "execution_count": 15,
   "metadata": {
    "_uuid": "db314aea8283a65e554a95f93882d4bfff4234c4"
   },
   "outputs": [],
   "source": [
    "slams = data[['Date','Tournament','Series', 'Round', 'Winner']]"
   ]
  },
  {
   "cell_type": "code",
   "execution_count": 16,
   "metadata": {
    "_uuid": "6151310b33ab9013e547744bf62729425b79bcc2"
   },
   "outputs": [],
   "source": [
    "slams = slams[(slams.Series == 'Grand Slam') & (slams.Round == 'The Final')]"
   ]
  },
  {
   "cell_type": "code",
   "execution_count": 17,
   "metadata": {
    "_uuid": "a27be9f775df011d4c330dac2ded1b6780219545"
   },
   "outputs": [],
   "source": [
    "slams = slams[slams.Winner.isin(['Federer R.', 'Nadal R.', 'Djokovic N.'])]"
   ]
  },
  {
   "cell_type": "code",
   "execution_count": 18,
   "metadata": {
    "_uuid": "ad2abe089628b9b8cae2871bf83c18e4b90dcf01",
    "scrolled": true
   },
   "outputs": [
    {
     "data": {
      "text/html": [
       "<div>\n",
       "<style scoped>\n",
       "    .dataframe tbody tr th:only-of-type {\n",
       "        vertical-align: middle;\n",
       "    }\n",
       "\n",
       "    .dataframe tbody tr th {\n",
       "        vertical-align: top;\n",
       "    }\n",
       "\n",
       "    .dataframe thead th {\n",
       "        text-align: right;\n",
       "    }\n",
       "</style>\n",
       "<table border=\"1\" class=\"dataframe\">\n",
       "  <thead>\n",
       "    <tr style=\"text-align: right;\">\n",
       "      <th></th>\n",
       "      <th>Date</th>\n",
       "      <th>Tournament</th>\n",
       "      <th>Series</th>\n",
       "      <th>Round</th>\n",
       "      <th>Winner</th>\n",
       "    </tr>\n",
       "  </thead>\n",
       "  <tbody>\n",
       "    <tr>\n",
       "      <th>10423</th>\n",
       "      <td>6/07/2003</td>\n",
       "      <td>Wimbledon</td>\n",
       "      <td>Grand Slam</td>\n",
       "      <td>The Final</td>\n",
       "      <td>Federer R.</td>\n",
       "    </tr>\n",
       "    <tr>\n",
       "      <th>11922</th>\n",
       "      <td>31/01/2004</td>\n",
       "      <td>Australian Open</td>\n",
       "      <td>Grand Slam</td>\n",
       "      <td>The Final</td>\n",
       "      <td>Federer R.</td>\n",
       "    </tr>\n",
       "    <tr>\n",
       "      <th>13285</th>\n",
       "      <td>4/07/2004</td>\n",
       "      <td>Wimbledon</td>\n",
       "      <td>Grand Slam</td>\n",
       "      <td>The Final</td>\n",
       "      <td>Federer R.</td>\n",
       "    </tr>\n",
       "    <tr>\n",
       "      <th>13958</th>\n",
       "      <td>12/09/2004</td>\n",
       "      <td>US Open</td>\n",
       "      <td>Grand Slam</td>\n",
       "      <td>The Final</td>\n",
       "      <td>Federer R.</td>\n",
       "    </tr>\n",
       "    <tr>\n",
       "      <th>15918</th>\n",
       "      <td>5/06/2005</td>\n",
       "      <td>French Open</td>\n",
       "      <td>Grand Slam</td>\n",
       "      <td>The Final</td>\n",
       "      <td>Nadal R.</td>\n",
       "    </tr>\n",
       "  </tbody>\n",
       "</table>\n",
       "</div>"
      ],
      "text/plain": [
       "             Date       Tournament      Series      Round      Winner\n",
       "10423   6/07/2003        Wimbledon  Grand Slam  The Final  Federer R.\n",
       "11922  31/01/2004  Australian Open  Grand Slam  The Final  Federer R.\n",
       "13285   4/07/2004        Wimbledon  Grand Slam  The Final  Federer R.\n",
       "13958  12/09/2004          US Open  Grand Slam  The Final  Federer R.\n",
       "15918   5/06/2005      French Open  Grand Slam  The Final    Nadal R."
      ]
     },
     "execution_count": 18,
     "metadata": {},
     "output_type": "execute_result"
    }
   ],
   "source": [
    "slams.head()"
   ]
  },
  {
   "cell_type": "code",
   "execution_count": 19,
   "metadata": {
    "_uuid": "811633b27f2aa7d5dc93f0c0f31e88ba8a02ff74",
    "scrolled": false
   },
   "outputs": [
    {
     "data": {
      "text/html": [
       "<div>\n",
       "<style scoped>\n",
       "    .dataframe tbody tr th:only-of-type {\n",
       "        vertical-align: middle;\n",
       "    }\n",
       "\n",
       "    .dataframe tbody tr th {\n",
       "        vertical-align: top;\n",
       "    }\n",
       "\n",
       "    .dataframe thead th {\n",
       "        text-align: right;\n",
       "    }\n",
       "</style>\n",
       "<table border=\"1\" class=\"dataframe\">\n",
       "  <thead>\n",
       "    <tr style=\"text-align: right;\">\n",
       "      <th></th>\n",
       "      <th>Date</th>\n",
       "      <th>Tournament</th>\n",
       "      <th>Series</th>\n",
       "      <th>Round</th>\n",
       "      <th>Winner</th>\n",
       "      <th>Titles</th>\n",
       "    </tr>\n",
       "  </thead>\n",
       "  <tbody>\n",
       "    <tr>\n",
       "      <th>10423</th>\n",
       "      <td>2003-07-06</td>\n",
       "      <td>Wimbledon</td>\n",
       "      <td>Grand Slam</td>\n",
       "      <td>The Final</td>\n",
       "      <td>Federer R.</td>\n",
       "      <td>1</td>\n",
       "    </tr>\n",
       "    <tr>\n",
       "      <th>11922</th>\n",
       "      <td>2004-01-31</td>\n",
       "      <td>Australian Open</td>\n",
       "      <td>Grand Slam</td>\n",
       "      <td>The Final</td>\n",
       "      <td>Federer R.</td>\n",
       "      <td>2</td>\n",
       "    </tr>\n",
       "    <tr>\n",
       "      <th>13285</th>\n",
       "      <td>2004-07-04</td>\n",
       "      <td>Wimbledon</td>\n",
       "      <td>Grand Slam</td>\n",
       "      <td>The Final</td>\n",
       "      <td>Federer R.</td>\n",
       "      <td>3</td>\n",
       "    </tr>\n",
       "    <tr>\n",
       "      <th>13958</th>\n",
       "      <td>2004-09-12</td>\n",
       "      <td>US Open</td>\n",
       "      <td>Grand Slam</td>\n",
       "      <td>The Final</td>\n",
       "      <td>Federer R.</td>\n",
       "      <td>4</td>\n",
       "    </tr>\n",
       "    <tr>\n",
       "      <th>15918</th>\n",
       "      <td>2005-06-05</td>\n",
       "      <td>French Open</td>\n",
       "      <td>Grand Slam</td>\n",
       "      <td>The Final</td>\n",
       "      <td>Nadal R.</td>\n",
       "      <td>1</td>\n",
       "    </tr>\n",
       "  </tbody>\n",
       "</table>\n",
       "</div>"
      ],
      "text/plain": [
       "            Date       Tournament      Series      Round      Winner  Titles\n",
       "10423 2003-07-06        Wimbledon  Grand Slam  The Final  Federer R.       1\n",
       "11922 2004-01-31  Australian Open  Grand Slam  The Final  Federer R.       2\n",
       "13285 2004-07-04        Wimbledon  Grand Slam  The Final  Federer R.       3\n",
       "13958 2004-09-12          US Open  Grand Slam  The Final  Federer R.       4\n",
       "15918 2005-06-05      French Open  Grand Slam  The Final    Nadal R.       1"
      ]
     },
     "execution_count": 19,
     "metadata": {},
     "output_type": "execute_result"
    }
   ],
   "source": [
    "slams['Titles'] = slams.groupby('Winner').cumcount().astype(int) + 1\n",
    "slams['Date'] = pd.to_datetime(slams.Date, format='%d/%m/%Y')\n",
    "slams = slams.sort_values(['Date'])\n",
    "slams.head()"
   ]
  },
  {
   "cell_type": "code",
   "execution_count": 20,
   "metadata": {
    "_uuid": "8fe983132078fed4bdeb4ca5a2c90d62b4ea3633"
   },
   "outputs": [],
   "source": [
    "federer_slams = slams[slams.Winner == 'Federer R.']\n",
    "nadal_slams = slams[slams.Winner == 'Nadal R.']\n",
    "djokovic_slams = slams[slams.Winner == 'Djokovic N.']"
   ]
  },
  {
   "cell_type": "code",
   "execution_count": 21,
   "metadata": {
    "_uuid": "36eae4639260e81ac0c306e65191c883d3f9cdf5"
   },
   "outputs": [
    {
     "data": {
      "text/plain": [
       "Text(0.5, 0.98, 'Slams Evolution for the Big 3')"
      ]
     },
     "execution_count": 21,
     "metadata": {},
     "output_type": "execute_result"
    },
    {
     "data": {
      "image/png": "[encoded data removed]",
      "text/plain": [
       "<Figure size 864x576 with 1 Axes>"
      ]
     },
     "metadata": {
      "needs_background": "light"
     },
     "output_type": "display_data"
    }
   ],
   "source": [
    "fig = plt.figure(figsize=(12,8))\n",
    "sns.lineplot(x='Date', y='Titles', data=federer_slams)\n",
    "sns.lineplot(x='Date', y='Titles', data=nadal_slams)\n",
    "sns.lineplot(x='Date', y='Titles', data=djokovic_slams)\n",
    "fig.legend(bbox_to_anchor=(-0.2, 0.8, 1., 0), labels=['Federer','Nadal','Djokovic'])\n",
    "fig.suptitle('Slams Evolution for the Big 3')"
   ]
  },
  {
   "cell_type": "code",
   "execution_count": 22,
   "metadata": {
    "_uuid": "b86561d68bed7577822ba8de178b1557a141586b"
   },
   "outputs": [],
   "source": [
    "# Grand Slams Wins per Rank"
   ]
  },
  {
   "cell_type": "code",
   "execution_count": 23,
   "metadata": {
    "_uuid": "e0852c5bd7134e415f625c22391cf6e31f3c5da1"
   },
   "outputs": [],
   "source": [
    "slams_winners = data[['Series', 'Round', 'WRank']]"
   ]
  },
  {
   "cell_type": "code",
   "execution_count": 24,
   "metadata": {
    "_uuid": "3dd399c9bb89f6a27d83ae14b7817ff9e3d40236"
   },
   "outputs": [],
   "source": [
    "slams_winners = slams_winners[(slams_winners.Series == 'Grand Slam') & (slams_winners.Round == 'The Final')]"
   ]
  },
  {
   "cell_type": "code",
   "execution_count": 25,
   "metadata": {
    "_uuid": "dd78ae9cd8f9b5af9612716fbee2a81d57333923"
   },
   "outputs": [],
   "source": [
    "slams_winners.WRank = slams_winners.WRank.astype(int)"
   ]
  },
  {
   "cell_type": "code",
   "execution_count": 26,
   "metadata": {
    "_uuid": "276920f6baba848cf362ca8d546bdcc8c5970825",
    "scrolled": true
   },
   "outputs": [
    {
     "data": {
      "text/html": [
       "<div>\n",
       "<style scoped>\n",
       "    .dataframe tbody tr th:only-of-type {\n",
       "        vertical-align: middle;\n",
       "    }\n",
       "\n",
       "    .dataframe tbody tr th {\n",
       "        vertical-align: top;\n",
       "    }\n",
       "\n",
       "    .dataframe thead th {\n",
       "        text-align: right;\n",
       "    }\n",
       "</style>\n",
       "<table border=\"1\" class=\"dataframe\">\n",
       "  <thead>\n",
       "    <tr style=\"text-align: right;\">\n",
       "      <th></th>\n",
       "      <th>Series</th>\n",
       "      <th>Round</th>\n",
       "      <th>WRank</th>\n",
       "    </tr>\n",
       "  </thead>\n",
       "  <tbody>\n",
       "    <tr>\n",
       "      <th>281</th>\n",
       "      <td>Grand Slam</td>\n",
       "      <td>The Final</td>\n",
       "      <td>1</td>\n",
       "    </tr>\n",
       "    <tr>\n",
       "      <th>1415</th>\n",
       "      <td>Grand Slam</td>\n",
       "      <td>The Final</td>\n",
       "      <td>5</td>\n",
       "    </tr>\n",
       "    <tr>\n",
       "      <th>1690</th>\n",
       "      <td>Grand Slam</td>\n",
       "      <td>The Final</td>\n",
       "      <td>3</td>\n",
       "    </tr>\n",
       "    <tr>\n",
       "      <th>2395</th>\n",
       "      <td>Grand Slam</td>\n",
       "      <td>The Final</td>\n",
       "      <td>7</td>\n",
       "    </tr>\n",
       "    <tr>\n",
       "      <th>3244</th>\n",
       "      <td>Grand Slam</td>\n",
       "      <td>The Final</td>\n",
       "      <td>6</td>\n",
       "    </tr>\n",
       "    <tr>\n",
       "      <th>...</th>\n",
       "      <td>...</td>\n",
       "      <td>...</td>\n",
       "      <td>...</td>\n",
       "    </tr>\n",
       "    <tr>\n",
       "      <th>43971</th>\n",
       "      <td>Grand Slam</td>\n",
       "      <td>The Final</td>\n",
       "      <td>1</td>\n",
       "    </tr>\n",
       "    <tr>\n",
       "      <th>44667</th>\n",
       "      <td>Grand Slam</td>\n",
       "      <td>The Final</td>\n",
       "      <td>1</td>\n",
       "    </tr>\n",
       "    <tr>\n",
       "      <th>45756</th>\n",
       "      <td>Grand Slam</td>\n",
       "      <td>The Final</td>\n",
       "      <td>1</td>\n",
       "    </tr>\n",
       "    <tr>\n",
       "      <th>46046</th>\n",
       "      <td>Grand Slam</td>\n",
       "      <td>The Final</td>\n",
       "      <td>2</td>\n",
       "    </tr>\n",
       "    <tr>\n",
       "      <th>46597</th>\n",
       "      <td>Grand Slam</td>\n",
       "      <td>The Final</td>\n",
       "      <td>3</td>\n",
       "    </tr>\n",
       "  </tbody>\n",
       "</table>\n",
       "<p>68 rows × 3 columns</p>\n",
       "</div>"
      ],
      "text/plain": [
       "           Series      Round  WRank\n",
       "281    Grand Slam  The Final      1\n",
       "1415   Grand Slam  The Final      5\n",
       "1690   Grand Slam  The Final      3\n",
       "2395   Grand Slam  The Final      7\n",
       "3244   Grand Slam  The Final      6\n",
       "...           ...        ...    ...\n",
       "43971  Grand Slam  The Final      1\n",
       "44667  Grand Slam  The Final      1\n",
       "45756  Grand Slam  The Final      1\n",
       "46046  Grand Slam  The Final      2\n",
       "46597  Grand Slam  The Final      3\n",
       "\n",
       "[68 rows x 3 columns]"
      ]
     },
     "execution_count": 26,
     "metadata": {},
     "output_type": "execute_result"
    }
   ],
   "source": [
    "slams_winners"
   ]
  },
  {
   "cell_type": "code",
   "execution_count": 27,
   "metadata": {
    "_uuid": "58104ff54547ecfdb36d45eb59ff7970077ef366"
   },
   "outputs": [
    {
     "data": {
      "text/plain": [
       "<matplotlib.axes._subplots.AxesSubplot at 0x1a19ff8450>"
      ]
     },
     "execution_count": 27,
     "metadata": {},
     "output_type": "execute_result"
    },
    {
     "data": {
      "image/png": "[encoded data removed]",
      "text/plain": [
       "<Figure size 864x576 with 1 Axes>"
      ]
     },
     "metadata": {
      "needs_background": "light"
     },
     "output_type": "display_data"
    }
   ],
   "source": [
    "fig = plt.figure(figsize=(12,8))\n",
    "sns.distplot(slams_winners.WRank)"
   ]
  },
  {
   "cell_type": "code",
   "execution_count": 28,
   "metadata": {
    "_uuid": "27da45c54dd2214484af0b97e55fe2a72c1afc80"
   },
   "outputs": [
    {
     "data": {
      "text/plain": [
       "<matplotlib.axes._subplots.AxesSubplot at 0x1a1a3b3510>"
      ]
     },
     "execution_count": 28,
     "metadata": {},
     "output_type": "execute_result"
    },
    {
     "data": {
      "image/png": "[encoded data removed]",
      "text/plain": [
       "<Figure size 864x576 with 1 Axes>"
      ]
     },
     "metadata": {
      "needs_background": "light"
     },
     "output_type": "display_data"
    }
   ],
   "source": [
    "# Very rare after the 20th place\n",
    "fig = plt.figure(figsize=(12,8))\n",
    "sns.distplot(slams_winners.WRank[slams_winners.WRank <=10])"
   ]
  },
  {
   "cell_type": "code",
   "execution_count": 29,
   "metadata": {
    "_uuid": "098ece94f72ae184a288f08712d7b2b897929336"
   },
   "outputs": [],
   "source": [
    "rank_prob_win = round(slams_winners.groupby('WRank')['Series'].count()/len(slams_winners),4)*100"
   ]
  },
  {
   "cell_type": "code",
   "execution_count": 30,
   "metadata": {
    "_uuid": "907cc3f5d6e6d0d86e94607286064be8a4145716"
   },
   "outputs": [
    {
     "name": "stdout",
     "output_type": "stream",
     "text": [
      "You have 72.06% chances to win a Grand Slam if you are in the top 3\n"
     ]
    }
   ],
   "source": [
    "top3_prob_win = rank_prob_win[1] + rank_prob_win[2] + rank_prob_win[3]\n",
    "print(\"You have %s%% chances to win a Grand Slam if you are in the top 3\" %top3_prob_win)"
   ]
  },
  {
   "cell_type": "code",
   "execution_count": 31,
   "metadata": {
    "_uuid": "893ec73b5d13bd0ecc08d645b197d71effaab7f3"
   },
   "outputs": [],
   "source": [
    "num1 = data[['Winner', 'Loser', 'WRank', 'LRank']]\n",
    "num1 = num1[(num1.WRank != 'NR') & (num1.LRank != 'NR')]\n",
    "num1 = num1.dropna()\n",
    "num1['WRank'] = num1['WRank'].astype(int)\n",
    "num1['LRank'] = num1['LRank'].astype(int)\n",
    "num1 = num1[(num1.WRank == 1) | (num1.LRank == 1)]"
   ]
  },
  {
   "cell_type": "code",
   "execution_count": 32,
   "metadata": {
    "_uuid": "feebd3a22b38688ac6440572e91002fa39f90f07",
    "scrolled": true
   },
   "outputs": [
    {
     "name": "stdout",
     "output_type": "stream",
     "text": [
      "Since 2000, there were 11 Number 1 players\n"
     ]
    }
   ],
   "source": [
    "num1_w = num1[num1.WRank == 1]['Winner']\n",
    "num1_l = num1[num1.LRank == 1]['Loser']\n",
    "num1_w.columns = ['Player']\n",
    "num1_l.columns = ['Player']\n",
    "num1 = pd.concat([num1_w, num1_l], sort=False)\n",
    "\n",
    "num1 = num1.drop_duplicates()\n",
    "print('Since 2000, there were %s Number 1 players' % num1.count())"
   ]
  },
  {
   "cell_type": "code",
   "execution_count": 33,
   "metadata": {
    "_uuid": "876c1d04bc2cc95d06ce64f75cf60c976ff0a9c7"
   },
   "outputs": [],
   "source": [
    "# Upset in Grand Slam"
   ]
  },
  {
   "cell_type": "code",
   "execution_count": 34,
   "metadata": {},
   "outputs": [],
   "source": [
    "slams = data[data.Series == 'Grand Slam']"
   ]
  },
  {
   "cell_type": "code",
   "execution_count": 35,
   "metadata": {
    "_uuid": "e3843de690785cc1f3fed08cd55c9145a260ebbf"
   },
   "outputs": [
    {
     "data": {
      "text/html": [
       "<div>\n",
       "<style scoped>\n",
       "    .dataframe tbody tr th:only-of-type {\n",
       "        vertical-align: middle;\n",
       "    }\n",
       "\n",
       "    .dataframe tbody tr th {\n",
       "        vertical-align: top;\n",
       "    }\n",
       "\n",
       "    .dataframe thead th {\n",
       "        text-align: right;\n",
       "    }\n",
       "</style>\n",
       "<table border=\"1\" class=\"dataframe\">\n",
       "  <thead>\n",
       "    <tr style=\"text-align: right;\">\n",
       "      <th></th>\n",
       "      <th>ATP</th>\n",
       "      <th>Location</th>\n",
       "      <th>Tournament</th>\n",
       "      <th>Date</th>\n",
       "      <th>Series</th>\n",
       "      <th>Court</th>\n",
       "      <th>Surface</th>\n",
       "      <th>Round</th>\n",
       "      <th>Best of</th>\n",
       "      <th>Winner</th>\n",
       "      <th>...</th>\n",
       "      <th>UBW</th>\n",
       "      <th>UBL</th>\n",
       "      <th>LBW</th>\n",
       "      <th>LBL</th>\n",
       "      <th>SJW</th>\n",
       "      <th>SJL</th>\n",
       "      <th>MaxW</th>\n",
       "      <th>MaxL</th>\n",
       "      <th>AvgW</th>\n",
       "      <th>AvgL</th>\n",
       "    </tr>\n",
       "  </thead>\n",
       "  <tbody>\n",
       "    <tr>\n",
       "      <th>155</th>\n",
       "      <td>6</td>\n",
       "      <td>Melbourne</td>\n",
       "      <td>Australian Open</td>\n",
       "      <td>17/01/2000</td>\n",
       "      <td>Grand Slam</td>\n",
       "      <td>Outdoor</td>\n",
       "      <td>Hard</td>\n",
       "      <td>1st Round</td>\n",
       "      <td>5</td>\n",
       "      <td>Agassi A.</td>\n",
       "      <td>...</td>\n",
       "      <td>NaN</td>\n",
       "      <td>NaN</td>\n",
       "      <td>NaN</td>\n",
       "      <td>NaN</td>\n",
       "      <td>NaN</td>\n",
       "      <td>NaN</td>\n",
       "      <td>NaN</td>\n",
       "      <td>NaN</td>\n",
       "      <td>NaN</td>\n",
       "      <td>NaN</td>\n",
       "    </tr>\n",
       "    <tr>\n",
       "      <th>156</th>\n",
       "      <td>6</td>\n",
       "      <td>Melbourne</td>\n",
       "      <td>Australian Open</td>\n",
       "      <td>17/01/2000</td>\n",
       "      <td>Grand Slam</td>\n",
       "      <td>Outdoor</td>\n",
       "      <td>Hard</td>\n",
       "      <td>1st Round</td>\n",
       "      <td>5</td>\n",
       "      <td>Alami K.</td>\n",
       "      <td>...</td>\n",
       "      <td>NaN</td>\n",
       "      <td>NaN</td>\n",
       "      <td>NaN</td>\n",
       "      <td>NaN</td>\n",
       "      <td>NaN</td>\n",
       "      <td>NaN</td>\n",
       "      <td>NaN</td>\n",
       "      <td>NaN</td>\n",
       "      <td>NaN</td>\n",
       "      <td>NaN</td>\n",
       "    </tr>\n",
       "    <tr>\n",
       "      <th>157</th>\n",
       "      <td>6</td>\n",
       "      <td>Melbourne</td>\n",
       "      <td>Australian Open</td>\n",
       "      <td>17/01/2000</td>\n",
       "      <td>Grand Slam</td>\n",
       "      <td>Outdoor</td>\n",
       "      <td>Hard</td>\n",
       "      <td>1st Round</td>\n",
       "      <td>5</td>\n",
       "      <td>Arazi H.</td>\n",
       "      <td>...</td>\n",
       "      <td>NaN</td>\n",
       "      <td>NaN</td>\n",
       "      <td>NaN</td>\n",
       "      <td>NaN</td>\n",
       "      <td>NaN</td>\n",
       "      <td>NaN</td>\n",
       "      <td>NaN</td>\n",
       "      <td>NaN</td>\n",
       "      <td>NaN</td>\n",
       "      <td>NaN</td>\n",
       "    </tr>\n",
       "    <tr>\n",
       "      <th>158</th>\n",
       "      <td>6</td>\n",
       "      <td>Melbourne</td>\n",
       "      <td>Australian Open</td>\n",
       "      <td>17/01/2000</td>\n",
       "      <td>Grand Slam</td>\n",
       "      <td>Outdoor</td>\n",
       "      <td>Hard</td>\n",
       "      <td>1st Round</td>\n",
       "      <td>5</td>\n",
       "      <td>Behrend T.</td>\n",
       "      <td>...</td>\n",
       "      <td>NaN</td>\n",
       "      <td>NaN</td>\n",
       "      <td>NaN</td>\n",
       "      <td>NaN</td>\n",
       "      <td>NaN</td>\n",
       "      <td>NaN</td>\n",
       "      <td>NaN</td>\n",
       "      <td>NaN</td>\n",
       "      <td>NaN</td>\n",
       "      <td>NaN</td>\n",
       "    </tr>\n",
       "    <tr>\n",
       "      <th>159</th>\n",
       "      <td>6</td>\n",
       "      <td>Melbourne</td>\n",
       "      <td>Australian Open</td>\n",
       "      <td>17/01/2000</td>\n",
       "      <td>Grand Slam</td>\n",
       "      <td>Outdoor</td>\n",
       "      <td>Hard</td>\n",
       "      <td>1st Round</td>\n",
       "      <td>5</td>\n",
       "      <td>Bjorkman J.</td>\n",
       "      <td>...</td>\n",
       "      <td>NaN</td>\n",
       "      <td>NaN</td>\n",
       "      <td>NaN</td>\n",
       "      <td>NaN</td>\n",
       "      <td>NaN</td>\n",
       "      <td>NaN</td>\n",
       "      <td>NaN</td>\n",
       "      <td>NaN</td>\n",
       "      <td>NaN</td>\n",
       "      <td>NaN</td>\n",
       "    </tr>\n",
       "    <tr>\n",
       "      <th>...</th>\n",
       "      <td>...</td>\n",
       "      <td>...</td>\n",
       "      <td>...</td>\n",
       "      <td>...</td>\n",
       "      <td>...</td>\n",
       "      <td>...</td>\n",
       "      <td>...</td>\n",
       "      <td>...</td>\n",
       "      <td>...</td>\n",
       "      <td>...</td>\n",
       "      <td>...</td>\n",
       "      <td>...</td>\n",
       "      <td>...</td>\n",
       "      <td>...</td>\n",
       "      <td>...</td>\n",
       "      <td>...</td>\n",
       "      <td>...</td>\n",
       "      <td>...</td>\n",
       "      <td>...</td>\n",
       "      <td>...</td>\n",
       "      <td>...</td>\n",
       "    </tr>\n",
       "    <tr>\n",
       "      <th>46593</th>\n",
       "      <td>52</td>\n",
       "      <td>New York</td>\n",
       "      <td>US Open</td>\n",
       "      <td>7/09/2016</td>\n",
       "      <td>Grand Slam</td>\n",
       "      <td>Outdoor</td>\n",
       "      <td>Hard</td>\n",
       "      <td>Quarterfinals</td>\n",
       "      <td>5</td>\n",
       "      <td>Nishikori K.</td>\n",
       "      <td>...</td>\n",
       "      <td>NaN</td>\n",
       "      <td>NaN</td>\n",
       "      <td>5.50</td>\n",
       "      <td>1.14</td>\n",
       "      <td>NaN</td>\n",
       "      <td>NaN</td>\n",
       "      <td>6.18</td>\n",
       "      <td>1.17</td>\n",
       "      <td>5.45</td>\n",
       "      <td>1.15</td>\n",
       "    </tr>\n",
       "    <tr>\n",
       "      <th>46594</th>\n",
       "      <td>52</td>\n",
       "      <td>New York</td>\n",
       "      <td>US Open</td>\n",
       "      <td>8/09/2016</td>\n",
       "      <td>Grand Slam</td>\n",
       "      <td>Outdoor</td>\n",
       "      <td>Hard</td>\n",
       "      <td>Quarterfinals</td>\n",
       "      <td>5</td>\n",
       "      <td>Wawrinka S.</td>\n",
       "      <td>...</td>\n",
       "      <td>NaN</td>\n",
       "      <td>NaN</td>\n",
       "      <td>2.38</td>\n",
       "      <td>1.57</td>\n",
       "      <td>NaN</td>\n",
       "      <td>NaN</td>\n",
       "      <td>2.50</td>\n",
       "      <td>1.70</td>\n",
       "      <td>2.34</td>\n",
       "      <td>1.60</td>\n",
       "    </tr>\n",
       "    <tr>\n",
       "      <th>46595</th>\n",
       "      <td>52</td>\n",
       "      <td>New York</td>\n",
       "      <td>US Open</td>\n",
       "      <td>9/09/2016</td>\n",
       "      <td>Grand Slam</td>\n",
       "      <td>Outdoor</td>\n",
       "      <td>Hard</td>\n",
       "      <td>Semifinals</td>\n",
       "      <td>5</td>\n",
       "      <td>Djokovic N.</td>\n",
       "      <td>...</td>\n",
       "      <td>NaN</td>\n",
       "      <td>NaN</td>\n",
       "      <td>1.12</td>\n",
       "      <td>6.00</td>\n",
       "      <td>NaN</td>\n",
       "      <td>NaN</td>\n",
       "      <td>1.18</td>\n",
       "      <td>6.09</td>\n",
       "      <td>1.15</td>\n",
       "      <td>5.57</td>\n",
       "    </tr>\n",
       "    <tr>\n",
       "      <th>46596</th>\n",
       "      <td>52</td>\n",
       "      <td>New York</td>\n",
       "      <td>US Open</td>\n",
       "      <td>9/09/2016</td>\n",
       "      <td>Grand Slam</td>\n",
       "      <td>Outdoor</td>\n",
       "      <td>Hard</td>\n",
       "      <td>Semifinals</td>\n",
       "      <td>5</td>\n",
       "      <td>Wawrinka S.</td>\n",
       "      <td>...</td>\n",
       "      <td>NaN</td>\n",
       "      <td>NaN</td>\n",
       "      <td>2.10</td>\n",
       "      <td>1.73</td>\n",
       "      <td>NaN</td>\n",
       "      <td>NaN</td>\n",
       "      <td>2.27</td>\n",
       "      <td>1.78</td>\n",
       "      <td>2.12</td>\n",
       "      <td>1.72</td>\n",
       "    </tr>\n",
       "    <tr>\n",
       "      <th>46597</th>\n",
       "      <td>52</td>\n",
       "      <td>New York</td>\n",
       "      <td>US Open</td>\n",
       "      <td>11/09/2016</td>\n",
       "      <td>Grand Slam</td>\n",
       "      <td>Outdoor</td>\n",
       "      <td>Hard</td>\n",
       "      <td>The Final</td>\n",
       "      <td>5</td>\n",
       "      <td>Wawrinka S.</td>\n",
       "      <td>...</td>\n",
       "      <td>NaN</td>\n",
       "      <td>NaN</td>\n",
       "      <td>3.40</td>\n",
       "      <td>1.36</td>\n",
       "      <td>NaN</td>\n",
       "      <td>NaN</td>\n",
       "      <td>3.62</td>\n",
       "      <td>1.45</td>\n",
       "      <td>3.28</td>\n",
       "      <td>1.35</td>\n",
       "    </tr>\n",
       "  </tbody>\n",
       "</table>\n",
       "<p>8636 rows × 54 columns</p>\n",
       "</div>"
      ],
      "text/plain": [
       "       ATP   Location       Tournament        Date      Series    Court  \\\n",
       "155      6  Melbourne  Australian Open  17/01/2000  Grand Slam  Outdoor   \n",
       "156      6  Melbourne  Australian Open  17/01/2000  Grand Slam  Outdoor   \n",
       "157      6  Melbourne  Australian Open  17/01/2000  Grand Slam  Outdoor   \n",
       "158      6  Melbourne  Australian Open  17/01/2000  Grand Slam  Outdoor   \n",
       "159      6  Melbourne  Australian Open  17/01/2000  Grand Slam  Outdoor   \n",
       "...    ...        ...              ...         ...         ...      ...   \n",
       "46593   52   New York          US Open   7/09/2016  Grand Slam  Outdoor   \n",
       "46594   52   New York          US Open   8/09/2016  Grand Slam  Outdoor   \n",
       "46595   52   New York          US Open   9/09/2016  Grand Slam  Outdoor   \n",
       "46596   52   New York          US Open   9/09/2016  Grand Slam  Outdoor   \n",
       "46597   52   New York          US Open  11/09/2016  Grand Slam  Outdoor   \n",
       "\n",
       "      Surface          Round  Best of        Winner  ... UBW UBL   LBW   LBL  \\\n",
       "155      Hard      1st Round        5     Agassi A.  ... NaN NaN   NaN   NaN   \n",
       "156      Hard      1st Round        5      Alami K.  ... NaN NaN   NaN   NaN   \n",
       "157      Hard      1st Round        5      Arazi H.  ... NaN NaN   NaN   NaN   \n",
       "158      Hard      1st Round        5    Behrend T.  ... NaN NaN   NaN   NaN   \n",
       "159      Hard      1st Round        5   Bjorkman J.  ... NaN NaN   NaN   NaN   \n",
       "...       ...            ...      ...           ...  ...  ..  ..   ...   ...   \n",
       "46593    Hard  Quarterfinals        5  Nishikori K.  ... NaN NaN  5.50  1.14   \n",
       "46594    Hard  Quarterfinals        5   Wawrinka S.  ... NaN NaN  2.38  1.57   \n",
       "46595    Hard     Semifinals        5   Djokovic N.  ... NaN NaN  1.12  6.00   \n",
       "46596    Hard     Semifinals        5   Wawrinka S.  ... NaN NaN  2.10  1.73   \n",
       "46597    Hard      The Final        5   Wawrinka S.  ... NaN NaN  3.40  1.36   \n",
       "\n",
       "       SJW  SJL  MaxW  MaxL  AvgW  AvgL  \n",
       "155    NaN  NaN   NaN   NaN   NaN   NaN  \n",
       "156    NaN  NaN   NaN   NaN   NaN   NaN  \n",
       "157    NaN  NaN   NaN   NaN   NaN   NaN  \n",
       "158    NaN  NaN   NaN   NaN   NaN   NaN  \n",
       "159    NaN  NaN   NaN   NaN   NaN   NaN  \n",
       "...    ...  ...   ...   ...   ...   ...  \n",
       "46593  NaN  NaN  6.18  1.17  5.45  1.15  \n",
       "46594  NaN  NaN  2.50  1.70  2.34  1.60  \n",
       "46595  NaN  NaN  1.18  6.09  1.15  5.57  \n",
       "46596  NaN  NaN  2.27  1.78  2.12  1.72  \n",
       "46597  NaN  NaN  3.62  1.45  3.28  1.35  \n",
       "\n",
       "[8636 rows x 54 columns]"
      ]
     },
     "execution_count": 35,
     "metadata": {},
     "output_type": "execute_result"
    }
   ],
   "source": [
    "slams"
   ]
  },
  {
   "cell_type": "code",
   "execution_count": 36,
   "metadata": {
    "_uuid": "619c08c917b2b1433c4fa17e556e614ed75a6080"
   },
   "outputs": [],
   "source": [
    "upset = slams[['Tournament', 'Series', 'Round', 'AvgW', 'AvgL']]"
   ]
  },
  {
   "cell_type": "code",
   "execution_count": 37,
   "metadata": {
    "_uuid": "6e2d38da5851daecde7af9de7ac503887024794d"
   },
   "outputs": [],
   "source": [
    "upset = upset.dropna()"
   ]
  },
  {
   "cell_type": "code",
   "execution_count": 38,
   "metadata": {
    "_uuid": "8bcd196f55fe7aaa62c4104025216466c0ed5e44"
   },
   "outputs": [
    {
     "data": {
      "text/html": [
       "<div>\n",
       "<style scoped>\n",
       "    .dataframe tbody tr th:only-of-type {\n",
       "        vertical-align: middle;\n",
       "    }\n",
       "\n",
       "    .dataframe tbody tr th {\n",
       "        vertical-align: top;\n",
       "    }\n",
       "\n",
       "    .dataframe thead th {\n",
       "        text-align: right;\n",
       "    }\n",
       "</style>\n",
       "<table border=\"1\" class=\"dataframe\">\n",
       "  <thead>\n",
       "    <tr style=\"text-align: right;\">\n",
       "      <th></th>\n",
       "      <th>Tournament</th>\n",
       "      <th>Series</th>\n",
       "      <th>Round</th>\n",
       "      <th>AvgW</th>\n",
       "      <th>AvgL</th>\n",
       "    </tr>\n",
       "  </thead>\n",
       "  <tbody>\n",
       "    <tr>\n",
       "      <th>29798</th>\n",
       "      <td>French Open</td>\n",
       "      <td>Grand Slam</td>\n",
       "      <td>1st Round</td>\n",
       "      <td>1.24</td>\n",
       "      <td>3.88</td>\n",
       "    </tr>\n",
       "    <tr>\n",
       "      <th>29799</th>\n",
       "      <td>French Open</td>\n",
       "      <td>Grand Slam</td>\n",
       "      <td>1st Round</td>\n",
       "      <td>1.06</td>\n",
       "      <td>8.62</td>\n",
       "    </tr>\n",
       "    <tr>\n",
       "      <th>29800</th>\n",
       "      <td>French Open</td>\n",
       "      <td>Grand Slam</td>\n",
       "      <td>1st Round</td>\n",
       "      <td>1.73</td>\n",
       "      <td>2.05</td>\n",
       "    </tr>\n",
       "    <tr>\n",
       "      <th>29801</th>\n",
       "      <td>French Open</td>\n",
       "      <td>Grand Slam</td>\n",
       "      <td>1st Round</td>\n",
       "      <td>1.04</td>\n",
       "      <td>9.83</td>\n",
       "    </tr>\n",
       "    <tr>\n",
       "      <th>29802</th>\n",
       "      <td>French Open</td>\n",
       "      <td>Grand Slam</td>\n",
       "      <td>1st Round</td>\n",
       "      <td>1.79</td>\n",
       "      <td>1.98</td>\n",
       "    </tr>\n",
       "  </tbody>\n",
       "</table>\n",
       "</div>"
      ],
      "text/plain": [
       "        Tournament      Series      Round  AvgW  AvgL\n",
       "29798  French Open  Grand Slam  1st Round  1.24  3.88\n",
       "29799  French Open  Grand Slam  1st Round  1.06  8.62\n",
       "29800  French Open  Grand Slam  1st Round  1.73  2.05\n",
       "29801  French Open  Grand Slam  1st Round  1.04  9.83\n",
       "29802  French Open  Grand Slam  1st Round  1.79  1.98"
      ]
     },
     "execution_count": 38,
     "metadata": {},
     "output_type": "execute_result"
    }
   ],
   "source": [
    "upset.head()"
   ]
  },
  {
   "cell_type": "code",
   "execution_count": 39,
   "metadata": {
    "_uuid": "89c47a1e426fbce8cf4afe23978b030d8ca95d33"
   },
   "outputs": [
    {
     "data": {
      "text/plain": [
       "Tournament\n",
       "Australian Open    1.679\n",
       "French Open        1.695\n",
       "US Open            1.784\n",
       "Wimbledon          1.787\n",
       "Name: AvgW, dtype: float64"
      ]
     },
     "execution_count": 39,
     "metadata": {},
     "output_type": "execute_result"
    }
   ],
   "source": [
    "round(upset.groupby('Tournament')['AvgW'].mean(),3)"
   ]
  },
  {
   "cell_type": "code",
   "execution_count": 40,
   "metadata": {},
   "outputs": [],
   "source": [
    "# Wimbledon is the Grand Slam with the best upsets"
   ]
  },
  {
   "cell_type": "code",
   "execution_count": 41,
   "metadata": {},
   "outputs": [
    {
     "data": {
      "text/plain": [
       "Round\n",
       "1st Round        1.750\n",
       "2nd Round        1.724\n",
       "3rd Round        1.742\n",
       "4th Round        1.672\n",
       "Quarterfinals    1.733\n",
       "Semifinals       1.636\n",
       "The Final        2.161\n",
       "Name: AvgW, dtype: float64"
      ]
     },
     "execution_count": 41,
     "metadata": {},
     "output_type": "execute_result"
    }
   ],
   "source": [
    "round(upset.groupby('Round')['AvgW'].mean(),3)"
   ]
  },
  {
   "cell_type": "code",
   "execution_count": 42,
   "metadata": {},
   "outputs": [],
   "source": [
    "# There are more upset in Finals"
   ]
  },
  {
   "cell_type": "code",
   "execution_count": 43,
   "metadata": {},
   "outputs": [],
   "source": [
    "# Set losed per Grand Slams"
   ]
  },
  {
   "cell_type": "code",
   "execution_count": 44,
   "metadata": {},
   "outputs": [],
   "source": [
    "sets = slams[['Tournament', 'Series', 'Round', 'Wsets', 'Lsets']]\n",
    "sets = sets.dropna()\n"
   ]
  },
  {
   "cell_type": "code",
   "execution_count": 45,
   "metadata": {},
   "outputs": [
    {
     "data": {
      "text/plain": [
       "Tournament\n",
       "Australian Open    0.685\n",
       "French Open        0.663\n",
       "US Open            0.679\n",
       "Wimbledon          0.688\n",
       "Name: Lsets, dtype: float64"
      ]
     },
     "execution_count": 45,
     "metadata": {},
     "output_type": "execute_result"
    }
   ],
   "source": [
    "round(sets.groupby('Tournament')['Lsets'].mean(),3)"
   ]
  },
  {
   "cell_type": "code",
   "execution_count": 46,
   "metadata": {},
   "outputs": [],
   "source": [
    "# French Open is the tournament where player lose the less sets"
   ]
  },
  {
   "cell_type": "code",
   "execution_count": 47,
   "metadata": {},
   "outputs": [
    {
     "data": {
      "text/plain": [
       "Round\n",
       "1st Round        0.674\n",
       "2nd Round        0.686\n",
       "3rd Round        0.655\n",
       "4th Round        0.691\n",
       "Quarterfinals    0.705\n",
       "Semifinals       0.750\n",
       "The Final        0.776\n",
       "Name: Lsets, dtype: float64"
      ]
     },
     "execution_count": 47,
     "metadata": {},
     "output_type": "execute_result"
    }
   ],
   "source": [
    "round(sets.groupby(['Round'])['Lsets'].mean(),3)"
   ]
  },
  {
   "cell_type": "code",
   "execution_count": 48,
   "metadata": {},
   "outputs": [],
   "source": [
    "# As expected, players lose more sets when they advanced in the tournament (the players have a better level)"
   ]
  },
  {
   "cell_type": "code",
   "execution_count": 49,
   "metadata": {},
   "outputs": [],
   "source": [
    "# Grand Slam wins during period"
   ]
  },
  {
   "cell_type": "code",
   "execution_count": 50,
   "metadata": {},
   "outputs": [],
   "source": [
    "wins = slams[['Tournament', 'Round', 'Winner']]\n",
    "wins = wins[wins.Round == 'The Final']"
   ]
  },
  {
   "cell_type": "code",
   "execution_count": 51,
   "metadata": {},
   "outputs": [
    {
     "data": {
      "text/html": [
       "<div>\n",
       "<style scoped>\n",
       "    .dataframe tbody tr th:only-of-type {\n",
       "        vertical-align: middle;\n",
       "    }\n",
       "\n",
       "    .dataframe tbody tr th {\n",
       "        vertical-align: top;\n",
       "    }\n",
       "\n",
       "    .dataframe thead th {\n",
       "        text-align: right;\n",
       "    }\n",
       "</style>\n",
       "<table border=\"1\" class=\"dataframe\">\n",
       "  <thead>\n",
       "    <tr style=\"text-align: right;\">\n",
       "      <th></th>\n",
       "      <th>Tournament</th>\n",
       "      <th>Round</th>\n",
       "      <th>Winner</th>\n",
       "    </tr>\n",
       "  </thead>\n",
       "  <tbody>\n",
       "    <tr>\n",
       "      <th>281</th>\n",
       "      <td>Australian Open</td>\n",
       "      <td>The Final</td>\n",
       "      <td>Agassi A.</td>\n",
       "    </tr>\n",
       "    <tr>\n",
       "      <th>1415</th>\n",
       "      <td>French Open</td>\n",
       "      <td>The Final</td>\n",
       "      <td>Kuerten G.</td>\n",
       "    </tr>\n",
       "    <tr>\n",
       "      <th>1690</th>\n",
       "      <td>Wimbledon</td>\n",
       "      <td>The Final</td>\n",
       "      <td>Sampras P.</td>\n",
       "    </tr>\n",
       "    <tr>\n",
       "      <th>2395</th>\n",
       "      <td>US Open</td>\n",
       "      <td>The Final</td>\n",
       "      <td>Safin M.</td>\n",
       "    </tr>\n",
       "    <tr>\n",
       "      <th>3244</th>\n",
       "      <td>Australian Open</td>\n",
       "      <td>The Final</td>\n",
       "      <td>Agassi A.</td>\n",
       "    </tr>\n",
       "  </tbody>\n",
       "</table>\n",
       "</div>"
      ],
      "text/plain": [
       "           Tournament      Round      Winner\n",
       "281   Australian Open  The Final   Agassi A.\n",
       "1415      French Open  The Final  Kuerten G.\n",
       "1690        Wimbledon  The Final  Sampras P.\n",
       "2395          US Open  The Final    Safin M.\n",
       "3244  Australian Open  The Final   Agassi A."
      ]
     },
     "execution_count": 51,
     "metadata": {},
     "output_type": "execute_result"
    }
   ],
   "source": [
    "wins.head()"
   ]
  },
  {
   "cell_type": "code",
   "execution_count": 52,
   "metadata": {},
   "outputs": [],
   "source": [
    "winners = wins.groupby('Winner')['Tournament'].count()"
   ]
  },
  {
   "cell_type": "code",
   "execution_count": 53,
   "metadata": {},
   "outputs": [],
   "source": [
    "winners = winners.reset_index()"
   ]
  },
  {
   "cell_type": "code",
   "execution_count": 54,
   "metadata": {},
   "outputs": [
    {
     "data": {
      "text/html": [
       "<div>\n",
       "<style scoped>\n",
       "    .dataframe tbody tr th:only-of-type {\n",
       "        vertical-align: middle;\n",
       "    }\n",
       "\n",
       "    .dataframe tbody tr th {\n",
       "        vertical-align: top;\n",
       "    }\n",
       "\n",
       "    .dataframe thead th {\n",
       "        text-align: right;\n",
       "    }\n",
       "</style>\n",
       "<table border=\"1\" class=\"dataframe\">\n",
       "  <thead>\n",
       "    <tr style=\"text-align: right;\">\n",
       "      <th></th>\n",
       "      <th>Winner</th>\n",
       "      <th>Tournament</th>\n",
       "    </tr>\n",
       "  </thead>\n",
       "  <tbody>\n",
       "    <tr>\n",
       "      <th>5</th>\n",
       "      <td>Federer R.</td>\n",
       "      <td>17</td>\n",
       "    </tr>\n",
       "    <tr>\n",
       "      <th>13</th>\n",
       "      <td>Nadal R.</td>\n",
       "      <td>14</td>\n",
       "    </tr>\n",
       "    <tr>\n",
       "      <th>4</th>\n",
       "      <td>Djokovic N.</td>\n",
       "      <td>12</td>\n",
       "    </tr>\n",
       "    <tr>\n",
       "      <th>0</th>\n",
       "      <td>Agassi A.</td>\n",
       "      <td>3</td>\n",
       "    </tr>\n",
       "    <tr>\n",
       "      <th>12</th>\n",
       "      <td>Murray A.</td>\n",
       "      <td>3</td>\n",
       "    </tr>\n",
       "    <tr>\n",
       "      <th>17</th>\n",
       "      <td>Wawrinka S.</td>\n",
       "      <td>3</td>\n",
       "    </tr>\n",
       "    <tr>\n",
       "      <th>8</th>\n",
       "      <td>Hewitt L.</td>\n",
       "      <td>2</td>\n",
       "    </tr>\n",
       "    <tr>\n",
       "      <th>11</th>\n",
       "      <td>Kuerten G.</td>\n",
       "      <td>2</td>\n",
       "    </tr>\n",
       "    <tr>\n",
       "      <th>15</th>\n",
       "      <td>Safin M.</td>\n",
       "      <td>2</td>\n",
       "    </tr>\n",
       "    <tr>\n",
       "      <th>16</th>\n",
       "      <td>Sampras P.</td>\n",
       "      <td>2</td>\n",
       "    </tr>\n",
       "    <tr>\n",
       "      <th>6</th>\n",
       "      <td>Ferrero J.C.</td>\n",
       "      <td>1</td>\n",
       "    </tr>\n",
       "    <tr>\n",
       "      <th>7</th>\n",
       "      <td>Gaudio G.</td>\n",
       "      <td>1</td>\n",
       "    </tr>\n",
       "    <tr>\n",
       "      <th>1</th>\n",
       "      <td>Cilic M.</td>\n",
       "      <td>1</td>\n",
       "    </tr>\n",
       "    <tr>\n",
       "      <th>10</th>\n",
       "      <td>Johansson T.</td>\n",
       "      <td>1</td>\n",
       "    </tr>\n",
       "    <tr>\n",
       "      <th>3</th>\n",
       "      <td>Del Potro J.M.</td>\n",
       "      <td>1</td>\n",
       "    </tr>\n",
       "    <tr>\n",
       "      <th>2</th>\n",
       "      <td>Costa A.</td>\n",
       "      <td>1</td>\n",
       "    </tr>\n",
       "    <tr>\n",
       "      <th>14</th>\n",
       "      <td>Roddick A.</td>\n",
       "      <td>1</td>\n",
       "    </tr>\n",
       "    <tr>\n",
       "      <th>9</th>\n",
       "      <td>Ivanisevic G.</td>\n",
       "      <td>1</td>\n",
       "    </tr>\n",
       "  </tbody>\n",
       "</table>\n",
       "</div>"
      ],
      "text/plain": [
       "            Winner  Tournament\n",
       "5       Federer R.          17\n",
       "13        Nadal R.          14\n",
       "4      Djokovic N.          12\n",
       "0        Agassi A.           3\n",
       "12       Murray A.           3\n",
       "17     Wawrinka S.           3\n",
       "8        Hewitt L.           2\n",
       "11      Kuerten G.           2\n",
       "15        Safin M.           2\n",
       "16      Sampras P.           2\n",
       "6     Ferrero J.C.           1\n",
       "7        Gaudio G.           1\n",
       "1         Cilic M.           1\n",
       "10    Johansson T.           1\n",
       "3   Del Potro J.M.           1\n",
       "2         Costa A.           1\n",
       "14      Roddick A.           1\n",
       "9    Ivanisevic G.           1"
      ]
     },
     "execution_count": 54,
     "metadata": {},
     "output_type": "execute_result"
    }
   ],
   "source": [
    "winners = winners.sort_values(['Tournament'], ascending=False)\n",
    "winners"
   ]
  },
  {
   "cell_type": "code",
   "execution_count": 55,
   "metadata": {},
   "outputs": [
    {
     "data": {
      "image/png": "[encoded data removed]",
      "text/plain": [
       "<Figure size 720x432 with 1 Axes>"
      ]
     },
     "metadata": {},
     "output_type": "display_data"
    }
   ],
   "source": [
    "sns.set(rc={'figure.figsize':(10,6)})\n",
    "\n",
    "g = sns.barplot(x=winners.Winner, y=winners.Tournament)\n",
    "g.set_xticklabels(labels = winners.Winner,  rotation=90)\n",
    "plt.title('Grand Slams won since 2000')\n",
    "plt.show()"
   ]
  },
  {
   "cell_type": "code",
   "execution_count": 56,
   "metadata": {},
   "outputs": [
    {
     "data": {
      "text/html": [
       "<div>\n",
       "<style scoped>\n",
       "    .dataframe tbody tr th:only-of-type {\n",
       "        vertical-align: middle;\n",
       "    }\n",
       "\n",
       "    .dataframe tbody tr th {\n",
       "        vertical-align: top;\n",
       "    }\n",
       "\n",
       "    .dataframe thead th {\n",
       "        text-align: right;\n",
       "    }\n",
       "</style>\n",
       "<table border=\"1\" class=\"dataframe\">\n",
       "  <thead>\n",
       "    <tr style=\"text-align: right;\">\n",
       "      <th></th>\n",
       "      <th>Winner</th>\n",
       "      <th>Tournament</th>\n",
       "      <th>Count</th>\n",
       "    </tr>\n",
       "  </thead>\n",
       "  <tbody>\n",
       "    <tr>\n",
       "      <th>0</th>\n",
       "      <td>Agassi A.</td>\n",
       "      <td>Australian Open</td>\n",
       "      <td>3</td>\n",
       "    </tr>\n",
       "    <tr>\n",
       "      <th>1</th>\n",
       "      <td>Cilic M.</td>\n",
       "      <td>US Open</td>\n",
       "      <td>1</td>\n",
       "    </tr>\n",
       "    <tr>\n",
       "      <th>2</th>\n",
       "      <td>Costa A.</td>\n",
       "      <td>French Open</td>\n",
       "      <td>1</td>\n",
       "    </tr>\n",
       "    <tr>\n",
       "      <th>3</th>\n",
       "      <td>Del Potro J.M.</td>\n",
       "      <td>US Open</td>\n",
       "      <td>1</td>\n",
       "    </tr>\n",
       "    <tr>\n",
       "      <th>4</th>\n",
       "      <td>Djokovic N.</td>\n",
       "      <td>Australian Open</td>\n",
       "      <td>6</td>\n",
       "    </tr>\n",
       "    <tr>\n",
       "      <th>5</th>\n",
       "      <td>Djokovic N.</td>\n",
       "      <td>French Open</td>\n",
       "      <td>1</td>\n",
       "    </tr>\n",
       "    <tr>\n",
       "      <th>6</th>\n",
       "      <td>Djokovic N.</td>\n",
       "      <td>US Open</td>\n",
       "      <td>2</td>\n",
       "    </tr>\n",
       "    <tr>\n",
       "      <th>7</th>\n",
       "      <td>Djokovic N.</td>\n",
       "      <td>Wimbledon</td>\n",
       "      <td>3</td>\n",
       "    </tr>\n",
       "    <tr>\n",
       "      <th>8</th>\n",
       "      <td>Federer R.</td>\n",
       "      <td>Australian Open</td>\n",
       "      <td>4</td>\n",
       "    </tr>\n",
       "    <tr>\n",
       "      <th>9</th>\n",
       "      <td>Federer R.</td>\n",
       "      <td>French Open</td>\n",
       "      <td>1</td>\n",
       "    </tr>\n",
       "    <tr>\n",
       "      <th>10</th>\n",
       "      <td>Federer R.</td>\n",
       "      <td>US Open</td>\n",
       "      <td>5</td>\n",
       "    </tr>\n",
       "    <tr>\n",
       "      <th>11</th>\n",
       "      <td>Federer R.</td>\n",
       "      <td>Wimbledon</td>\n",
       "      <td>7</td>\n",
       "    </tr>\n",
       "    <tr>\n",
       "      <th>12</th>\n",
       "      <td>Ferrero J.C.</td>\n",
       "      <td>French Open</td>\n",
       "      <td>1</td>\n",
       "    </tr>\n",
       "    <tr>\n",
       "      <th>13</th>\n",
       "      <td>Gaudio G.</td>\n",
       "      <td>French Open</td>\n",
       "      <td>1</td>\n",
       "    </tr>\n",
       "    <tr>\n",
       "      <th>14</th>\n",
       "      <td>Hewitt L.</td>\n",
       "      <td>US Open</td>\n",
       "      <td>1</td>\n",
       "    </tr>\n",
       "    <tr>\n",
       "      <th>15</th>\n",
       "      <td>Hewitt L.</td>\n",
       "      <td>Wimbledon</td>\n",
       "      <td>1</td>\n",
       "    </tr>\n",
       "    <tr>\n",
       "      <th>16</th>\n",
       "      <td>Ivanisevic G.</td>\n",
       "      <td>Wimbledon</td>\n",
       "      <td>1</td>\n",
       "    </tr>\n",
       "    <tr>\n",
       "      <th>17</th>\n",
       "      <td>Johansson T.</td>\n",
       "      <td>Australian Open</td>\n",
       "      <td>1</td>\n",
       "    </tr>\n",
       "    <tr>\n",
       "      <th>18</th>\n",
       "      <td>Kuerten G.</td>\n",
       "      <td>French Open</td>\n",
       "      <td>2</td>\n",
       "    </tr>\n",
       "    <tr>\n",
       "      <th>19</th>\n",
       "      <td>Murray A.</td>\n",
       "      <td>US Open</td>\n",
       "      <td>1</td>\n",
       "    </tr>\n",
       "    <tr>\n",
       "      <th>20</th>\n",
       "      <td>Murray A.</td>\n",
       "      <td>Wimbledon</td>\n",
       "      <td>2</td>\n",
       "    </tr>\n",
       "    <tr>\n",
       "      <th>21</th>\n",
       "      <td>Nadal R.</td>\n",
       "      <td>Australian Open</td>\n",
       "      <td>1</td>\n",
       "    </tr>\n",
       "    <tr>\n",
       "      <th>22</th>\n",
       "      <td>Nadal R.</td>\n",
       "      <td>French Open</td>\n",
       "      <td>9</td>\n",
       "    </tr>\n",
       "    <tr>\n",
       "      <th>23</th>\n",
       "      <td>Nadal R.</td>\n",
       "      <td>US Open</td>\n",
       "      <td>2</td>\n",
       "    </tr>\n",
       "    <tr>\n",
       "      <th>24</th>\n",
       "      <td>Nadal R.</td>\n",
       "      <td>Wimbledon</td>\n",
       "      <td>2</td>\n",
       "    </tr>\n",
       "    <tr>\n",
       "      <th>25</th>\n",
       "      <td>Roddick A.</td>\n",
       "      <td>US Open</td>\n",
       "      <td>1</td>\n",
       "    </tr>\n",
       "    <tr>\n",
       "      <th>26</th>\n",
       "      <td>Safin M.</td>\n",
       "      <td>Australian Open</td>\n",
       "      <td>1</td>\n",
       "    </tr>\n",
       "    <tr>\n",
       "      <th>27</th>\n",
       "      <td>Safin M.</td>\n",
       "      <td>US Open</td>\n",
       "      <td>1</td>\n",
       "    </tr>\n",
       "    <tr>\n",
       "      <th>28</th>\n",
       "      <td>Sampras P.</td>\n",
       "      <td>US Open</td>\n",
       "      <td>1</td>\n",
       "    </tr>\n",
       "    <tr>\n",
       "      <th>29</th>\n",
       "      <td>Sampras P.</td>\n",
       "      <td>Wimbledon</td>\n",
       "      <td>1</td>\n",
       "    </tr>\n",
       "    <tr>\n",
       "      <th>30</th>\n",
       "      <td>Wawrinka S.</td>\n",
       "      <td>Australian Open</td>\n",
       "      <td>1</td>\n",
       "    </tr>\n",
       "    <tr>\n",
       "      <th>31</th>\n",
       "      <td>Wawrinka S.</td>\n",
       "      <td>French Open</td>\n",
       "      <td>1</td>\n",
       "    </tr>\n",
       "    <tr>\n",
       "      <th>32</th>\n",
       "      <td>Wawrinka S.</td>\n",
       "      <td>US Open</td>\n",
       "      <td>1</td>\n",
       "    </tr>\n",
       "  </tbody>\n",
       "</table>\n",
       "</div>"
      ],
      "text/plain": [
       "            Winner       Tournament  Count\n",
       "0        Agassi A.  Australian Open      3\n",
       "1         Cilic M.          US Open      1\n",
       "2         Costa A.      French Open      1\n",
       "3   Del Potro J.M.          US Open      1\n",
       "4      Djokovic N.  Australian Open      6\n",
       "5      Djokovic N.      French Open      1\n",
       "6      Djokovic N.          US Open      2\n",
       "7      Djokovic N.        Wimbledon      3\n",
       "8       Federer R.  Australian Open      4\n",
       "9       Federer R.      French Open      1\n",
       "10      Federer R.          US Open      5\n",
       "11      Federer R.        Wimbledon      7\n",
       "12    Ferrero J.C.      French Open      1\n",
       "13       Gaudio G.      French Open      1\n",
       "14       Hewitt L.          US Open      1\n",
       "15       Hewitt L.        Wimbledon      1\n",
       "16   Ivanisevic G.        Wimbledon      1\n",
       "17    Johansson T.  Australian Open      1\n",
       "18      Kuerten G.      French Open      2\n",
       "19       Murray A.          US Open      1\n",
       "20       Murray A.        Wimbledon      2\n",
       "21        Nadal R.  Australian Open      1\n",
       "22        Nadal R.      French Open      9\n",
       "23        Nadal R.          US Open      2\n",
       "24        Nadal R.        Wimbledon      2\n",
       "25      Roddick A.          US Open      1\n",
       "26        Safin M.  Australian Open      1\n",
       "27        Safin M.          US Open      1\n",
       "28      Sampras P.          US Open      1\n",
       "29      Sampras P.        Wimbledon      1\n",
       "30     Wawrinka S.  Australian Open      1\n",
       "31     Wawrinka S.      French Open      1\n",
       "32     Wawrinka S.          US Open      1"
      ]
     },
     "execution_count": 56,
     "metadata": {},
     "output_type": "execute_result"
    }
   ],
   "source": [
    "winners_slam = wins.groupby(['Winner', 'Tournament']).count()\n",
    "winners_slam = winners_slam.reset_index()\n",
    "# winners_slam = winners_slam.sort_values(['Winner'], ascending=False)\n",
    "winners_slam.columns = ['Winner','Tournament', 'Count']\n",
    "winners_slam"
   ]
  },
  {
   "cell_type": "code",
   "execution_count": 57,
   "metadata": {},
   "outputs": [],
   "source": [
    "winners_slam = winners_slam.dropna()"
   ]
  },
  {
   "cell_type": "code",
   "execution_count": 58,
   "metadata": {},
   "outputs": [
    {
     "name": "stderr",
     "output_type": "stream",
     "text": [
      "/Users/psehgal/opt/anaconda3/lib/python3.7/site-packages/seaborn/categorical.py:3692: UserWarning: The `size` paramter has been renamed to `height`; please update your code.\n",
      "  warnings.warn(msg, UserWarning)\n"
     ]
    },
    {
     "data": {
      "text/plain": [
       "<Figure size 720x576 with 0 Axes>"
      ]
     },
     "metadata": {},
     "output_type": "display_data"
    },
    {
     "data": {
      "image/png": "[encoded data removed]",
      "text/plain": [
       "<Figure size 982.6x432 with 1 Axes>"
      ]
     },
     "metadata": {},
     "output_type": "display_data"
    }
   ],
   "source": [
    "fig = plt.figure(figsize=(10,8))\n",
    "\n",
    "g = sns.catplot(x=\"Winner\", y=\"Count\", hue = \"Tournament\", data=winners_slam, kind=\"bar\", size=6, aspect=2)\n",
    "g.set_xticklabels(labels = winners_slam.Winner.unique(),  rotation=90)\n",
    "plt.title('Grand Slams won since 2000')\n",
    "plt.show()"
   ]
  },
  {
   "cell_type": "code",
   "execution_count": 59,
   "metadata": {},
   "outputs": [],
   "source": [
    "# Best players on surface"
   ]
  },
  {
   "cell_type": "code",
   "execution_count": 83,
   "metadata": {},
   "outputs": [],
   "source": [
    "surface = data[['Surface', 'Winner', 'Loser']]"
   ]
  },
  {
   "cell_type": "code",
   "execution_count": 85,
   "metadata": {},
   "outputs": [
    {
     "data": {
      "text/plain": [
       "(46652, 3)"
      ]
     },
     "execution_count": 85,
     "metadata": {},
     "output_type": "execute_result"
    }
   ],
   "source": [
    "surface.shape"
   ]
  },
  {
   "cell_type": "code",
   "execution_count": 86,
   "metadata": {},
   "outputs": [],
   "source": [
    "surface_w = surface[['Surface', 'Winner']]\n",
    "surface_l = surface[['Surface', 'Loser']]\n",
    "surface_w.columns = ['Surface', 'Player']\n",
    "surface_l.columns = ['Surface', 'Player']"
   ]
  },
  {
   "cell_type": "code",
   "execution_count": 87,
   "metadata": {},
   "outputs": [],
   "source": [
    "surface_w['idx'] = range(1, len(surface_w) + 1)\n",
    "surface_l['idx'] = range(1, len(surface_l) + 1)"
   ]
  },
  {
   "cell_type": "code",
   "execution_count": 88,
   "metadata": {},
   "outputs": [
    {
     "data": {
      "text/html": [
       "<div>\n",
       "<style scoped>\n",
       "    .dataframe tbody tr th:only-of-type {\n",
       "        vertical-align: middle;\n",
       "    }\n",
       "\n",
       "    .dataframe tbody tr th {\n",
       "        vertical-align: top;\n",
       "    }\n",
       "\n",
       "    .dataframe thead th {\n",
       "        text-align: right;\n",
       "    }\n",
       "</style>\n",
       "<table border=\"1\" class=\"dataframe\">\n",
       "  <thead>\n",
       "    <tr style=\"text-align: right;\">\n",
       "      <th></th>\n",
       "      <th>Surface</th>\n",
       "      <th>Player</th>\n",
       "      <th>idx</th>\n",
       "    </tr>\n",
       "  </thead>\n",
       "  <tbody>\n",
       "    <tr>\n",
       "      <th>0</th>\n",
       "      <td>Hard</td>\n",
       "      <td>Dosedel S.</td>\n",
       "      <td>1</td>\n",
       "    </tr>\n",
       "    <tr>\n",
       "      <th>1</th>\n",
       "      <td>Hard</td>\n",
       "      <td>Enqvist T.</td>\n",
       "      <td>2</td>\n",
       "    </tr>\n",
       "    <tr>\n",
       "      <th>2</th>\n",
       "      <td>Hard</td>\n",
       "      <td>Escude N.</td>\n",
       "      <td>3</td>\n",
       "    </tr>\n",
       "    <tr>\n",
       "      <th>3</th>\n",
       "      <td>Hard</td>\n",
       "      <td>Federer R.</td>\n",
       "      <td>4</td>\n",
       "    </tr>\n",
       "    <tr>\n",
       "      <th>4</th>\n",
       "      <td>Hard</td>\n",
       "      <td>Fromberg R.</td>\n",
       "      <td>5</td>\n",
       "    </tr>\n",
       "    <tr>\n",
       "      <th>...</th>\n",
       "      <td>...</td>\n",
       "      <td>...</td>\n",
       "      <td>...</td>\n",
       "    </tr>\n",
       "    <tr>\n",
       "      <th>46647</th>\n",
       "      <td>Hard</td>\n",
       "      <td>Zverev A.</td>\n",
       "      <td>46648</td>\n",
       "    </tr>\n",
       "    <tr>\n",
       "      <th>46648</th>\n",
       "      <td>Hard</td>\n",
       "      <td>Wawrinka S.</td>\n",
       "      <td>46649</td>\n",
       "    </tr>\n",
       "    <tr>\n",
       "      <th>46649</th>\n",
       "      <td>Hard</td>\n",
       "      <td>Zverev A.</td>\n",
       "      <td>46650</td>\n",
       "    </tr>\n",
       "    <tr>\n",
       "      <th>46650</th>\n",
       "      <td>Hard</td>\n",
       "      <td>Wawrinka S.</td>\n",
       "      <td>46651</td>\n",
       "    </tr>\n",
       "    <tr>\n",
       "      <th>46651</th>\n",
       "      <td>Hard</td>\n",
       "      <td>Zverev A.</td>\n",
       "      <td>46652</td>\n",
       "    </tr>\n",
       "  </tbody>\n",
       "</table>\n",
       "<p>46652 rows × 3 columns</p>\n",
       "</div>"
      ],
      "text/plain": [
       "      Surface       Player    idx\n",
       "0        Hard   Dosedel S.      1\n",
       "1        Hard   Enqvist T.      2\n",
       "2        Hard    Escude N.      3\n",
       "3        Hard   Federer R.      4\n",
       "4        Hard  Fromberg R.      5\n",
       "...       ...          ...    ...\n",
       "46647    Hard    Zverev A.  46648\n",
       "46648    Hard  Wawrinka S.  46649\n",
       "46649    Hard    Zverev A.  46650\n",
       "46650    Hard  Wawrinka S.  46651\n",
       "46651    Hard    Zverev A.  46652\n",
       "\n",
       "[46652 rows x 3 columns]"
      ]
     },
     "execution_count": 88,
     "metadata": {},
     "output_type": "execute_result"
    }
   ],
   "source": [
    "surface_w"
   ]
  },
  {
   "cell_type": "code",
   "execution_count": 64,
   "metadata": {},
   "outputs": [],
   "source": [
    "surface_w = surface_w.groupby(['Surface', 'Player']).count()\n",
    "surface_w = surface_w.reset_index()\n",
    "surface_w.columns = ['Surface', 'Player', 'Count_Win']\n",
    "\n",
    "surface_l = surface_l.groupby(['Surface', 'Player']).count()\n",
    "surface_l = surface_l.reset_index()\n",
    "surface_l.columns = ['Surface', 'Player', 'Count_Lose']"
   ]
  },
  {
   "cell_type": "code",
   "execution_count": null,
   "metadata": {},
   "outputs": [],
   "source": []
  },
  {
   "cell_type": "code",
   "execution_count": 65,
   "metadata": {},
   "outputs": [],
   "source": [
    "surface = pd.merge(surface_w, surface_l, on=['Surface', 'Player'])"
   ]
  },
  {
   "cell_type": "code",
   "execution_count": 66,
   "metadata": {},
   "outputs": [],
   "source": [
    "surface['total_play'] = surface['Count_Win'] + surface['Count_Lose']"
   ]
  },
  {
   "cell_type": "code",
   "execution_count": 67,
   "metadata": {},
   "outputs": [],
   "source": [
    "surface['perc_win'] = round(surface['Count_Win'] / surface['total_play'],4)*100"
   ]
  },
  {
   "cell_type": "code",
   "execution_count": 68,
   "metadata": {},
   "outputs": [],
   "source": [
    "surface = surface[surface.total_play > 50]"
   ]
  },
  {
   "cell_type": "code",
   "execution_count": 69,
   "metadata": {},
   "outputs": [
    {
     "data": {
      "text/html": [
       "<div>\n",
       "<style scoped>\n",
       "    .dataframe tbody tr th:only-of-type {\n",
       "        vertical-align: middle;\n",
       "    }\n",
       "\n",
       "    .dataframe tbody tr th {\n",
       "        vertical-align: top;\n",
       "    }\n",
       "\n",
       "    .dataframe thead th {\n",
       "        text-align: right;\n",
       "    }\n",
       "</style>\n",
       "<table border=\"1\" class=\"dataframe\">\n",
       "  <thead>\n",
       "    <tr style=\"text-align: right;\">\n",
       "      <th></th>\n",
       "      <th>Surface</th>\n",
       "      <th>Player</th>\n",
       "      <th>Count_Win</th>\n",
       "      <th>Count_Lose</th>\n",
       "      <th>total_play</th>\n",
       "      <th>perc_win</th>\n",
       "    </tr>\n",
       "  </thead>\n",
       "  <tbody>\n",
       "    <tr>\n",
       "      <th>612</th>\n",
       "      <td>Clay</td>\n",
       "      <td>Nadal R.</td>\n",
       "      <td>351</td>\n",
       "      <td>35</td>\n",
       "      <td>386</td>\n",
       "      <td>90.93</td>\n",
       "    </tr>\n",
       "    <tr>\n",
       "      <th>969</th>\n",
       "      <td>Grass</td>\n",
       "      <td>Federer R.</td>\n",
       "      <td>147</td>\n",
       "      <td>20</td>\n",
       "      <td>167</td>\n",
       "      <td>88.02</td>\n",
       "    </tr>\n",
       "    <tr>\n",
       "      <th>1435</th>\n",
       "      <td>Hard</td>\n",
       "      <td>Djokovic N.</td>\n",
       "      <td>469</td>\n",
       "      <td>82</td>\n",
       "      <td>551</td>\n",
       "      <td>85.12</td>\n",
       "    </tr>\n",
       "    <tr>\n",
       "      <th>1468</th>\n",
       "      <td>Hard</td>\n",
       "      <td>Federer R.</td>\n",
       "      <td>622</td>\n",
       "      <td>124</td>\n",
       "      <td>746</td>\n",
       "      <td>83.38</td>\n",
       "    </tr>\n",
       "    <tr>\n",
       "      <th>1129</th>\n",
       "      <td>Grass</td>\n",
       "      <td>Murray A.</td>\n",
       "      <td>90</td>\n",
       "      <td>18</td>\n",
       "      <td>108</td>\n",
       "      <td>83.33</td>\n",
       "    </tr>\n",
       "    <tr>\n",
       "      <th>944</th>\n",
       "      <td>Grass</td>\n",
       "      <td>Djokovic N.</td>\n",
       "      <td>65</td>\n",
       "      <td>14</td>\n",
       "      <td>79</td>\n",
       "      <td>82.28</td>\n",
       "    </tr>\n",
       "    <tr>\n",
       "      <th>351</th>\n",
       "      <td>Clay</td>\n",
       "      <td>Djokovic N.</td>\n",
       "      <td>169</td>\n",
       "      <td>39</td>\n",
       "      <td>208</td>\n",
       "      <td>81.25</td>\n",
       "    </tr>\n",
       "    <tr>\n",
       "      <th>1185</th>\n",
       "      <td>Grass</td>\n",
       "      <td>Roddick A.</td>\n",
       "      <td>82</td>\n",
       "      <td>21</td>\n",
       "      <td>103</td>\n",
       "      <td>79.61</td>\n",
       "    </tr>\n",
       "    <tr>\n",
       "      <th>1295</th>\n",
       "      <td>Hard</td>\n",
       "      <td>Agassi A.</td>\n",
       "      <td>203</td>\n",
       "      <td>56</td>\n",
       "      <td>259</td>\n",
       "      <td>78.38</td>\n",
       "    </tr>\n",
       "    <tr>\n",
       "      <th>1131</th>\n",
       "      <td>Grass</td>\n",
       "      <td>Nadal R.</td>\n",
       "      <td>58</td>\n",
       "      <td>17</td>\n",
       "      <td>75</td>\n",
       "      <td>77.33</td>\n",
       "    </tr>\n",
       "    <tr>\n",
       "      <th>381</th>\n",
       "      <td>Clay</td>\n",
       "      <td>Federer R.</td>\n",
       "      <td>203</td>\n",
       "      <td>60</td>\n",
       "      <td>263</td>\n",
       "      <td>77.19</td>\n",
       "    </tr>\n",
       "    <tr>\n",
       "      <th>1717</th>\n",
       "      <td>Hard</td>\n",
       "      <td>Murray A.</td>\n",
       "      <td>369</td>\n",
       "      <td>110</td>\n",
       "      <td>479</td>\n",
       "      <td>77.04</td>\n",
       "    </tr>\n",
       "    <tr>\n",
       "      <th>1022</th>\n",
       "      <td>Grass</td>\n",
       "      <td>Hewitt L.</td>\n",
       "      <td>103</td>\n",
       "      <td>31</td>\n",
       "      <td>134</td>\n",
       "      <td>76.87</td>\n",
       "    </tr>\n",
       "    <tr>\n",
       "      <th>57</th>\n",
       "      <td>Carpet</td>\n",
       "      <td>Federer R.</td>\n",
       "      <td>46</td>\n",
       "      <td>14</td>\n",
       "      <td>60</td>\n",
       "      <td>76.67</td>\n",
       "    </tr>\n",
       "    <tr>\n",
       "      <th>1719</th>\n",
       "      <td>Hard</td>\n",
       "      <td>Nadal R.</td>\n",
       "      <td>363</td>\n",
       "      <td>112</td>\n",
       "      <td>475</td>\n",
       "      <td>76.42</td>\n",
       "    </tr>\n",
       "    <tr>\n",
       "      <th>1802</th>\n",
       "      <td>Hard</td>\n",
       "      <td>Roddick A.</td>\n",
       "      <td>402</td>\n",
       "      <td>136</td>\n",
       "      <td>538</td>\n",
       "      <td>74.72</td>\n",
       "    </tr>\n",
       "    <tr>\n",
       "      <th>1824</th>\n",
       "      <td>Hard</td>\n",
       "      <td>Sampras P.</td>\n",
       "      <td>73</td>\n",
       "      <td>26</td>\n",
       "      <td>99</td>\n",
       "      <td>73.74</td>\n",
       "    </tr>\n",
       "    <tr>\n",
       "      <th>1244</th>\n",
       "      <td>Grass</td>\n",
       "      <td>Tsonga J.W.</td>\n",
       "      <td>42</td>\n",
       "      <td>16</td>\n",
       "      <td>58</td>\n",
       "      <td>72.41</td>\n",
       "    </tr>\n",
       "    <tr>\n",
       "      <th>520</th>\n",
       "      <td>Clay</td>\n",
       "      <td>Kuerten G.</td>\n",
       "      <td>105</td>\n",
       "      <td>40</td>\n",
       "      <td>145</td>\n",
       "      <td>72.41</td>\n",
       "    </tr>\n",
       "    <tr>\n",
       "      <th>385</th>\n",
       "      <td>Clay</td>\n",
       "      <td>Ferrero J.C.</td>\n",
       "      <td>221</td>\n",
       "      <td>86</td>\n",
       "      <td>307</td>\n",
       "      <td>71.99</td>\n",
       "    </tr>\n",
       "    <tr>\n",
       "      <th>167</th>\n",
       "      <td>Carpet</td>\n",
       "      <td>Safin M.</td>\n",
       "      <td>46</td>\n",
       "      <td>18</td>\n",
       "      <td>64</td>\n",
       "      <td>71.88</td>\n",
       "    </tr>\n",
       "    <tr>\n",
       "      <th>621</th>\n",
       "      <td>Clay</td>\n",
       "      <td>Nishikori K.</td>\n",
       "      <td>60</td>\n",
       "      <td>24</td>\n",
       "      <td>84</td>\n",
       "      <td>71.43</td>\n",
       "    </tr>\n",
       "    <tr>\n",
       "      <th>766</th>\n",
       "      <td>Clay</td>\n",
       "      <td>Thiem D.</td>\n",
       "      <td>59</td>\n",
       "      <td>24</td>\n",
       "      <td>83</td>\n",
       "      <td>71.08</td>\n",
       "    </tr>\n",
       "    <tr>\n",
       "      <th>874</th>\n",
       "      <td>Grass</td>\n",
       "      <td>Berdych T.</td>\n",
       "      <td>59</td>\n",
       "      <td>24</td>\n",
       "      <td>83</td>\n",
       "      <td>71.08</td>\n",
       "    </tr>\n",
       "    <tr>\n",
       "      <th>1422</th>\n",
       "      <td>Hard</td>\n",
       "      <td>Del Potro J.M.</td>\n",
       "      <td>220</td>\n",
       "      <td>90</td>\n",
       "      <td>310</td>\n",
       "      <td>70.97</td>\n",
       "    </tr>\n",
       "    <tr>\n",
       "      <th>316</th>\n",
       "      <td>Clay</td>\n",
       "      <td>Coria G.</td>\n",
       "      <td>129</td>\n",
       "      <td>53</td>\n",
       "      <td>182</td>\n",
       "      <td>70.88</td>\n",
       "    </tr>\n",
       "    <tr>\n",
       "      <th>1192</th>\n",
       "      <td>Grass</td>\n",
       "      <td>Rusedski G.</td>\n",
       "      <td>41</td>\n",
       "      <td>17</td>\n",
       "      <td>58</td>\n",
       "      <td>70.69</td>\n",
       "    </tr>\n",
       "    <tr>\n",
       "      <th>384</th>\n",
       "      <td>Clay</td>\n",
       "      <td>Ferrer D.</td>\n",
       "      <td>293</td>\n",
       "      <td>122</td>\n",
       "      <td>415</td>\n",
       "      <td>70.60</td>\n",
       "    </tr>\n",
       "    <tr>\n",
       "      <th>605</th>\n",
       "      <td>Clay</td>\n",
       "      <td>Moya C.</td>\n",
       "      <td>203</td>\n",
       "      <td>85</td>\n",
       "      <td>288</td>\n",
       "      <td>70.49</td>\n",
       "    </tr>\n",
       "    <tr>\n",
       "      <th>1550</th>\n",
       "      <td>Hard</td>\n",
       "      <td>Hewitt L.</td>\n",
       "      <td>324</td>\n",
       "      <td>138</td>\n",
       "      <td>462</td>\n",
       "      <td>70.13</td>\n",
       "    </tr>\n",
       "  </tbody>\n",
       "</table>\n",
       "</div>"
      ],
      "text/plain": [
       "     Surface          Player  Count_Win  Count_Lose  total_play  perc_win\n",
       "612     Clay        Nadal R.        351          35         386     90.93\n",
       "969    Grass      Federer R.        147          20         167     88.02\n",
       "1435    Hard     Djokovic N.        469          82         551     85.12\n",
       "1468    Hard      Federer R.        622         124         746     83.38\n",
       "1129   Grass       Murray A.         90          18         108     83.33\n",
       "944    Grass     Djokovic N.         65          14          79     82.28\n",
       "351     Clay     Djokovic N.        169          39         208     81.25\n",
       "1185   Grass      Roddick A.         82          21         103     79.61\n",
       "1295    Hard       Agassi A.        203          56         259     78.38\n",
       "1131   Grass        Nadal R.         58          17          75     77.33\n",
       "381     Clay      Federer R.        203          60         263     77.19\n",
       "1717    Hard       Murray A.        369         110         479     77.04\n",
       "1022   Grass       Hewitt L.        103          31         134     76.87\n",
       "57    Carpet      Federer R.         46          14          60     76.67\n",
       "1719    Hard        Nadal R.        363         112         475     76.42\n",
       "1802    Hard      Roddick A.        402         136         538     74.72\n",
       "1824    Hard      Sampras P.         73          26          99     73.74\n",
       "1244   Grass     Tsonga J.W.         42          16          58     72.41\n",
       "520     Clay      Kuerten G.        105          40         145     72.41\n",
       "385     Clay    Ferrero J.C.        221          86         307     71.99\n",
       "167   Carpet        Safin M.         46          18          64     71.88\n",
       "621     Clay    Nishikori K.         60          24          84     71.43\n",
       "766     Clay        Thiem D.         59          24          83     71.08\n",
       "874    Grass      Berdych T.         59          24          83     71.08\n",
       "1422    Hard  Del Potro J.M.        220          90         310     70.97\n",
       "316     Clay        Coria G.        129          53         182     70.88\n",
       "1192   Grass     Rusedski G.         41          17          58     70.69\n",
       "384     Clay       Ferrer D.        293         122         415     70.60\n",
       "605     Clay         Moya C.        203          85         288     70.49\n",
       "1550    Hard       Hewitt L.        324         138         462     70.13"
      ]
     },
     "execution_count": 69,
     "metadata": {},
     "output_type": "execute_result"
    }
   ],
   "source": [
    "surface.sort_values(by='perc_win', ascending=False).head(30)"
   ]
  },
  {
   "cell_type": "code",
   "execution_count": 70,
   "metadata": {},
   "outputs": [
    {
     "data": {
      "text/plain": [
       "array(['Carpet', 'Clay', 'Grass', 'Hard'], dtype=object)"
      ]
     },
     "execution_count": 70,
     "metadata": {},
     "output_type": "execute_result"
    }
   ],
   "source": [
    "surface.Surface.unique()"
   ]
  },
  {
   "cell_type": "code",
   "execution_count": 71,
   "metadata": {},
   "outputs": [
    {
     "data": {
      "text/plain": [
       "Text(0.5, 1, 'Best players on Clay')"
      ]
     },
     "execution_count": 71,
     "metadata": {},
     "output_type": "execute_result"
    },
    {
     "data": {
      "image/png": "[encoded data removed]",
      "text/plain": [
       "<Figure size 720x360 with 1 Axes>"
      ]
     },
     "metadata": {},
     "output_type": "display_data"
    }
   ],
   "source": [
    "# Best player on Clay\n",
    "\n",
    "top_Clay = surface[surface.Surface == 'Clay'].sort_values(by='perc_win', ascending = False).head(10)\n",
    "g=sns.catplot(x='Player', y='perc_win', data=top_Clay, kind='bar', size=5, aspect=2)\n",
    "g.set_xticklabels(labels = top_Clay.Player,  rotation=90)\n",
    "plt.title('Best players on Clay')"
   ]
  },
  {
   "cell_type": "code",
   "execution_count": 72,
   "metadata": {},
   "outputs": [
    {
     "data": {
      "text/plain": [
       "Text(0.5, 1, 'Best players on Grass')"
      ]
     },
     "execution_count": 72,
     "metadata": {},
     "output_type": "execute_result"
    },
    {
     "data": {
      "image/png": "[encoded data removed]",
      "text/plain": [
       "<Figure size 720x360 with 1 Axes>"
      ]
     },
     "metadata": {},
     "output_type": "display_data"
    }
   ],
   "source": [
    "# Best player on Grass\n",
    "\n",
    "top_Grass = surface[surface.Surface == 'Grass'].sort_values(by='perc_win', ascending = False).head(10)\n",
    "g=sns.catplot(x='Player', y='perc_win', data=top_Grass, kind='bar', size=5, aspect=2)\n",
    "g.set_xticklabels(labels = top_Grass.Player,  rotation=90)\n",
    "plt.title('Best players on Grass')"
   ]
  },
  {
   "cell_type": "code",
   "execution_count": 73,
   "metadata": {},
   "outputs": [
    {
     "data": {
      "text/plain": [
       "Text(0.5, 1, 'Best players on Hard')"
      ]
     },
     "execution_count": 73,
     "metadata": {},
     "output_type": "execute_result"
    },
    {
     "data": {
      "image/png": "[encoded data removed]",
      "text/plain": [
       "<Figure size 720x360 with 1 Axes>"
      ]
     },
     "metadata": {},
     "output_type": "display_data"
    }
   ],
   "source": [
    "# Best player on Hard\n",
    "\n",
    "top_Hard = surface[surface.Surface == 'Hard'].sort_values(by='perc_win', ascending = False).head(10)\n",
    "g=sns.catplot(x='Player', y='perc_win', data=top_Hard, kind='bar', size=5, aspect=2)\n",
    "g.set_xticklabels(labels = top_Hard.Player,  rotation=90)\n",
    "plt.title('Best players on Hard')"
   ]
  },
  {
   "cell_type": "code",
   "execution_count": 74,
   "metadata": {},
   "outputs": [
    {
     "name": "stderr",
     "output_type": "stream",
     "text": [
      "/Users/psehgal/opt/anaconda3/lib/python3.7/site-packages/ipykernel_launcher.py:10: SettingWithCopyWarning: \n",
      "A value is trying to be set on a copy of a slice from a DataFrame.\n",
      "Try using .loc[row_indexer,col_indexer] = value instead\n",
      "\n",
      "See the caveats in the documentation: http://pandas.pydata.org/pandas-docs/stable/user_guide/indexing.html#returning-a-view-versus-a-copy\n",
      "  # Remove the CWD from sys.path while we load stuff.\n",
      "/Users/psehgal/opt/anaconda3/lib/python3.7/site-packages/ipykernel_launcher.py:11: SettingWithCopyWarning: \n",
      "A value is trying to be set on a copy of a slice from a DataFrame.\n",
      "Try using .loc[row_indexer,col_indexer] = value instead\n",
      "\n",
      "See the caveats in the documentation: http://pandas.pydata.org/pandas-docs/stable/user_guide/indexing.html#returning-a-view-versus-a-copy\n",
      "  # This is added back by InteractiveShellApp.init_path()\n"
     ]
    },
    {
     "data": {
      "text/html": [
       "<div>\n",
       "<style scoped>\n",
       "    .dataframe tbody tr th:only-of-type {\n",
       "        vertical-align: middle;\n",
       "    }\n",
       "\n",
       "    .dataframe tbody tr th {\n",
       "        vertical-align: top;\n",
       "    }\n",
       "\n",
       "    .dataframe thead th {\n",
       "        text-align: right;\n",
       "    }\n",
       "</style>\n",
       "<table border=\"1\" class=\"dataframe\">\n",
       "  <thead>\n",
       "    <tr style=\"text-align: right;\">\n",
       "      <th></th>\n",
       "      <th>Player</th>\n",
       "      <th>Count_Win</th>\n",
       "      <th>Count_Lose</th>\n",
       "      <th>total_play</th>\n",
       "      <th>perc_win</th>\n",
       "    </tr>\n",
       "  </thead>\n",
       "  <tbody>\n",
       "    <tr>\n",
       "      <th>187</th>\n",
       "      <td>Djokovic N.</td>\n",
       "      <td>710</td>\n",
       "      <td>141</td>\n",
       "      <td>851</td>\n",
       "      <td>83.43</td>\n",
       "    </tr>\n",
       "    <tr>\n",
       "      <th>228</th>\n",
       "      <td>Federer R.</td>\n",
       "      <td>1018</td>\n",
       "      <td>218</td>\n",
       "      <td>1236</td>\n",
       "      <td>82.36</td>\n",
       "    </tr>\n",
       "    <tr>\n",
       "      <th>542</th>\n",
       "      <td>Nadal R.</td>\n",
       "      <td>779</td>\n",
       "      <td>171</td>\n",
       "      <td>950</td>\n",
       "      <td>82.00</td>\n",
       "    </tr>\n",
       "    <tr>\n",
       "      <th>540</th>\n",
       "      <td>Murray A.</td>\n",
       "      <td>566</td>\n",
       "      <td>174</td>\n",
       "      <td>740</td>\n",
       "      <td>76.49</td>\n",
       "    </tr>\n",
       "    <tr>\n",
       "      <th>649</th>\n",
       "      <td>Roddick A.</td>\n",
       "      <td>576</td>\n",
       "      <td>197</td>\n",
       "      <td>773</td>\n",
       "      <td>74.51</td>\n",
       "    </tr>\n",
       "    <tr>\n",
       "      <th>333</th>\n",
       "      <td>Hewitt L.</td>\n",
       "      <td>514</td>\n",
       "      <td>213</td>\n",
       "      <td>727</td>\n",
       "      <td>70.70</td>\n",
       "    </tr>\n",
       "    <tr>\n",
       "      <th>779</th>\n",
       "      <td>Tsonga J.W.</td>\n",
       "      <td>360</td>\n",
       "      <td>169</td>\n",
       "      <td>529</td>\n",
       "      <td>68.05</td>\n",
       "    </tr>\n",
       "    <tr>\n",
       "      <th>232</th>\n",
       "      <td>Ferrer D.</td>\n",
       "      <td>651</td>\n",
       "      <td>319</td>\n",
       "      <td>970</td>\n",
       "      <td>67.11</td>\n",
       "    </tr>\n",
       "    <tr>\n",
       "      <th>544</th>\n",
       "      <td>Nalbandian D.</td>\n",
       "      <td>357</td>\n",
       "      <td>184</td>\n",
       "      <td>541</td>\n",
       "      <td>65.99</td>\n",
       "    </tr>\n",
       "    <tr>\n",
       "      <th>61</th>\n",
       "      <td>Berdych T.</td>\n",
       "      <td>528</td>\n",
       "      <td>277</td>\n",
       "      <td>805</td>\n",
       "      <td>65.59</td>\n",
       "    </tr>\n",
       "    <tr>\n",
       "      <th>535</th>\n",
       "      <td>Moya C.</td>\n",
       "      <td>365</td>\n",
       "      <td>200</td>\n",
       "      <td>565</td>\n",
       "      <td>64.60</td>\n",
       "    </tr>\n",
       "    <tr>\n",
       "      <th>235</th>\n",
       "      <td>Ferrero J.C.</td>\n",
       "      <td>440</td>\n",
       "      <td>242</td>\n",
       "      <td>682</td>\n",
       "      <td>64.52</td>\n",
       "    </tr>\n",
       "    <tr>\n",
       "      <th>131</th>\n",
       "      <td>Cilic M.</td>\n",
       "      <td>350</td>\n",
       "      <td>194</td>\n",
       "      <td>544</td>\n",
       "      <td>64.34</td>\n",
       "    </tr>\n",
       "    <tr>\n",
       "      <th>827</th>\n",
       "      <td>Wawrinka S.</td>\n",
       "      <td>413</td>\n",
       "      <td>232</td>\n",
       "      <td>645</td>\n",
       "      <td>64.03</td>\n",
       "    </tr>\n",
       "    <tr>\n",
       "      <th>524</th>\n",
       "      <td>Monfils G.</td>\n",
       "      <td>369</td>\n",
       "      <td>210</td>\n",
       "      <td>579</td>\n",
       "      <td>63.73</td>\n",
       "    </tr>\n",
       "    <tr>\n",
       "      <th>263</th>\n",
       "      <td>Gasquet R.</td>\n",
       "      <td>436</td>\n",
       "      <td>250</td>\n",
       "      <td>686</td>\n",
       "      <td>63.56</td>\n",
       "    </tr>\n",
       "    <tr>\n",
       "      <th>287</th>\n",
       "      <td>Gonzalez F.</td>\n",
       "      <td>328</td>\n",
       "      <td>191</td>\n",
       "      <td>519</td>\n",
       "      <td>63.20</td>\n",
       "    </tr>\n",
       "    <tr>\n",
       "      <th>307</th>\n",
       "      <td>Haas T.</td>\n",
       "      <td>423</td>\n",
       "      <td>247</td>\n",
       "      <td>670</td>\n",
       "      <td>63.13</td>\n",
       "    </tr>\n",
       "    <tr>\n",
       "      <th>669</th>\n",
       "      <td>Safin M.</td>\n",
       "      <td>343</td>\n",
       "      <td>201</td>\n",
       "      <td>544</td>\n",
       "      <td>63.05</td>\n",
       "    </tr>\n",
       "    <tr>\n",
       "      <th>644</th>\n",
       "      <td>Robredo T.</td>\n",
       "      <td>512</td>\n",
       "      <td>330</td>\n",
       "      <td>842</td>\n",
       "      <td>60.81</td>\n",
       "    </tr>\n",
       "  </tbody>\n",
       "</table>\n",
       "</div>"
      ],
      "text/plain": [
       "            Player  Count_Win  Count_Lose  total_play  perc_win\n",
       "187    Djokovic N.        710         141         851     83.43\n",
       "228     Federer R.       1018         218        1236     82.36\n",
       "542       Nadal R.        779         171         950     82.00\n",
       "540      Murray A.        566         174         740     76.49\n",
       "649     Roddick A.        576         197         773     74.51\n",
       "333      Hewitt L.        514         213         727     70.70\n",
       "779    Tsonga J.W.        360         169         529     68.05\n",
       "232      Ferrer D.        651         319         970     67.11\n",
       "544  Nalbandian D.        357         184         541     65.99\n",
       "61      Berdych T.        528         277         805     65.59\n",
       "535        Moya C.        365         200         565     64.60\n",
       "235   Ferrero J.C.        440         242         682     64.52\n",
       "131       Cilic M.        350         194         544     64.34\n",
       "827    Wawrinka S.        413         232         645     64.03\n",
       "524     Monfils G.        369         210         579     63.73\n",
       "263     Gasquet R.        436         250         686     63.56\n",
       "287    Gonzalez F.        328         191         519     63.20\n",
       "307        Haas T.        423         247         670     63.13\n",
       "669       Safin M.        343         201         544     63.05\n",
       "644     Robredo T.        512         330         842     60.81"
      ]
     },
     "execution_count": 74,
     "metadata": {},
     "output_type": "execute_result"
    }
   ],
   "source": [
    "# Best percentage overall\n",
    "\n",
    "career = data[['Winner', 'Loser']]\n",
    "\n",
    "career_w = data[['Winner']]\n",
    "career_l = data[['Loser']]\n",
    "career_w.columns = ['Player']\n",
    "career_l.columns = ['Player']\n",
    "\n",
    "career_w['idx'] = range(1, len(career_w) + 1)\n",
    "career_l['idx'] = range(1, len(career_l) + 1)\n",
    "\n",
    "career_w = career_w.groupby('Player').count()\n",
    "career_w = career_w.reset_index()\n",
    "career_w.columns = ['Player', 'Count_Win']\n",
    "\n",
    "career_l = career_l.groupby('Player').count()\n",
    "career_l = career_l.reset_index()\n",
    "career_l.columns = ['Player', 'Count_Lose']\n",
    "\n",
    "career = pd.merge(career_w, career_l, on='Player')\n",
    "\n",
    "career['total_play'] = career['Count_Win'] + career['Count_Lose']\n",
    "career['perc_win'] = round(career['Count_Win'] / career['total_play'],4)*100\n",
    "\n",
    "career = career[career.total_play > 500]\n",
    "\n",
    "career = career.sort_values(by='perc_win', ascending=False).head(20)\n",
    "career"
   ]
  },
  {
   "cell_type": "code",
   "execution_count": 75,
   "metadata": {},
   "outputs": [
    {
     "data": {
      "text/plain": [
       "Text(0.5, 1, 'Best players overall since 2000')"
      ]
     },
     "execution_count": 75,
     "metadata": {},
     "output_type": "execute_result"
    },
    {
     "data": {
      "image/png": "[encoded data removed]",
      "text/plain": [
       "<Figure size 720x360 with 1 Axes>"
      ]
     },
     "metadata": {},
     "output_type": "display_data"
    }
   ],
   "source": [
    "g=sns.catplot(x='Player', y='perc_win', data=career, kind='bar', size=5, aspect=2)\n",
    "g.set_xticklabels(labels = career.Player,  rotation=90)\n",
    "plt.title('Best players overall since 2000')"
   ]
  },
  {
   "cell_type": "markdown",
   "metadata": {},
   "source": [
    "Big Three Comparison : Federer vs Nadal vs Djokovic"
   ]
  },
  {
   "cell_type": "code",
   "execution_count": 76,
   "metadata": {},
   "outputs": [
    {
     "data": {
      "text/html": [
       "<div>\n",
       "<style scoped>\n",
       "    .dataframe tbody tr th:only-of-type {\n",
       "        vertical-align: middle;\n",
       "    }\n",
       "\n",
       "    .dataframe tbody tr th {\n",
       "        vertical-align: top;\n",
       "    }\n",
       "\n",
       "    .dataframe thead th {\n",
       "        text-align: right;\n",
       "    }\n",
       "</style>\n",
       "<table border=\"1\" class=\"dataframe\">\n",
       "  <thead>\n",
       "    <tr style=\"text-align: right;\">\n",
       "      <th></th>\n",
       "      <th>Surface</th>\n",
       "      <th>Player</th>\n",
       "      <th>Count_Win</th>\n",
       "      <th>Count_Lose</th>\n",
       "      <th>total_play</th>\n",
       "      <th>perc_win</th>\n",
       "    </tr>\n",
       "  </thead>\n",
       "  <tbody>\n",
       "    <tr>\n",
       "      <th>351</th>\n",
       "      <td>Clay</td>\n",
       "      <td>Djokovic N.</td>\n",
       "      <td>169</td>\n",
       "      <td>39</td>\n",
       "      <td>208</td>\n",
       "      <td>81.25</td>\n",
       "    </tr>\n",
       "    <tr>\n",
       "      <th>381</th>\n",
       "      <td>Clay</td>\n",
       "      <td>Federer R.</td>\n",
       "      <td>203</td>\n",
       "      <td>60</td>\n",
       "      <td>263</td>\n",
       "      <td>77.19</td>\n",
       "    </tr>\n",
       "    <tr>\n",
       "      <th>612</th>\n",
       "      <td>Clay</td>\n",
       "      <td>Nadal R.</td>\n",
       "      <td>351</td>\n",
       "      <td>35</td>\n",
       "      <td>386</td>\n",
       "      <td>90.93</td>\n",
       "    </tr>\n",
       "    <tr>\n",
       "      <th>944</th>\n",
       "      <td>Grass</td>\n",
       "      <td>Djokovic N.</td>\n",
       "      <td>65</td>\n",
       "      <td>14</td>\n",
       "      <td>79</td>\n",
       "      <td>82.28</td>\n",
       "    </tr>\n",
       "    <tr>\n",
       "      <th>969</th>\n",
       "      <td>Grass</td>\n",
       "      <td>Federer R.</td>\n",
       "      <td>147</td>\n",
       "      <td>20</td>\n",
       "      <td>167</td>\n",
       "      <td>88.02</td>\n",
       "    </tr>\n",
       "    <tr>\n",
       "      <th>1131</th>\n",
       "      <td>Grass</td>\n",
       "      <td>Nadal R.</td>\n",
       "      <td>58</td>\n",
       "      <td>17</td>\n",
       "      <td>75</td>\n",
       "      <td>77.33</td>\n",
       "    </tr>\n",
       "    <tr>\n",
       "      <th>1435</th>\n",
       "      <td>Hard</td>\n",
       "      <td>Djokovic N.</td>\n",
       "      <td>469</td>\n",
       "      <td>82</td>\n",
       "      <td>551</td>\n",
       "      <td>85.12</td>\n",
       "    </tr>\n",
       "    <tr>\n",
       "      <th>1468</th>\n",
       "      <td>Hard</td>\n",
       "      <td>Federer R.</td>\n",
       "      <td>622</td>\n",
       "      <td>124</td>\n",
       "      <td>746</td>\n",
       "      <td>83.38</td>\n",
       "    </tr>\n",
       "    <tr>\n",
       "      <th>1719</th>\n",
       "      <td>Hard</td>\n",
       "      <td>Nadal R.</td>\n",
       "      <td>363</td>\n",
       "      <td>112</td>\n",
       "      <td>475</td>\n",
       "      <td>76.42</td>\n",
       "    </tr>\n",
       "  </tbody>\n",
       "</table>\n",
       "</div>"
      ],
      "text/plain": [
       "     Surface       Player  Count_Win  Count_Lose  total_play  perc_win\n",
       "351     Clay  Djokovic N.        169          39         208     81.25\n",
       "381     Clay   Federer R.        203          60         263     77.19\n",
       "612     Clay     Nadal R.        351          35         386     90.93\n",
       "944    Grass  Djokovic N.         65          14          79     82.28\n",
       "969    Grass   Federer R.        147          20         167     88.02\n",
       "1131   Grass     Nadal R.         58          17          75     77.33\n",
       "1435    Hard  Djokovic N.        469          82         551     85.12\n",
       "1468    Hard   Federer R.        622         124         746     83.38\n",
       "1719    Hard     Nadal R.        363         112         475     76.42"
      ]
     },
     "execution_count": 76,
     "metadata": {},
     "output_type": "execute_result"
    }
   ],
   "source": [
    "surface_top3 = surface[(surface.Player.isin(['Federer R.', 'Nadal R.', 'Djokovic N.'])) & (surface.Surface != 'Carpet')]\n",
    "surface_top3"
   ]
  },
  {
   "cell_type": "code",
   "execution_count": 77,
   "metadata": {},
   "outputs": [
    {
     "data": {
      "text/plain": [
       "FrozenList(['Player'])"
      ]
     },
     "execution_count": 77,
     "metadata": {},
     "output_type": "execute_result"
    }
   ],
   "source": [
    "surface_top3 = pd.pivot_table(surface_top3, values='perc_win', columns=['Surface'], index=['Player'])\n",
    "surface_top3.index.names\n",
    "# surface_top3.columns = ['Player', 'Clay', 'Grass', 'Hard']"
   ]
  },
  {
   "cell_type": "code",
   "execution_count": 78,
   "metadata": {},
   "outputs": [
    {
     "data": {
      "text/html": [
       "<div>\n",
       "<style scoped>\n",
       "    .dataframe tbody tr th:only-of-type {\n",
       "        vertical-align: middle;\n",
       "    }\n",
       "\n",
       "    .dataframe tbody tr th {\n",
       "        vertical-align: top;\n",
       "    }\n",
       "\n",
       "    .dataframe thead th {\n",
       "        text-align: right;\n",
       "    }\n",
       "</style>\n",
       "<table border=\"1\" class=\"dataframe\">\n",
       "  <thead>\n",
       "    <tr style=\"text-align: right;\">\n",
       "      <th>Surface</th>\n",
       "      <th>Clay</th>\n",
       "      <th>Grass</th>\n",
       "      <th>Hard</th>\n",
       "    </tr>\n",
       "    <tr>\n",
       "      <th>Player</th>\n",
       "      <th></th>\n",
       "      <th></th>\n",
       "      <th></th>\n",
       "    </tr>\n",
       "  </thead>\n",
       "  <tbody>\n",
       "    <tr>\n",
       "      <th>Federer R.</th>\n",
       "      <td>77.19</td>\n",
       "      <td>88.02</td>\n",
       "      <td>83.38</td>\n",
       "    </tr>\n",
       "  </tbody>\n",
       "</table>\n",
       "</div>"
      ],
      "text/plain": [
       "Surface      Clay  Grass   Hard\n",
       "Player                         \n",
       "Federer R.  77.19  88.02  83.38"
      ]
     },
     "execution_count": 78,
     "metadata": {},
     "output_type": "execute_result"
    }
   ],
   "source": [
    "surface_top3[surface_top3.index == \"Federer R.\"]"
   ]
  },
  {
   "cell_type": "code",
   "execution_count": 79,
   "metadata": {},
   "outputs": [],
   "source": [
    "# Radar chart for Surface\n",
    "%matplotlib inline\n",
    "\n",
    "labels = np.array(['Clay', 'Grass', 'Hard'])\n",
    "federer = surface_top3.loc[surface_top3[surface_top3.index == \"Federer R.\"].index[0],labels].values"
   ]
  },
  {
   "cell_type": "code",
   "execution_count": 80,
   "metadata": {},
   "outputs": [],
   "source": [
    "federer = surface_top3.loc[surface_top3[surface_top3.index == \"Federer R.\"].index[0],labels].values\n",
    "nadal = surface_top3.loc[surface_top3[surface_top3.index == \"Nadal R.\"].index[0],labels].values\n",
    "djokovic = surface_top3.loc[surface_top3[surface_top3.index == \"Djokovic N.\"].index[0],labels].values\n",
    "\n",
    "federer = np.concatenate((federer,[federer[0]]))\n",
    "nadal = np.concatenate((nadal,[nadal[0]]))\n",
    "djokovic = np.concatenate((djokovic,[djokovic[0]]))"
   ]
  },
  {
   "cell_type": "code",
   "execution_count": 81,
   "metadata": {},
   "outputs": [],
   "source": [
    "angles=np.linspace(0, 2*np.pi, len(labels), endpoint=False)\n",
    "\n",
    "# close the plot\n",
    "angles=np.concatenate((angles,[angles[0]]))"
   ]
  },
  {
   "cell_type": "code",
   "execution_count": 82,
   "metadata": {},
   "outputs": [
    {
     "name": "stderr",
     "output_type": "stream",
     "text": [
      "/Users/psehgal/opt/anaconda3/lib/python3.7/site-packages/ipykernel_launcher.py:8: MatplotlibDeprecationWarning: Adding an axes using the same arguments as a previous axes currently reuses the earlier instance.  In a future version, a new instance will always be created and returned.  Meanwhile, this warning can be suppressed, and the future behavior ensured, by passing a unique label to each axes instance.\n",
      "  \n",
      "/Users/psehgal/opt/anaconda3/lib/python3.7/site-packages/ipykernel_launcher.py:14: MatplotlibDeprecationWarning: Adding an axes using the same arguments as a previous axes currently reuses the earlier instance.  In a future version, a new instance will always be created and returned.  Meanwhile, this warning can be suppressed, and the future behavior ensured, by passing a unique label to each axes instance.\n",
      "  \n"
     ]
    },
    {
     "data": {
      "text/plain": [
       "<matplotlib.legend.Legend at 0x1a1dbd83d0>"
      ]
     },
     "execution_count": 82,
     "metadata": {},
     "output_type": "execute_result"
    },
    {
     "data": {
      "image/png": "[encoded data removed]",
      "text/plain": [
       "<Figure size 1440x720 with 1 Axes>"
      ]
     },
     "metadata": {
      "needs_background": "light"
     },
     "output_type": "display_data"
    }
   ],
   "source": [
    "fig = plt.figure(figsize=(20,10))\n",
    "ax1 = fig.add_subplot(111, polar=True)\n",
    "ax1.plot(angles, federer, 'o-', linewidth=2, label = 'Federer')\n",
    "ax1.fill(angles, federer, alpha=0.25)\n",
    "ax1.set_thetagrids(angles * 180/np.pi, labels)\n",
    "ax1.grid(True)\n",
    "\n",
    "ax2 = fig.add_subplot(111, polar=True)\n",
    "ax2.plot(angles, nadal, 'o-', linewidth=2, label = 'Nadal')\n",
    "ax2.fill(angles, nadal, alpha=0.25)\n",
    "ax2.set_thetagrids(angles * 180/np.pi, labels)\n",
    "ax2.grid(True)\n",
    "\n",
    "ax3 = fig.add_subplot(111, polar=True)\n",
    "ax3.plot(angles, djokovic, 'o-', linewidth=2, label = 'Djokovic')\n",
    "ax3.fill(angles, djokovic, alpha=0.25)\n",
    "ax3.set_thetagrids(angles * 180/np.pi, labels)\n",
    "ax3.grid(True)\n",
    "\n",
    "plt.legend(bbox_to_anchor=(1.1,1))"
   ]
  },
  {
   "cell_type": "code",
   "execution_count": null,
   "metadata": {},
   "outputs": [],
   "source": []
  },
  {
   "cell_type": "code",
   "execution_count": null,
   "metadata": {},
   "outputs": [],
   "source": []
  },
  {
   "cell_type": "code",
   "execution_count": null,
   "metadata": {},
   "outputs": [],
   "source": []
  },
  {
   "cell_type": "code",
   "execution_count": null,
   "metadata": {},
   "outputs": [],
   "source": []
  }
 ],
 "metadata": {
  "kernelspec": {
   "display_name": "Python 3",
   "language": "python",
   "name": "python3"
  },
  "language_info": {
   "codemirror_mode": {
    "name": "ipython",
    "version": 3
   },
   "file_extension": ".py",
   "mimetype": "text/x-python",
   "name": "python",
   "nbconvert_exporter": "python",
   "pygments_lexer": "ipython3",
   "version": "3.7.4"
  }
 },
 "nbformat": 4,
 "nbformat_minor": 1
}
