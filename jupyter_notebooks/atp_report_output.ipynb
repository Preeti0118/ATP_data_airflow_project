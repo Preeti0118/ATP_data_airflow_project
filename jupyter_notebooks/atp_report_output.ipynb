{
 "cells": [
  {
   "cell_type": "code",
   "execution_count": null,
   "metadata": {
    "papermill": {
     "duration": 0.021233,
     "end_time": "2020-05-17T21:42:44.047719",
     "exception": false,
     "start_time": "2020-05-17T21:42:44.026486",
     "status": "completed"
    },
    "tags": []
   },
   "outputs": [],
   "source": []
  },
  {
   "cell_type": "code",
   "execution_count": 1,
   "metadata": {
    "_cell_guid": "b1076dfc-b9ad-4769-8c92-a6c4dae69d19",
    "_uuid": "8f2839f25d086af736a60e9eeb907d3b93b6e0e5",
    "execution": {
     "iopub.execute_input": "2020-05-17T21:42:44.096278Z",
     "iopub.status.busy": "2020-05-17T21:42:44.094827Z",
     "iopub.status.idle": "2020-05-17T21:42:45.539304Z",
     "shell.execute_reply": "2020-05-17T21:42:45.540386Z"
    },
    "papermill": {
     "duration": 1.475515,
     "end_time": "2020-05-17T21:42:45.540653",
     "exception": false,
     "start_time": "2020-05-17T21:42:44.065138",
     "status": "completed"
    },
    "tags": []
   },
   "outputs": [],
   "source": [
    "import numpy as np\n",
    "import pandas as pd\n",
    "import matplotlib.pyplot as plt\n",
    "from matplotlib.pyplot import xticks\n",
    "from scipy.stats import skew\n",
    "import seaborn as sns\n",
    "import os\n",
    "from fpdf import FPDF\n"
   ]
  },
  {
   "cell_type": "code",
   "execution_count": 2,
   "metadata": {
    "execution": {
     "iopub.execute_input": "2020-05-17T21:42:45.566993Z",
     "iopub.status.busy": "2020-05-17T21:42:45.565646Z",
     "iopub.status.idle": "2020-05-17T21:42:45.568121Z",
     "shell.execute_reply": "2020-05-17T21:42:45.568940Z"
    },
    "papermill": {
     "duration": 0.016869,
     "end_time": "2020-05-17T21:42:45.569088",
     "exception": false,
     "start_time": "2020-05-17T21:42:45.552219",
     "status": "completed"
    },
    "tags": [
     "parameters"
    ]
   },
   "outputs": [],
   "source": [
    "topclay1png = \"/Users/psehgal/dev/airflow_home/Tennis_Data_Pipeline_Airflow_Project/images_for_reports/topclay1png.png\"\n",
    "topclay2png = \"/Users/psehgal/dev/airflow_home/Tennis_Data_Pipeline_Airflow_Project/images_for_reports/topclay2png.png\"\n",
    "topclaycsv = \"/Users/psehgal/dev/airflow_home/Tennis_Data_Pipeline_Airflow_Project/images_for_reports/topclaycsv.csv\"\n",
    "topgrass1png = \"/Users/psehgal/dev/airflow_home/Tennis_Data_Pipeline_Airflow_Project/images_for_reports/topgrass1png.png\"\n",
    "topgrass2png = \"/Users/psehgal/dev/airflow_home/Tennis_Data_Pipeline_Airflow_Project/images_for_reports/topgrass2png.png\"\n",
    "topgrasscsv = \"/Users/psehgal/dev/airflow_home/Tennis_Data_Pipeline_Airflow_Project/images_for_reports/topgrasscsv.csv\"\n",
    "tophard1png = \"/Users/psehgal/dev/airflow_home/Tennis_Data_Pipeline_Airflow_Project/images_for_reports/tophard1png.png\"\n",
    "tophard2png = \"/Users/psehgal/dev/airflow_home/Tennis_Data_Pipeline_Airflow_Project/images_for_reports/tophard2png.png\"\n",
    "tophardcsv = \"/Users/psehgal/dev/airflow_home/Tennis_Data_Pipeline_Airflow_Project/images_for_reports/tophardcsv.csv\"\n"
   ]
  },
  {
   "cell_type": "code",
   "execution_count": 3,
   "metadata": {
    "execution": {
     "iopub.execute_input": "2020-05-17T21:42:45.592632Z",
     "iopub.status.busy": "2020-05-17T21:42:45.591207Z",
     "iopub.status.idle": "2020-05-17T21:42:45.593864Z",
     "shell.execute_reply": "2020-05-17T21:42:45.594686Z"
    },
    "papermill": {
     "duration": 0.016836,
     "end_time": "2020-05-17T21:42:45.594833",
     "exception": false,
     "start_time": "2020-05-17T21:42:45.577997",
     "status": "completed"
    },
    "tags": [
     "injected-parameters"
    ]
   },
   "outputs": [],
   "source": [
    "# Parameters\n",
    "var_topclay1png = \"/Users/psehgal/dev/airflow_home/Tennis_Data_Pipeline_airflow_Project/images_for_reports/topclay1png.png\"\n",
    "var_topclay2png = \"/Users/psehgal/dev/airflow_home/Tennis_Data_Pipeline_airflow_Project/images_for_reports/topclay2png.png\"\n",
    "var_topclay3csv = \"/Users/psehgal/dev/airflow_home/Tennis_Data_Pipeline_Airflow_Project/images_for_reports/topclaycsv.csv\"\n",
    "var_topgrass1png = \"/Users/psehgal/dev/airflow_home/Tennis_Data_Pipeline_airflow_Project/images_for_reports/topgrass1png.png\"\n",
    "var_topgrass2png = \"/Users/psehgal/dev/airflow_home/Tennis_Data_Pipeline_airflow_Project/images_for_reports/topgrass2png.png\"\n",
    "var_topgrass3csv = \"/Users/psehgal/dev/airflow_home/Tennis_Data_Pipeline_Airflow_Project/images_for_reports/topgrasscsv.csv\"\n",
    "var_tophard1png = \"/Users/psehgal/dev/airflow_home/Tennis_Data_Pipeline_airflow_Project/images_for_reports/tophard1png.png\"\n",
    "var_tophard2png = \"/Users/psehgal/dev/airflow_home/Tennis_Data_Pipeline_airflow_Project/images_for_reports/tophard2png.png\"\n",
    "var_tophard3csv = \"/Users/psehgal/dev/airflow_home/Tennis_Data_Pipeline_Airflow_Project/images_for_reports/tophardcsv.csv\"\n"
   ]
  },
  {
   "cell_type": "code",
   "execution_count": 4,
   "metadata": {
    "execution": {
     "iopub.execute_input": "2020-05-17T21:42:45.617856Z",
     "iopub.status.busy": "2020-05-17T21:42:45.616713Z",
     "iopub.status.idle": "2020-05-17T21:42:45.628103Z",
     "shell.execute_reply": "2020-05-17T21:42:45.629114Z"
    },
    "papermill": {
     "duration": 0.02556,
     "end_time": "2020-05-17T21:42:45.629419",
     "exception": false,
     "start_time": "2020-05-17T21:42:45.603859",
     "status": "completed"
    },
    "tags": []
   },
   "outputs": [],
   "source": [
    "dfclay = pd.read_csv(topclaycsv)\n",
    "dfgrass = pd.read_csv(topgrasscsv)\n",
    "dfhard = pd.read_csv(tophardcsv)\n"
   ]
  },
  {
   "cell_type": "markdown",
   "metadata": {
    "papermill": {
     "duration": 0.008846,
     "end_time": "2020-05-17T21:42:45.647670",
     "exception": false,
     "start_time": "2020-05-17T21:42:45.638824",
     "status": "completed"
    },
    "tags": []
   },
   "source": [
    "# <center>Best Tennis Players on Different Play Surfaces</center>\n",
    "##This report takes the results of top mens' tennis players'games and analyzes to see who are the best players on different surfaces i.e. Clay, Grass and Hard Surface.\n",
    "\n",
    "\n",
    "\n",
    "\n"
   ]
  },
  {
   "cell_type": "markdown",
   "metadata": {
    "papermill": {
     "duration": 0.00882,
     "end_time": "2020-05-17T21:42:45.665803",
     "exception": false,
     "start_time": "2020-05-17T21:42:45.656983",
     "status": "completed"
    },
    "tags": []
   },
   "source": [
    "# <center>Clay Surface</center>"
   ]
  },
  {
   "cell_type": "markdown",
   "metadata": {
    "papermill": {
     "duration": 0.009019,
     "end_time": "2020-05-17T21:42:45.685486",
     "exception": false,
     "start_time": "2020-05-17T21:42:45.676467",
     "status": "completed"
    },
    "tags": []
   },
   "source": [
    "##The graph below shows the winning percentage of the top clay players. As can be seen by the graph below, Rafael Nadal leads this category with a 91% win percentage. Novak Djokovic is not far behind with a 81% win percentage. "
   ]
  },
  {
   "cell_type": "code",
   "execution_count": 5,
   "metadata": {
    "execution": {
     "iopub.execute_input": "2020-05-17T21:42:45.711456Z",
     "iopub.status.busy": "2020-05-17T21:42:45.710407Z",
     "iopub.status.idle": "2020-05-17T21:42:45.715440Z",
     "shell.execute_reply": "2020-05-17T21:42:45.716569Z"
    },
    "papermill": {
     "duration": 0.019535,
     "end_time": "2020-05-17T21:42:45.716768",
     "exception": false,
     "start_time": "2020-05-17T21:42:45.697233",
     "status": "completed"
    },
    "tags": []
   },
   "outputs": [
    {
     "data": {
      "image/png": "[encoded data removed]",
      "text/plain": [
       "<IPython.core.display.Image object>"
      ]
     },
     "execution_count": 5,
     "metadata": {},
     "output_type": "execute_result"
    }
   ],
   "source": [
    "from IPython.display import Image\n",
    "Image(filename=topclay1png)"
   ]
  },
  {
   "cell_type": "markdown",
   "metadata": {
    "papermill": {
     "duration": 0.009622,
     "end_time": "2020-05-17T21:42:45.737224",
     "exception": false,
     "start_time": "2020-05-17T21:42:45.727602",
     "status": "completed"
    },
    "tags": []
   },
   "source": [
    "##Another way to represent this data can be shown below. The different colors represent the victories, losess, total play, and percentage winnings of the top players in the 2000's era. "
   ]
  },
  {
   "cell_type": "code",
   "execution_count": 6,
   "metadata": {
    "execution": {
     "iopub.execute_input": "2020-05-17T21:42:45.761739Z",
     "iopub.status.busy": "2020-05-17T21:42:45.760520Z",
     "iopub.status.idle": "2020-05-17T21:42:45.764679Z",
     "shell.execute_reply": "2020-05-17T21:42:45.765503Z"
    },
    "papermill": {
     "duration": 0.018222,
     "end_time": "2020-05-17T21:42:45.765652",
     "exception": false,
     "start_time": "2020-05-17T21:42:45.747430",
     "status": "completed"
    },
    "tags": []
   },
   "outputs": [
    {
     "data": {
      "image/png": "[encoded data removed]",
      "text/plain": [
       "<IPython.core.display.Image object>"
      ]
     },
     "execution_count": 6,
     "metadata": {},
     "output_type": "execute_result"
    }
   ],
   "source": [
    "Image(filename=topclay2png) "
   ]
  },
  {
   "cell_type": "code",
   "execution_count": 7,
   "metadata": {
    "execution": {
     "iopub.execute_input": "2020-05-17T21:42:45.798173Z",
     "iopub.status.busy": "2020-05-17T21:42:45.796131Z",
     "iopub.status.idle": "2020-05-17T21:42:45.808250Z",
     "shell.execute_reply": "2020-05-17T21:42:45.806484Z"
    },
    "papermill": {
     "duration": 0.032057,
     "end_time": "2020-05-17T21:42:45.808600",
     "exception": false,
     "start_time": "2020-05-17T21:42:45.776543",
     "status": "completed"
    },
    "tags": []
   },
   "outputs": [
    {
     "data": {
      "text/html": [
       "<div>\n",
       "<style scoped>\n",
       "    .dataframe tbody tr th:only-of-type {\n",
       "        vertical-align: middle;\n",
       "    }\n",
       "\n",
       "    .dataframe tbody tr th {\n",
       "        vertical-align: top;\n",
       "    }\n",
       "\n",
       "    .dataframe thead th {\n",
       "        text-align: right;\n",
       "    }\n",
       "</style>\n",
       "<table border=\"1\" class=\"dataframe\">\n",
       "  <thead>\n",
       "    <tr style=\"text-align: right;\">\n",
       "      <th></th>\n",
       "      <th>Unnamed: 0</th>\n",
       "      <th>Surface</th>\n",
       "      <th>Player</th>\n",
       "      <th>Count_Win</th>\n",
       "      <th>Count_Lose</th>\n",
       "      <th>total_play</th>\n",
       "      <th>perc_win</th>\n",
       "    </tr>\n",
       "  </thead>\n",
       "  <tbody>\n",
       "    <tr>\n",
       "      <th>0</th>\n",
       "      <td>396</td>\n",
       "      <td>Clay</td>\n",
       "      <td>Nadal R.</td>\n",
       "      <td>351</td>\n",
       "      <td>35</td>\n",
       "      <td>386</td>\n",
       "      <td>90.93</td>\n",
       "    </tr>\n",
       "    <tr>\n",
       "      <th>1</th>\n",
       "      <td>135</td>\n",
       "      <td>Clay</td>\n",
       "      <td>Djokovic N.</td>\n",
       "      <td>169</td>\n",
       "      <td>39</td>\n",
       "      <td>208</td>\n",
       "      <td>81.25</td>\n",
       "    </tr>\n",
       "    <tr>\n",
       "      <th>2</th>\n",
       "      <td>165</td>\n",
       "      <td>Clay</td>\n",
       "      <td>Federer R.</td>\n",
       "      <td>203</td>\n",
       "      <td>60</td>\n",
       "      <td>263</td>\n",
       "      <td>77.19</td>\n",
       "    </tr>\n",
       "    <tr>\n",
       "      <th>3</th>\n",
       "      <td>304</td>\n",
       "      <td>Clay</td>\n",
       "      <td>Kuerten G.</td>\n",
       "      <td>105</td>\n",
       "      <td>40</td>\n",
       "      <td>145</td>\n",
       "      <td>72.41</td>\n",
       "    </tr>\n",
       "    <tr>\n",
       "      <th>4</th>\n",
       "      <td>169</td>\n",
       "      <td>Clay</td>\n",
       "      <td>Ferrero J.C.</td>\n",
       "      <td>221</td>\n",
       "      <td>86</td>\n",
       "      <td>307</td>\n",
       "      <td>71.99</td>\n",
       "    </tr>\n",
       "    <tr>\n",
       "      <th>5</th>\n",
       "      <td>405</td>\n",
       "      <td>Clay</td>\n",
       "      <td>Nishikori K.</td>\n",
       "      <td>60</td>\n",
       "      <td>24</td>\n",
       "      <td>84</td>\n",
       "      <td>71.43</td>\n",
       "    </tr>\n",
       "    <tr>\n",
       "      <th>6</th>\n",
       "      <td>550</td>\n",
       "      <td>Clay</td>\n",
       "      <td>Thiem D.</td>\n",
       "      <td>59</td>\n",
       "      <td>24</td>\n",
       "      <td>83</td>\n",
       "      <td>71.08</td>\n",
       "    </tr>\n",
       "    <tr>\n",
       "      <th>7</th>\n",
       "      <td>100</td>\n",
       "      <td>Clay</td>\n",
       "      <td>Coria G.</td>\n",
       "      <td>129</td>\n",
       "      <td>53</td>\n",
       "      <td>182</td>\n",
       "      <td>70.88</td>\n",
       "    </tr>\n",
       "    <tr>\n",
       "      <th>8</th>\n",
       "      <td>168</td>\n",
       "      <td>Clay</td>\n",
       "      <td>Ferrer D.</td>\n",
       "      <td>293</td>\n",
       "      <td>122</td>\n",
       "      <td>415</td>\n",
       "      <td>70.60</td>\n",
       "    </tr>\n",
       "    <tr>\n",
       "      <th>9</th>\n",
       "      <td>389</td>\n",
       "      <td>Clay</td>\n",
       "      <td>Moya C.</td>\n",
       "      <td>203</td>\n",
       "      <td>85</td>\n",
       "      <td>288</td>\n",
       "      <td>70.49</td>\n",
       "    </tr>\n",
       "  </tbody>\n",
       "</table>\n",
       "</div>"
      ],
      "text/plain": [
       "   Unnamed: 0 Surface        Player  Count_Win  Count_Lose  total_play  \\\n",
       "0         396    Clay      Nadal R.        351          35         386   \n",
       "1         135    Clay   Djokovic N.        169          39         208   \n",
       "2         165    Clay    Federer R.        203          60         263   \n",
       "3         304    Clay    Kuerten G.        105          40         145   \n",
       "4         169    Clay  Ferrero J.C.        221          86         307   \n",
       "5         405    Clay  Nishikori K.         60          24          84   \n",
       "6         550    Clay      Thiem D.         59          24          83   \n",
       "7         100    Clay      Coria G.        129          53         182   \n",
       "8         168    Clay     Ferrer D.        293         122         415   \n",
       "9         389    Clay       Moya C.        203          85         288   \n",
       "\n",
       "   perc_win  \n",
       "0     90.93  \n",
       "1     81.25  \n",
       "2     77.19  \n",
       "3     72.41  \n",
       "4     71.99  \n",
       "5     71.43  \n",
       "6     71.08  \n",
       "7     70.88  \n",
       "8     70.60  \n",
       "9     70.49  "
      ]
     },
     "execution_count": 7,
     "metadata": {},
     "output_type": "execute_result"
    }
   ],
   "source": [
    "dfclay"
   ]
  },
  {
   "cell_type": "markdown",
   "metadata": {
    "papermill": {
     "duration": 0.016194,
     "end_time": "2020-05-17T21:42:45.847607",
     "exception": false,
     "start_time": "2020-05-17T21:42:45.831413",
     "status": "completed"
    },
    "tags": []
   },
   "source": [
    "# <center>Grass Surface</center>"
   ]
  },
  {
   "cell_type": "markdown",
   "metadata": {
    "papermill": {
     "duration": 0.010042,
     "end_time": "2020-05-17T21:42:45.870955",
     "exception": false,
     "start_time": "2020-05-17T21:42:45.860913",
     "status": "completed"
    },
    "tags": []
   },
   "source": [
    "##The graph below shows the winning percentage of the top grass players. As can be seen by the graph below, Roger Federer leads this category with a 88% win percentage. Andy Murray is not far behind with a 83% win percentage. "
   ]
  },
  {
   "cell_type": "code",
   "execution_count": 8,
   "metadata": {
    "execution": {
     "iopub.execute_input": "2020-05-17T21:42:45.949639Z",
     "iopub.status.busy": "2020-05-17T21:42:45.948167Z",
     "iopub.status.idle": "2020-05-17T21:42:45.952480Z",
     "shell.execute_reply": "2020-05-17T21:42:45.953318Z"
    },
    "papermill": {
     "duration": 0.070873,
     "end_time": "2020-05-17T21:42:45.953474",
     "exception": false,
     "start_time": "2020-05-17T21:42:45.882601",
     "status": "completed"
    },
    "tags": []
   },
   "outputs": [
    {
     "data": {
      "image/png": "[encoded data removed]",
      "text/plain": [
       "<IPython.core.display.Image object>"
      ]
     },
     "execution_count": 8,
     "metadata": {},
     "output_type": "execute_result"
    }
   ],
   "source": [
    "from IPython.display import Image\n",
    "Image(filename=topgrass1png)"
   ]
  },
  {
   "cell_type": "markdown",
   "metadata": {
    "papermill": {
     "duration": 0.010778,
     "end_time": "2020-05-17T21:42:45.975158",
     "exception": false,
     "start_time": "2020-05-17T21:42:45.964380",
     "status": "completed"
    },
    "tags": []
   },
   "source": [
    "##Another way to represent this data can be shown below. The different colors represent the victories, losess, total play, and percentage winnings of the top players in the 2000's era."
   ]
  },
  {
   "cell_type": "code",
   "execution_count": 9,
   "metadata": {
    "execution": {
     "iopub.execute_input": "2020-05-17T21:42:46.003643Z",
     "iopub.status.busy": "2020-05-17T21:42:46.002600Z",
     "iopub.status.idle": "2020-05-17T21:42:46.006436Z",
     "shell.execute_reply": "2020-05-17T21:42:46.007290Z"
    },
    "papermill": {
     "duration": 0.01889,
     "end_time": "2020-05-17T21:42:46.007433",
     "exception": false,
     "start_time": "2020-05-17T21:42:45.988543",
     "status": "completed"
    },
    "tags": []
   },
   "outputs": [
    {
     "data": {
      "image/png": "[encoded data removed]",
      "text/plain": [
       "<IPython.core.display.Image object>"
      ]
     },
     "execution_count": 9,
     "metadata": {},
     "output_type": "execute_result"
    }
   ],
   "source": [
    "Image(filename=topgrass2png) "
   ]
  },
  {
   "cell_type": "code",
   "execution_count": 10,
   "metadata": {
    "execution": {
     "iopub.execute_input": "2020-05-17T21:42:46.041149Z",
     "iopub.status.busy": "2020-05-17T21:42:46.039795Z",
     "iopub.status.idle": "2020-05-17T21:42:46.043861Z",
     "shell.execute_reply": "2020-05-17T21:42:46.044678Z"
    },
    "papermill": {
     "duration": 0.025775,
     "end_time": "2020-05-17T21:42:46.044821",
     "exception": false,
     "start_time": "2020-05-17T21:42:46.019046",
     "status": "completed"
    },
    "tags": []
   },
   "outputs": [
    {
     "data": {
      "text/html": [
       "<div>\n",
       "<style scoped>\n",
       "    .dataframe tbody tr th:only-of-type {\n",
       "        vertical-align: middle;\n",
       "    }\n",
       "\n",
       "    .dataframe tbody tr th {\n",
       "        vertical-align: top;\n",
       "    }\n",
       "\n",
       "    .dataframe thead th {\n",
       "        text-align: right;\n",
       "    }\n",
       "</style>\n",
       "<table border=\"1\" class=\"dataframe\">\n",
       "  <thead>\n",
       "    <tr style=\"text-align: right;\">\n",
       "      <th></th>\n",
       "      <th>Unnamed: 0</th>\n",
       "      <th>Surface</th>\n",
       "      <th>Player</th>\n",
       "      <th>Count_Win</th>\n",
       "      <th>Count_Lose</th>\n",
       "      <th>total_play</th>\n",
       "      <th>perc_win</th>\n",
       "    </tr>\n",
       "  </thead>\n",
       "  <tbody>\n",
       "    <tr>\n",
       "      <th>0</th>\n",
       "      <td>129</td>\n",
       "      <td>Grass</td>\n",
       "      <td>Federer R.</td>\n",
       "      <td>147</td>\n",
       "      <td>20</td>\n",
       "      <td>167</td>\n",
       "      <td>88.02</td>\n",
       "    </tr>\n",
       "    <tr>\n",
       "      <th>1</th>\n",
       "      <td>289</td>\n",
       "      <td>Grass</td>\n",
       "      <td>Murray A.</td>\n",
       "      <td>90</td>\n",
       "      <td>18</td>\n",
       "      <td>108</td>\n",
       "      <td>83.33</td>\n",
       "    </tr>\n",
       "    <tr>\n",
       "      <th>2</th>\n",
       "      <td>104</td>\n",
       "      <td>Grass</td>\n",
       "      <td>Djokovic N.</td>\n",
       "      <td>65</td>\n",
       "      <td>14</td>\n",
       "      <td>79</td>\n",
       "      <td>82.28</td>\n",
       "    </tr>\n",
       "    <tr>\n",
       "      <th>3</th>\n",
       "      <td>345</td>\n",
       "      <td>Grass</td>\n",
       "      <td>Roddick A.</td>\n",
       "      <td>82</td>\n",
       "      <td>21</td>\n",
       "      <td>103</td>\n",
       "      <td>79.61</td>\n",
       "    </tr>\n",
       "    <tr>\n",
       "      <th>4</th>\n",
       "      <td>291</td>\n",
       "      <td>Grass</td>\n",
       "      <td>Nadal R.</td>\n",
       "      <td>58</td>\n",
       "      <td>17</td>\n",
       "      <td>75</td>\n",
       "      <td>77.33</td>\n",
       "    </tr>\n",
       "    <tr>\n",
       "      <th>5</th>\n",
       "      <td>182</td>\n",
       "      <td>Grass</td>\n",
       "      <td>Hewitt L.</td>\n",
       "      <td>103</td>\n",
       "      <td>31</td>\n",
       "      <td>134</td>\n",
       "      <td>76.87</td>\n",
       "    </tr>\n",
       "    <tr>\n",
       "      <th>6</th>\n",
       "      <td>404</td>\n",
       "      <td>Grass</td>\n",
       "      <td>Tsonga J.W.</td>\n",
       "      <td>42</td>\n",
       "      <td>16</td>\n",
       "      <td>58</td>\n",
       "      <td>72.41</td>\n",
       "    </tr>\n",
       "    <tr>\n",
       "      <th>7</th>\n",
       "      <td>34</td>\n",
       "      <td>Grass</td>\n",
       "      <td>Berdych T.</td>\n",
       "      <td>59</td>\n",
       "      <td>24</td>\n",
       "      <td>83</td>\n",
       "      <td>71.08</td>\n",
       "    </tr>\n",
       "    <tr>\n",
       "      <th>8</th>\n",
       "      <td>352</td>\n",
       "      <td>Grass</td>\n",
       "      <td>Rusedski G.</td>\n",
       "      <td>41</td>\n",
       "      <td>17</td>\n",
       "      <td>58</td>\n",
       "      <td>70.69</td>\n",
       "    </tr>\n",
       "    <tr>\n",
       "      <th>9</th>\n",
       "      <td>177</td>\n",
       "      <td>Grass</td>\n",
       "      <td>Henman T.</td>\n",
       "      <td>42</td>\n",
       "      <td>18</td>\n",
       "      <td>60</td>\n",
       "      <td>70.00</td>\n",
       "    </tr>\n",
       "  </tbody>\n",
       "</table>\n",
       "</div>"
      ],
      "text/plain": [
       "   Unnamed: 0 Surface       Player  Count_Win  Count_Lose  total_play  \\\n",
       "0         129   Grass   Federer R.        147          20         167   \n",
       "1         289   Grass    Murray A.         90          18         108   \n",
       "2         104   Grass  Djokovic N.         65          14          79   \n",
       "3         345   Grass   Roddick A.         82          21         103   \n",
       "4         291   Grass     Nadal R.         58          17          75   \n",
       "5         182   Grass    Hewitt L.        103          31         134   \n",
       "6         404   Grass  Tsonga J.W.         42          16          58   \n",
       "7          34   Grass   Berdych T.         59          24          83   \n",
       "8         352   Grass  Rusedski G.         41          17          58   \n",
       "9         177   Grass    Henman T.         42          18          60   \n",
       "\n",
       "   perc_win  \n",
       "0     88.02  \n",
       "1     83.33  \n",
       "2     82.28  \n",
       "3     79.61  \n",
       "4     77.33  \n",
       "5     76.87  \n",
       "6     72.41  \n",
       "7     71.08  \n",
       "8     70.69  \n",
       "9     70.00  "
      ]
     },
     "execution_count": 10,
     "metadata": {},
     "output_type": "execute_result"
    }
   ],
   "source": [
    "dfgrass"
   ]
  },
  {
   "cell_type": "markdown",
   "metadata": {
    "papermill": {
     "duration": 0.011607,
     "end_time": "2020-05-17T21:42:46.068379",
     "exception": false,
     "start_time": "2020-05-17T21:42:46.056772",
     "status": "completed"
    },
    "tags": []
   },
   "source": [
    "# <center>Hard Surface</center>"
   ]
  },
  {
   "cell_type": "markdown",
   "metadata": {
    "papermill": {
     "duration": 0.011432,
     "end_time": "2020-05-17T21:42:46.092049",
     "exception": false,
     "start_time": "2020-05-17T21:42:46.080617",
     "status": "completed"
    },
    "tags": []
   },
   "source": [
    "##The graph below shows the winning percentage of the top hard surface players. As can be seen by the graph below, Novak Djokovic leads this category with a 85% win percentage. Roger Federer is not far behind with a 83% win percentage. "
   ]
  },
  {
   "cell_type": "code",
   "execution_count": 11,
   "metadata": {
    "execution": {
     "iopub.execute_input": "2020-05-17T21:42:46.119454Z",
     "iopub.status.busy": "2020-05-17T21:42:46.118279Z",
     "iopub.status.idle": "2020-05-17T21:42:46.122572Z",
     "shell.execute_reply": "2020-05-17T21:42:46.123396Z"
    },
    "papermill": {
     "duration": 0.019932,
     "end_time": "2020-05-17T21:42:46.123540",
     "exception": false,
     "start_time": "2020-05-17T21:42:46.103608",
     "status": "completed"
    },
    "tags": []
   },
   "outputs": [
    {
     "data": {
      "image/png": "[encoded data removed]",
      "text/plain": [
       "<IPython.core.display.Image object>"
      ]
     },
     "execution_count": 11,
     "metadata": {},
     "output_type": "execute_result"
    }
   ],
   "source": [
    "from IPython.display import Image\n",
    "Image(filename=tophard1png)"
   ]
  },
  {
   "cell_type": "markdown",
   "metadata": {
    "papermill": {
     "duration": 0.012167,
     "end_time": "2020-05-17T21:42:46.149261",
     "exception": false,
     "start_time": "2020-05-17T21:42:46.137094",
     "status": "completed"
    },
    "tags": []
   },
   "source": [
    "##Another way to represent this data can be shown below. The different colors represent the victories, losess, total play, and percentage winnings of the top players in the 2000's era."
   ]
  },
  {
   "cell_type": "code",
   "execution_count": 12,
   "metadata": {
    "execution": {
     "iopub.execute_input": "2020-05-17T21:42:46.178810Z",
     "iopub.status.busy": "2020-05-17T21:42:46.177634Z",
     "iopub.status.idle": "2020-05-17T21:42:46.183123Z",
     "shell.execute_reply": "2020-05-17T21:42:46.184060Z"
    },
    "papermill": {
     "duration": 0.023131,
     "end_time": "2020-05-17T21:42:46.184280",
     "exception": false,
     "start_time": "2020-05-17T21:42:46.161149",
     "status": "completed"
    },
    "tags": []
   },
   "outputs": [
    {
     "data": {
      "image/png": "[encoded data removed]",
      "text/plain": [
       "<IPython.core.display.Image object>"
      ]
     },
     "execution_count": 12,
     "metadata": {},
     "output_type": "execute_result"
    }
   ],
   "source": [
    "Image(filename=tophard2png) "
   ]
  },
  {
   "cell_type": "code",
   "execution_count": 13,
   "metadata": {
    "execution": {
     "iopub.execute_input": "2020-05-17T21:42:46.220107Z",
     "iopub.status.busy": "2020-05-17T21:42:46.219085Z",
     "iopub.status.idle": "2020-05-17T21:42:46.223045Z",
     "shell.execute_reply": "2020-05-17T21:42:46.223868Z"
    },
    "papermill": {
     "duration": 0.025885,
     "end_time": "2020-05-17T21:42:46.224009",
     "exception": false,
     "start_time": "2020-05-17T21:42:46.198124",
     "status": "completed"
    },
    "tags": []
   },
   "outputs": [
    {
     "data": {
      "text/html": [
       "<div>\n",
       "<style scoped>\n",
       "    .dataframe tbody tr th:only-of-type {\n",
       "        vertical-align: middle;\n",
       "    }\n",
       "\n",
       "    .dataframe tbody tr th {\n",
       "        vertical-align: top;\n",
       "    }\n",
       "\n",
       "    .dataframe thead th {\n",
       "        text-align: right;\n",
       "    }\n",
       "</style>\n",
       "<table border=\"1\" class=\"dataframe\">\n",
       "  <thead>\n",
       "    <tr style=\"text-align: right;\">\n",
       "      <th></th>\n",
       "      <th>Unnamed: 0</th>\n",
       "      <th>Surface</th>\n",
       "      <th>Player</th>\n",
       "      <th>Count_Win</th>\n",
       "      <th>Count_Lose</th>\n",
       "      <th>total_play</th>\n",
       "      <th>perc_win</th>\n",
       "    </tr>\n",
       "  </thead>\n",
       "  <tbody>\n",
       "    <tr>\n",
       "      <th>0</th>\n",
       "      <td>142</td>\n",
       "      <td>Hard</td>\n",
       "      <td>Djokovic N.</td>\n",
       "      <td>469</td>\n",
       "      <td>82</td>\n",
       "      <td>551</td>\n",
       "      <td>85.12</td>\n",
       "    </tr>\n",
       "    <tr>\n",
       "      <th>1</th>\n",
       "      <td>175</td>\n",
       "      <td>Hard</td>\n",
       "      <td>Federer R.</td>\n",
       "      <td>622</td>\n",
       "      <td>124</td>\n",
       "      <td>746</td>\n",
       "      <td>83.38</td>\n",
       "    </tr>\n",
       "    <tr>\n",
       "      <th>2</th>\n",
       "      <td>2</td>\n",
       "      <td>Hard</td>\n",
       "      <td>Agassi A.</td>\n",
       "      <td>203</td>\n",
       "      <td>56</td>\n",
       "      <td>259</td>\n",
       "      <td>78.38</td>\n",
       "    </tr>\n",
       "    <tr>\n",
       "      <th>3</th>\n",
       "      <td>424</td>\n",
       "      <td>Hard</td>\n",
       "      <td>Murray A.</td>\n",
       "      <td>369</td>\n",
       "      <td>110</td>\n",
       "      <td>479</td>\n",
       "      <td>77.04</td>\n",
       "    </tr>\n",
       "    <tr>\n",
       "      <th>4</th>\n",
       "      <td>426</td>\n",
       "      <td>Hard</td>\n",
       "      <td>Nadal R.</td>\n",
       "      <td>363</td>\n",
       "      <td>112</td>\n",
       "      <td>475</td>\n",
       "      <td>76.42</td>\n",
       "    </tr>\n",
       "    <tr>\n",
       "      <th>5</th>\n",
       "      <td>509</td>\n",
       "      <td>Hard</td>\n",
       "      <td>Roddick A.</td>\n",
       "      <td>402</td>\n",
       "      <td>136</td>\n",
       "      <td>538</td>\n",
       "      <td>74.72</td>\n",
       "    </tr>\n",
       "    <tr>\n",
       "      <th>6</th>\n",
       "      <td>531</td>\n",
       "      <td>Hard</td>\n",
       "      <td>Sampras P.</td>\n",
       "      <td>73</td>\n",
       "      <td>26</td>\n",
       "      <td>99</td>\n",
       "      <td>73.74</td>\n",
       "    </tr>\n",
       "    <tr>\n",
       "      <th>7</th>\n",
       "      <td>129</td>\n",
       "      <td>Hard</td>\n",
       "      <td>Del Potro J.M.</td>\n",
       "      <td>220</td>\n",
       "      <td>90</td>\n",
       "      <td>310</td>\n",
       "      <td>70.97</td>\n",
       "    </tr>\n",
       "    <tr>\n",
       "      <th>8</th>\n",
       "      <td>257</td>\n",
       "      <td>Hard</td>\n",
       "      <td>Hewitt L.</td>\n",
       "      <td>324</td>\n",
       "      <td>138</td>\n",
       "      <td>462</td>\n",
       "      <td>70.13</td>\n",
       "    </tr>\n",
       "    <tr>\n",
       "      <th>9</th>\n",
       "      <td>491</td>\n",
       "      <td>Hard</td>\n",
       "      <td>Raonic M.</td>\n",
       "      <td>165</td>\n",
       "      <td>71</td>\n",
       "      <td>236</td>\n",
       "      <td>69.92</td>\n",
       "    </tr>\n",
       "  </tbody>\n",
       "</table>\n",
       "</div>"
      ],
      "text/plain": [
       "   Unnamed: 0 Surface          Player  Count_Win  Count_Lose  total_play  \\\n",
       "0         142    Hard     Djokovic N.        469          82         551   \n",
       "1         175    Hard      Federer R.        622         124         746   \n",
       "2           2    Hard       Agassi A.        203          56         259   \n",
       "3         424    Hard       Murray A.        369         110         479   \n",
       "4         426    Hard        Nadal R.        363         112         475   \n",
       "5         509    Hard      Roddick A.        402         136         538   \n",
       "6         531    Hard      Sampras P.         73          26          99   \n",
       "7         129    Hard  Del Potro J.M.        220          90         310   \n",
       "8         257    Hard       Hewitt L.        324         138         462   \n",
       "9         491    Hard       Raonic M.        165          71         236   \n",
       "\n",
       "   perc_win  \n",
       "0     85.12  \n",
       "1     83.38  \n",
       "2     78.38  \n",
       "3     77.04  \n",
       "4     76.42  \n",
       "5     74.72  \n",
       "6     73.74  \n",
       "7     70.97  \n",
       "8     70.13  \n",
       "9     69.92  "
      ]
     },
     "execution_count": 13,
     "metadata": {},
     "output_type": "execute_result"
    }
   ],
   "source": [
    "dfhard"
   ]
  }
 ],
 "metadata": {
  "celltoolbar": "Tags",
  "kernelspec": {
   "display_name": "Python 3",
   "language": "python",
   "name": "python3"
  },
  "language_info": {
   "codemirror_mode": {
    "name": "ipython",
    "version": 3
   },
   "file_extension": ".py",
   "mimetype": "text/x-python",
   "name": "python",
   "nbconvert_exporter": "python",
   "pygments_lexer": "ipython3",
   "version": "3.7.4"
  },
  "papermill": {
   "duration": 3.387655,
   "end_time": "2020-05-17T21:42:46.345289",
   "environment_variables": {},
   "exception": null,
   "input_path": "/Users/psehgal/dev/airflow_home/Tennis_Data_Pipeline_Airflow_Project/jupyter_notebooks/atp_report.ipynb",
   "output_path": "/Users/psehgal/dev/airflow_home/Tennis_Data_Pipeline_Airflow_Project/jupyter_notebooks/atp_report_output.ipynb",
   "parameters": {
    "var_topclay1png": "/Users/psehgal/dev/airflow_home/Tennis_Data_Pipeline_airflow_Project/images_for_reports/topclay1png.png",
    "var_topclay2png": "/Users/psehgal/dev/airflow_home/Tennis_Data_Pipeline_airflow_Project/images_for_reports/topclay2png.png",
    "var_topclay3csv": "/Users/psehgal/dev/airflow_home/Tennis_Data_Pipeline_Airflow_Project/images_for_reports/topclaycsv.csv",
    "var_topgrass1png": "/Users/psehgal/dev/airflow_home/Tennis_Data_Pipeline_airflow_Project/images_for_reports/topgrass1png.png",
    "var_topgrass2png": "/Users/psehgal/dev/airflow_home/Tennis_Data_Pipeline_airflow_Project/images_for_reports/topgrass2png.png",
    "var_topgrass3csv": "/Users/psehgal/dev/airflow_home/Tennis_Data_Pipeline_Airflow_Project/images_for_reports/topgrasscsv.csv",
    "var_tophard1png": "/Users/psehgal/dev/airflow_home/Tennis_Data_Pipeline_airflow_Project/images_for_reports/tophard1png.png",
    "var_tophard2png": "/Users/psehgal/dev/airflow_home/Tennis_Data_Pipeline_airflow_Project/images_for_reports/tophard2png.png",
    "var_tophard3csv": "/Users/psehgal/dev/airflow_home/Tennis_Data_Pipeline_Airflow_Project/images_for_reports/tophardcsv.csv"
   },
   "start_time": "2020-05-17T21:42:42.957634",
   "version": "2.1.1"
  }
 },
 "nbformat": 4,
 "nbformat_minor": 1
}