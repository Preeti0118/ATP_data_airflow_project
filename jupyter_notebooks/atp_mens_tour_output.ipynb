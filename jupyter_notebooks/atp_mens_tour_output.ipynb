{
 "cells": [
  {
   "cell_type": "code",
   "execution_count": 1,
   "metadata": {
    "_cell_guid": "b1076dfc-b9ad-4769-8c92-a6c4dae69d19",
    "_uuid": "8f2839f25d086af736a60e9eeb907d3b93b6e0e5",
    "execution": {
     "iopub.execute_input": "2020-04-10T14:49:34.435855Z",
     "iopub.status.busy": "2020-04-10T14:49:34.427513Z",
     "iopub.status.idle": "2020-04-10T14:49:36.951363Z",
     "shell.execute_reply": "2020-04-10T14:49:36.952780Z"
    },
    "papermill": {
     "duration": 2.616087,
     "end_time": "2020-04-10T14:49:36.953082",
     "exception": false,
     "start_time": "2020-04-10T14:49:34.336995",
     "status": "completed"
    },
    "tags": []
   },
   "outputs": [
    {
     "name": "stderr",
     "output_type": "stream",
     "text": [
      "/Users/psehgal/opt/anaconda3/lib/python3.7/site-packages/statsmodels/tools/_testing.py:19: FutureWarning: pandas.util.testing is deprecated. Use the functions in the public API at pandas.testing instead.\n",
      "  import pandas.util.testing as tm\n"
     ]
    }
   ],
   "source": [
    "import numpy as np\n",
    "import pandas as pd\n",
    "import matplotlib.pyplot as plt\n",
    "from matplotlib.pyplot import xticks\n",
    "from scipy.stats import skew\n",
    "import seaborn as sns\n",
    "import os\n",
    "from fpdf import FPDF\n"
   ]
  },
  {
   "cell_type": "code",
   "execution_count": 2,
   "metadata": {
    "execution": {
     "iopub.execute_input": "2020-04-10T14:49:37.031669Z",
     "iopub.status.busy": "2020-04-10T14:49:37.030018Z",
     "iopub.status.idle": "2020-04-10T14:49:37.055671Z",
     "shell.execute_reply": "2020-04-10T14:49:37.059849Z"
    },
    "papermill": {
     "duration": 0.074737,
     "end_time": "2020-04-10T14:49:37.060341",
     "exception": false,
     "start_time": "2020-04-10T14:49:36.985604",
     "status": "completed"
    },
    "tags": [
     "parameters"
    ]
   },
   "outputs": [],
   "source": [
    "#file_path1={'file_name': '/Users/psehgal/Data.csv'}\n",
    "#file_location = file_path1['file_name'] \n",
    "file_name = '/Users/psehgal/Data.csv'"
   ]
  },
  {
   "cell_type": "code",
   "execution_count": 3,
   "metadata": {
    "execution": {
     "iopub.execute_input": "2020-04-10T14:49:37.255936Z",
     "iopub.status.busy": "2020-04-10T14:49:37.253986Z",
     "iopub.status.idle": "2020-04-10T14:49:37.260975Z",
     "shell.execute_reply": "2020-04-10T14:49:37.264144Z"
    },
    "papermill": {
     "duration": 0.112658,
     "end_time": "2020-04-10T14:49:37.264605",
     "exception": false,
     "start_time": "2020-04-10T14:49:37.151947",
     "status": "completed"
    },
    "tags": [
     "injected-parameters"
    ]
   },
   "outputs": [],
   "source": [
    "# Parameters\n",
    "file_name = \"/Users/psehgal/atp_test/Data.csv\"\n"
   ]
  },
  {
   "cell_type": "code",
   "execution_count": 4,
   "metadata": {
    "_uuid": "0a8931240e7c2fc0e524bd770a0b4f20e42ce1f4",
    "execution": {
     "iopub.execute_input": "2020-04-10T14:49:37.345213Z",
     "iopub.status.busy": "2020-04-10T14:49:37.343390Z",
     "iopub.status.idle": "2020-04-10T14:49:38.231108Z",
     "shell.execute_reply": "2020-04-10T14:49:38.230081Z"
    },
    "papermill": {
     "duration": 0.921927,
     "end_time": "2020-04-10T14:49:38.231258",
     "exception": false,
     "start_time": "2020-04-10T14:49:37.309331",
     "status": "completed"
    },
    "tags": []
   },
   "outputs": [
    {
     "ename": "FileNotFoundError",
     "evalue": "[Errno 2] No such file or directory: '/Users/psehgal/atp_test/Data.csv'",
     "output_type": "error",
     "traceback": [
      "\u001b[0;31m---------------------------------------------------------------------------\u001b[0m",
      "\u001b[0;31mFileNotFoundError\u001b[0m                         Traceback (most recent call last)",
      "\u001b[0;32m<ipython-input-4-fd686247b24e>\u001b[0m in \u001b[0;36m<module>\u001b[0;34m\u001b[0m\n\u001b[1;32m      1\u001b[0m \u001b[0;31m#data = pd.read_csv('/Users/psehgal/dev/airflow_home/kaggleatpdata.csv', dtype='unicode')\u001b[0m\u001b[0;34m\u001b[0m\u001b[0;34m\u001b[0m\u001b[0;34m\u001b[0m\u001b[0m\n\u001b[0;32m----> 2\u001b[0;31m \u001b[0mdata\u001b[0m \u001b[0;34m=\u001b[0m \u001b[0mpd\u001b[0m\u001b[0;34m.\u001b[0m\u001b[0mread_csv\u001b[0m\u001b[0;34m(\u001b[0m\u001b[0mfile_name\u001b[0m\u001b[0;34m,\u001b[0m \u001b[0mencoding\u001b[0m \u001b[0;34m=\u001b[0m \u001b[0;34m'ISO-8859-1'\u001b[0m\u001b[0;34m)\u001b[0m\u001b[0;34m\u001b[0m\u001b[0;34m\u001b[0m\u001b[0m\n\u001b[0m",
      "\u001b[0;32m~/opt/anaconda3/lib/python3.7/site-packages/pandas/io/parsers.py\u001b[0m in \u001b[0;36mparser_f\u001b[0;34m(filepath_or_buffer, sep, delimiter, header, names, index_col, usecols, squeeze, prefix, mangle_dupe_cols, dtype, engine, converters, true_values, false_values, skipinitialspace, skiprows, skipfooter, nrows, na_values, keep_default_na, na_filter, verbose, skip_blank_lines, parse_dates, infer_datetime_format, keep_date_col, date_parser, dayfirst, cache_dates, iterator, chunksize, compression, thousands, decimal, lineterminator, quotechar, quoting, doublequote, escapechar, comment, encoding, dialect, error_bad_lines, warn_bad_lines, delim_whitespace, low_memory, memory_map, float_precision)\u001b[0m\n\u001b[1;32m    674\u001b[0m         )\n\u001b[1;32m    675\u001b[0m \u001b[0;34m\u001b[0m\u001b[0m\n\u001b[0;32m--> 676\u001b[0;31m         \u001b[0;32mreturn\u001b[0m \u001b[0m_read\u001b[0m\u001b[0;34m(\u001b[0m\u001b[0mfilepath_or_buffer\u001b[0m\u001b[0;34m,\u001b[0m \u001b[0mkwds\u001b[0m\u001b[0;34m)\u001b[0m\u001b[0;34m\u001b[0m\u001b[0;34m\u001b[0m\u001b[0m\n\u001b[0m\u001b[1;32m    677\u001b[0m \u001b[0;34m\u001b[0m\u001b[0m\n\u001b[1;32m    678\u001b[0m     \u001b[0mparser_f\u001b[0m\u001b[0;34m.\u001b[0m\u001b[0m__name__\u001b[0m \u001b[0;34m=\u001b[0m \u001b[0mname\u001b[0m\u001b[0;34m\u001b[0m\u001b[0;34m\u001b[0m\u001b[0m\n",
      "\u001b[0;32m~/opt/anaconda3/lib/python3.7/site-packages/pandas/io/parsers.py\u001b[0m in \u001b[0;36m_read\u001b[0;34m(filepath_or_buffer, kwds)\u001b[0m\n\u001b[1;32m    446\u001b[0m \u001b[0;34m\u001b[0m\u001b[0m\n\u001b[1;32m    447\u001b[0m     \u001b[0;31m# Create the parser.\u001b[0m\u001b[0;34m\u001b[0m\u001b[0;34m\u001b[0m\u001b[0;34m\u001b[0m\u001b[0m\n\u001b[0;32m--> 448\u001b[0;31m     \u001b[0mparser\u001b[0m \u001b[0;34m=\u001b[0m \u001b[0mTextFileReader\u001b[0m\u001b[0;34m(\u001b[0m\u001b[0mfp_or_buf\u001b[0m\u001b[0;34m,\u001b[0m \u001b[0;34m**\u001b[0m\u001b[0mkwds\u001b[0m\u001b[0;34m)\u001b[0m\u001b[0;34m\u001b[0m\u001b[0;34m\u001b[0m\u001b[0m\n\u001b[0m\u001b[1;32m    449\u001b[0m \u001b[0;34m\u001b[0m\u001b[0m\n\u001b[1;32m    450\u001b[0m     \u001b[0;32mif\u001b[0m \u001b[0mchunksize\u001b[0m \u001b[0;32mor\u001b[0m \u001b[0miterator\u001b[0m\u001b[0;34m:\u001b[0m\u001b[0;34m\u001b[0m\u001b[0;34m\u001b[0m\u001b[0m\n",
      "\u001b[0;32m~/opt/anaconda3/lib/python3.7/site-packages/pandas/io/parsers.py\u001b[0m in \u001b[0;36m__init__\u001b[0;34m(self, f, engine, **kwds)\u001b[0m\n\u001b[1;32m    878\u001b[0m             \u001b[0mself\u001b[0m\u001b[0;34m.\u001b[0m\u001b[0moptions\u001b[0m\u001b[0;34m[\u001b[0m\u001b[0;34m\"has_index_names\"\u001b[0m\u001b[0;34m]\u001b[0m \u001b[0;34m=\u001b[0m \u001b[0mkwds\u001b[0m\u001b[0;34m[\u001b[0m\u001b[0;34m\"has_index_names\"\u001b[0m\u001b[0;34m]\u001b[0m\u001b[0;34m\u001b[0m\u001b[0;34m\u001b[0m\u001b[0m\n\u001b[1;32m    879\u001b[0m \u001b[0;34m\u001b[0m\u001b[0m\n\u001b[0;32m--> 880\u001b[0;31m         \u001b[0mself\u001b[0m\u001b[0;34m.\u001b[0m\u001b[0m_make_engine\u001b[0m\u001b[0;34m(\u001b[0m\u001b[0mself\u001b[0m\u001b[0;34m.\u001b[0m\u001b[0mengine\u001b[0m\u001b[0;34m)\u001b[0m\u001b[0;34m\u001b[0m\u001b[0;34m\u001b[0m\u001b[0m\n\u001b[0m\u001b[1;32m    881\u001b[0m \u001b[0;34m\u001b[0m\u001b[0m\n\u001b[1;32m    882\u001b[0m     \u001b[0;32mdef\u001b[0m \u001b[0mclose\u001b[0m\u001b[0;34m(\u001b[0m\u001b[0mself\u001b[0m\u001b[0;34m)\u001b[0m\u001b[0;34m:\u001b[0m\u001b[0;34m\u001b[0m\u001b[0;34m\u001b[0m\u001b[0m\n",
      "\u001b[0;32m~/opt/anaconda3/lib/python3.7/site-packages/pandas/io/parsers.py\u001b[0m in \u001b[0;36m_make_engine\u001b[0;34m(self, engine)\u001b[0m\n\u001b[1;32m   1112\u001b[0m     \u001b[0;32mdef\u001b[0m \u001b[0m_make_engine\u001b[0m\u001b[0;34m(\u001b[0m\u001b[0mself\u001b[0m\u001b[0;34m,\u001b[0m \u001b[0mengine\u001b[0m\u001b[0;34m=\u001b[0m\u001b[0;34m\"c\"\u001b[0m\u001b[0;34m)\u001b[0m\u001b[0;34m:\u001b[0m\u001b[0;34m\u001b[0m\u001b[0;34m\u001b[0m\u001b[0m\n\u001b[1;32m   1113\u001b[0m         \u001b[0;32mif\u001b[0m \u001b[0mengine\u001b[0m \u001b[0;34m==\u001b[0m \u001b[0;34m\"c\"\u001b[0m\u001b[0;34m:\u001b[0m\u001b[0;34m\u001b[0m\u001b[0;34m\u001b[0m\u001b[0m\n\u001b[0;32m-> 1114\u001b[0;31m             \u001b[0mself\u001b[0m\u001b[0;34m.\u001b[0m\u001b[0m_engine\u001b[0m \u001b[0;34m=\u001b[0m \u001b[0mCParserWrapper\u001b[0m\u001b[0;34m(\u001b[0m\u001b[0mself\u001b[0m\u001b[0;34m.\u001b[0m\u001b[0mf\u001b[0m\u001b[0;34m,\u001b[0m \u001b[0;34m**\u001b[0m\u001b[0mself\u001b[0m\u001b[0;34m.\u001b[0m\u001b[0moptions\u001b[0m\u001b[0;34m)\u001b[0m\u001b[0;34m\u001b[0m\u001b[0;34m\u001b[0m\u001b[0m\n\u001b[0m\u001b[1;32m   1115\u001b[0m         \u001b[0;32melse\u001b[0m\u001b[0;34m:\u001b[0m\u001b[0;34m\u001b[0m\u001b[0;34m\u001b[0m\u001b[0m\n\u001b[1;32m   1116\u001b[0m             \u001b[0;32mif\u001b[0m \u001b[0mengine\u001b[0m \u001b[0;34m==\u001b[0m \u001b[0;34m\"python\"\u001b[0m\u001b[0;34m:\u001b[0m\u001b[0;34m\u001b[0m\u001b[0;34m\u001b[0m\u001b[0m\n",
      "\u001b[0;32m~/opt/anaconda3/lib/python3.7/site-packages/pandas/io/parsers.py\u001b[0m in \u001b[0;36m__init__\u001b[0;34m(self, src, **kwds)\u001b[0m\n\u001b[1;32m   1872\u001b[0m         \u001b[0;32mif\u001b[0m \u001b[0mkwds\u001b[0m\u001b[0;34m.\u001b[0m\u001b[0mget\u001b[0m\u001b[0;34m(\u001b[0m\u001b[0;34m\"compression\"\u001b[0m\u001b[0;34m)\u001b[0m \u001b[0;32mis\u001b[0m \u001b[0;32mNone\u001b[0m \u001b[0;32mand\u001b[0m \u001b[0mencoding\u001b[0m\u001b[0;34m:\u001b[0m\u001b[0;34m\u001b[0m\u001b[0;34m\u001b[0m\u001b[0m\n\u001b[1;32m   1873\u001b[0m             \u001b[0;32mif\u001b[0m \u001b[0misinstance\u001b[0m\u001b[0;34m(\u001b[0m\u001b[0msrc\u001b[0m\u001b[0;34m,\u001b[0m \u001b[0mstr\u001b[0m\u001b[0;34m)\u001b[0m\u001b[0;34m:\u001b[0m\u001b[0;34m\u001b[0m\u001b[0;34m\u001b[0m\u001b[0m\n\u001b[0;32m-> 1874\u001b[0;31m                 \u001b[0msrc\u001b[0m \u001b[0;34m=\u001b[0m \u001b[0mopen\u001b[0m\u001b[0;34m(\u001b[0m\u001b[0msrc\u001b[0m\u001b[0;34m,\u001b[0m \u001b[0;34m\"rb\"\u001b[0m\u001b[0;34m)\u001b[0m\u001b[0;34m\u001b[0m\u001b[0;34m\u001b[0m\u001b[0m\n\u001b[0m\u001b[1;32m   1875\u001b[0m                 \u001b[0mself\u001b[0m\u001b[0;34m.\u001b[0m\u001b[0mhandles\u001b[0m\u001b[0;34m.\u001b[0m\u001b[0mappend\u001b[0m\u001b[0;34m(\u001b[0m\u001b[0msrc\u001b[0m\u001b[0;34m)\u001b[0m\u001b[0;34m\u001b[0m\u001b[0;34m\u001b[0m\u001b[0m\n\u001b[1;32m   1876\u001b[0m \u001b[0;34m\u001b[0m\u001b[0m\n",
      "\u001b[0;31mFileNotFoundError\u001b[0m: [Errno 2] No such file or directory: '/Users/psehgal/atp_test/Data.csv'"
     ]
    }
   ],
   "source": [
    "#data = pd.read_csv('/Users/psehgal/dev/airflow_home/kaggleatpdata.csv', dtype='unicode')\n",
    "data = pd.read_csv(file_name, encoding = 'ISO-8859-1')"
   ]
  },
  {
   "cell_type": "code",
   "execution_count": 5,
   "metadata": {
    "_uuid": "05fc6bfaa59d8f8a8e248386d620a6fbffeb4996",
    "execution": {
     "iopub.execute_input": "2020-04-10T14:49:38.326939Z",
     "iopub.status.busy": "2020-04-10T14:49:38.325083Z",
     "iopub.status.idle": "2020-04-10T14:49:38.512136Z",
     "shell.execute_reply": "2020-04-10T14:49:38.513741Z"
    },
    "papermill": {
     "duration": 0.245118,
     "end_time": "2020-04-10T14:49:38.514001",
     "exception": false,
     "start_time": "2020-04-10T14:49:38.268883",
     "status": "completed"
    },
    "tags": []
   },
   "outputs": [
    {
     "data": {
      "text/html": [
       "<div>\n",
       "<style scoped>\n",
       "    .dataframe tbody tr th:only-of-type {\n",
       "        vertical-align: middle;\n",
       "    }\n",
       "\n",
       "    .dataframe tbody tr th {\n",
       "        vertical-align: top;\n",
       "    }\n",
       "\n",
       "    .dataframe thead th {\n",
       "        text-align: right;\n",
       "    }\n",
       "</style>\n",
       "<table border=\"1\" class=\"dataframe\">\n",
       "  <thead>\n",
       "    <tr style=\"text-align: right;\">\n",
       "      <th></th>\n",
       "      <th>Unnamed: 0</th>\n",
       "      <th>ATP</th>\n",
       "      <th>Location</th>\n",
       "      <th>Tournament</th>\n",
       "      <th>Date</th>\n",
       "      <th>Series</th>\n",
       "      <th>Court</th>\n",
       "      <th>Surface</th>\n",
       "      <th>Round</th>\n",
       "      <th>Best of</th>\n",
       "      <th>...</th>\n",
       "      <th>UBW</th>\n",
       "      <th>UBL</th>\n",
       "      <th>LBW</th>\n",
       "      <th>LBL</th>\n",
       "      <th>SJW</th>\n",
       "      <th>SJL</th>\n",
       "      <th>MaxW</th>\n",
       "      <th>MaxL</th>\n",
       "      <th>AvgW</th>\n",
       "      <th>AvgL</th>\n",
       "    </tr>\n",
       "  </thead>\n",
       "  <tbody>\n",
       "    <tr>\n",
       "      <th>0</th>\n",
       "      <td>0</td>\n",
       "      <td>1</td>\n",
       "      <td>Adelaide</td>\n",
       "      <td>Australian Hardcourt Championships</td>\n",
       "      <td>3/01/2000</td>\n",
       "      <td>International</td>\n",
       "      <td>Outdoor</td>\n",
       "      <td>Hard</td>\n",
       "      <td>1st Round</td>\n",
       "      <td>3</td>\n",
       "      <td>...</td>\n",
       "      <td>NaN</td>\n",
       "      <td>NaN</td>\n",
       "      <td>NaN</td>\n",
       "      <td>NaN</td>\n",
       "      <td>NaN</td>\n",
       "      <td>NaN</td>\n",
       "      <td>NaN</td>\n",
       "      <td>NaN</td>\n",
       "      <td>NaN</td>\n",
       "      <td>NaN</td>\n",
       "    </tr>\n",
       "    <tr>\n",
       "      <th>1</th>\n",
       "      <td>1</td>\n",
       "      <td>1</td>\n",
       "      <td>Adelaide</td>\n",
       "      <td>Australian Hardcourt Championships</td>\n",
       "      <td>3/01/2000</td>\n",
       "      <td>International</td>\n",
       "      <td>Outdoor</td>\n",
       "      <td>Hard</td>\n",
       "      <td>1st Round</td>\n",
       "      <td>3</td>\n",
       "      <td>...</td>\n",
       "      <td>NaN</td>\n",
       "      <td>NaN</td>\n",
       "      <td>NaN</td>\n",
       "      <td>NaN</td>\n",
       "      <td>NaN</td>\n",
       "      <td>NaN</td>\n",
       "      <td>NaN</td>\n",
       "      <td>NaN</td>\n",
       "      <td>NaN</td>\n",
       "      <td>NaN</td>\n",
       "    </tr>\n",
       "    <tr>\n",
       "      <th>2</th>\n",
       "      <td>2</td>\n",
       "      <td>1</td>\n",
       "      <td>Adelaide</td>\n",
       "      <td>Australian Hardcourt Championships</td>\n",
       "      <td>3/01/2000</td>\n",
       "      <td>International</td>\n",
       "      <td>Outdoor</td>\n",
       "      <td>Hard</td>\n",
       "      <td>1st Round</td>\n",
       "      <td>3</td>\n",
       "      <td>...</td>\n",
       "      <td>NaN</td>\n",
       "      <td>NaN</td>\n",
       "      <td>NaN</td>\n",
       "      <td>NaN</td>\n",
       "      <td>NaN</td>\n",
       "      <td>NaN</td>\n",
       "      <td>NaN</td>\n",
       "      <td>NaN</td>\n",
       "      <td>NaN</td>\n",
       "      <td>NaN</td>\n",
       "    </tr>\n",
       "    <tr>\n",
       "      <th>3</th>\n",
       "      <td>3</td>\n",
       "      <td>1</td>\n",
       "      <td>Adelaide</td>\n",
       "      <td>Australian Hardcourt Championships</td>\n",
       "      <td>3/01/2000</td>\n",
       "      <td>International</td>\n",
       "      <td>Outdoor</td>\n",
       "      <td>Hard</td>\n",
       "      <td>1st Round</td>\n",
       "      <td>3</td>\n",
       "      <td>...</td>\n",
       "      <td>NaN</td>\n",
       "      <td>NaN</td>\n",
       "      <td>NaN</td>\n",
       "      <td>NaN</td>\n",
       "      <td>NaN</td>\n",
       "      <td>NaN</td>\n",
       "      <td>NaN</td>\n",
       "      <td>NaN</td>\n",
       "      <td>NaN</td>\n",
       "      <td>NaN</td>\n",
       "    </tr>\n",
       "    <tr>\n",
       "      <th>4</th>\n",
       "      <td>4</td>\n",
       "      <td>1</td>\n",
       "      <td>Adelaide</td>\n",
       "      <td>Australian Hardcourt Championships</td>\n",
       "      <td>3/01/2000</td>\n",
       "      <td>International</td>\n",
       "      <td>Outdoor</td>\n",
       "      <td>Hard</td>\n",
       "      <td>1st Round</td>\n",
       "      <td>3</td>\n",
       "      <td>...</td>\n",
       "      <td>NaN</td>\n",
       "      <td>NaN</td>\n",
       "      <td>NaN</td>\n",
       "      <td>NaN</td>\n",
       "      <td>NaN</td>\n",
       "      <td>NaN</td>\n",
       "      <td>NaN</td>\n",
       "      <td>NaN</td>\n",
       "      <td>NaN</td>\n",
       "      <td>NaN</td>\n",
       "    </tr>\n",
       "    <tr>\n",
       "      <th>...</th>\n",
       "      <td>...</td>\n",
       "      <td>...</td>\n",
       "      <td>...</td>\n",
       "      <td>...</td>\n",
       "      <td>...</td>\n",
       "      <td>...</td>\n",
       "      <td>...</td>\n",
       "      <td>...</td>\n",
       "      <td>...</td>\n",
       "      <td>...</td>\n",
       "      <td>...</td>\n",
       "      <td>...</td>\n",
       "      <td>...</td>\n",
       "      <td>...</td>\n",
       "      <td>...</td>\n",
       "      <td>...</td>\n",
       "      <td>...</td>\n",
       "      <td>...</td>\n",
       "      <td>...</td>\n",
       "      <td>...</td>\n",
       "      <td>...</td>\n",
       "    </tr>\n",
       "    <tr>\n",
       "      <th>46647</th>\n",
       "      <td>46647</td>\n",
       "      <td>54</td>\n",
       "      <td>St. Petersburg</td>\n",
       "      <td>St. Petersburg Open</td>\n",
       "      <td>23/09/2016</td>\n",
       "      <td>ATP250</td>\n",
       "      <td>Indoor</td>\n",
       "      <td>Hard</td>\n",
       "      <td>Quarterfinals</td>\n",
       "      <td>3</td>\n",
       "      <td>...</td>\n",
       "      <td>NaN</td>\n",
       "      <td>NaN</td>\n",
       "      <td>1.57</td>\n",
       "      <td>2.38</td>\n",
       "      <td>NaN</td>\n",
       "      <td>NaN</td>\n",
       "      <td>1.66</td>\n",
       "      <td>2.45</td>\n",
       "      <td>1.60</td>\n",
       "      <td>2.30</td>\n",
       "    </tr>\n",
       "    <tr>\n",
       "      <th>46648</th>\n",
       "      <td>46648</td>\n",
       "      <td>54</td>\n",
       "      <td>St. Petersburg</td>\n",
       "      <td>St. Petersburg Open</td>\n",
       "      <td>23/09/2016</td>\n",
       "      <td>ATP250</td>\n",
       "      <td>Indoor</td>\n",
       "      <td>Hard</td>\n",
       "      <td>Quarterfinals</td>\n",
       "      <td>3</td>\n",
       "      <td>...</td>\n",
       "      <td>NaN</td>\n",
       "      <td>NaN</td>\n",
       "      <td>1.22</td>\n",
       "      <td>4.33</td>\n",
       "      <td>NaN</td>\n",
       "      <td>NaN</td>\n",
       "      <td>1.24</td>\n",
       "      <td>4.91</td>\n",
       "      <td>1.21</td>\n",
       "      <td>4.34</td>\n",
       "    </tr>\n",
       "    <tr>\n",
       "      <th>46649</th>\n",
       "      <td>46649</td>\n",
       "      <td>54</td>\n",
       "      <td>St. Petersburg</td>\n",
       "      <td>St. Petersburg Open</td>\n",
       "      <td>24/09/2016</td>\n",
       "      <td>ATP250</td>\n",
       "      <td>Indoor</td>\n",
       "      <td>Hard</td>\n",
       "      <td>Semifinals</td>\n",
       "      <td>3</td>\n",
       "      <td>...</td>\n",
       "      <td>NaN</td>\n",
       "      <td>NaN</td>\n",
       "      <td>2.38</td>\n",
       "      <td>1.57</td>\n",
       "      <td>NaN</td>\n",
       "      <td>NaN</td>\n",
       "      <td>3.12</td>\n",
       "      <td>1.57</td>\n",
       "      <td>2.68</td>\n",
       "      <td>1.46</td>\n",
       "    </tr>\n",
       "    <tr>\n",
       "      <th>46650</th>\n",
       "      <td>46650</td>\n",
       "      <td>54</td>\n",
       "      <td>St. Petersburg</td>\n",
       "      <td>St. Petersburg Open</td>\n",
       "      <td>24/09/2016</td>\n",
       "      <td>ATP250</td>\n",
       "      <td>Indoor</td>\n",
       "      <td>Hard</td>\n",
       "      <td>Semifinals</td>\n",
       "      <td>3</td>\n",
       "      <td>...</td>\n",
       "      <td>NaN</td>\n",
       "      <td>NaN</td>\n",
       "      <td>1.33</td>\n",
       "      <td>3.40</td>\n",
       "      <td>NaN</td>\n",
       "      <td>NaN</td>\n",
       "      <td>1.41</td>\n",
       "      <td>3.80</td>\n",
       "      <td>1.31</td>\n",
       "      <td>3.40</td>\n",
       "    </tr>\n",
       "    <tr>\n",
       "      <th>46651</th>\n",
       "      <td>46651</td>\n",
       "      <td>54</td>\n",
       "      <td>St. Petersburg</td>\n",
       "      <td>St. Petersburg Open</td>\n",
       "      <td>25/09/2016</td>\n",
       "      <td>ATP250</td>\n",
       "      <td>Indoor</td>\n",
       "      <td>Hard</td>\n",
       "      <td>The Final</td>\n",
       "      <td>3</td>\n",
       "      <td>...</td>\n",
       "      <td>NaN</td>\n",
       "      <td>NaN</td>\n",
       "      <td>3.30</td>\n",
       "      <td>1.33</td>\n",
       "      <td>NaN</td>\n",
       "      <td>NaN</td>\n",
       "      <td>3.58</td>\n",
       "      <td>1.36</td>\n",
       "      <td>3.36</td>\n",
       "      <td>1.31</td>\n",
       "    </tr>\n",
       "  </tbody>\n",
       "</table>\n",
       "<p>46652 rows × 55 columns</p>\n",
       "</div>"
      ],
      "text/plain": [
       "       Unnamed: 0  ATP        Location                          Tournament  \\\n",
       "0               0    1        Adelaide  Australian Hardcourt Championships   \n",
       "1               1    1        Adelaide  Australian Hardcourt Championships   \n",
       "2               2    1        Adelaide  Australian Hardcourt Championships   \n",
       "3               3    1        Adelaide  Australian Hardcourt Championships   \n",
       "4               4    1        Adelaide  Australian Hardcourt Championships   \n",
       "...           ...  ...             ...                                 ...   \n",
       "46647       46647   54  St. Petersburg                 St. Petersburg Open   \n",
       "46648       46648   54  St. Petersburg                 St. Petersburg Open   \n",
       "46649       46649   54  St. Petersburg                 St. Petersburg Open   \n",
       "46650       46650   54  St. Petersburg                 St. Petersburg Open   \n",
       "46651       46651   54  St. Petersburg                 St. Petersburg Open   \n",
       "\n",
       "             Date         Series    Court Surface          Round  Best of  \\\n",
       "0       3/01/2000  International  Outdoor    Hard      1st Round        3   \n",
       "1       3/01/2000  International  Outdoor    Hard      1st Round        3   \n",
       "2       3/01/2000  International  Outdoor    Hard      1st Round        3   \n",
       "3       3/01/2000  International  Outdoor    Hard      1st Round        3   \n",
       "4       3/01/2000  International  Outdoor    Hard      1st Round        3   \n",
       "...           ...            ...      ...     ...            ...      ...   \n",
       "46647  23/09/2016         ATP250   Indoor    Hard  Quarterfinals        3   \n",
       "46648  23/09/2016         ATP250   Indoor    Hard  Quarterfinals        3   \n",
       "46649  24/09/2016         ATP250   Indoor    Hard     Semifinals        3   \n",
       "46650  24/09/2016         ATP250   Indoor    Hard     Semifinals        3   \n",
       "46651  25/09/2016         ATP250   Indoor    Hard      The Final        3   \n",
       "\n",
       "       ... UBW UBL   LBW   LBL  SJW  SJL  MaxW  MaxL  AvgW  AvgL  \n",
       "0      ... NaN NaN   NaN   NaN  NaN  NaN   NaN   NaN   NaN   NaN  \n",
       "1      ... NaN NaN   NaN   NaN  NaN  NaN   NaN   NaN   NaN   NaN  \n",
       "2      ... NaN NaN   NaN   NaN  NaN  NaN   NaN   NaN   NaN   NaN  \n",
       "3      ... NaN NaN   NaN   NaN  NaN  NaN   NaN   NaN   NaN   NaN  \n",
       "4      ... NaN NaN   NaN   NaN  NaN  NaN   NaN   NaN   NaN   NaN  \n",
       "...    ...  ..  ..   ...   ...  ...  ...   ...   ...   ...   ...  \n",
       "46647  ... NaN NaN  1.57  2.38  NaN  NaN  1.66  2.45  1.60  2.30  \n",
       "46648  ... NaN NaN  1.22  4.33  NaN  NaN  1.24  4.91  1.21  4.34  \n",
       "46649  ... NaN NaN  2.38  1.57  NaN  NaN  3.12  1.57  2.68  1.46  \n",
       "46650  ... NaN NaN  1.33  3.40  NaN  NaN  1.41  3.80  1.31  3.40  \n",
       "46651  ... NaN NaN  3.30  1.33  NaN  NaN  3.58  1.36  3.36  1.31  \n",
       "\n",
       "[46652 rows x 55 columns]"
      ]
     },
     "execution_count": 5,
     "metadata": {},
     "output_type": "execute_result"
    }
   ],
   "source": [
    "data"
   ]
  },
  {
   "cell_type": "code",
   "execution_count": 6,
   "metadata": {
    "_uuid": "35bac39d0eb0df67bd9b060ff1fe40961d192d8a",
    "execution": {
     "iopub.execute_input": "2020-04-10T14:49:38.689691Z",
     "iopub.status.busy": "2020-04-10T14:49:38.679653Z",
     "iopub.status.idle": "2020-04-10T14:49:38.716230Z",
     "shell.execute_reply": "2020-04-10T14:49:38.718036Z"
    },
    "papermill": {
     "duration": 0.140187,
     "end_time": "2020-04-10T14:49:38.723994",
     "exception": false,
     "start_time": "2020-04-10T14:49:38.583807",
     "status": "completed"
    },
    "tags": []
   },
   "outputs": [
    {
     "data": {
      "text/plain": [
       "array(['International', 'Grand Slam', 'International Gold', 'Masters',\n",
       "       'Masters Cup', 'International Series', 'ATP250', 'ATP500',\n",
       "       'Masters 1000'], dtype=object)"
      ]
     },
     "execution_count": 6,
     "metadata": {},
     "output_type": "execute_result"
    }
   ],
   "source": [
    "data.Series.unique()"
   ]
  },
  {
   "cell_type": "code",
   "execution_count": 7,
   "metadata": {
    "execution": {
     "iopub.execute_input": "2020-04-10T14:49:38.915681Z",
     "iopub.status.busy": "2020-04-10T14:49:38.911620Z",
     "iopub.status.idle": "2020-04-10T14:49:38.924942Z",
     "shell.execute_reply": "2020-04-10T14:49:38.921841Z"
    },
    "papermill": {
     "duration": 0.113514,
     "end_time": "2020-04-10T14:49:38.925428",
     "exception": false,
     "start_time": "2020-04-10T14:49:38.811914",
     "status": "completed"
    },
    "tags": []
   },
   "outputs": [],
   "source": [
    "# Best 10 players on clay, grass, and hard surfaces"
   ]
  },
  {
   "cell_type": "code",
   "execution_count": 8,
   "metadata": {
    "execution": {
     "iopub.execute_input": "2020-04-10T14:49:39.119719Z",
     "iopub.status.busy": "2020-04-10T14:49:39.110816Z",
     "iopub.status.idle": "2020-04-10T14:49:39.145877Z",
     "shell.execute_reply": "2020-04-10T14:49:39.114446Z"
    },
    "papermill": {
     "duration": 0.152985,
     "end_time": "2020-04-10T14:49:39.146510",
     "exception": false,
     "start_time": "2020-04-10T14:49:38.993525",
     "status": "completed"
    },
    "tags": []
   },
   "outputs": [],
   "source": [
    "# df with column names\n",
    "surface = data[['Surface', 'Winner', 'Loser']]"
   ]
  },
  {
   "cell_type": "code",
   "execution_count": 9,
   "metadata": {
    "execution": {
     "iopub.execute_input": "2020-04-10T14:49:39.328761Z",
     "iopub.status.busy": "2020-04-10T14:49:39.326366Z",
     "iopub.status.idle": "2020-04-10T14:49:39.332936Z",
     "shell.execute_reply": "2020-04-10T14:49:39.331773Z"
    },
    "papermill": {
     "duration": 0.044209,
     "end_time": "2020-04-10T14:49:39.333114",
     "exception": false,
     "start_time": "2020-04-10T14:49:39.288905",
     "status": "completed"
    },
    "tags": []
   },
   "outputs": [
    {
     "data": {
      "text/plain": [
       "(46652, 3)"
      ]
     },
     "execution_count": 9,
     "metadata": {},
     "output_type": "execute_result"
    }
   ],
   "source": [
    "surface.shape"
   ]
  },
  {
   "cell_type": "code",
   "execution_count": 10,
   "metadata": {
    "execution": {
     "iopub.execute_input": "2020-04-10T14:49:39.592146Z",
     "iopub.status.busy": "2020-04-10T14:49:39.588936Z",
     "iopub.status.idle": "2020-04-10T14:49:39.597721Z",
     "shell.execute_reply": "2020-04-10T14:49:39.593641Z"
    },
    "papermill": {
     "duration": 0.159936,
     "end_time": "2020-04-10T14:49:39.603514",
     "exception": false,
     "start_time": "2020-04-10T14:49:39.443578",
     "status": "completed"
    },
    "tags": []
   },
   "outputs": [],
   "source": [
    "# create 2 df for winner and looser and change the column names to player\n",
    "surface_w = surface[['Surface', 'Winner']]\n",
    "surface_l = surface[['Surface', 'Loser']]\n",
    "surface_w.columns = ['Surface', 'Player']\n",
    "surface_l.columns = ['Surface', 'Player']"
   ]
  },
  {
   "cell_type": "code",
   "execution_count": 11,
   "metadata": {
    "execution": {
     "iopub.execute_input": "2020-04-10T14:49:39.811104Z",
     "iopub.status.busy": "2020-04-10T14:49:39.746401Z",
     "iopub.status.idle": "2020-04-10T14:49:39.818221Z",
     "shell.execute_reply": "2020-04-10T14:49:39.821435Z"
    },
    "papermill": {
     "duration": 0.170465,
     "end_time": "2020-04-10T14:49:39.822791",
     "exception": false,
     "start_time": "2020-04-10T14:49:39.652326",
     "status": "completed"
    },
    "tags": []
   },
   "outputs": [],
   "source": [
    "# add 1 more column to the df and fill with sequential nums from 1 to length of df\n",
    "surface_w['idx'] = range(1, len(surface_w) + 1)\n",
    "surface_l['idx'] = range(1, len(surface_l) + 1)"
   ]
  },
  {
   "cell_type": "code",
   "execution_count": 12,
   "metadata": {
    "execution": {
     "iopub.execute_input": "2020-04-10T14:49:40.056418Z",
     "iopub.status.busy": "2020-04-10T14:49:40.046627Z",
     "iopub.status.idle": "2020-04-10T14:49:40.087331Z",
     "shell.execute_reply": "2020-04-10T14:49:40.091936Z"
    },
    "papermill": {
     "duration": 0.125758,
     "end_time": "2020-04-10T14:49:40.092704",
     "exception": false,
     "start_time": "2020-04-10T14:49:39.966946",
     "status": "completed"
    },
    "tags": []
   },
   "outputs": [],
   "source": [
    "# count the num of winning matches for every surface and player combination \n",
    "surface_w = surface_w.groupby(['Surface', 'Player']).count()\n",
    "surface_w = surface_w.reset_index()\n",
    "surface_w.columns = ['Surface', 'Player', 'Count_Win']\n"
   ]
  },
  {
   "cell_type": "code",
   "execution_count": 13,
   "metadata": {
    "execution": {
     "iopub.execute_input": "2020-04-10T14:49:40.226528Z",
     "iopub.status.busy": "2020-04-10T14:49:40.220601Z",
     "iopub.status.idle": "2020-04-10T14:49:40.244426Z",
     "shell.execute_reply": "2020-04-10T14:49:40.246089Z"
    },
    "papermill": {
     "duration": 0.087507,
     "end_time": "2020-04-10T14:49:40.246364",
     "exception": false,
     "start_time": "2020-04-10T14:49:40.158857",
     "status": "completed"
    },
    "tags": []
   },
   "outputs": [],
   "source": [
    "# count the num of lost matches for every surface and player combination\n",
    "surface_l = surface_l.groupby(['Surface', 'Player']).count()\n",
    "surface_l = surface_l.reset_index()\n",
    "surface_l.columns = ['Surface', 'Player', 'Count_Lose']"
   ]
  },
  {
   "cell_type": "code",
   "execution_count": 14,
   "metadata": {
    "execution": {
     "iopub.execute_input": "2020-04-10T14:49:40.508526Z",
     "iopub.status.busy": "2020-04-10T14:49:40.482474Z",
     "iopub.status.idle": "2020-04-10T14:49:40.525573Z",
     "shell.execute_reply": "2020-04-10T14:49:40.546312Z"
    },
    "papermill": {
     "duration": 0.201818,
     "end_time": "2020-04-10T14:49:40.546900",
     "exception": false,
     "start_time": "2020-04-10T14:49:40.345082",
     "status": "completed"
    },
    "tags": []
   },
   "outputs": [],
   "source": [
    "surface = pd.merge(surface_w, surface_l, on=['Surface', 'Player'])"
   ]
  },
  {
   "cell_type": "code",
   "execution_count": 15,
   "metadata": {
    "execution": {
     "iopub.execute_input": "2020-04-10T14:49:40.686175Z",
     "iopub.status.busy": "2020-04-10T14:49:40.684425Z",
     "iopub.status.idle": "2020-04-10T14:49:40.689626Z",
     "shell.execute_reply": "2020-04-10T14:49:40.690837Z"
    },
    "papermill": {
     "duration": 0.069062,
     "end_time": "2020-04-10T14:49:40.691013",
     "exception": false,
     "start_time": "2020-04-10T14:49:40.621951",
     "status": "completed"
    },
    "tags": []
   },
   "outputs": [],
   "source": [
    "surface['total_play'] = surface['Count_Win'] + surface['Count_Lose']"
   ]
  },
  {
   "cell_type": "code",
   "execution_count": 16,
   "metadata": {
    "execution": {
     "iopub.execute_input": "2020-04-10T14:49:40.822114Z",
     "iopub.status.busy": "2020-04-10T14:49:40.819063Z",
     "iopub.status.idle": "2020-04-10T14:49:40.836249Z",
     "shell.execute_reply": "2020-04-10T14:49:40.827211Z"
    },
    "papermill": {
     "duration": 0.063412,
     "end_time": "2020-04-10T14:49:40.836669",
     "exception": false,
     "start_time": "2020-04-10T14:49:40.773257",
     "status": "completed"
    },
    "tags": []
   },
   "outputs": [],
   "source": [
    "surface['perc_win'] = round(surface['Count_Win'] / surface['total_play'],4)*100"
   ]
  },
  {
   "cell_type": "code",
   "execution_count": 17,
   "metadata": {
    "execution": {
     "iopub.execute_input": "2020-04-10T14:49:41.041970Z",
     "iopub.status.busy": "2020-04-10T14:49:41.016578Z",
     "iopub.status.idle": "2020-04-10T14:49:41.050028Z",
     "shell.execute_reply": "2020-04-10T14:49:41.047269Z"
    },
    "papermill": {
     "duration": 0.167197,
     "end_time": "2020-04-10T14:49:41.054782",
     "exception": false,
     "start_time": "2020-04-10T14:49:40.887585",
     "status": "completed"
    },
    "tags": []
   },
   "outputs": [],
   "source": [
    "surface = surface[surface.total_play > 50]"
   ]
  },
  {
   "cell_type": "code",
   "execution_count": 18,
   "metadata": {
    "execution": {
     "iopub.execute_input": "2020-04-10T14:49:41.252030Z",
     "iopub.status.busy": "2020-04-10T14:49:41.246812Z",
     "iopub.status.idle": "2020-04-10T14:49:41.271135Z",
     "shell.execute_reply": "2020-04-10T14:49:41.274423Z"
    },
    "papermill": {
     "duration": 0.128898,
     "end_time": "2020-04-10T14:49:41.274844",
     "exception": false,
     "start_time": "2020-04-10T14:49:41.145946",
     "status": "completed"
    },
    "tags": []
   },
   "outputs": [
    {
     "data": {
      "text/html": [
       "<div>\n",
       "<style scoped>\n",
       "    .dataframe tbody tr th:only-of-type {\n",
       "        vertical-align: middle;\n",
       "    }\n",
       "\n",
       "    .dataframe tbody tr th {\n",
       "        vertical-align: top;\n",
       "    }\n",
       "\n",
       "    .dataframe thead th {\n",
       "        text-align: right;\n",
       "    }\n",
       "</style>\n",
       "<table border=\"1\" class=\"dataframe\">\n",
       "  <thead>\n",
       "    <tr style=\"text-align: right;\">\n",
       "      <th></th>\n",
       "      <th>Surface</th>\n",
       "      <th>Player</th>\n",
       "      <th>Count_Win</th>\n",
       "      <th>Count_Lose</th>\n",
       "      <th>total_play</th>\n",
       "      <th>perc_win</th>\n",
       "    </tr>\n",
       "  </thead>\n",
       "  <tbody>\n",
       "    <tr>\n",
       "      <th>612</th>\n",
       "      <td>Clay</td>\n",
       "      <td>Nadal R.</td>\n",
       "      <td>351</td>\n",
       "      <td>35</td>\n",
       "      <td>386</td>\n",
       "      <td>90.93</td>\n",
       "    </tr>\n",
       "    <tr>\n",
       "      <th>969</th>\n",
       "      <td>Grass</td>\n",
       "      <td>Federer R.</td>\n",
       "      <td>147</td>\n",
       "      <td>20</td>\n",
       "      <td>167</td>\n",
       "      <td>88.02</td>\n",
       "    </tr>\n",
       "    <tr>\n",
       "      <th>1435</th>\n",
       "      <td>Hard</td>\n",
       "      <td>Djokovic N.</td>\n",
       "      <td>469</td>\n",
       "      <td>82</td>\n",
       "      <td>551</td>\n",
       "      <td>85.12</td>\n",
       "    </tr>\n",
       "    <tr>\n",
       "      <th>1468</th>\n",
       "      <td>Hard</td>\n",
       "      <td>Federer R.</td>\n",
       "      <td>622</td>\n",
       "      <td>124</td>\n",
       "      <td>746</td>\n",
       "      <td>83.38</td>\n",
       "    </tr>\n",
       "    <tr>\n",
       "      <th>1129</th>\n",
       "      <td>Grass</td>\n",
       "      <td>Murray A.</td>\n",
       "      <td>90</td>\n",
       "      <td>18</td>\n",
       "      <td>108</td>\n",
       "      <td>83.33</td>\n",
       "    </tr>\n",
       "    <tr>\n",
       "      <th>944</th>\n",
       "      <td>Grass</td>\n",
       "      <td>Djokovic N.</td>\n",
       "      <td>65</td>\n",
       "      <td>14</td>\n",
       "      <td>79</td>\n",
       "      <td>82.28</td>\n",
       "    </tr>\n",
       "    <tr>\n",
       "      <th>351</th>\n",
       "      <td>Clay</td>\n",
       "      <td>Djokovic N.</td>\n",
       "      <td>169</td>\n",
       "      <td>39</td>\n",
       "      <td>208</td>\n",
       "      <td>81.25</td>\n",
       "    </tr>\n",
       "    <tr>\n",
       "      <th>1185</th>\n",
       "      <td>Grass</td>\n",
       "      <td>Roddick A.</td>\n",
       "      <td>82</td>\n",
       "      <td>21</td>\n",
       "      <td>103</td>\n",
       "      <td>79.61</td>\n",
       "    </tr>\n",
       "    <tr>\n",
       "      <th>1295</th>\n",
       "      <td>Hard</td>\n",
       "      <td>Agassi A.</td>\n",
       "      <td>203</td>\n",
       "      <td>56</td>\n",
       "      <td>259</td>\n",
       "      <td>78.38</td>\n",
       "    </tr>\n",
       "    <tr>\n",
       "      <th>1131</th>\n",
       "      <td>Grass</td>\n",
       "      <td>Nadal R.</td>\n",
       "      <td>58</td>\n",
       "      <td>17</td>\n",
       "      <td>75</td>\n",
       "      <td>77.33</td>\n",
       "    </tr>\n",
       "    <tr>\n",
       "      <th>381</th>\n",
       "      <td>Clay</td>\n",
       "      <td>Federer R.</td>\n",
       "      <td>203</td>\n",
       "      <td>60</td>\n",
       "      <td>263</td>\n",
       "      <td>77.19</td>\n",
       "    </tr>\n",
       "    <tr>\n",
       "      <th>1717</th>\n",
       "      <td>Hard</td>\n",
       "      <td>Murray A.</td>\n",
       "      <td>369</td>\n",
       "      <td>110</td>\n",
       "      <td>479</td>\n",
       "      <td>77.04</td>\n",
       "    </tr>\n",
       "    <tr>\n",
       "      <th>1022</th>\n",
       "      <td>Grass</td>\n",
       "      <td>Hewitt L.</td>\n",
       "      <td>103</td>\n",
       "      <td>31</td>\n",
       "      <td>134</td>\n",
       "      <td>76.87</td>\n",
       "    </tr>\n",
       "    <tr>\n",
       "      <th>57</th>\n",
       "      <td>Carpet</td>\n",
       "      <td>Federer R.</td>\n",
       "      <td>46</td>\n",
       "      <td>14</td>\n",
       "      <td>60</td>\n",
       "      <td>76.67</td>\n",
       "    </tr>\n",
       "    <tr>\n",
       "      <th>1719</th>\n",
       "      <td>Hard</td>\n",
       "      <td>Nadal R.</td>\n",
       "      <td>363</td>\n",
       "      <td>112</td>\n",
       "      <td>475</td>\n",
       "      <td>76.42</td>\n",
       "    </tr>\n",
       "    <tr>\n",
       "      <th>1802</th>\n",
       "      <td>Hard</td>\n",
       "      <td>Roddick A.</td>\n",
       "      <td>402</td>\n",
       "      <td>136</td>\n",
       "      <td>538</td>\n",
       "      <td>74.72</td>\n",
       "    </tr>\n",
       "    <tr>\n",
       "      <th>1824</th>\n",
       "      <td>Hard</td>\n",
       "      <td>Sampras P.</td>\n",
       "      <td>73</td>\n",
       "      <td>26</td>\n",
       "      <td>99</td>\n",
       "      <td>73.74</td>\n",
       "    </tr>\n",
       "    <tr>\n",
       "      <th>1244</th>\n",
       "      <td>Grass</td>\n",
       "      <td>Tsonga J.W.</td>\n",
       "      <td>42</td>\n",
       "      <td>16</td>\n",
       "      <td>58</td>\n",
       "      <td>72.41</td>\n",
       "    </tr>\n",
       "    <tr>\n",
       "      <th>520</th>\n",
       "      <td>Clay</td>\n",
       "      <td>Kuerten G.</td>\n",
       "      <td>105</td>\n",
       "      <td>40</td>\n",
       "      <td>145</td>\n",
       "      <td>72.41</td>\n",
       "    </tr>\n",
       "    <tr>\n",
       "      <th>385</th>\n",
       "      <td>Clay</td>\n",
       "      <td>Ferrero J.C.</td>\n",
       "      <td>221</td>\n",
       "      <td>86</td>\n",
       "      <td>307</td>\n",
       "      <td>71.99</td>\n",
       "    </tr>\n",
       "    <tr>\n",
       "      <th>167</th>\n",
       "      <td>Carpet</td>\n",
       "      <td>Safin M.</td>\n",
       "      <td>46</td>\n",
       "      <td>18</td>\n",
       "      <td>64</td>\n",
       "      <td>71.88</td>\n",
       "    </tr>\n",
       "    <tr>\n",
       "      <th>621</th>\n",
       "      <td>Clay</td>\n",
       "      <td>Nishikori K.</td>\n",
       "      <td>60</td>\n",
       "      <td>24</td>\n",
       "      <td>84</td>\n",
       "      <td>71.43</td>\n",
       "    </tr>\n",
       "    <tr>\n",
       "      <th>766</th>\n",
       "      <td>Clay</td>\n",
       "      <td>Thiem D.</td>\n",
       "      <td>59</td>\n",
       "      <td>24</td>\n",
       "      <td>83</td>\n",
       "      <td>71.08</td>\n",
       "    </tr>\n",
       "    <tr>\n",
       "      <th>874</th>\n",
       "      <td>Grass</td>\n",
       "      <td>Berdych T.</td>\n",
       "      <td>59</td>\n",
       "      <td>24</td>\n",
       "      <td>83</td>\n",
       "      <td>71.08</td>\n",
       "    </tr>\n",
       "    <tr>\n",
       "      <th>1422</th>\n",
       "      <td>Hard</td>\n",
       "      <td>Del Potro J.M.</td>\n",
       "      <td>220</td>\n",
       "      <td>90</td>\n",
       "      <td>310</td>\n",
       "      <td>70.97</td>\n",
       "    </tr>\n",
       "    <tr>\n",
       "      <th>316</th>\n",
       "      <td>Clay</td>\n",
       "      <td>Coria G.</td>\n",
       "      <td>129</td>\n",
       "      <td>53</td>\n",
       "      <td>182</td>\n",
       "      <td>70.88</td>\n",
       "    </tr>\n",
       "    <tr>\n",
       "      <th>1192</th>\n",
       "      <td>Grass</td>\n",
       "      <td>Rusedski G.</td>\n",
       "      <td>41</td>\n",
       "      <td>17</td>\n",
       "      <td>58</td>\n",
       "      <td>70.69</td>\n",
       "    </tr>\n",
       "    <tr>\n",
       "      <th>384</th>\n",
       "      <td>Clay</td>\n",
       "      <td>Ferrer D.</td>\n",
       "      <td>293</td>\n",
       "      <td>122</td>\n",
       "      <td>415</td>\n",
       "      <td>70.60</td>\n",
       "    </tr>\n",
       "    <tr>\n",
       "      <th>605</th>\n",
       "      <td>Clay</td>\n",
       "      <td>Moya C.</td>\n",
       "      <td>203</td>\n",
       "      <td>85</td>\n",
       "      <td>288</td>\n",
       "      <td>70.49</td>\n",
       "    </tr>\n",
       "    <tr>\n",
       "      <th>1550</th>\n",
       "      <td>Hard</td>\n",
       "      <td>Hewitt L.</td>\n",
       "      <td>324</td>\n",
       "      <td>138</td>\n",
       "      <td>462</td>\n",
       "      <td>70.13</td>\n",
       "    </tr>\n",
       "  </tbody>\n",
       "</table>\n",
       "</div>"
      ],
      "text/plain": [
       "     Surface          Player  Count_Win  Count_Lose  total_play  perc_win\n",
       "612     Clay        Nadal R.        351          35         386     90.93\n",
       "969    Grass      Federer R.        147          20         167     88.02\n",
       "1435    Hard     Djokovic N.        469          82         551     85.12\n",
       "1468    Hard      Federer R.        622         124         746     83.38\n",
       "1129   Grass       Murray A.         90          18         108     83.33\n",
       "944    Grass     Djokovic N.         65          14          79     82.28\n",
       "351     Clay     Djokovic N.        169          39         208     81.25\n",
       "1185   Grass      Roddick A.         82          21         103     79.61\n",
       "1295    Hard       Agassi A.        203          56         259     78.38\n",
       "1131   Grass        Nadal R.         58          17          75     77.33\n",
       "381     Clay      Federer R.        203          60         263     77.19\n",
       "1717    Hard       Murray A.        369         110         479     77.04\n",
       "1022   Grass       Hewitt L.        103          31         134     76.87\n",
       "57    Carpet      Federer R.         46          14          60     76.67\n",
       "1719    Hard        Nadal R.        363         112         475     76.42\n",
       "1802    Hard      Roddick A.        402         136         538     74.72\n",
       "1824    Hard      Sampras P.         73          26          99     73.74\n",
       "1244   Grass     Tsonga J.W.         42          16          58     72.41\n",
       "520     Clay      Kuerten G.        105          40         145     72.41\n",
       "385     Clay    Ferrero J.C.        221          86         307     71.99\n",
       "167   Carpet        Safin M.         46          18          64     71.88\n",
       "621     Clay    Nishikori K.         60          24          84     71.43\n",
       "766     Clay        Thiem D.         59          24          83     71.08\n",
       "874    Grass      Berdych T.         59          24          83     71.08\n",
       "1422    Hard  Del Potro J.M.        220          90         310     70.97\n",
       "316     Clay        Coria G.        129          53         182     70.88\n",
       "1192   Grass     Rusedski G.         41          17          58     70.69\n",
       "384     Clay       Ferrer D.        293         122         415     70.60\n",
       "605     Clay         Moya C.        203          85         288     70.49\n",
       "1550    Hard       Hewitt L.        324         138         462     70.13"
      ]
     },
     "execution_count": 18,
     "metadata": {},
     "output_type": "execute_result"
    }
   ],
   "source": [
    "surface.sort_values(by='perc_win', ascending=False).head(30)"
   ]
  },
  {
   "cell_type": "code",
   "execution_count": 19,
   "metadata": {
    "execution": {
     "iopub.execute_input": "2020-04-10T14:49:41.389850Z",
     "iopub.status.busy": "2020-04-10T14:49:41.386194Z",
     "iopub.status.idle": "2020-04-10T14:49:41.410184Z",
     "shell.execute_reply": "2020-04-10T14:49:41.403548Z"
    },
    "papermill": {
     "duration": 0.099657,
     "end_time": "2020-04-10T14:49:41.411910",
     "exception": false,
     "start_time": "2020-04-10T14:49:41.312253",
     "status": "completed"
    },
    "tags": []
   },
   "outputs": [
    {
     "data": {
      "text/plain": [
       "array(['Carpet', 'Clay', 'Grass', 'Hard'], dtype=object)"
      ]
     },
     "execution_count": 19,
     "metadata": {},
     "output_type": "execute_result"
    }
   ],
   "source": [
    "surface.Surface.unique()"
   ]
  },
  {
   "cell_type": "code",
   "execution_count": 20,
   "metadata": {
    "execution": {
     "iopub.execute_input": "2020-04-10T14:49:41.609283Z",
     "iopub.status.busy": "2020-04-10T14:49:41.604216Z",
     "iopub.status.idle": "2020-04-10T14:49:41.614412Z",
     "shell.execute_reply": "2020-04-10T14:49:41.611664Z"
    },
    "papermill": {
     "duration": 0.154922,
     "end_time": "2020-04-10T14:49:41.615073",
     "exception": false,
     "start_time": "2020-04-10T14:49:41.460151",
     "status": "completed"
    },
    "tags": []
   },
   "outputs": [],
   "source": [
    "# Best players on Clay\n",
    "\n",
    "top_Clay = surface[surface.Surface == 'Clay'].sort_values(by='perc_win', ascending = False).head(10)"
   ]
  },
  {
   "cell_type": "code",
   "execution_count": 21,
   "metadata": {
    "execution": {
     "iopub.execute_input": "2020-04-10T14:49:41.872613Z",
     "iopub.status.busy": "2020-04-10T14:49:41.853256Z",
     "iopub.status.idle": "2020-04-10T14:49:43.042334Z",
     "shell.execute_reply": "2020-04-10T14:49:43.043711Z"
    },
    "papermill": {
     "duration": 1.335385,
     "end_time": "2020-04-10T14:49:43.043928",
     "exception": false,
     "start_time": "2020-04-10T14:49:41.708543",
     "status": "completed"
    },
    "tags": []
   },
   "outputs": [
    {
     "data": {
      "text/plain": [
       "Text(0.5, 1.0, 'Best players on Clay')"
      ]
     },
     "execution_count": 21,
     "metadata": {},
     "output_type": "execute_result"
    },
    {
     "data": {
      "image/png": "[encoded data removed]",
      "text/plain": [
       "<Figure size 720x360 with 1 Axes>"
      ]
     },
     "metadata": {
      "needs_background": "light"
     },
     "output_type": "display_data"
    }
   ],
   "source": [
    "# plot the graph\n",
    "g=sns.catplot(x='Player', y='perc_win', data=top_Clay, kind='bar', height=5, aspect=2)\n",
    "g.set_xticklabels(labels = top_Clay.Player,  rotation=90)\n",
    "plt.title('Best players on Clay')"
   ]
  },
  {
   "cell_type": "code",
   "execution_count": 22,
   "metadata": {
    "execution": {
     "iopub.execute_input": "2020-04-10T14:49:43.149752Z",
     "iopub.status.busy": "2020-04-10T14:49:43.147086Z",
     "iopub.status.idle": "2020-04-10T14:49:44.473065Z",
     "shell.execute_reply": "2020-04-10T14:49:44.478645Z"
    },
    "papermill": {
     "duration": 1.396797,
     "end_time": "2020-04-10T14:49:44.479903",
     "exception": false,
     "start_time": "2020-04-10T14:49:43.083106",
     "status": "completed"
    },
    "tags": []
   },
   "outputs": [
    {
     "data": {
      "image/png": "[encoded data removed]",
      "text/plain": [
       "<Figure size 432x288 with 1 Axes>"
      ]
     },
     "metadata": {
      "needs_background": "light"
     },
     "output_type": "display_data"
    }
   ],
   "source": [
    "top_Clay.plot(kind='bar')\n",
    "\n",
    "plt.savefig('topclay.png')\n"
   ]
  },
  {
   "cell_type": "code",
   "execution_count": 23,
   "metadata": {
    "execution": {
     "iopub.execute_input": "2020-04-10T14:49:44.642787Z",
     "iopub.status.busy": "2020-04-10T14:49:44.638204Z",
     "iopub.status.idle": "2020-04-10T14:49:44.646059Z",
     "shell.execute_reply": "2020-04-10T14:49:44.648252Z"
    },
    "papermill": {
     "duration": 0.086971,
     "end_time": "2020-04-10T14:49:44.648741",
     "exception": false,
     "start_time": "2020-04-10T14:49:44.561770",
     "status": "completed"
    },
    "tags": []
   },
   "outputs": [],
   "source": [
    "# Best player on Grass\n",
    "\n",
    "top_Grass = surface[surface.Surface == 'Grass'].sort_values(by='perc_win', ascending = False).head(10)"
   ]
  },
  {
   "cell_type": "code",
   "execution_count": 24,
   "metadata": {
    "execution": {
     "iopub.execute_input": "2020-04-10T14:49:44.809992Z",
     "iopub.status.busy": "2020-04-10T14:49:44.806056Z",
     "iopub.status.idle": "2020-04-10T14:49:45.709113Z",
     "shell.execute_reply": "2020-04-10T14:49:45.711094Z"
    },
    "papermill": {
     "duration": 0.999636,
     "end_time": "2020-04-10T14:49:45.711474",
     "exception": false,
     "start_time": "2020-04-10T14:49:44.711838",
     "status": "completed"
    },
    "tags": []
   },
   "outputs": [
    {
     "name": "stderr",
     "output_type": "stream",
     "text": [
      "/Users/psehgal/opt/anaconda3/envs/airflow/lib/python3.7/site-packages/seaborn/categorical.py:3695: UserWarning: The `size` parameter has been renamed to `height`; please update your code.\n",
      "  warnings.warn(msg, UserWarning)\n"
     ]
    },
    {
     "data": {
      "text/plain": [
       "Text(0.5, 1.0, 'Best players on Grass')"
      ]
     },
     "execution_count": 24,
     "metadata": {},
     "output_type": "execute_result"
    },
    {
     "data": {
      "image/png": "[encoded data removed]",
      "text/plain": [
       "<Figure size 720x360 with 1 Axes>"
      ]
     },
     "metadata": {
      "needs_background": "light"
     },
     "output_type": "display_data"
    }
   ],
   "source": [
    "# plot the graph\n",
    "g=sns.catplot(x='Player', y='perc_win', data=top_Grass, kind='bar', size=5, aspect=2)\n",
    "g.set_xticklabels(labels = top_Grass.Player,  rotation=90)\n",
    "plt.title('Best players on Grass')"
   ]
  },
  {
   "cell_type": "code",
   "execution_count": 25,
   "metadata": {
    "execution": {
     "iopub.execute_input": "2020-04-10T14:49:45.889488Z",
     "iopub.status.busy": "2020-04-10T14:49:45.877316Z",
     "iopub.status.idle": "2020-04-10T14:49:47.293474Z",
     "shell.execute_reply": "2020-04-10T14:49:47.299237Z"
    },
    "papermill": {
     "duration": 1.504415,
     "end_time": "2020-04-10T14:49:47.299588",
     "exception": false,
     "start_time": "2020-04-10T14:49:45.795173",
     "status": "completed"
    },
    "tags": []
   },
   "outputs": [
    {
     "data": {
      "image/png": "[encoded data removed]",
      "text/plain": [
       "<Figure size 432x288 with 1 Axes>"
      ]
     },
     "metadata": {
      "needs_background": "light"
     },
     "output_type": "display_data"
    }
   ],
   "source": [
    "top_Grass.plot(kind='bar')\n",
    "\n",
    "plt.savefig('topgrass.png')"
   ]
  },
  {
   "cell_type": "code",
   "execution_count": 26,
   "metadata": {
    "execution": {
     "iopub.execute_input": "2020-04-10T14:49:47.505933Z",
     "iopub.status.busy": "2020-04-10T14:49:47.477924Z",
     "iopub.status.idle": "2020-04-10T14:49:47.538293Z",
     "shell.execute_reply": "2020-04-10T14:49:47.523876Z"
    },
    "papermill": {
     "duration": 0.167596,
     "end_time": "2020-04-10T14:49:47.540191",
     "exception": false,
     "start_time": "2020-04-10T14:49:47.372595",
     "status": "completed"
    },
    "tags": []
   },
   "outputs": [],
   "source": [
    "# Best players on Hard surface\n",
    "\n",
    "top_Hard = surface[surface.Surface == 'Hard'].sort_values(by='perc_win', ascending = False).head(10)"
   ]
  },
  {
   "cell_type": "code",
   "execution_count": 27,
   "metadata": {
    "execution": {
     "iopub.execute_input": "2020-04-10T14:49:47.778363Z",
     "iopub.status.busy": "2020-04-10T14:49:47.758861Z",
     "iopub.status.idle": "2020-04-10T14:49:48.272868Z",
     "shell.execute_reply": "2020-04-10T14:49:48.276822Z"
    },
    "papermill": {
     "duration": 0.630566,
     "end_time": "2020-04-10T14:49:48.278226",
     "exception": false,
     "start_time": "2020-04-10T14:49:47.647660",
     "status": "completed"
    },
    "tags": []
   },
   "outputs": [
    {
     "data": {
      "text/plain": [
       "Text(0.5, 1.0, 'Best players on Hard Surface')"
      ]
     },
     "execution_count": 27,
     "metadata": {},
     "output_type": "execute_result"
    },
    {
     "data": {
      "image/png": "[encoded data removed]",
      "text/plain": [
       "<Figure size 720x360 with 1 Axes>"
      ]
     },
     "metadata": {
      "needs_background": "light"
     },
     "output_type": "display_data"
    }
   ],
   "source": [
    "# plot the graph\n",
    "g=sns.catplot(x='Player', y='perc_win', data=top_Hard, kind='bar', size=5, aspect=2)\n",
    "g.set_xticklabels(labels = top_Hard.Player,  rotation=90)\n",
    "plt.title('Best players on Hard Surface')"
   ]
  },
  {
   "cell_type": "code",
   "execution_count": 28,
   "metadata": {
    "execution": {
     "iopub.execute_input": "2020-04-10T14:49:48.373320Z",
     "iopub.status.busy": "2020-04-10T14:49:48.370817Z",
     "iopub.status.idle": "2020-04-10T14:49:49.702904Z",
     "shell.execute_reply": "2020-04-10T14:49:49.724269Z"
    },
    "papermill": {
     "duration": 1.397433,
     "end_time": "2020-04-10T14:49:49.724541",
     "exception": false,
     "start_time": "2020-04-10T14:49:48.327108",
     "status": "completed"
    },
    "tags": []
   },
   "outputs": [
    {
     "data": {
      "image/png": "[encoded data removed]",
      "text/plain": [
       "<Figure size 432x288 with 1 Axes>"
      ]
     },
     "metadata": {
      "needs_background": "light"
     },
     "output_type": "display_data"
    }
   ],
   "source": [
    "top_Hard.plot(kind='bar')\n",
    "\n",
    "plt.savefig('tophard.png')"
   ]
  },
  {
   "cell_type": "code",
   "execution_count": 29,
   "metadata": {
    "execution": {
     "iopub.execute_input": "2020-04-10T14:49:50.031456Z",
     "iopub.status.busy": "2020-04-10T14:49:50.023126Z",
     "iopub.status.idle": "2020-04-10T14:49:51.383603Z",
     "shell.execute_reply": "2020-04-10T14:49:51.385784Z"
    },
    "papermill": {
     "duration": 1.508089,
     "end_time": "2020-04-10T14:49:51.386051",
     "exception": false,
     "start_time": "2020-04-10T14:49:49.877962",
     "status": "completed"
    },
    "tags": []
   },
   "outputs": [
    {
     "data": {
      "text/plain": [
       "''"
      ]
     },
     "execution_count": 29,
     "metadata": {},
     "output_type": "execute_result"
    }
   ],
   "source": [
    "#https://www.blog.pythonlibrary.org/2018/06/05/creating-pdfs-with-pyfpdf-and-python/\n",
    "pdf = FPDF()\n",
    "pdf.add_page()\n",
    "pdf.set_font(\"Arial\", size=12)\n",
    "pdf.cell(200, 10, txt=\"ATP Mens Tour Report!\", ln=1, align=\"C\")\n",
    "\n",
    "pdf.ln(5) #down 5 lines\n",
    "pdf.cell(10,15,txt=\"The following graph shows the top players on clay surface\")#, ln=1, align=\"C\")\n",
    "pdf.ln(10) #down 5 lines\n",
    "pdf.image('/Users/psehgal/dev/airflow_home/topclay.png')#, x=0, y=8, w=100)\n",
    "\n",
    "pdf.ln(5)\n",
    "pdf.cell(10,15,txt=\"The following graph shows the top players on Grass surface\")\n",
    "pdf.ln(10)\n",
    "pdf.image('/Users/psehgal/dev/airflow_home/topgrass.png')\n",
    "\n",
    "pdf.ln(5)\n",
    "pdf.cell(10,15,txt=\"The following graph shows the top players on Hard Surface surface\")\n",
    "pdf.ln(10)\n",
    "pdf.image('/Users/psehgal/dev/airflow_home/tophard.png')\n",
    "\n",
    "pdf.output(\"atp_mens_tour_pdf_report.pdf\")\n"
   ]
  }
 ],
 "metadata": {
  "celltoolbar": "Tags",
  "kernelspec": {
   "display_name": "Python 3",
   "language": "python",
   "name": "python3"
  },
  "language_info": {
   "codemirror_mode": {
    "name": "ipython",
    "version": 3
   },
   "file_extension": ".py",
   "mimetype": "text/x-python",
   "name": "python",
   "nbconvert_exporter": "python",
   "pygments_lexer": "ipython3",
   "version": "3.7.4"
  },
  "papermill": {
   "duration": 18.629477,
   "end_time": "2020-04-10T14:49:51.596444",
   "environment_variables": {},
   "exception": null,
   "input_path": "/Users/psehgal/dev/airflow_home/atp_mens_tour.ipynb",
   "output_path": "/Users/psehgal/dev/airflow_home/atp_mens_tour_output.ipynb",
   "parameters": {
    "file_name": "/Users/psehgal/atp_test/Data.csv"
   },
   "start_time": "2020-04-10T14:49:32.966967",
   "version": "2.1.0"
  }
 },
 "nbformat": 4,
 "nbformat_minor": 1
}
