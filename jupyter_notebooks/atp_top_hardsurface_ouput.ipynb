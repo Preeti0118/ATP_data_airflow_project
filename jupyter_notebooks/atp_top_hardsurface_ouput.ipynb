{
 "cells": [
  {
   "cell_type": "code",
   "execution_count": 1,
   "metadata": {
    "_cell_guid": "b1076dfc-b9ad-4769-8c92-a6c4dae69d19",
    "_uuid": "8f2839f25d086af736a60e9eeb907d3b93b6e0e5",
    "execution": {
     "iopub.execute_input": "2020-05-17T21:41:36.459129Z",
     "iopub.status.busy": "2020-05-17T21:41:36.457585Z",
     "iopub.status.idle": "2020-05-17T21:41:38.006707Z",
     "shell.execute_reply": "2020-05-17T21:41:38.007862Z"
    },
    "papermill": {
     "duration": 1.568864,
     "end_time": "2020-05-17T21:41:38.008171",
     "exception": false,
     "start_time": "2020-05-17T21:41:36.439307",
     "status": "completed"
    },
    "tags": []
   },
   "outputs": [],
   "source": [
    "import numpy as np\n",
    "import pandas as pd\n",
    "import matplotlib.pyplot as plt\n",
    "from matplotlib.pyplot import xticks\n",
    "from scipy.stats import skew\n",
    "import seaborn as sns\n",
    "import os\n",
    "#from fpdf import FPDF\n"
   ]
  },
  {
   "cell_type": "code",
   "execution_count": 2,
   "metadata": {
    "execution": {
     "iopub.execute_input": "2020-05-17T21:41:38.035960Z",
     "iopub.status.busy": "2020-05-17T21:41:38.034654Z",
     "iopub.status.idle": "2020-05-17T21:41:38.037318Z",
     "shell.execute_reply": "2020-05-17T21:41:38.038161Z"
    },
    "papermill": {
     "duration": 0.018273,
     "end_time": "2020-05-17T21:41:38.038312",
     "exception": false,
     "start_time": "2020-05-17T21:41:38.020039",
     "status": "completed"
    },
    "tags": [
     "parameters"
    ]
   },
   "outputs": [],
   "source": [
    "#file_path1={'file_name': '/Users/psehgal/Data.csv'}\n",
    "#file_location = file_path1['file_name'] \n",
    "file_name = '/Users/psehgal/atp_test/Data_hard.csv'\n",
    "tophard1png = '/Users/psehgal/dev/airflow_home/Tennis_Data_Pipeline_airflow_Project/images_for_reports/tophard1png.png'\n",
    "tophard2png = '/Users/psehgal/dev/airflow_home/Tennis_Data_Pipeline_airflow_Project/images_for_reports/tophard2png.png'\n",
    "tophardcsv = '/Users/psehgal/dev/airflow_home/Tennis_Data_Pipeline_airflow_Project/images_for_reports/tophardcsv.csv'"
   ]
  },
  {
   "cell_type": "code",
   "execution_count": 3,
   "metadata": {
    "execution": {
     "iopub.execute_input": "2020-05-17T21:41:38.067632Z",
     "iopub.status.busy": "2020-05-17T21:41:38.063612Z",
     "iopub.status.idle": "2020-05-17T21:41:38.070710Z",
     "shell.execute_reply": "2020-05-17T21:41:38.069274Z"
    },
    "papermill": {
     "duration": 0.022012,
     "end_time": "2020-05-17T21:41:38.070895",
     "exception": false,
     "start_time": "2020-05-17T21:41:38.048883",
     "status": "completed"
    },
    "tags": [
     "injected-parameters"
    ]
   },
   "outputs": [],
   "source": [
    "# Parameters\n",
    "file_name = \"/Users/psehgal/atp_test/Data_hard.csv\"\n",
    "tophard1png = \"/Users/psehgal/dev/airflow_home/Tennis_Data_Pipeline_airflow_Project/images_for_reports/tophard1png.png\"\n",
    "tophard2png = \"/Users/psehgal/dev/airflow_home/Tennis_Data_Pipeline_airflow_Project/images_for_reports/tophard2png.png\"\n",
    "tophard3csv = \"/Users/psehgal/dev/airflow_home/Tennis_Data_Pipeline_Airflow_Project/images_for_reports/tophardcsv.csv\"\n"
   ]
  },
  {
   "cell_type": "code",
   "execution_count": 4,
   "metadata": {
    "_uuid": "0a8931240e7c2fc0e524bd770a0b4f20e42ce1f4",
    "execution": {
     "iopub.execute_input": "2020-05-17T21:41:38.113684Z",
     "iopub.status.busy": "2020-05-17T21:41:38.112043Z",
     "iopub.status.idle": "2020-05-17T21:41:38.283977Z",
     "shell.execute_reply": "2020-05-17T21:41:38.286489Z"
    },
    "papermill": {
     "duration": 0.199385,
     "end_time": "2020-05-17T21:41:38.286757",
     "exception": false,
     "start_time": "2020-05-17T21:41:38.087372",
     "status": "completed"
    },
    "tags": []
   },
   "outputs": [],
   "source": [
    "#data = pd.read_csv('/Users/psehgal/dev/airflow_home/kaggleatpdata.csv', dtype='unicode')\n",
    "data = pd.read_csv(file_name, encoding = 'ISO-8859-1')"
   ]
  },
  {
   "cell_type": "code",
   "execution_count": 5,
   "metadata": {
    "_uuid": "05fc6bfaa59d8f8a8e248386d620a6fbffeb4996",
    "execution": {
     "iopub.execute_input": "2020-05-17T21:41:38.344545Z",
     "iopub.status.busy": "2020-05-17T21:41:38.341933Z",
     "iopub.status.idle": "2020-05-17T21:41:38.409851Z",
     "shell.execute_reply": "2020-05-17T21:41:38.412247Z"
    },
    "papermill": {
     "duration": 0.102686,
     "end_time": "2020-05-17T21:41:38.412445",
     "exception": false,
     "start_time": "2020-05-17T21:41:38.309759",
     "status": "completed"
    },
    "tags": []
   },
   "outputs": [
    {
     "data": {
      "text/html": [
       "<div>\n",
       "<style scoped>\n",
       "    .dataframe tbody tr th:only-of-type {\n",
       "        vertical-align: middle;\n",
       "    }\n",
       "\n",
       "    .dataframe tbody tr th {\n",
       "        vertical-align: top;\n",
       "    }\n",
       "\n",
       "    .dataframe thead th {\n",
       "        text-align: right;\n",
       "    }\n",
       "</style>\n",
       "<table border=\"1\" class=\"dataframe\">\n",
       "  <thead>\n",
       "    <tr style=\"text-align: right;\">\n",
       "      <th></th>\n",
       "      <th>Unnamed: 0</th>\n",
       "      <th>Unnamed: 0.1</th>\n",
       "      <th>ATP</th>\n",
       "      <th>Location</th>\n",
       "      <th>Tournament</th>\n",
       "      <th>Date</th>\n",
       "      <th>Series</th>\n",
       "      <th>Court</th>\n",
       "      <th>Surface</th>\n",
       "      <th>Round</th>\n",
       "      <th>...</th>\n",
       "      <th>L2</th>\n",
       "      <th>W3</th>\n",
       "      <th>L3</th>\n",
       "      <th>W4</th>\n",
       "      <th>L4</th>\n",
       "      <th>W5</th>\n",
       "      <th>L5</th>\n",
       "      <th>Wsets</th>\n",
       "      <th>Lsets</th>\n",
       "      <th>Comment</th>\n",
       "    </tr>\n",
       "  </thead>\n",
       "  <tbody>\n",
       "    <tr>\n",
       "      <th>0</th>\n",
       "      <td>0</td>\n",
       "      <td>0</td>\n",
       "      <td>1</td>\n",
       "      <td>Adelaide</td>\n",
       "      <td>Australian Hardcourt Championships</td>\n",
       "      <td>3/01/2000</td>\n",
       "      <td>International</td>\n",
       "      <td>Outdoor</td>\n",
       "      <td>Hard</td>\n",
       "      <td>1st Round</td>\n",
       "      <td>...</td>\n",
       "      <td>2.0</td>\n",
       "      <td>NaN</td>\n",
       "      <td>NaN</td>\n",
       "      <td>NaN</td>\n",
       "      <td>NaN</td>\n",
       "      <td>NaN</td>\n",
       "      <td>NaN</td>\n",
       "      <td>2.0</td>\n",
       "      <td>0.0</td>\n",
       "      <td>Completed</td>\n",
       "    </tr>\n",
       "    <tr>\n",
       "      <th>1</th>\n",
       "      <td>1</td>\n",
       "      <td>1</td>\n",
       "      <td>1</td>\n",
       "      <td>Adelaide</td>\n",
       "      <td>Australian Hardcourt Championships</td>\n",
       "      <td>3/01/2000</td>\n",
       "      <td>International</td>\n",
       "      <td>Outdoor</td>\n",
       "      <td>Hard</td>\n",
       "      <td>1st Round</td>\n",
       "      <td>...</td>\n",
       "      <td>3.0</td>\n",
       "      <td>NaN</td>\n",
       "      <td>NaN</td>\n",
       "      <td>NaN</td>\n",
       "      <td>NaN</td>\n",
       "      <td>NaN</td>\n",
       "      <td>NaN</td>\n",
       "      <td>2.0</td>\n",
       "      <td>0.0</td>\n",
       "      <td>Completed</td>\n",
       "    </tr>\n",
       "    <tr>\n",
       "      <th>2</th>\n",
       "      <td>2</td>\n",
       "      <td>2</td>\n",
       "      <td>1</td>\n",
       "      <td>Adelaide</td>\n",
       "      <td>Australian Hardcourt Championships</td>\n",
       "      <td>3/01/2000</td>\n",
       "      <td>International</td>\n",
       "      <td>Outdoor</td>\n",
       "      <td>Hard</td>\n",
       "      <td>1st Round</td>\n",
       "      <td>...</td>\n",
       "      <td>5.0</td>\n",
       "      <td>6.0</td>\n",
       "      <td>3.0</td>\n",
       "      <td>NaN</td>\n",
       "      <td>NaN</td>\n",
       "      <td>NaN</td>\n",
       "      <td>NaN</td>\n",
       "      <td>2.0</td>\n",
       "      <td>1.0</td>\n",
       "      <td>Completed</td>\n",
       "    </tr>\n",
       "    <tr>\n",
       "      <th>3</th>\n",
       "      <td>3</td>\n",
       "      <td>3</td>\n",
       "      <td>1</td>\n",
       "      <td>Adelaide</td>\n",
       "      <td>Australian Hardcourt Championships</td>\n",
       "      <td>3/01/2000</td>\n",
       "      <td>International</td>\n",
       "      <td>Outdoor</td>\n",
       "      <td>Hard</td>\n",
       "      <td>1st Round</td>\n",
       "      <td>...</td>\n",
       "      <td>4.0</td>\n",
       "      <td>NaN</td>\n",
       "      <td>NaN</td>\n",
       "      <td>NaN</td>\n",
       "      <td>NaN</td>\n",
       "      <td>NaN</td>\n",
       "      <td>NaN</td>\n",
       "      <td>2.0</td>\n",
       "      <td>0.0</td>\n",
       "      <td>Completed</td>\n",
       "    </tr>\n",
       "    <tr>\n",
       "      <th>4</th>\n",
       "      <td>4</td>\n",
       "      <td>4</td>\n",
       "      <td>1</td>\n",
       "      <td>Adelaide</td>\n",
       "      <td>Australian Hardcourt Championships</td>\n",
       "      <td>3/01/2000</td>\n",
       "      <td>International</td>\n",
       "      <td>Outdoor</td>\n",
       "      <td>Hard</td>\n",
       "      <td>1st Round</td>\n",
       "      <td>...</td>\n",
       "      <td>7.0</td>\n",
       "      <td>6.0</td>\n",
       "      <td>4.0</td>\n",
       "      <td>NaN</td>\n",
       "      <td>NaN</td>\n",
       "      <td>NaN</td>\n",
       "      <td>NaN</td>\n",
       "      <td>2.0</td>\n",
       "      <td>1.0</td>\n",
       "      <td>Completed</td>\n",
       "    </tr>\n",
       "    <tr>\n",
       "      <th>...</th>\n",
       "      <td>...</td>\n",
       "      <td>...</td>\n",
       "      <td>...</td>\n",
       "      <td>...</td>\n",
       "      <td>...</td>\n",
       "      <td>...</td>\n",
       "      <td>...</td>\n",
       "      <td>...</td>\n",
       "      <td>...</td>\n",
       "      <td>...</td>\n",
       "      <td>...</td>\n",
       "      <td>...</td>\n",
       "      <td>...</td>\n",
       "      <td>...</td>\n",
       "      <td>...</td>\n",
       "      <td>...</td>\n",
       "      <td>...</td>\n",
       "      <td>...</td>\n",
       "      <td>...</td>\n",
       "      <td>...</td>\n",
       "      <td>...</td>\n",
       "    </tr>\n",
       "    <tr>\n",
       "      <th>24329</th>\n",
       "      <td>46647</td>\n",
       "      <td>46647</td>\n",
       "      <td>54</td>\n",
       "      <td>St. Petersburg</td>\n",
       "      <td>St. Petersburg Open</td>\n",
       "      <td>23/09/2016</td>\n",
       "      <td>ATP250</td>\n",
       "      <td>Indoor</td>\n",
       "      <td>Hard</td>\n",
       "      <td>Quarterfinals</td>\n",
       "      <td>...</td>\n",
       "      <td>2.0</td>\n",
       "      <td>NaN</td>\n",
       "      <td>NaN</td>\n",
       "      <td>NaN</td>\n",
       "      <td>NaN</td>\n",
       "      <td>NaN</td>\n",
       "      <td>NaN</td>\n",
       "      <td>2.0</td>\n",
       "      <td>0.0</td>\n",
       "      <td>Completed</td>\n",
       "    </tr>\n",
       "    <tr>\n",
       "      <th>24330</th>\n",
       "      <td>46648</td>\n",
       "      <td>46648</td>\n",
       "      <td>54</td>\n",
       "      <td>St. Petersburg</td>\n",
       "      <td>St. Petersburg Open</td>\n",
       "      <td>23/09/2016</td>\n",
       "      <td>ATP250</td>\n",
       "      <td>Indoor</td>\n",
       "      <td>Hard</td>\n",
       "      <td>Quarterfinals</td>\n",
       "      <td>...</td>\n",
       "      <td>2.0</td>\n",
       "      <td>NaN</td>\n",
       "      <td>NaN</td>\n",
       "      <td>NaN</td>\n",
       "      <td>NaN</td>\n",
       "      <td>NaN</td>\n",
       "      <td>NaN</td>\n",
       "      <td>2.0</td>\n",
       "      <td>0.0</td>\n",
       "      <td>Completed</td>\n",
       "    </tr>\n",
       "    <tr>\n",
       "      <th>24331</th>\n",
       "      <td>46649</td>\n",
       "      <td>46649</td>\n",
       "      <td>54</td>\n",
       "      <td>St. Petersburg</td>\n",
       "      <td>St. Petersburg Open</td>\n",
       "      <td>24/09/2016</td>\n",
       "      <td>ATP250</td>\n",
       "      <td>Indoor</td>\n",
       "      <td>Hard</td>\n",
       "      <td>Semifinals</td>\n",
       "      <td>...</td>\n",
       "      <td>4.0</td>\n",
       "      <td>NaN</td>\n",
       "      <td>NaN</td>\n",
       "      <td>NaN</td>\n",
       "      <td>NaN</td>\n",
       "      <td>NaN</td>\n",
       "      <td>NaN</td>\n",
       "      <td>2.0</td>\n",
       "      <td>0.0</td>\n",
       "      <td>Completed</td>\n",
       "    </tr>\n",
       "    <tr>\n",
       "      <th>24332</th>\n",
       "      <td>46650</td>\n",
       "      <td>46650</td>\n",
       "      <td>54</td>\n",
       "      <td>St. Petersburg</td>\n",
       "      <td>St. Petersburg Open</td>\n",
       "      <td>24/09/2016</td>\n",
       "      <td>ATP250</td>\n",
       "      <td>Indoor</td>\n",
       "      <td>Hard</td>\n",
       "      <td>Semifinals</td>\n",
       "      <td>...</td>\n",
       "      <td>2.0</td>\n",
       "      <td>NaN</td>\n",
       "      <td>NaN</td>\n",
       "      <td>NaN</td>\n",
       "      <td>NaN</td>\n",
       "      <td>NaN</td>\n",
       "      <td>NaN</td>\n",
       "      <td>2.0</td>\n",
       "      <td>0.0</td>\n",
       "      <td>Completed</td>\n",
       "    </tr>\n",
       "    <tr>\n",
       "      <th>24333</th>\n",
       "      <td>46651</td>\n",
       "      <td>46651</td>\n",
       "      <td>54</td>\n",
       "      <td>St. Petersburg</td>\n",
       "      <td>St. Petersburg Open</td>\n",
       "      <td>25/09/2016</td>\n",
       "      <td>ATP250</td>\n",
       "      <td>Indoor</td>\n",
       "      <td>Hard</td>\n",
       "      <td>The Final</td>\n",
       "      <td>...</td>\n",
       "      <td>6.0</td>\n",
       "      <td>7.0</td>\n",
       "      <td>5.0</td>\n",
       "      <td>NaN</td>\n",
       "      <td>NaN</td>\n",
       "      <td>NaN</td>\n",
       "      <td>NaN</td>\n",
       "      <td>2.0</td>\n",
       "      <td>1.0</td>\n",
       "      <td>Completed</td>\n",
       "    </tr>\n",
       "  </tbody>\n",
       "</table>\n",
       "<p>24334 rows × 28 columns</p>\n",
       "</div>"
      ],
      "text/plain": [
       "       Unnamed: 0  Unnamed: 0.1  ATP        Location  \\\n",
       "0               0             0    1        Adelaide   \n",
       "1               1             1    1        Adelaide   \n",
       "2               2             2    1        Adelaide   \n",
       "3               3             3    1        Adelaide   \n",
       "4               4             4    1        Adelaide   \n",
       "...           ...           ...  ...             ...   \n",
       "24329       46647         46647   54  St. Petersburg   \n",
       "24330       46648         46648   54  St. Petersburg   \n",
       "24331       46649         46649   54  St. Petersburg   \n",
       "24332       46650         46650   54  St. Petersburg   \n",
       "24333       46651         46651   54  St. Petersburg   \n",
       "\n",
       "                               Tournament        Date         Series    Court  \\\n",
       "0      Australian Hardcourt Championships   3/01/2000  International  Outdoor   \n",
       "1      Australian Hardcourt Championships   3/01/2000  International  Outdoor   \n",
       "2      Australian Hardcourt Championships   3/01/2000  International  Outdoor   \n",
       "3      Australian Hardcourt Championships   3/01/2000  International  Outdoor   \n",
       "4      Australian Hardcourt Championships   3/01/2000  International  Outdoor   \n",
       "...                                   ...         ...            ...      ...   \n",
       "24329                 St. Petersburg Open  23/09/2016         ATP250   Indoor   \n",
       "24330                 St. Petersburg Open  23/09/2016         ATP250   Indoor   \n",
       "24331                 St. Petersburg Open  24/09/2016         ATP250   Indoor   \n",
       "24332                 St. Petersburg Open  24/09/2016         ATP250   Indoor   \n",
       "24333                 St. Petersburg Open  25/09/2016         ATP250   Indoor   \n",
       "\n",
       "      Surface          Round  ...   L2   W3   L3  W4  L4  W5  L5  Wsets  \\\n",
       "0        Hard      1st Round  ...  2.0  NaN  NaN NaN NaN NaN NaN    2.0   \n",
       "1        Hard      1st Round  ...  3.0  NaN  NaN NaN NaN NaN NaN    2.0   \n",
       "2        Hard      1st Round  ...  5.0  6.0  3.0 NaN NaN NaN NaN    2.0   \n",
       "3        Hard      1st Round  ...  4.0  NaN  NaN NaN NaN NaN NaN    2.0   \n",
       "4        Hard      1st Round  ...  7.0  6.0  4.0 NaN NaN NaN NaN    2.0   \n",
       "...       ...            ...  ...  ...  ...  ...  ..  ..  ..  ..    ...   \n",
       "24329    Hard  Quarterfinals  ...  2.0  NaN  NaN NaN NaN NaN NaN    2.0   \n",
       "24330    Hard  Quarterfinals  ...  2.0  NaN  NaN NaN NaN NaN NaN    2.0   \n",
       "24331    Hard     Semifinals  ...  4.0  NaN  NaN NaN NaN NaN NaN    2.0   \n",
       "24332    Hard     Semifinals  ...  2.0  NaN  NaN NaN NaN NaN NaN    2.0   \n",
       "24333    Hard      The Final  ...  6.0  7.0  5.0 NaN NaN NaN NaN    2.0   \n",
       "\n",
       "       Lsets    Comment  \n",
       "0        0.0  Completed  \n",
       "1        0.0  Completed  \n",
       "2        1.0  Completed  \n",
       "3        0.0  Completed  \n",
       "4        1.0  Completed  \n",
       "...      ...        ...  \n",
       "24329    0.0  Completed  \n",
       "24330    0.0  Completed  \n",
       "24331    0.0  Completed  \n",
       "24332    0.0  Completed  \n",
       "24333    1.0  Completed  \n",
       "\n",
       "[24334 rows x 28 columns]"
      ]
     },
     "execution_count": 5,
     "metadata": {},
     "output_type": "execute_result"
    }
   ],
   "source": [
    "data"
   ]
  },
  {
   "cell_type": "code",
   "execution_count": 6,
   "metadata": {
    "_uuid": "35bac39d0eb0df67bd9b060ff1fe40961d192d8a",
    "execution": {
     "iopub.execute_input": "2020-05-17T21:41:38.466365Z",
     "iopub.status.busy": "2020-05-17T21:41:38.463757Z",
     "iopub.status.idle": "2020-05-17T21:41:38.475288Z",
     "shell.execute_reply": "2020-05-17T21:41:38.473827Z"
    },
    "papermill": {
     "duration": 0.042866,
     "end_time": "2020-05-17T21:41:38.475464",
     "exception": false,
     "start_time": "2020-05-17T21:41:38.432598",
     "status": "completed"
    },
    "tags": []
   },
   "outputs": [
    {
     "data": {
      "text/plain": [
       "array(['International', 'Grand Slam', 'International Gold', 'Masters',\n",
       "       'Masters Cup', 'ATP250', 'ATP500', 'Masters 1000'], dtype=object)"
      ]
     },
     "execution_count": 6,
     "metadata": {},
     "output_type": "execute_result"
    }
   ],
   "source": [
    "data.Series.unique()"
   ]
  },
  {
   "cell_type": "code",
   "execution_count": 7,
   "metadata": {
    "execution": {
     "iopub.execute_input": "2020-05-17T21:41:38.527743Z",
     "iopub.status.busy": "2020-05-17T21:41:38.524350Z",
     "iopub.status.idle": "2020-05-17T21:41:38.530451Z",
     "shell.execute_reply": "2020-05-17T21:41:38.529246Z"
    },
    "papermill": {
     "duration": 0.032836,
     "end_time": "2020-05-17T21:41:38.530588",
     "exception": false,
     "start_time": "2020-05-17T21:41:38.497752",
     "status": "completed"
    },
    "tags": []
   },
   "outputs": [],
   "source": [
    "# Best 10 players on clay, grass, and hard surfaces"
   ]
  },
  {
   "cell_type": "code",
   "execution_count": 8,
   "metadata": {
    "execution": {
     "iopub.execute_input": "2020-05-17T21:41:38.587052Z",
     "iopub.status.busy": "2020-05-17T21:41:38.585564Z",
     "iopub.status.idle": "2020-05-17T21:41:38.589666Z",
     "shell.execute_reply": "2020-05-17T21:41:38.588403Z"
    },
    "papermill": {
     "duration": 0.036412,
     "end_time": "2020-05-17T21:41:38.590206",
     "exception": false,
     "start_time": "2020-05-17T21:41:38.553794",
     "status": "completed"
    },
    "tags": []
   },
   "outputs": [],
   "source": [
    "# df with column names\n",
    "surface = data[['Surface', 'Winner', 'Loser']]"
   ]
  },
  {
   "cell_type": "code",
   "execution_count": 9,
   "metadata": {
    "execution": {
     "iopub.execute_input": "2020-05-17T21:41:38.650271Z",
     "iopub.status.busy": "2020-05-17T21:41:38.643959Z",
     "iopub.status.idle": "2020-05-17T21:41:38.659407Z",
     "shell.execute_reply": "2020-05-17T21:41:38.653378Z"
    },
    "papermill": {
     "duration": 0.0446,
     "end_time": "2020-05-17T21:41:38.659763",
     "exception": false,
     "start_time": "2020-05-17T21:41:38.615163",
     "status": "completed"
    },
    "tags": []
   },
   "outputs": [
    {
     "data": {
      "text/plain": [
       "(24334, 3)"
      ]
     },
     "execution_count": 9,
     "metadata": {},
     "output_type": "execute_result"
    }
   ],
   "source": [
    "surface.shape"
   ]
  },
  {
   "cell_type": "code",
   "execution_count": 10,
   "metadata": {
    "execution": {
     "iopub.execute_input": "2020-05-17T21:41:38.715861Z",
     "iopub.status.busy": "2020-05-17T21:41:38.714288Z",
     "iopub.status.idle": "2020-05-17T21:41:38.719005Z",
     "shell.execute_reply": "2020-05-17T21:41:38.720175Z"
    },
    "papermill": {
     "duration": 0.03588,
     "end_time": "2020-05-17T21:41:38.720710",
     "exception": false,
     "start_time": "2020-05-17T21:41:38.684830",
     "status": "completed"
    },
    "tags": []
   },
   "outputs": [],
   "source": [
    "# create 2 df for winner and looser and change the column names to player\n",
    "surface_w = surface[['Surface', 'Winner']]\n",
    "surface_l = surface[['Surface', 'Loser']]\n",
    "surface_w.columns = ['Surface', 'Player']\n",
    "surface_l.columns = ['Surface', 'Player']"
   ]
  },
  {
   "cell_type": "code",
   "execution_count": 11,
   "metadata": {
    "execution": {
     "iopub.execute_input": "2020-05-17T21:41:38.761510Z",
     "iopub.status.busy": "2020-05-17T21:41:38.760214Z",
     "iopub.status.idle": "2020-05-17T21:41:38.762739Z",
     "shell.execute_reply": "2020-05-17T21:41:38.763574Z"
    },
    "papermill": {
     "duration": 0.026426,
     "end_time": "2020-05-17T21:41:38.763722",
     "exception": false,
     "start_time": "2020-05-17T21:41:38.737296",
     "status": "completed"
    },
    "tags": []
   },
   "outputs": [],
   "source": [
    "# add 1 more column to the df and fill with sequential nums from 1 to length of df\n",
    "surface_w['idx'] = range(1, len(surface_w) + 1)\n",
    "surface_l['idx'] = range(1, len(surface_l) + 1)"
   ]
  },
  {
   "cell_type": "code",
   "execution_count": 12,
   "metadata": {
    "execution": {
     "iopub.execute_input": "2020-05-17T21:41:38.794161Z",
     "iopub.status.busy": "2020-05-17T21:41:38.793097Z",
     "iopub.status.idle": "2020-05-17T21:41:38.799751Z",
     "shell.execute_reply": "2020-05-17T21:41:38.800837Z"
    },
    "papermill": {
     "duration": 0.026257,
     "end_time": "2020-05-17T21:41:38.800997",
     "exception": false,
     "start_time": "2020-05-17T21:41:38.774740",
     "status": "completed"
    },
    "tags": []
   },
   "outputs": [],
   "source": [
    "# count the num of winning matches for every surface and player combination \n",
    "surface_w = surface_w.groupby(['Surface', 'Player']).count()\n",
    "surface_w = surface_w.reset_index()\n",
    "surface_w.columns = ['Surface', 'Player', 'Count_Win']\n"
   ]
  },
  {
   "cell_type": "code",
   "execution_count": 13,
   "metadata": {
    "execution": {
     "iopub.execute_input": "2020-05-17T21:41:38.833096Z",
     "iopub.status.busy": "2020-05-17T21:41:38.831484Z",
     "iopub.status.idle": "2020-05-17T21:41:38.840017Z",
     "shell.execute_reply": "2020-05-17T21:41:38.841032Z"
    },
    "papermill": {
     "duration": 0.02808,
     "end_time": "2020-05-17T21:41:38.841196",
     "exception": false,
     "start_time": "2020-05-17T21:41:38.813116",
     "status": "completed"
    },
    "tags": []
   },
   "outputs": [],
   "source": [
    "# count the num of lost matches for every surface and player combination\n",
    "surface_l = surface_l.groupby(['Surface', 'Player']).count()\n",
    "surface_l = surface_l.reset_index()\n",
    "surface_l.columns = ['Surface', 'Player', 'Count_Lose']"
   ]
  },
  {
   "cell_type": "code",
   "execution_count": 14,
   "metadata": {
    "execution": {
     "iopub.execute_input": "2020-05-17T21:41:38.871005Z",
     "iopub.status.busy": "2020-05-17T21:41:38.869779Z",
     "iopub.status.idle": "2020-05-17T21:41:38.873766Z",
     "shell.execute_reply": "2020-05-17T21:41:38.874907Z"
    },
    "papermill": {
     "duration": 0.022523,
     "end_time": "2020-05-17T21:41:38.875080",
     "exception": false,
     "start_time": "2020-05-17T21:41:38.852557",
     "status": "completed"
    },
    "tags": []
   },
   "outputs": [],
   "source": [
    "surface = pd.merge(surface_w, surface_l, on=['Surface', 'Player'])"
   ]
  },
  {
   "cell_type": "code",
   "execution_count": 15,
   "metadata": {
    "execution": {
     "iopub.execute_input": "2020-05-17T21:41:38.947811Z",
     "iopub.status.busy": "2020-05-17T21:41:38.946545Z",
     "iopub.status.idle": "2020-05-17T21:41:38.959051Z",
     "shell.execute_reply": "2020-05-17T21:41:38.960053Z"
    },
    "papermill": {
     "duration": 0.051021,
     "end_time": "2020-05-17T21:41:38.960217",
     "exception": false,
     "start_time": "2020-05-17T21:41:38.909196",
     "status": "completed"
    },
    "tags": []
   },
   "outputs": [],
   "source": [
    "surface['total_play'] = surface['Count_Win'] + surface['Count_Lose']"
   ]
  },
  {
   "cell_type": "code",
   "execution_count": 16,
   "metadata": {
    "execution": {
     "iopub.execute_input": "2020-05-17T21:41:38.992192Z",
     "iopub.status.busy": "2020-05-17T21:41:38.990857Z",
     "iopub.status.idle": "2020-05-17T21:41:38.993332Z",
     "shell.execute_reply": "2020-05-17T21:41:38.994497Z"
    },
    "papermill": {
     "duration": 0.021682,
     "end_time": "2020-05-17T21:41:38.994651",
     "exception": false,
     "start_time": "2020-05-17T21:41:38.972969",
     "status": "completed"
    },
    "tags": []
   },
   "outputs": [],
   "source": [
    "surface['perc_win'] = round(surface['Count_Win'] / surface['total_play'],4)*100"
   ]
  },
  {
   "cell_type": "code",
   "execution_count": 17,
   "metadata": {
    "execution": {
     "iopub.execute_input": "2020-05-17T21:41:39.024181Z",
     "iopub.status.busy": "2020-05-17T21:41:39.022778Z",
     "iopub.status.idle": "2020-05-17T21:41:39.026174Z",
     "shell.execute_reply": "2020-05-17T21:41:39.025182Z"
    },
    "papermill": {
     "duration": 0.020069,
     "end_time": "2020-05-17T21:41:39.026364",
     "exception": false,
     "start_time": "2020-05-17T21:41:39.006295",
     "status": "completed"
    },
    "tags": []
   },
   "outputs": [],
   "source": [
    "surface = surface[surface.total_play > 50]"
   ]
  },
  {
   "cell_type": "code",
   "execution_count": 18,
   "metadata": {
    "execution": {
     "iopub.execute_input": "2020-05-17T21:41:39.064188Z",
     "iopub.status.busy": "2020-05-17T21:41:39.062322Z",
     "iopub.status.idle": "2020-05-17T21:41:39.067557Z",
     "shell.execute_reply": "2020-05-17T21:41:39.066596Z"
    },
    "papermill": {
     "duration": 0.028954,
     "end_time": "2020-05-17T21:41:39.067717",
     "exception": false,
     "start_time": "2020-05-17T21:41:39.038763",
     "status": "completed"
    },
    "tags": []
   },
   "outputs": [
    {
     "data": {
      "text/html": [
       "<div>\n",
       "<style scoped>\n",
       "    .dataframe tbody tr th:only-of-type {\n",
       "        vertical-align: middle;\n",
       "    }\n",
       "\n",
       "    .dataframe tbody tr th {\n",
       "        vertical-align: top;\n",
       "    }\n",
       "\n",
       "    .dataframe thead th {\n",
       "        text-align: right;\n",
       "    }\n",
       "</style>\n",
       "<table border=\"1\" class=\"dataframe\">\n",
       "  <thead>\n",
       "    <tr style=\"text-align: right;\">\n",
       "      <th></th>\n",
       "      <th>Surface</th>\n",
       "      <th>Player</th>\n",
       "      <th>Count_Win</th>\n",
       "      <th>Count_Lose</th>\n",
       "      <th>total_play</th>\n",
       "      <th>perc_win</th>\n",
       "    </tr>\n",
       "  </thead>\n",
       "  <tbody>\n",
       "    <tr>\n",
       "      <th>142</th>\n",
       "      <td>Hard</td>\n",
       "      <td>Djokovic N.</td>\n",
       "      <td>469</td>\n",
       "      <td>82</td>\n",
       "      <td>551</td>\n",
       "      <td>85.12</td>\n",
       "    </tr>\n",
       "    <tr>\n",
       "      <th>175</th>\n",
       "      <td>Hard</td>\n",
       "      <td>Federer R.</td>\n",
       "      <td>622</td>\n",
       "      <td>124</td>\n",
       "      <td>746</td>\n",
       "      <td>83.38</td>\n",
       "    </tr>\n",
       "    <tr>\n",
       "      <th>2</th>\n",
       "      <td>Hard</td>\n",
       "      <td>Agassi A.</td>\n",
       "      <td>203</td>\n",
       "      <td>56</td>\n",
       "      <td>259</td>\n",
       "      <td>78.38</td>\n",
       "    </tr>\n",
       "    <tr>\n",
       "      <th>424</th>\n",
       "      <td>Hard</td>\n",
       "      <td>Murray A.</td>\n",
       "      <td>369</td>\n",
       "      <td>110</td>\n",
       "      <td>479</td>\n",
       "      <td>77.04</td>\n",
       "    </tr>\n",
       "    <tr>\n",
       "      <th>426</th>\n",
       "      <td>Hard</td>\n",
       "      <td>Nadal R.</td>\n",
       "      <td>363</td>\n",
       "      <td>112</td>\n",
       "      <td>475</td>\n",
       "      <td>76.42</td>\n",
       "    </tr>\n",
       "    <tr>\n",
       "      <th>509</th>\n",
       "      <td>Hard</td>\n",
       "      <td>Roddick A.</td>\n",
       "      <td>402</td>\n",
       "      <td>136</td>\n",
       "      <td>538</td>\n",
       "      <td>74.72</td>\n",
       "    </tr>\n",
       "    <tr>\n",
       "      <th>531</th>\n",
       "      <td>Hard</td>\n",
       "      <td>Sampras P.</td>\n",
       "      <td>73</td>\n",
       "      <td>26</td>\n",
       "      <td>99</td>\n",
       "      <td>73.74</td>\n",
       "    </tr>\n",
       "    <tr>\n",
       "      <th>129</th>\n",
       "      <td>Hard</td>\n",
       "      <td>Del Potro J.M.</td>\n",
       "      <td>220</td>\n",
       "      <td>90</td>\n",
       "      <td>310</td>\n",
       "      <td>70.97</td>\n",
       "    </tr>\n",
       "    <tr>\n",
       "      <th>257</th>\n",
       "      <td>Hard</td>\n",
       "      <td>Hewitt L.</td>\n",
       "      <td>324</td>\n",
       "      <td>138</td>\n",
       "      <td>462</td>\n",
       "      <td>70.13</td>\n",
       "    </tr>\n",
       "    <tr>\n",
       "      <th>491</th>\n",
       "      <td>Hard</td>\n",
       "      <td>Raonic M.</td>\n",
       "      <td>165</td>\n",
       "      <td>71</td>\n",
       "      <td>236</td>\n",
       "      <td>69.92</td>\n",
       "    </tr>\n",
       "    <tr>\n",
       "      <th>484</th>\n",
       "      <td>Hard</td>\n",
       "      <td>Rafter P.</td>\n",
       "      <td>45</td>\n",
       "      <td>20</td>\n",
       "      <td>65</td>\n",
       "      <td>69.23</td>\n",
       "    </tr>\n",
       "    <tr>\n",
       "      <th>612</th>\n",
       "      <td>Hard</td>\n",
       "      <td>Tsonga J.W.</td>\n",
       "      <td>240</td>\n",
       "      <td>107</td>\n",
       "      <td>347</td>\n",
       "      <td>69.16</td>\n",
       "    </tr>\n",
       "    <tr>\n",
       "      <th>436</th>\n",
       "      <td>Hard</td>\n",
       "      <td>Nishikori K.</td>\n",
       "      <td>187</td>\n",
       "      <td>91</td>\n",
       "      <td>278</td>\n",
       "      <td>67.27</td>\n",
       "    </tr>\n",
       "    <tr>\n",
       "      <th>99</th>\n",
       "      <td>Hard</td>\n",
       "      <td>Cilic M.</td>\n",
       "      <td>210</td>\n",
       "      <td>106</td>\n",
       "      <td>316</td>\n",
       "      <td>66.46</td>\n",
       "    </tr>\n",
       "    <tr>\n",
       "      <th>502</th>\n",
       "      <td>Hard</td>\n",
       "      <td>Rios M.</td>\n",
       "      <td>68</td>\n",
       "      <td>35</td>\n",
       "      <td>103</td>\n",
       "      <td>66.02</td>\n",
       "    </tr>\n",
       "    <tr>\n",
       "      <th>250</th>\n",
       "      <td>Hard</td>\n",
       "      <td>Henman T.</td>\n",
       "      <td>165</td>\n",
       "      <td>86</td>\n",
       "      <td>251</td>\n",
       "      <td>65.74</td>\n",
       "    </tr>\n",
       "    <tr>\n",
       "      <th>46</th>\n",
       "      <td>Hard</td>\n",
       "      <td>Berdych T.</td>\n",
       "      <td>334</td>\n",
       "      <td>176</td>\n",
       "      <td>510</td>\n",
       "      <td>65.49</td>\n",
       "    </tr>\n",
       "    <tr>\n",
       "      <th>178</th>\n",
       "      <td>Hard</td>\n",
       "      <td>Ferrer D.</td>\n",
       "      <td>310</td>\n",
       "      <td>165</td>\n",
       "      <td>475</td>\n",
       "      <td>65.26</td>\n",
       "    </tr>\n",
       "    <tr>\n",
       "      <th>413</th>\n",
       "      <td>Hard</td>\n",
       "      <td>Monfils G.</td>\n",
       "      <td>227</td>\n",
       "      <td>123</td>\n",
       "      <td>350</td>\n",
       "      <td>64.86</td>\n",
       "    </tr>\n",
       "    <tr>\n",
       "      <th>654</th>\n",
       "      <td>Hard</td>\n",
       "      <td>Wawrinka S.</td>\n",
       "      <td>224</td>\n",
       "      <td>122</td>\n",
       "      <td>346</td>\n",
       "      <td>64.74</td>\n",
       "    </tr>\n",
       "    <tr>\n",
       "      <th>290</th>\n",
       "      <td>Hard</td>\n",
       "      <td>Kafelnikov Y.</td>\n",
       "      <td>112</td>\n",
       "      <td>61</td>\n",
       "      <td>173</td>\n",
       "      <td>64.74</td>\n",
       "    </tr>\n",
       "    <tr>\n",
       "      <th>267</th>\n",
       "      <td>Hard</td>\n",
       "      <td>Isner J.</td>\n",
       "      <td>222</td>\n",
       "      <td>121</td>\n",
       "      <td>343</td>\n",
       "      <td>64.72</td>\n",
       "    </tr>\n",
       "    <tr>\n",
       "      <th>167</th>\n",
       "      <td>Hard</td>\n",
       "      <td>Escude N.</td>\n",
       "      <td>68</td>\n",
       "      <td>38</td>\n",
       "      <td>106</td>\n",
       "      <td>64.15</td>\n",
       "    </tr>\n",
       "    <tr>\n",
       "      <th>569</th>\n",
       "      <td>Hard</td>\n",
       "      <td>Soderling R.</td>\n",
       "      <td>166</td>\n",
       "      <td>93</td>\n",
       "      <td>259</td>\n",
       "      <td>64.09</td>\n",
       "    </tr>\n",
       "    <tr>\n",
       "      <th>235</th>\n",
       "      <td>Hard</td>\n",
       "      <td>Haas T.</td>\n",
       "      <td>271</td>\n",
       "      <td>153</td>\n",
       "      <td>424</td>\n",
       "      <td>63.92</td>\n",
       "    </tr>\n",
       "    <tr>\n",
       "      <th>427</th>\n",
       "      <td>Hard</td>\n",
       "      <td>Nalbandian D.</td>\n",
       "      <td>168</td>\n",
       "      <td>95</td>\n",
       "      <td>263</td>\n",
       "      <td>63.88</td>\n",
       "    </tr>\n",
       "    <tr>\n",
       "      <th>54</th>\n",
       "      <td>Hard</td>\n",
       "      <td>Blake J.</td>\n",
       "      <td>261</td>\n",
       "      <td>152</td>\n",
       "      <td>413</td>\n",
       "      <td>63.20</td>\n",
       "    </tr>\n",
       "    <tr>\n",
       "      <th>335</th>\n",
       "      <td>Hard</td>\n",
       "      <td>Kuerten G.</td>\n",
       "      <td>87</td>\n",
       "      <td>51</td>\n",
       "      <td>138</td>\n",
       "      <td>63.04</td>\n",
       "    </tr>\n",
       "    <tr>\n",
       "      <th>201</th>\n",
       "      <td>Hard</td>\n",
       "      <td>Gasquet R.</td>\n",
       "      <td>251</td>\n",
       "      <td>151</td>\n",
       "      <td>402</td>\n",
       "      <td>62.44</td>\n",
       "    </tr>\n",
       "    <tr>\n",
       "      <th>343</th>\n",
       "      <td>Hard</td>\n",
       "      <td>Kyrgios N.</td>\n",
       "      <td>38</td>\n",
       "      <td>23</td>\n",
       "      <td>61</td>\n",
       "      <td>62.30</td>\n",
       "    </tr>\n",
       "  </tbody>\n",
       "</table>\n",
       "</div>"
      ],
      "text/plain": [
       "    Surface          Player  Count_Win  Count_Lose  total_play  perc_win\n",
       "142    Hard     Djokovic N.        469          82         551     85.12\n",
       "175    Hard      Federer R.        622         124         746     83.38\n",
       "2      Hard       Agassi A.        203          56         259     78.38\n",
       "424    Hard       Murray A.        369         110         479     77.04\n",
       "426    Hard        Nadal R.        363         112         475     76.42\n",
       "509    Hard      Roddick A.        402         136         538     74.72\n",
       "531    Hard      Sampras P.         73          26          99     73.74\n",
       "129    Hard  Del Potro J.M.        220          90         310     70.97\n",
       "257    Hard       Hewitt L.        324         138         462     70.13\n",
       "491    Hard       Raonic M.        165          71         236     69.92\n",
       "484    Hard       Rafter P.         45          20          65     69.23\n",
       "612    Hard     Tsonga J.W.        240         107         347     69.16\n",
       "436    Hard    Nishikori K.        187          91         278     67.27\n",
       "99     Hard        Cilic M.        210         106         316     66.46\n",
       "502    Hard         Rios M.         68          35         103     66.02\n",
       "250    Hard       Henman T.        165          86         251     65.74\n",
       "46     Hard      Berdych T.        334         176         510     65.49\n",
       "178    Hard       Ferrer D.        310         165         475     65.26\n",
       "413    Hard      Monfils G.        227         123         350     64.86\n",
       "654    Hard     Wawrinka S.        224         122         346     64.74\n",
       "290    Hard   Kafelnikov Y.        112          61         173     64.74\n",
       "267    Hard        Isner J.        222         121         343     64.72\n",
       "167    Hard       Escude N.         68          38         106     64.15\n",
       "569    Hard    Soderling R.        166          93         259     64.09\n",
       "235    Hard         Haas T.        271         153         424     63.92\n",
       "427    Hard   Nalbandian D.        168          95         263     63.88\n",
       "54     Hard        Blake J.        261         152         413     63.20\n",
       "335    Hard      Kuerten G.         87          51         138     63.04\n",
       "201    Hard      Gasquet R.        251         151         402     62.44\n",
       "343    Hard      Kyrgios N.         38          23          61     62.30"
      ]
     },
     "execution_count": 18,
     "metadata": {},
     "output_type": "execute_result"
    }
   ],
   "source": [
    "surface.sort_values(by='perc_win', ascending=False).head(30)"
   ]
  },
  {
   "cell_type": "code",
   "execution_count": 19,
   "metadata": {
    "execution": {
     "iopub.execute_input": "2020-05-17T21:41:39.100242Z",
     "iopub.status.busy": "2020-05-17T21:41:39.098695Z",
     "iopub.status.idle": "2020-05-17T21:41:39.101459Z",
     "shell.execute_reply": "2020-05-17T21:41:39.102348Z"
    },
    "papermill": {
     "duration": 0.021212,
     "end_time": "2020-05-17T21:41:39.102506",
     "exception": false,
     "start_time": "2020-05-17T21:41:39.081294",
     "status": "completed"
    },
    "tags": []
   },
   "outputs": [],
   "source": [
    "# Best players on Hard\n",
    "\n",
    "top_Hard = surface[surface.Surface == 'Hard'].sort_values(by='perc_win', ascending = False).head(10)\n",
    "#top_Hard.to_csv('top_hard.csv')"
   ]
  },
  {
   "cell_type": "code",
   "execution_count": 20,
   "metadata": {
    "execution": {
     "iopub.execute_input": "2020-05-17T21:41:39.137124Z",
     "iopub.status.busy": "2020-05-17T21:41:39.135998Z",
     "iopub.status.idle": "2020-05-17T21:41:39.578276Z",
     "shell.execute_reply": "2020-05-17T21:41:39.579547Z"
    },
    "papermill": {
     "duration": 0.464991,
     "end_time": "2020-05-17T21:41:39.579729",
     "exception": false,
     "start_time": "2020-05-17T21:41:39.114738",
     "status": "completed"
    },
    "tags": []
   },
   "outputs": [
    {
     "data": {
      "image/png": "[encoded data removed]",
      "text/plain": [
       "<Figure size 720x360 with 1 Axes>"
      ]
     },
     "metadata": {
      "needs_background": "light"
     },
     "output_type": "display_data"
    }
   ],
   "source": [
    "# plot the graph\n",
    "g=sns.catplot(x='Player', y='perc_win', data=top_Hard, kind='bar', height=5, aspect=2)\n",
    "g.set_xticklabels(labels = top_Hard.Player,  rotation=45)\n",
    "plt.title('Best players on Hard')\n",
    "plt.savefig(tophard1png, bbox_inches='tight')"
   ]
  },
  {
   "cell_type": "code",
   "execution_count": 21,
   "metadata": {
    "execution": {
     "iopub.execute_input": "2020-05-17T21:41:39.628505Z",
     "iopub.status.busy": "2020-05-17T21:41:39.627423Z",
     "iopub.status.idle": "2020-05-17T21:41:40.330507Z",
     "shell.execute_reply": "2020-05-17T21:41:40.331785Z"
    },
    "papermill": {
     "duration": 0.736763,
     "end_time": "2020-05-17T21:41:40.332156",
     "exception": false,
     "start_time": "2020-05-17T21:41:39.595393",
     "status": "completed"
    },
    "tags": []
   },
   "outputs": [
    {
     "data": {
      "image/png": "[encoded data removed]",
      "text/plain": [
       "<Figure size 432x288 with 1 Axes>"
      ]
     },
     "metadata": {
      "needs_background": "light"
     },
     "output_type": "display_data"
    }
   ],
   "source": [
    "top_Hard.plot(x='Player', kind='bar')\n",
    "plt.savefig(tophard2png, bbox_inches='tight')\n"
   ]
  },
  {
   "cell_type": "code",
   "execution_count": 22,
   "metadata": {
    "execution": {
     "iopub.execute_input": "2020-05-17T21:41:40.381618Z",
     "iopub.status.busy": "2020-05-17T21:41:40.380396Z",
     "iopub.status.idle": "2020-05-17T21:41:40.382908Z",
     "shell.execute_reply": "2020-05-17T21:41:40.383734Z"
    },
    "papermill": {
     "duration": 0.025669,
     "end_time": "2020-05-17T21:41:40.383884",
     "exception": false,
     "start_time": "2020-05-17T21:41:40.358215",
     "status": "completed"
    },
    "tags": []
   },
   "outputs": [],
   "source": [
    "#from pandas.plotting import table\n",
    "#ax = plt.subplot(111, frame_on=True) # no visible frame\n",
    "#ax.xaxis.set_visible(False)  # hide the x axis\n",
    "#ax.yaxis.set_visible(False)  # hide the y axis\n",
    "#\n",
    "#table(ax, top_Clay)  # where df is your data frame\n",
    "#\n",
    "#plt.savefig('claytable.png', bbox_inches='tight')"
   ]
  },
  {
   "cell_type": "code",
   "execution_count": 23,
   "metadata": {
    "execution": {
     "iopub.execute_input": "2020-05-17T21:41:40.417276Z",
     "iopub.status.busy": "2020-05-17T21:41:40.416165Z",
     "iopub.status.idle": "2020-05-17T21:41:40.420464Z",
     "shell.execute_reply": "2020-05-17T21:41:40.421699Z"
    },
    "papermill": {
     "duration": 0.023915,
     "end_time": "2020-05-17T21:41:40.421921",
     "exception": false,
     "start_time": "2020-05-17T21:41:40.398006",
     "status": "completed"
    },
    "tags": []
   },
   "outputs": [],
   "source": [
    "top_Hard.to_csv(tophardcsv)"
   ]
  },
  {
   "cell_type": "code",
   "execution_count": null,
   "metadata": {
    "papermill": {
     "duration": 0.0192,
     "end_time": "2020-05-17T21:41:40.459867",
     "exception": false,
     "start_time": "2020-05-17T21:41:40.440667",
     "status": "completed"
    },
    "tags": []
   },
   "outputs": [],
   "source": []
  }
 ],
 "metadata": {
  "celltoolbar": "Tags",
  "kernelspec": {
   "display_name": "Python 3",
   "language": "python",
   "name": "python3"
  },
  "language_info": {
   "codemirror_mode": {
    "name": "ipython",
    "version": 3
   },
   "file_extension": ".py",
   "mimetype": "text/x-python",
   "name": "python",
   "nbconvert_exporter": "python",
   "pygments_lexer": "ipython3",
   "version": "3.7.4"
  },
  "papermill": {
   "duration": 5.001893,
   "end_time": "2020-05-17T21:41:40.598491",
   "environment_variables": {},
   "exception": null,
   "input_path": "/Users/psehgal/dev/airflow_home/Tennis_Data_Pipeline_Airflow_Project/jupyter_notebooks/atp_top_hardsurface.ipynb",
   "output_path": "/Users/psehgal/dev/airflow_home/Tennis_Data_Pipeline_Airflow_Project/jupyter_notebooks/atp_top_hardsurface_ouput.ipynb",
   "parameters": {
    "file_name": "/Users/psehgal/atp_test/Data_hard.csv",
    "tophard1png": "/Users/psehgal/dev/airflow_home/Tennis_Data_Pipeline_airflow_Project/images_for_reports/tophard1png.png",
    "tophard2png": "/Users/psehgal/dev/airflow_home/Tennis_Data_Pipeline_airflow_Project/images_for_reports/tophard2png.png",
    "tophard3csv": "/Users/psehgal/dev/airflow_home/Tennis_Data_Pipeline_Airflow_Project/images_for_reports/tophardcsv.csv"
   },
   "start_time": "2020-05-17T21:41:35.596598",
   "version": "2.1.1"
  }
 },
 "nbformat": 4,
 "nbformat_minor": 1
}