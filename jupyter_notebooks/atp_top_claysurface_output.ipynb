{
 "cells": [
  {
   "cell_type": "code",
   "execution_count": 1,
   "metadata": {
    "_cell_guid": "b1076dfc-b9ad-4769-8c92-a6c4dae69d19",
    "_uuid": "8f2839f25d086af736a60e9eeb907d3b93b6e0e5",
    "execution": {
     "iopub.execute_input": "2020-05-17T21:41:10.968301Z",
     "iopub.status.busy": "2020-05-17T21:41:10.964788Z",
     "iopub.status.idle": "2020-05-17T21:41:12.707221Z",
     "shell.execute_reply": "2020-05-17T21:41:12.708266Z"
    },
    "papermill": {
     "duration": 1.8559,
     "end_time": "2020-05-17T21:41:12.708673",
     "exception": false,
     "start_time": "2020-05-17T21:41:10.852773",
     "status": "completed"
    },
    "tags": []
   },
   "outputs": [],
   "source": [
    "import numpy as np\n",
    "import pandas as pd\n",
    "import matplotlib.pyplot as plt\n",
    "from matplotlib.pyplot import xticks\n",
    "from scipy.stats import skew\n",
    "import seaborn as sns\n",
    "import os\n",
    "#from fpdf import FPDF\n"
   ]
  },
  {
   "cell_type": "code",
   "execution_count": 2,
   "metadata": {
    "execution": {
     "iopub.execute_input": "2020-05-17T21:41:12.746067Z",
     "iopub.status.busy": "2020-05-17T21:41:12.744812Z",
     "iopub.status.idle": "2020-05-17T21:41:12.747170Z",
     "shell.execute_reply": "2020-05-17T21:41:12.747983Z"
    },
    "papermill": {
     "duration": 0.020835,
     "end_time": "2020-05-17T21:41:12.748127",
     "exception": false,
     "start_time": "2020-05-17T21:41:12.727292",
     "status": "completed"
    },
    "tags": [
     "parameters"
    ]
   },
   "outputs": [],
   "source": [
    "#file_path1={'file_name': '/Users/psehgal/Data.csv'}\n",
    "#file_location = file_path1['file_name'] \n",
    "file_name = '/Users/psehgal/atp_test/Data_clay.csv'\n",
    "topclay1png = '/Users/psehgal/dev/airflow_home/Tennis_Data_Pipeline_airflow_Project/images_for_reports/topclay1png.png'\n",
    "topclay2png = '/Users/psehgal/dev/airflow_home/Tennis_Data_Pipeline_airflow_Project/images_for_reports/topclay2png.png'\n",
    "topclaycsv = '/Users/psehgal/dev/airflow_home/Tennis_Data_Pipeline_airflow_Project/images_for_reports/topclaycsv.csv'\n"
   ]
  },
  {
   "cell_type": "code",
   "execution_count": 3,
   "metadata": {
    "execution": {
     "iopub.execute_input": "2020-05-17T21:41:12.778443Z",
     "iopub.status.busy": "2020-05-17T21:41:12.775672Z",
     "iopub.status.idle": "2020-05-17T21:41:12.779636Z",
     "shell.execute_reply": "2020-05-17T21:41:12.781103Z"
    },
    "papermill": {
     "duration": 0.022962,
     "end_time": "2020-05-17T21:41:12.781275",
     "exception": false,
     "start_time": "2020-05-17T21:41:12.758313",
     "status": "completed"
    },
    "tags": [
     "injected-parameters"
    ]
   },
   "outputs": [],
   "source": [
    "# Parameters\n",
    "file_name = \"/Users/psehgal/atp_test/Data_clay.csv\"\n",
    "topclay1png = \"/Users/psehgal/dev/airflow_home/Tennis_Data_Pipeline_airflow_Project/images_for_reports/topclay1png.png\"\n",
    "topclay2png = \"/Users/psehgal/dev/airflow_home/Tennis_Data_Pipeline_airflow_Project/images_for_reports/topclay2png.png\"\n",
    "topclay3csv = \"/Users/psehgal/dev/airflow_home/Tennis_Data_Pipeline_Airflow_Project/images_for_reports/topclaycsv.csv\"\n"
   ]
  },
  {
   "cell_type": "code",
   "execution_count": 4,
   "metadata": {
    "_uuid": "0a8931240e7c2fc0e524bd770a0b4f20e42ce1f4",
    "execution": {
     "iopub.execute_input": "2020-05-17T21:41:12.851636Z",
     "iopub.status.busy": "2020-05-17T21:41:12.849425Z",
     "iopub.status.idle": "2020-05-17T21:41:13.026928Z",
     "shell.execute_reply": "2020-05-17T21:41:13.028516Z"
    },
    "papermill": {
     "duration": 0.213781,
     "end_time": "2020-05-17T21:41:13.028724",
     "exception": false,
     "start_time": "2020-05-17T21:41:12.814943",
     "status": "completed"
    },
    "tags": []
   },
   "outputs": [],
   "source": [
    "#data = pd.read_csv('/Users/psehgal/dev/airflow_home/kaggleatpdata.csv', dtype='unicode')\n",
    "data = pd.read_csv(file_name, encoding = 'ISO-8859-1')"
   ]
  },
  {
   "cell_type": "code",
   "execution_count": 5,
   "metadata": {
    "_uuid": "05fc6bfaa59d8f8a8e248386d620a6fbffeb4996",
    "execution": {
     "iopub.execute_input": "2020-05-17T21:41:13.068441Z",
     "iopub.status.busy": "2020-05-17T21:41:13.061452Z",
     "iopub.status.idle": "2020-05-17T21:41:13.105795Z",
     "shell.execute_reply": "2020-05-17T21:41:13.108435Z"
    },
    "papermill": {
     "duration": 0.070242,
     "end_time": "2020-05-17T21:41:13.111757",
     "exception": false,
     "start_time": "2020-05-17T21:41:13.041515",
     "status": "completed"
    },
    "tags": []
   },
   "outputs": [
    {
     "data": {
      "text/html": [
       "<div>\n",
       "<style scoped>\n",
       "    .dataframe tbody tr th:only-of-type {\n",
       "        vertical-align: middle;\n",
       "    }\n",
       "\n",
       "    .dataframe tbody tr th {\n",
       "        vertical-align: top;\n",
       "    }\n",
       "\n",
       "    .dataframe thead th {\n",
       "        text-align: right;\n",
       "    }\n",
       "</style>\n",
       "<table border=\"1\" class=\"dataframe\">\n",
       "  <thead>\n",
       "    <tr style=\"text-align: right;\">\n",
       "      <th></th>\n",
       "      <th>Unnamed: 0</th>\n",
       "      <th>Unnamed: 0.1</th>\n",
       "      <th>ATP</th>\n",
       "      <th>Location</th>\n",
       "      <th>Tournament</th>\n",
       "      <th>Date</th>\n",
       "      <th>Series</th>\n",
       "      <th>Court</th>\n",
       "      <th>Surface</th>\n",
       "      <th>Round</th>\n",
       "      <th>...</th>\n",
       "      <th>L2</th>\n",
       "      <th>W3</th>\n",
       "      <th>L3</th>\n",
       "      <th>W4</th>\n",
       "      <th>L4</th>\n",
       "      <th>W5</th>\n",
       "      <th>L5</th>\n",
       "      <th>Wsets</th>\n",
       "      <th>Lsets</th>\n",
       "      <th>Comment</th>\n",
       "    </tr>\n",
       "  </thead>\n",
       "  <tbody>\n",
       "    <tr>\n",
       "      <th>0</th>\n",
       "      <td>484</td>\n",
       "      <td>484</td>\n",
       "      <td>13</td>\n",
       "      <td>Mexico City</td>\n",
       "      <td>Mexican Open</td>\n",
       "      <td>21/02/2000</td>\n",
       "      <td>International Gold</td>\n",
       "      <td>Outdoor</td>\n",
       "      <td>Clay</td>\n",
       "      <td>1st Round</td>\n",
       "      <td>...</td>\n",
       "      <td>4.0</td>\n",
       "      <td>NaN</td>\n",
       "      <td>NaN</td>\n",
       "      <td>NaN</td>\n",
       "      <td>NaN</td>\n",
       "      <td>NaN</td>\n",
       "      <td>NaN</td>\n",
       "      <td>2.0</td>\n",
       "      <td>0.0</td>\n",
       "      <td>Completed</td>\n",
       "    </tr>\n",
       "    <tr>\n",
       "      <th>1</th>\n",
       "      <td>485</td>\n",
       "      <td>485</td>\n",
       "      <td>13</td>\n",
       "      <td>Mexico City</td>\n",
       "      <td>Mexican Open</td>\n",
       "      <td>21/02/2000</td>\n",
       "      <td>International Gold</td>\n",
       "      <td>Outdoor</td>\n",
       "      <td>Clay</td>\n",
       "      <td>1st Round</td>\n",
       "      <td>...</td>\n",
       "      <td>NaN</td>\n",
       "      <td>NaN</td>\n",
       "      <td>NaN</td>\n",
       "      <td>NaN</td>\n",
       "      <td>NaN</td>\n",
       "      <td>NaN</td>\n",
       "      <td>NaN</td>\n",
       "      <td>0.0</td>\n",
       "      <td>0.0</td>\n",
       "      <td>Retired</td>\n",
       "    </tr>\n",
       "    <tr>\n",
       "      <th>2</th>\n",
       "      <td>486</td>\n",
       "      <td>486</td>\n",
       "      <td>13</td>\n",
       "      <td>Mexico City</td>\n",
       "      <td>Mexican Open</td>\n",
       "      <td>21/02/2000</td>\n",
       "      <td>International Gold</td>\n",
       "      <td>Outdoor</td>\n",
       "      <td>Clay</td>\n",
       "      <td>1st Round</td>\n",
       "      <td>...</td>\n",
       "      <td>3.0</td>\n",
       "      <td>NaN</td>\n",
       "      <td>NaN</td>\n",
       "      <td>NaN</td>\n",
       "      <td>NaN</td>\n",
       "      <td>NaN</td>\n",
       "      <td>NaN</td>\n",
       "      <td>2.0</td>\n",
       "      <td>0.0</td>\n",
       "      <td>Completed</td>\n",
       "    </tr>\n",
       "    <tr>\n",
       "      <th>3</th>\n",
       "      <td>487</td>\n",
       "      <td>487</td>\n",
       "      <td>13</td>\n",
       "      <td>Mexico City</td>\n",
       "      <td>Mexican Open</td>\n",
       "      <td>21/02/2000</td>\n",
       "      <td>International Gold</td>\n",
       "      <td>Outdoor</td>\n",
       "      <td>Clay</td>\n",
       "      <td>1st Round</td>\n",
       "      <td>...</td>\n",
       "      <td>2.0</td>\n",
       "      <td>6.0</td>\n",
       "      <td>4.0</td>\n",
       "      <td>NaN</td>\n",
       "      <td>NaN</td>\n",
       "      <td>NaN</td>\n",
       "      <td>NaN</td>\n",
       "      <td>2.0</td>\n",
       "      <td>1.0</td>\n",
       "      <td>Completed</td>\n",
       "    </tr>\n",
       "    <tr>\n",
       "      <th>4</th>\n",
       "      <td>488</td>\n",
       "      <td>488</td>\n",
       "      <td>13</td>\n",
       "      <td>Mexico City</td>\n",
       "      <td>Mexican Open</td>\n",
       "      <td>21/02/2000</td>\n",
       "      <td>International Gold</td>\n",
       "      <td>Outdoor</td>\n",
       "      <td>Clay</td>\n",
       "      <td>1st Round</td>\n",
       "      <td>...</td>\n",
       "      <td>1.0</td>\n",
       "      <td>NaN</td>\n",
       "      <td>NaN</td>\n",
       "      <td>NaN</td>\n",
       "      <td>NaN</td>\n",
       "      <td>NaN</td>\n",
       "      <td>NaN</td>\n",
       "      <td>2.0</td>\n",
       "      <td>0.0</td>\n",
       "      <td>Completed</td>\n",
       "    </tr>\n",
       "    <tr>\n",
       "      <th>...</th>\n",
       "      <td>...</td>\n",
       "      <td>...</td>\n",
       "      <td>...</td>\n",
       "      <td>...</td>\n",
       "      <td>...</td>\n",
       "      <td>...</td>\n",
       "      <td>...</td>\n",
       "      <td>...</td>\n",
       "      <td>...</td>\n",
       "      <td>...</td>\n",
       "      <td>...</td>\n",
       "      <td>...</td>\n",
       "      <td>...</td>\n",
       "      <td>...</td>\n",
       "      <td>...</td>\n",
       "      <td>...</td>\n",
       "      <td>...</td>\n",
       "      <td>...</td>\n",
       "      <td>...</td>\n",
       "      <td>...</td>\n",
       "      <td>...</td>\n",
       "    </tr>\n",
       "    <tr>\n",
       "      <th>15423</th>\n",
       "      <td>46208</td>\n",
       "      <td>46208</td>\n",
       "      <td>45</td>\n",
       "      <td>Umag</td>\n",
       "      <td>Konzum Croatia Open</td>\n",
       "      <td>22/07/2016</td>\n",
       "      <td>ATP250</td>\n",
       "      <td>Outdoor</td>\n",
       "      <td>Clay</td>\n",
       "      <td>Quarterfinals</td>\n",
       "      <td>...</td>\n",
       "      <td>6.0</td>\n",
       "      <td>6.0</td>\n",
       "      <td>2.0</td>\n",
       "      <td>NaN</td>\n",
       "      <td>NaN</td>\n",
       "      <td>NaN</td>\n",
       "      <td>NaN</td>\n",
       "      <td>2.0</td>\n",
       "      <td>1.0</td>\n",
       "      <td>Completed</td>\n",
       "    </tr>\n",
       "    <tr>\n",
       "      <th>15424</th>\n",
       "      <td>46209</td>\n",
       "      <td>46209</td>\n",
       "      <td>45</td>\n",
       "      <td>Umag</td>\n",
       "      <td>Konzum Croatia Open</td>\n",
       "      <td>22/07/2016</td>\n",
       "      <td>ATP250</td>\n",
       "      <td>Outdoor</td>\n",
       "      <td>Clay</td>\n",
       "      <td>Quarterfinals</td>\n",
       "      <td>...</td>\n",
       "      <td>1.0</td>\n",
       "      <td>6.0</td>\n",
       "      <td>1.0</td>\n",
       "      <td>NaN</td>\n",
       "      <td>NaN</td>\n",
       "      <td>NaN</td>\n",
       "      <td>NaN</td>\n",
       "      <td>2.0</td>\n",
       "      <td>1.0</td>\n",
       "      <td>Completed</td>\n",
       "    </tr>\n",
       "    <tr>\n",
       "      <th>15425</th>\n",
       "      <td>46210</td>\n",
       "      <td>46210</td>\n",
       "      <td>45</td>\n",
       "      <td>Umag</td>\n",
       "      <td>Konzum Croatia Open</td>\n",
       "      <td>23/07/2016</td>\n",
       "      <td>ATP250</td>\n",
       "      <td>Outdoor</td>\n",
       "      <td>Clay</td>\n",
       "      <td>Semifinals</td>\n",
       "      <td>...</td>\n",
       "      <td>4.0</td>\n",
       "      <td>NaN</td>\n",
       "      <td>NaN</td>\n",
       "      <td>NaN</td>\n",
       "      <td>NaN</td>\n",
       "      <td>NaN</td>\n",
       "      <td>NaN</td>\n",
       "      <td>2.0</td>\n",
       "      <td>0.0</td>\n",
       "      <td>Completed</td>\n",
       "    </tr>\n",
       "    <tr>\n",
       "      <th>15426</th>\n",
       "      <td>46211</td>\n",
       "      <td>46211</td>\n",
       "      <td>45</td>\n",
       "      <td>Umag</td>\n",
       "      <td>Konzum Croatia Open</td>\n",
       "      <td>23/07/2016</td>\n",
       "      <td>ATP250</td>\n",
       "      <td>Outdoor</td>\n",
       "      <td>Clay</td>\n",
       "      <td>Semifinals</td>\n",
       "      <td>...</td>\n",
       "      <td>3.0</td>\n",
       "      <td>NaN</td>\n",
       "      <td>NaN</td>\n",
       "      <td>NaN</td>\n",
       "      <td>NaN</td>\n",
       "      <td>NaN</td>\n",
       "      <td>NaN</td>\n",
       "      <td>2.0</td>\n",
       "      <td>0.0</td>\n",
       "      <td>Completed</td>\n",
       "    </tr>\n",
       "    <tr>\n",
       "      <th>15427</th>\n",
       "      <td>46212</td>\n",
       "      <td>46212</td>\n",
       "      <td>45</td>\n",
       "      <td>Umag</td>\n",
       "      <td>Konzum Croatia Open</td>\n",
       "      <td>24/07/2016</td>\n",
       "      <td>ATP250</td>\n",
       "      <td>Outdoor</td>\n",
       "      <td>Clay</td>\n",
       "      <td>The Final</td>\n",
       "      <td>...</td>\n",
       "      <td>1.0</td>\n",
       "      <td>NaN</td>\n",
       "      <td>NaN</td>\n",
       "      <td>NaN</td>\n",
       "      <td>NaN</td>\n",
       "      <td>NaN</td>\n",
       "      <td>NaN</td>\n",
       "      <td>2.0</td>\n",
       "      <td>0.0</td>\n",
       "      <td>Completed</td>\n",
       "    </tr>\n",
       "  </tbody>\n",
       "</table>\n",
       "<p>15428 rows × 28 columns</p>\n",
       "</div>"
      ],
      "text/plain": [
       "       Unnamed: 0  Unnamed: 0.1  ATP     Location           Tournament  \\\n",
       "0             484           484   13  Mexico City         Mexican Open   \n",
       "1             485           485   13  Mexico City         Mexican Open   \n",
       "2             486           486   13  Mexico City         Mexican Open   \n",
       "3             487           487   13  Mexico City         Mexican Open   \n",
       "4             488           488   13  Mexico City         Mexican Open   \n",
       "...           ...           ...  ...          ...                  ...   \n",
       "15423       46208         46208   45         Umag  Konzum Croatia Open   \n",
       "15424       46209         46209   45         Umag  Konzum Croatia Open   \n",
       "15425       46210         46210   45         Umag  Konzum Croatia Open   \n",
       "15426       46211         46211   45         Umag  Konzum Croatia Open   \n",
       "15427       46212         46212   45         Umag  Konzum Croatia Open   \n",
       "\n",
       "             Date              Series    Court Surface          Round  ...  \\\n",
       "0      21/02/2000  International Gold  Outdoor    Clay      1st Round  ...   \n",
       "1      21/02/2000  International Gold  Outdoor    Clay      1st Round  ...   \n",
       "2      21/02/2000  International Gold  Outdoor    Clay      1st Round  ...   \n",
       "3      21/02/2000  International Gold  Outdoor    Clay      1st Round  ...   \n",
       "4      21/02/2000  International Gold  Outdoor    Clay      1st Round  ...   \n",
       "...           ...                 ...      ...     ...            ...  ...   \n",
       "15423  22/07/2016              ATP250  Outdoor    Clay  Quarterfinals  ...   \n",
       "15424  22/07/2016              ATP250  Outdoor    Clay  Quarterfinals  ...   \n",
       "15425  23/07/2016              ATP250  Outdoor    Clay     Semifinals  ...   \n",
       "15426  23/07/2016              ATP250  Outdoor    Clay     Semifinals  ...   \n",
       "15427  24/07/2016              ATP250  Outdoor    Clay      The Final  ...   \n",
       "\n",
       "        L2   W3   L3  W4  L4  W5  L5  Wsets  Lsets    Comment  \n",
       "0      4.0  NaN  NaN NaN NaN NaN NaN    2.0    0.0  Completed  \n",
       "1      NaN  NaN  NaN NaN NaN NaN NaN    0.0    0.0    Retired  \n",
       "2      3.0  NaN  NaN NaN NaN NaN NaN    2.0    0.0  Completed  \n",
       "3      2.0  6.0  4.0 NaN NaN NaN NaN    2.0    1.0  Completed  \n",
       "4      1.0  NaN  NaN NaN NaN NaN NaN    2.0    0.0  Completed  \n",
       "...    ...  ...  ...  ..  ..  ..  ..    ...    ...        ...  \n",
       "15423  6.0  6.0  2.0 NaN NaN NaN NaN    2.0    1.0  Completed  \n",
       "15424  1.0  6.0  1.0 NaN NaN NaN NaN    2.0    1.0  Completed  \n",
       "15425  4.0  NaN  NaN NaN NaN NaN NaN    2.0    0.0  Completed  \n",
       "15426  3.0  NaN  NaN NaN NaN NaN NaN    2.0    0.0  Completed  \n",
       "15427  1.0  NaN  NaN NaN NaN NaN NaN    2.0    0.0  Completed  \n",
       "\n",
       "[15428 rows x 28 columns]"
      ]
     },
     "execution_count": 5,
     "metadata": {},
     "output_type": "execute_result"
    }
   ],
   "source": [
    "data"
   ]
  },
  {
   "cell_type": "code",
   "execution_count": 6,
   "metadata": {
    "_uuid": "35bac39d0eb0df67bd9b060ff1fe40961d192d8a",
    "execution": {
     "iopub.execute_input": "2020-05-17T21:41:13.251848Z",
     "iopub.status.busy": "2020-05-17T21:41:13.229081Z",
     "iopub.status.idle": "2020-05-17T21:41:13.260686Z",
     "shell.execute_reply": "2020-05-17T21:41:13.257800Z"
    },
    "papermill": {
     "duration": 0.091662,
     "end_time": "2020-05-17T21:41:13.261096",
     "exception": false,
     "start_time": "2020-05-17T21:41:13.169434",
     "status": "completed"
    },
    "tags": []
   },
   "outputs": [
    {
     "data": {
      "text/plain": [
       "array(['International Gold', 'International', 'Masters', 'Grand Slam',\n",
       "       'International Series', 'ATP250', 'ATP500', 'Masters 1000'],\n",
       "      dtype=object)"
      ]
     },
     "execution_count": 6,
     "metadata": {},
     "output_type": "execute_result"
    }
   ],
   "source": [
    "data.Series.unique()"
   ]
  },
  {
   "cell_type": "code",
   "execution_count": 7,
   "metadata": {
    "execution": {
     "iopub.execute_input": "2020-05-17T21:41:13.411926Z",
     "iopub.status.busy": "2020-05-17T21:41:13.404383Z",
     "iopub.status.idle": "2020-05-17T21:41:13.414587Z",
     "shell.execute_reply": "2020-05-17T21:41:13.415565Z"
    },
    "papermill": {
     "duration": 0.127365,
     "end_time": "2020-05-17T21:41:13.415788",
     "exception": false,
     "start_time": "2020-05-17T21:41:13.288423",
     "status": "completed"
    },
    "tags": []
   },
   "outputs": [],
   "source": [
    "# Best 10 players on clay, grass, and hard surfaces"
   ]
  },
  {
   "cell_type": "code",
   "execution_count": 8,
   "metadata": {
    "execution": {
     "iopub.execute_input": "2020-05-17T21:41:13.480152Z",
     "iopub.status.busy": "2020-05-17T21:41:13.478413Z",
     "iopub.status.idle": "2020-05-17T21:41:13.484215Z",
     "shell.execute_reply": "2020-05-17T21:41:13.481836Z"
    },
    "papermill": {
     "duration": 0.039401,
     "end_time": "2020-05-17T21:41:13.484661",
     "exception": false,
     "start_time": "2020-05-17T21:41:13.445260",
     "status": "completed"
    },
    "tags": []
   },
   "outputs": [],
   "source": [
    "# df with column names\n",
    "surface = data[['Surface', 'Winner', 'Loser']]"
   ]
  },
  {
   "cell_type": "code",
   "execution_count": 9,
   "metadata": {
    "execution": {
     "iopub.execute_input": "2020-05-17T21:41:13.552223Z",
     "iopub.status.busy": "2020-05-17T21:41:13.549014Z",
     "iopub.status.idle": "2020-05-17T21:41:13.557702Z",
     "shell.execute_reply": "2020-05-17T21:41:13.556791Z"
    },
    "papermill": {
     "duration": 0.046954,
     "end_time": "2020-05-17T21:41:13.557834",
     "exception": false,
     "start_time": "2020-05-17T21:41:13.510880",
     "status": "completed"
    },
    "tags": []
   },
   "outputs": [
    {
     "data": {
      "text/plain": [
       "(15428, 3)"
      ]
     },
     "execution_count": 9,
     "metadata": {},
     "output_type": "execute_result"
    }
   ],
   "source": [
    "surface.shape"
   ]
  },
  {
   "cell_type": "code",
   "execution_count": 10,
   "metadata": {
    "execution": {
     "iopub.execute_input": "2020-05-17T21:41:13.589678Z",
     "iopub.status.busy": "2020-05-17T21:41:13.588144Z",
     "iopub.status.idle": "2020-05-17T21:41:13.590950Z",
     "shell.execute_reply": "2020-05-17T21:41:13.591901Z"
    },
    "papermill": {
     "duration": 0.021414,
     "end_time": "2020-05-17T21:41:13.592060",
     "exception": false,
     "start_time": "2020-05-17T21:41:13.570646",
     "status": "completed"
    },
    "tags": []
   },
   "outputs": [],
   "source": [
    "# create 2 df for winner and looser and change the column names to player\n",
    "surface_w = surface[['Surface', 'Winner']]\n",
    "surface_l = surface[['Surface', 'Loser']]\n",
    "surface_w.columns = ['Surface', 'Player']\n",
    "surface_l.columns = ['Surface', 'Player']"
   ]
  },
  {
   "cell_type": "code",
   "execution_count": 11,
   "metadata": {
    "execution": {
     "iopub.execute_input": "2020-05-17T21:41:13.623733Z",
     "iopub.status.busy": "2020-05-17T21:41:13.622194Z",
     "iopub.status.idle": "2020-05-17T21:41:13.624938Z",
     "shell.execute_reply": "2020-05-17T21:41:13.625770Z"
    },
    "papermill": {
     "duration": 0.02225,
     "end_time": "2020-05-17T21:41:13.625911",
     "exception": false,
     "start_time": "2020-05-17T21:41:13.603661",
     "status": "completed"
    },
    "tags": []
   },
   "outputs": [],
   "source": [
    "# add 1 more column to the df and fill with sequential nums from 1 to length of df\n",
    "surface_w['idx'] = range(1, len(surface_w) + 1)\n",
    "surface_l['idx'] = range(1, len(surface_l) + 1)"
   ]
  },
  {
   "cell_type": "code",
   "execution_count": 12,
   "metadata": {
    "execution": {
     "iopub.execute_input": "2020-05-17T21:41:13.655355Z",
     "iopub.status.busy": "2020-05-17T21:41:13.653916Z",
     "iopub.status.idle": "2020-05-17T21:41:13.664313Z",
     "shell.execute_reply": "2020-05-17T21:41:13.665910Z"
    },
    "papermill": {
     "duration": 0.028998,
     "end_time": "2020-05-17T21:41:13.666111",
     "exception": false,
     "start_time": "2020-05-17T21:41:13.637113",
     "status": "completed"
    },
    "tags": []
   },
   "outputs": [],
   "source": [
    "# count the num of winning matches for every surface and player combination \n",
    "surface_w = surface_w.groupby(['Surface', 'Player']).count()\n",
    "surface_w = surface_w.reset_index()\n",
    "surface_w.columns = ['Surface', 'Player', 'Count_Win']\n"
   ]
  },
  {
   "cell_type": "code",
   "execution_count": 13,
   "metadata": {
    "execution": {
     "iopub.execute_input": "2020-05-17T21:41:13.699965Z",
     "iopub.status.busy": "2020-05-17T21:41:13.697960Z",
     "iopub.status.idle": "2020-05-17T21:41:13.707394Z",
     "shell.execute_reply": "2020-05-17T21:41:13.708459Z"
    },
    "papermill": {
     "duration": 0.029633,
     "end_time": "2020-05-17T21:41:13.708621",
     "exception": false,
     "start_time": "2020-05-17T21:41:13.678988",
     "status": "completed"
    },
    "tags": []
   },
   "outputs": [],
   "source": [
    "# count the num of lost matches for every surface and player combination\n",
    "surface_l = surface_l.groupby(['Surface', 'Player']).count()\n",
    "surface_l = surface_l.reset_index()\n",
    "surface_l.columns = ['Surface', 'Player', 'Count_Lose']"
   ]
  },
  {
   "cell_type": "code",
   "execution_count": 14,
   "metadata": {
    "execution": {
     "iopub.execute_input": "2020-05-17T21:41:13.739286Z",
     "iopub.status.busy": "2020-05-17T21:41:13.738125Z",
     "iopub.status.idle": "2020-05-17T21:41:13.743203Z",
     "shell.execute_reply": "2020-05-17T21:41:13.744386Z"
    },
    "papermill": {
     "duration": 0.024106,
     "end_time": "2020-05-17T21:41:13.744602",
     "exception": false,
     "start_time": "2020-05-17T21:41:13.720496",
     "status": "completed"
    },
    "tags": []
   },
   "outputs": [],
   "source": [
    "surface = pd.merge(surface_w, surface_l, on=['Surface', 'Player'])"
   ]
  },
  {
   "cell_type": "code",
   "execution_count": 15,
   "metadata": {
    "execution": {
     "iopub.execute_input": "2020-05-17T21:41:13.789785Z",
     "iopub.status.busy": "2020-05-17T21:41:13.788225Z",
     "iopub.status.idle": "2020-05-17T21:41:13.828169Z",
     "shell.execute_reply": "2020-05-17T21:41:13.830271Z"
    },
    "papermill": {
     "duration": 0.066067,
     "end_time": "2020-05-17T21:41:13.830522",
     "exception": false,
     "start_time": "2020-05-17T21:41:13.764455",
     "status": "completed"
    },
    "tags": []
   },
   "outputs": [],
   "source": [
    "surface['total_play'] = surface['Count_Win'] + surface['Count_Lose']"
   ]
  },
  {
   "cell_type": "code",
   "execution_count": 16,
   "metadata": {
    "execution": {
     "iopub.execute_input": "2020-05-17T21:41:13.957807Z",
     "iopub.status.busy": "2020-05-17T21:41:13.955612Z",
     "iopub.status.idle": "2020-05-17T21:41:13.966601Z",
     "shell.execute_reply": "2020-05-17T21:41:13.960603Z"
    },
    "papermill": {
     "duration": 0.109934,
     "end_time": "2020-05-17T21:41:13.966836",
     "exception": false,
     "start_time": "2020-05-17T21:41:13.856902",
     "status": "completed"
    },
    "tags": []
   },
   "outputs": [],
   "source": [
    "surface['perc_win'] = round(surface['Count_Win'] / surface['total_play'],4)*100"
   ]
  },
  {
   "cell_type": "code",
   "execution_count": 17,
   "metadata": {
    "execution": {
     "iopub.execute_input": "2020-05-17T21:41:14.008054Z",
     "iopub.status.busy": "2020-05-17T21:41:14.006521Z",
     "iopub.status.idle": "2020-05-17T21:41:14.010001Z",
     "shell.execute_reply": "2020-05-17T21:41:14.009146Z"
    },
    "papermill": {
     "duration": 0.021004,
     "end_time": "2020-05-17T21:41:14.010129",
     "exception": false,
     "start_time": "2020-05-17T21:41:13.989125",
     "status": "completed"
    },
    "tags": []
   },
   "outputs": [],
   "source": [
    "surface = surface[surface.total_play > 50]"
   ]
  },
  {
   "cell_type": "code",
   "execution_count": 18,
   "metadata": {
    "execution": {
     "iopub.execute_input": "2020-05-17T21:41:14.053802Z",
     "iopub.status.busy": "2020-05-17T21:41:14.042817Z",
     "iopub.status.idle": "2020-05-17T21:41:14.060073Z",
     "shell.execute_reply": "2020-05-17T21:41:14.060949Z"
    },
    "papermill": {
     "duration": 0.0386,
     "end_time": "2020-05-17T21:41:14.061133",
     "exception": false,
     "start_time": "2020-05-17T21:41:14.022533",
     "status": "completed"
    },
    "tags": []
   },
   "outputs": [
    {
     "data": {
      "text/html": [
       "<div>\n",
       "<style scoped>\n",
       "    .dataframe tbody tr th:only-of-type {\n",
       "        vertical-align: middle;\n",
       "    }\n",
       "\n",
       "    .dataframe tbody tr th {\n",
       "        vertical-align: top;\n",
       "    }\n",
       "\n",
       "    .dataframe thead th {\n",
       "        text-align: right;\n",
       "    }\n",
       "</style>\n",
       "<table border=\"1\" class=\"dataframe\">\n",
       "  <thead>\n",
       "    <tr style=\"text-align: right;\">\n",
       "      <th></th>\n",
       "      <th>Surface</th>\n",
       "      <th>Player</th>\n",
       "      <th>Count_Win</th>\n",
       "      <th>Count_Lose</th>\n",
       "      <th>total_play</th>\n",
       "      <th>perc_win</th>\n",
       "    </tr>\n",
       "  </thead>\n",
       "  <tbody>\n",
       "    <tr>\n",
       "      <th>396</th>\n",
       "      <td>Clay</td>\n",
       "      <td>Nadal R.</td>\n",
       "      <td>351</td>\n",
       "      <td>35</td>\n",
       "      <td>386</td>\n",
       "      <td>90.93</td>\n",
       "    </tr>\n",
       "    <tr>\n",
       "      <th>135</th>\n",
       "      <td>Clay</td>\n",
       "      <td>Djokovic N.</td>\n",
       "      <td>169</td>\n",
       "      <td>39</td>\n",
       "      <td>208</td>\n",
       "      <td>81.25</td>\n",
       "    </tr>\n",
       "    <tr>\n",
       "      <th>165</th>\n",
       "      <td>Clay</td>\n",
       "      <td>Federer R.</td>\n",
       "      <td>203</td>\n",
       "      <td>60</td>\n",
       "      <td>263</td>\n",
       "      <td>77.19</td>\n",
       "    </tr>\n",
       "    <tr>\n",
       "      <th>304</th>\n",
       "      <td>Clay</td>\n",
       "      <td>Kuerten G.</td>\n",
       "      <td>105</td>\n",
       "      <td>40</td>\n",
       "      <td>145</td>\n",
       "      <td>72.41</td>\n",
       "    </tr>\n",
       "    <tr>\n",
       "      <th>169</th>\n",
       "      <td>Clay</td>\n",
       "      <td>Ferrero J.C.</td>\n",
       "      <td>221</td>\n",
       "      <td>86</td>\n",
       "      <td>307</td>\n",
       "      <td>71.99</td>\n",
       "    </tr>\n",
       "    <tr>\n",
       "      <th>405</th>\n",
       "      <td>Clay</td>\n",
       "      <td>Nishikori K.</td>\n",
       "      <td>60</td>\n",
       "      <td>24</td>\n",
       "      <td>84</td>\n",
       "      <td>71.43</td>\n",
       "    </tr>\n",
       "    <tr>\n",
       "      <th>550</th>\n",
       "      <td>Clay</td>\n",
       "      <td>Thiem D.</td>\n",
       "      <td>59</td>\n",
       "      <td>24</td>\n",
       "      <td>83</td>\n",
       "      <td>71.08</td>\n",
       "    </tr>\n",
       "    <tr>\n",
       "      <th>100</th>\n",
       "      <td>Clay</td>\n",
       "      <td>Coria G.</td>\n",
       "      <td>129</td>\n",
       "      <td>53</td>\n",
       "      <td>182</td>\n",
       "      <td>70.88</td>\n",
       "    </tr>\n",
       "    <tr>\n",
       "      <th>168</th>\n",
       "      <td>Clay</td>\n",
       "      <td>Ferrer D.</td>\n",
       "      <td>293</td>\n",
       "      <td>122</td>\n",
       "      <td>415</td>\n",
       "      <td>70.60</td>\n",
       "    </tr>\n",
       "    <tr>\n",
       "      <th>389</th>\n",
       "      <td>Clay</td>\n",
       "      <td>Moya C.</td>\n",
       "      <td>203</td>\n",
       "      <td>85</td>\n",
       "      <td>288</td>\n",
       "      <td>70.49</td>\n",
       "    </tr>\n",
       "    <tr>\n",
       "      <th>467</th>\n",
       "      <td>Clay</td>\n",
       "      <td>Roddick A.</td>\n",
       "      <td>67</td>\n",
       "      <td>29</td>\n",
       "      <td>96</td>\n",
       "      <td>69.79</td>\n",
       "    </tr>\n",
       "    <tr>\n",
       "      <th>123</th>\n",
       "      <td>Clay</td>\n",
       "      <td>Del Potro J.M.</td>\n",
       "      <td>55</td>\n",
       "      <td>24</td>\n",
       "      <td>79</td>\n",
       "      <td>69.62</td>\n",
       "    </tr>\n",
       "    <tr>\n",
       "      <th>394</th>\n",
       "      <td>Clay</td>\n",
       "      <td>Murray A.</td>\n",
       "      <td>89</td>\n",
       "      <td>40</td>\n",
       "      <td>129</td>\n",
       "      <td>68.99</td>\n",
       "    </tr>\n",
       "    <tr>\n",
       "      <th>3</th>\n",
       "      <td>Clay</td>\n",
       "      <td>Agassi A.</td>\n",
       "      <td>40</td>\n",
       "      <td>18</td>\n",
       "      <td>58</td>\n",
       "      <td>68.97</td>\n",
       "    </tr>\n",
       "    <tr>\n",
       "      <th>463</th>\n",
       "      <td>Clay</td>\n",
       "      <td>Robredo T.</td>\n",
       "      <td>249</td>\n",
       "      <td>116</td>\n",
       "      <td>365</td>\n",
       "      <td>68.22</td>\n",
       "    </tr>\n",
       "    <tr>\n",
       "      <th>211</th>\n",
       "      <td>Clay</td>\n",
       "      <td>Gonzalez F.</td>\n",
       "      <td>142</td>\n",
       "      <td>68</td>\n",
       "      <td>210</td>\n",
       "      <td>67.62</td>\n",
       "    </tr>\n",
       "    <tr>\n",
       "      <th>192</th>\n",
       "      <td>Clay</td>\n",
       "      <td>Gaudio G.</td>\n",
       "      <td>185</td>\n",
       "      <td>91</td>\n",
       "      <td>276</td>\n",
       "      <td>67.03</td>\n",
       "    </tr>\n",
       "    <tr>\n",
       "      <th>598</th>\n",
       "      <td>Clay</td>\n",
       "      <td>Wawrinka S.</td>\n",
       "      <td>154</td>\n",
       "      <td>77</td>\n",
       "      <td>231</td>\n",
       "      <td>66.67</td>\n",
       "    </tr>\n",
       "    <tr>\n",
       "      <th>246</th>\n",
       "      <td>Clay</td>\n",
       "      <td>Hewitt L.</td>\n",
       "      <td>78</td>\n",
       "      <td>40</td>\n",
       "      <td>118</td>\n",
       "      <td>66.10</td>\n",
       "    </tr>\n",
       "    <tr>\n",
       "      <th>9</th>\n",
       "      <td>Clay</td>\n",
       "      <td>Almagro N.</td>\n",
       "      <td>262</td>\n",
       "      <td>137</td>\n",
       "      <td>399</td>\n",
       "      <td>65.66</td>\n",
       "    </tr>\n",
       "    <tr>\n",
       "      <th>398</th>\n",
       "      <td>Clay</td>\n",
       "      <td>Nalbandian D.</td>\n",
       "      <td>125</td>\n",
       "      <td>66</td>\n",
       "      <td>191</td>\n",
       "      <td>65.45</td>\n",
       "    </tr>\n",
       "    <tr>\n",
       "      <th>190</th>\n",
       "      <td>Clay</td>\n",
       "      <td>Gasquet R.</td>\n",
       "      <td>118</td>\n",
       "      <td>66</td>\n",
       "      <td>184</td>\n",
       "      <td>64.13</td>\n",
       "    </tr>\n",
       "    <tr>\n",
       "      <th>102</th>\n",
       "      <td>Clay</td>\n",
       "      <td>Corretja A.</td>\n",
       "      <td>75</td>\n",
       "      <td>43</td>\n",
       "      <td>118</td>\n",
       "      <td>63.56</td>\n",
       "    </tr>\n",
       "    <tr>\n",
       "      <th>382</th>\n",
       "      <td>Clay</td>\n",
       "      <td>Monfils G.</td>\n",
       "      <td>106</td>\n",
       "      <td>61</td>\n",
       "      <td>167</td>\n",
       "      <td>63.47</td>\n",
       "    </tr>\n",
       "    <tr>\n",
       "      <th>50</th>\n",
       "      <td>Clay</td>\n",
       "      <td>Berdych T.</td>\n",
       "      <td>121</td>\n",
       "      <td>70</td>\n",
       "      <td>191</td>\n",
       "      <td>63.35</td>\n",
       "    </tr>\n",
       "    <tr>\n",
       "      <th>455</th>\n",
       "      <td>Clay</td>\n",
       "      <td>Raonic M.</td>\n",
       "      <td>46</td>\n",
       "      <td>27</td>\n",
       "      <td>73</td>\n",
       "      <td>63.01</td>\n",
       "    </tr>\n",
       "    <tr>\n",
       "      <th>483</th>\n",
       "      <td>Clay</td>\n",
       "      <td>Safin M.</td>\n",
       "      <td>88</td>\n",
       "      <td>53</td>\n",
       "      <td>141</td>\n",
       "      <td>62.41</td>\n",
       "    </tr>\n",
       "    <tr>\n",
       "      <th>579</th>\n",
       "      <td>Clay</td>\n",
       "      <td>Verdasco F.</td>\n",
       "      <td>192</td>\n",
       "      <td>116</td>\n",
       "      <td>308</td>\n",
       "      <td>62.34</td>\n",
       "    </tr>\n",
       "    <tr>\n",
       "      <th>564</th>\n",
       "      <td>Clay</td>\n",
       "      <td>Tsonga J.W.</td>\n",
       "      <td>66</td>\n",
       "      <td>40</td>\n",
       "      <td>106</td>\n",
       "      <td>62.26</td>\n",
       "    </tr>\n",
       "    <tr>\n",
       "      <th>381</th>\n",
       "      <td>Clay</td>\n",
       "      <td>Monaco J.</td>\n",
       "      <td>220</td>\n",
       "      <td>135</td>\n",
       "      <td>355</td>\n",
       "      <td>61.97</td>\n",
       "    </tr>\n",
       "  </tbody>\n",
       "</table>\n",
       "</div>"
      ],
      "text/plain": [
       "    Surface          Player  Count_Win  Count_Lose  total_play  perc_win\n",
       "396    Clay        Nadal R.        351          35         386     90.93\n",
       "135    Clay     Djokovic N.        169          39         208     81.25\n",
       "165    Clay      Federer R.        203          60         263     77.19\n",
       "304    Clay      Kuerten G.        105          40         145     72.41\n",
       "169    Clay    Ferrero J.C.        221          86         307     71.99\n",
       "405    Clay    Nishikori K.         60          24          84     71.43\n",
       "550    Clay        Thiem D.         59          24          83     71.08\n",
       "100    Clay        Coria G.        129          53         182     70.88\n",
       "168    Clay       Ferrer D.        293         122         415     70.60\n",
       "389    Clay         Moya C.        203          85         288     70.49\n",
       "467    Clay      Roddick A.         67          29          96     69.79\n",
       "123    Clay  Del Potro J.M.         55          24          79     69.62\n",
       "394    Clay       Murray A.         89          40         129     68.99\n",
       "3      Clay       Agassi A.         40          18          58     68.97\n",
       "463    Clay      Robredo T.        249         116         365     68.22\n",
       "211    Clay     Gonzalez F.        142          68         210     67.62\n",
       "192    Clay       Gaudio G.        185          91         276     67.03\n",
       "598    Clay     Wawrinka S.        154          77         231     66.67\n",
       "246    Clay       Hewitt L.         78          40         118     66.10\n",
       "9      Clay      Almagro N.        262         137         399     65.66\n",
       "398    Clay   Nalbandian D.        125          66         191     65.45\n",
       "190    Clay      Gasquet R.        118          66         184     64.13\n",
       "102    Clay     Corretja A.         75          43         118     63.56\n",
       "382    Clay      Monfils G.        106          61         167     63.47\n",
       "50     Clay      Berdych T.        121          70         191     63.35\n",
       "455    Clay       Raonic M.         46          27          73     63.01\n",
       "483    Clay        Safin M.         88          53         141     62.41\n",
       "579    Clay     Verdasco F.        192         116         308     62.34\n",
       "564    Clay     Tsonga J.W.         66          40         106     62.26\n",
       "381    Clay       Monaco J.        220         135         355     61.97"
      ]
     },
     "execution_count": 18,
     "metadata": {},
     "output_type": "execute_result"
    }
   ],
   "source": [
    "surface.sort_values(by='perc_win', ascending=False).head(30)"
   ]
  },
  {
   "cell_type": "code",
   "execution_count": 19,
   "metadata": {
    "execution": {
     "iopub.execute_input": "2020-05-17T21:41:14.094053Z",
     "iopub.status.busy": "2020-05-17T21:41:14.092677Z",
     "iopub.status.idle": "2020-05-17T21:41:14.095148Z",
     "shell.execute_reply": "2020-05-17T21:41:14.095961Z"
    },
    "papermill": {
     "duration": 0.021655,
     "end_time": "2020-05-17T21:41:14.096103",
     "exception": false,
     "start_time": "2020-05-17T21:41:14.074448",
     "status": "completed"
    },
    "tags": []
   },
   "outputs": [],
   "source": [
    "# Best players on Clay\n",
    "\n",
    "top_Clay = surface[surface.Surface == 'Clay'].sort_values(by='perc_win', ascending = False).head(10)\n",
    "#top_Clay.to_csv('top_clay.csv')"
   ]
  },
  {
   "cell_type": "code",
   "execution_count": 20,
   "metadata": {
    "execution": {
     "iopub.execute_input": "2020-05-17T21:41:14.131051Z",
     "iopub.status.busy": "2020-05-17T21:41:14.130016Z",
     "iopub.status.idle": "2020-05-17T21:41:14.483030Z",
     "shell.execute_reply": "2020-05-17T21:41:14.484097Z"
    },
    "papermill": {
     "duration": 0.37431,
     "end_time": "2020-05-17T21:41:14.484306",
     "exception": false,
     "start_time": "2020-05-17T21:41:14.109996",
     "status": "completed"
    },
    "tags": []
   },
   "outputs": [
    {
     "data": {
      "image/png": "[encoded data removed]",
      "text/plain": [
       "<Figure size 720x360 with 1 Axes>"
      ]
     },
     "metadata": {
      "needs_background": "light"
     },
     "output_type": "display_data"
    }
   ],
   "source": [
    "# plot the graph\n",
    "g=sns.catplot(x='Player', y='perc_win', data=top_Clay, kind='bar', height=5, aspect=2)\n",
    "g.set_xticklabels(labels = top_Clay.Player,  rotation=45)\n",
    "plt.title('Best players on Clay')\n",
    "plt.savefig(topclay1png, bbox_inches='tight')"
   ]
  },
  {
   "cell_type": "code",
   "execution_count": 21,
   "metadata": {
    "execution": {
     "iopub.execute_input": "2020-05-17T21:41:14.532995Z",
     "iopub.status.busy": "2020-05-17T21:41:14.531937Z",
     "iopub.status.idle": "2020-05-17T21:41:15.117832Z",
     "shell.execute_reply": "2020-05-17T21:41:15.118805Z"
    },
    "papermill": {
     "duration": 0.619379,
     "end_time": "2020-05-17T21:41:15.119038",
     "exception": false,
     "start_time": "2020-05-17T21:41:14.499659",
     "status": "completed"
    },
    "tags": []
   },
   "outputs": [
    {
     "data": {
      "image/png": "[encoded data removed]",
      "text/plain": [
       "<Figure size 432x288 with 1 Axes>"
      ]
     },
     "metadata": {
      "needs_background": "light"
     },
     "output_type": "display_data"
    }
   ],
   "source": [
    "top_Clay.plot(x='Player', kind='bar')\n",
    "plt.savefig(topclay2png, bbox_inches='tight')\n"
   ]
  },
  {
   "cell_type": "code",
   "execution_count": 22,
   "metadata": {
    "execution": {
     "iopub.execute_input": "2020-05-17T21:41:15.154978Z",
     "iopub.status.busy": "2020-05-17T21:41:15.153692Z",
     "iopub.status.idle": "2020-05-17T21:41:15.156099Z",
     "shell.execute_reply": "2020-05-17T21:41:15.157043Z"
    },
    "papermill": {
     "duration": 0.02092,
     "end_time": "2020-05-17T21:41:15.157225",
     "exception": false,
     "start_time": "2020-05-17T21:41:15.136305",
     "status": "completed"
    },
    "tags": []
   },
   "outputs": [],
   "source": [
    "#from pandas.plotting import table\n",
    "#ax = plt.subplot(111, frame_on=True) # no visible frame\n",
    "#ax.xaxis.set_visible(False)  # hide the x axis\n",
    "#ax.yaxis.set_visible(False)  # hide the y axis\n",
    "#\n",
    "#table(ax, top_Clay)  # where df is your data frame\n",
    "#\n",
    "#plt.savefig('claytable.png', bbox_inches='tight')"
   ]
  },
  {
   "cell_type": "code",
   "execution_count": 23,
   "metadata": {
    "execution": {
     "iopub.execute_input": "2020-05-17T21:41:15.193900Z",
     "iopub.status.busy": "2020-05-17T21:41:15.191755Z",
     "iopub.status.idle": "2020-05-17T21:41:15.201962Z",
     "shell.execute_reply": "2020-05-17T21:41:15.203990Z"
    },
    "papermill": {
     "duration": 0.031249,
     "end_time": "2020-05-17T21:41:15.204242",
     "exception": false,
     "start_time": "2020-05-17T21:41:15.172993",
     "status": "completed"
    },
    "tags": []
   },
   "outputs": [],
   "source": [
    "top_Clay.to_csv(topclaycsv)"
   ]
  },
  {
   "cell_type": "code",
   "execution_count": null,
   "metadata": {
    "papermill": {
     "duration": 0.016039,
     "end_time": "2020-05-17T21:41:15.246993",
     "exception": false,
     "start_time": "2020-05-17T21:41:15.230954",
     "status": "completed"
    },
    "tags": []
   },
   "outputs": [],
   "source": []
  }
 ],
 "metadata": {
  "celltoolbar": "Tags",
  "kernelspec": {
   "display_name": "Python 3",
   "language": "python",
   "name": "python3"
  },
  "language_info": {
   "codemirror_mode": {
    "name": "ipython",
    "version": 3
   },
   "file_extension": ".py",
   "mimetype": "text/x-python",
   "name": "python",
   "nbconvert_exporter": "python",
   "pygments_lexer": "ipython3",
   "version": "3.7.4"
  },
  "papermill": {
   "duration": 5.814608,
   "end_time": "2020-05-17T21:41:15.369880",
   "environment_variables": {},
   "exception": null,
   "input_path": "/Users/psehgal/dev/airflow_home/Tennis_Data_Pipeline_Airflow_Project/jupyter_notebooks/atp_top_claysurface.ipynb",
   "output_path": "/Users/psehgal/dev/airflow_home/Tennis_Data_Pipeline_Airflow_Project/jupyter_notebooks/atp_top_claysurface_output.ipynb",
   "parameters": {
    "file_name": "/Users/psehgal/atp_test/Data_clay.csv",
    "topclay1png": "/Users/psehgal/dev/airflow_home/Tennis_Data_Pipeline_airflow_Project/images_for_reports/topclay1png.png",
    "topclay2png": "/Users/psehgal/dev/airflow_home/Tennis_Data_Pipeline_airflow_Project/images_for_reports/topclay2png.png",
    "topclay3csv": "/Users/psehgal/dev/airflow_home/Tennis_Data_Pipeline_Airflow_Project/images_for_reports/topclaycsv.csv"
   },
   "start_time": "2020-05-17T21:41:09.555272",
   "version": "2.1.1"
  }
 },
 "nbformat": 4,
 "nbformat_minor": 1
}