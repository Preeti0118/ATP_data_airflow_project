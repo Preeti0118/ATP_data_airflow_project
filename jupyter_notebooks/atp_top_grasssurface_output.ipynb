{
 "cells": [
  {
   "cell_type": "code",
   "execution_count": 1,
   "metadata": {
    "_cell_guid": "b1076dfc-b9ad-4769-8c92-a6c4dae69d19",
    "_uuid": "8f2839f25d086af736a60e9eeb907d3b93b6e0e5",
    "execution": {
     "iopub.execute_input": "2020-05-17T21:41:24.605043Z",
     "iopub.status.busy": "2020-05-17T21:41:24.603964Z",
     "iopub.status.idle": "2020-05-17T21:41:25.552743Z",
     "shell.execute_reply": "2020-05-17T21:41:25.553669Z"
    },
    "papermill": {
     "duration": 0.968971,
     "end_time": "2020-05-17T21:41:25.553885",
     "exception": false,
     "start_time": "2020-05-17T21:41:24.584914",
     "status": "completed"
    },
    "tags": []
   },
   "outputs": [],
   "source": [
    "import numpy as np\n",
    "import pandas as pd\n",
    "import matplotlib.pyplot as plt\n",
    "from matplotlib.pyplot import xticks\n",
    "from scipy.stats import skew\n",
    "import seaborn as sns\n",
    "import os\n",
    "#from fpdf import FPDF\n"
   ]
  },
  {
   "cell_type": "code",
   "execution_count": 2,
   "metadata": {
    "execution": {
     "iopub.execute_input": "2020-05-17T21:41:25.598760Z",
     "iopub.status.busy": "2020-05-17T21:41:25.597339Z",
     "iopub.status.idle": "2020-05-17T21:41:25.599997Z",
     "shell.execute_reply": "2020-05-17T21:41:25.601077Z"
    },
    "papermill": {
     "duration": 0.029246,
     "end_time": "2020-05-17T21:41:25.601244",
     "exception": false,
     "start_time": "2020-05-17T21:41:25.571998",
     "status": "completed"
    },
    "tags": [
     "parameters"
    ]
   },
   "outputs": [],
   "source": [
    "#file_path1={'file_name': '/Users/psehgal/Data.csv'}\n",
    "#file_location = file_path1['file_name'] \n",
    "file_name = '/Users/psehgal/atp_test/Data_grass.csv'\n",
    "topgrass1png = '/Users/psehgal/dev/airflow_home/Tennis_Data_Pipeline_airflow_Project/images_for_reports/topgrass1png.png'\n",
    "topgrass2png = '/Users/psehgal/dev/airflow_home/Tennis_Data_Pipeline_airflow_Project/images_for_reports/topgrass2png.png'\n",
    "topgrasscsv = '/Users/psehgal/dev/airflow_home/Tennis_Data_Pipeline_airflow_Project/images_for_reports/topgrasscsv.csv'"
   ]
  },
  {
   "cell_type": "code",
   "execution_count": 3,
   "metadata": {
    "execution": {
     "iopub.execute_input": "2020-05-17T21:41:25.626681Z",
     "iopub.status.busy": "2020-05-17T21:41:25.625158Z",
     "iopub.status.idle": "2020-05-17T21:41:25.627830Z",
     "shell.execute_reply": "2020-05-17T21:41:25.628671Z"
    },
    "papermill": {
     "duration": 0.01738,
     "end_time": "2020-05-17T21:41:25.628819",
     "exception": false,
     "start_time": "2020-05-17T21:41:25.611439",
     "status": "completed"
    },
    "tags": [
     "injected-parameters"
    ]
   },
   "outputs": [],
   "source": [
    "# Parameters\n",
    "file_name = \"/Users/psehgal/atp_test/Data_grass.csv\"\n",
    "topgrass1png = \"/Users/psehgal/dev/airflow_home/Tennis_Data_Pipeline_airflow_Project/images_for_reports/topgrass1png.png\"\n",
    "topgrass2png = \"/Users/psehgal/dev/airflow_home/Tennis_Data_Pipeline_airflow_Project/images_for_reports/topgrass2png.png\"\n",
    "topgrass3csv = \"/Users/psehgal/dev/airflow_home/Tennis_Data_Pipeline_Airflow_Project/images_for_reports/topgrasscsv.csv\"\n"
   ]
  },
  {
   "cell_type": "code",
   "execution_count": 4,
   "metadata": {
    "_uuid": "0a8931240e7c2fc0e524bd770a0b4f20e42ce1f4",
    "execution": {
     "iopub.execute_input": "2020-05-17T21:41:25.653489Z",
     "iopub.status.busy": "2020-05-17T21:41:25.652407Z",
     "iopub.status.idle": "2020-05-17T21:41:25.680593Z",
     "shell.execute_reply": "2020-05-17T21:41:25.681428Z"
    },
    "papermill": {
     "duration": 0.042539,
     "end_time": "2020-05-17T21:41:25.681664",
     "exception": false,
     "start_time": "2020-05-17T21:41:25.639125",
     "status": "completed"
    },
    "tags": []
   },
   "outputs": [],
   "source": [
    "#data = pd.read_csv('/Users/psehgal/dev/airflow_home/kaggleatpdata.csv', dtype='unicode')\n",
    "data = pd.read_csv(file_name, encoding = 'ISO-8859-1')"
   ]
  },
  {
   "cell_type": "code",
   "execution_count": 5,
   "metadata": {
    "_uuid": "05fc6bfaa59d8f8a8e248386d620a6fbffeb4996",
    "execution": {
     "iopub.execute_input": "2020-05-17T21:41:25.710823Z",
     "iopub.status.busy": "2020-05-17T21:41:25.709787Z",
     "iopub.status.idle": "2020-05-17T21:41:25.733390Z",
     "shell.execute_reply": "2020-05-17T21:41:25.734337Z"
    },
    "papermill": {
     "duration": 0.042641,
     "end_time": "2020-05-17T21:41:25.734486",
     "exception": false,
     "start_time": "2020-05-17T21:41:25.691845",
     "status": "completed"
    },
    "tags": []
   },
   "outputs": [
    {
     "data": {
      "text/html": [
       "<div>\n",
       "<style scoped>\n",
       "    .dataframe tbody tr th:only-of-type {\n",
       "        vertical-align: middle;\n",
       "    }\n",
       "\n",
       "    .dataframe tbody tr th {\n",
       "        vertical-align: top;\n",
       "    }\n",
       "\n",
       "    .dataframe thead th {\n",
       "        text-align: right;\n",
       "    }\n",
       "</style>\n",
       "<table border=\"1\" class=\"dataframe\">\n",
       "  <thead>\n",
       "    <tr style=\"text-align: right;\">\n",
       "      <th></th>\n",
       "      <th>Unnamed: 0</th>\n",
       "      <th>Unnamed: 0.1</th>\n",
       "      <th>ATP</th>\n",
       "      <th>Location</th>\n",
       "      <th>Tournament</th>\n",
       "      <th>Date</th>\n",
       "      <th>Series</th>\n",
       "      <th>Court</th>\n",
       "      <th>Surface</th>\n",
       "      <th>Round</th>\n",
       "      <th>...</th>\n",
       "      <th>L2</th>\n",
       "      <th>W3</th>\n",
       "      <th>L3</th>\n",
       "      <th>W4</th>\n",
       "      <th>L4</th>\n",
       "      <th>W5</th>\n",
       "      <th>L5</th>\n",
       "      <th>Wsets</th>\n",
       "      <th>Lsets</th>\n",
       "      <th>Comment</th>\n",
       "    </tr>\n",
       "  </thead>\n",
       "  <tbody>\n",
       "    <tr>\n",
       "      <th>0</th>\n",
       "      <td>1416</td>\n",
       "      <td>1416</td>\n",
       "      <td>33</td>\n",
       "      <td>Halle</td>\n",
       "      <td>Gerry Weber Open</td>\n",
       "      <td>12/06/2000</td>\n",
       "      <td>International</td>\n",
       "      <td>Outdoor</td>\n",
       "      <td>Grass</td>\n",
       "      <td>1st Round</td>\n",
       "      <td>...</td>\n",
       "      <td>1.0</td>\n",
       "      <td>NaN</td>\n",
       "      <td>NaN</td>\n",
       "      <td>NaN</td>\n",
       "      <td>NaN</td>\n",
       "      <td>NaN</td>\n",
       "      <td>NaN</td>\n",
       "      <td>2.0</td>\n",
       "      <td>0.0</td>\n",
       "      <td>Completed</td>\n",
       "    </tr>\n",
       "    <tr>\n",
       "      <th>1</th>\n",
       "      <td>1417</td>\n",
       "      <td>1417</td>\n",
       "      <td>33</td>\n",
       "      <td>Halle</td>\n",
       "      <td>Gerry Weber Open</td>\n",
       "      <td>12/06/2000</td>\n",
       "      <td>International</td>\n",
       "      <td>Outdoor</td>\n",
       "      <td>Grass</td>\n",
       "      <td>1st Round</td>\n",
       "      <td>...</td>\n",
       "      <td>6.0</td>\n",
       "      <td>6.0</td>\n",
       "      <td>3.0</td>\n",
       "      <td>NaN</td>\n",
       "      <td>NaN</td>\n",
       "      <td>NaN</td>\n",
       "      <td>NaN</td>\n",
       "      <td>2.0</td>\n",
       "      <td>1.0</td>\n",
       "      <td>Completed</td>\n",
       "    </tr>\n",
       "    <tr>\n",
       "      <th>2</th>\n",
       "      <td>1418</td>\n",
       "      <td>1418</td>\n",
       "      <td>33</td>\n",
       "      <td>Halle</td>\n",
       "      <td>Gerry Weber Open</td>\n",
       "      <td>12/06/2000</td>\n",
       "      <td>International</td>\n",
       "      <td>Outdoor</td>\n",
       "      <td>Grass</td>\n",
       "      <td>1st Round</td>\n",
       "      <td>...</td>\n",
       "      <td>4.0</td>\n",
       "      <td>NaN</td>\n",
       "      <td>NaN</td>\n",
       "      <td>NaN</td>\n",
       "      <td>NaN</td>\n",
       "      <td>NaN</td>\n",
       "      <td>NaN</td>\n",
       "      <td>2.0</td>\n",
       "      <td>0.0</td>\n",
       "      <td>Completed</td>\n",
       "    </tr>\n",
       "    <tr>\n",
       "      <th>3</th>\n",
       "      <td>1419</td>\n",
       "      <td>1419</td>\n",
       "      <td>33</td>\n",
       "      <td>Halle</td>\n",
       "      <td>Gerry Weber Open</td>\n",
       "      <td>12/06/2000</td>\n",
       "      <td>International</td>\n",
       "      <td>Outdoor</td>\n",
       "      <td>Grass</td>\n",
       "      <td>1st Round</td>\n",
       "      <td>...</td>\n",
       "      <td>2.0</td>\n",
       "      <td>NaN</td>\n",
       "      <td>NaN</td>\n",
       "      <td>NaN</td>\n",
       "      <td>NaN</td>\n",
       "      <td>NaN</td>\n",
       "      <td>NaN</td>\n",
       "      <td>2.0</td>\n",
       "      <td>0.0</td>\n",
       "      <td>Completed</td>\n",
       "    </tr>\n",
       "    <tr>\n",
       "      <th>4</th>\n",
       "      <td>1420</td>\n",
       "      <td>1420</td>\n",
       "      <td>33</td>\n",
       "      <td>Halle</td>\n",
       "      <td>Gerry Weber Open</td>\n",
       "      <td>12/06/2000</td>\n",
       "      <td>International</td>\n",
       "      <td>Outdoor</td>\n",
       "      <td>Grass</td>\n",
       "      <td>1st Round</td>\n",
       "      <td>...</td>\n",
       "      <td>6.0</td>\n",
       "      <td>6.0</td>\n",
       "      <td>4.0</td>\n",
       "      <td>NaN</td>\n",
       "      <td>NaN</td>\n",
       "      <td>NaN</td>\n",
       "      <td>NaN</td>\n",
       "      <td>2.0</td>\n",
       "      <td>1.0</td>\n",
       "      <td>Completed</td>\n",
       "    </tr>\n",
       "    <tr>\n",
       "      <th>...</th>\n",
       "      <td>...</td>\n",
       "      <td>...</td>\n",
       "      <td>...</td>\n",
       "      <td>...</td>\n",
       "      <td>...</td>\n",
       "      <td>...</td>\n",
       "      <td>...</td>\n",
       "      <td>...</td>\n",
       "      <td>...</td>\n",
       "      <td>...</td>\n",
       "      <td>...</td>\n",
       "      <td>...</td>\n",
       "      <td>...</td>\n",
       "      <td>...</td>\n",
       "      <td>...</td>\n",
       "      <td>...</td>\n",
       "      <td>...</td>\n",
       "      <td>...</td>\n",
       "      <td>...</td>\n",
       "      <td>...</td>\n",
       "      <td>...</td>\n",
       "    </tr>\n",
       "    <tr>\n",
       "      <th>5191</th>\n",
       "      <td>46127</td>\n",
       "      <td>46127</td>\n",
       "      <td>42</td>\n",
       "      <td>Newport</td>\n",
       "      <td>Hall of Fame Championships</td>\n",
       "      <td>15/07/2016</td>\n",
       "      <td>ATP250</td>\n",
       "      <td>Outdoor</td>\n",
       "      <td>Grass</td>\n",
       "      <td>Quarterfinals</td>\n",
       "      <td>...</td>\n",
       "      <td>3.0</td>\n",
       "      <td>NaN</td>\n",
       "      <td>NaN</td>\n",
       "      <td>NaN</td>\n",
       "      <td>NaN</td>\n",
       "      <td>NaN</td>\n",
       "      <td>NaN</td>\n",
       "      <td>2.0</td>\n",
       "      <td>0.0</td>\n",
       "      <td>Completed</td>\n",
       "    </tr>\n",
       "    <tr>\n",
       "      <th>5192</th>\n",
       "      <td>46128</td>\n",
       "      <td>46128</td>\n",
       "      <td>42</td>\n",
       "      <td>Newport</td>\n",
       "      <td>Hall of Fame Championships</td>\n",
       "      <td>15/07/2016</td>\n",
       "      <td>ATP250</td>\n",
       "      <td>Outdoor</td>\n",
       "      <td>Grass</td>\n",
       "      <td>Quarterfinals</td>\n",
       "      <td>...</td>\n",
       "      <td>1.0</td>\n",
       "      <td>6.0</td>\n",
       "      <td>2.0</td>\n",
       "      <td>NaN</td>\n",
       "      <td>NaN</td>\n",
       "      <td>NaN</td>\n",
       "      <td>NaN</td>\n",
       "      <td>2.0</td>\n",
       "      <td>1.0</td>\n",
       "      <td>Completed</td>\n",
       "    </tr>\n",
       "    <tr>\n",
       "      <th>5193</th>\n",
       "      <td>46129</td>\n",
       "      <td>46129</td>\n",
       "      <td>42</td>\n",
       "      <td>Newport</td>\n",
       "      <td>Hall of Fame Championships</td>\n",
       "      <td>16/07/2016</td>\n",
       "      <td>ATP250</td>\n",
       "      <td>Outdoor</td>\n",
       "      <td>Grass</td>\n",
       "      <td>Semifinals</td>\n",
       "      <td>...</td>\n",
       "      <td>4.0</td>\n",
       "      <td>NaN</td>\n",
       "      <td>NaN</td>\n",
       "      <td>NaN</td>\n",
       "      <td>NaN</td>\n",
       "      <td>NaN</td>\n",
       "      <td>NaN</td>\n",
       "      <td>2.0</td>\n",
       "      <td>0.0</td>\n",
       "      <td>Completed</td>\n",
       "    </tr>\n",
       "    <tr>\n",
       "      <th>5194</th>\n",
       "      <td>46130</td>\n",
       "      <td>46130</td>\n",
       "      <td>42</td>\n",
       "      <td>Newport</td>\n",
       "      <td>Hall of Fame Championships</td>\n",
       "      <td>16/07/2016</td>\n",
       "      <td>ATP250</td>\n",
       "      <td>Outdoor</td>\n",
       "      <td>Grass</td>\n",
       "      <td>Semifinals</td>\n",
       "      <td>...</td>\n",
       "      <td>6.0</td>\n",
       "      <td>NaN</td>\n",
       "      <td>NaN</td>\n",
       "      <td>NaN</td>\n",
       "      <td>NaN</td>\n",
       "      <td>NaN</td>\n",
       "      <td>NaN</td>\n",
       "      <td>2.0</td>\n",
       "      <td>0.0</td>\n",
       "      <td>Completed</td>\n",
       "    </tr>\n",
       "    <tr>\n",
       "      <th>5195</th>\n",
       "      <td>46131</td>\n",
       "      <td>46131</td>\n",
       "      <td>42</td>\n",
       "      <td>Newport</td>\n",
       "      <td>Hall of Fame Championships</td>\n",
       "      <td>17/07/2016</td>\n",
       "      <td>ATP250</td>\n",
       "      <td>Outdoor</td>\n",
       "      <td>Grass</td>\n",
       "      <td>The Final</td>\n",
       "      <td>...</td>\n",
       "      <td>6.0</td>\n",
       "      <td>7.0</td>\n",
       "      <td>6.0</td>\n",
       "      <td>NaN</td>\n",
       "      <td>NaN</td>\n",
       "      <td>NaN</td>\n",
       "      <td>NaN</td>\n",
       "      <td>2.0</td>\n",
       "      <td>1.0</td>\n",
       "      <td>Completed</td>\n",
       "    </tr>\n",
       "  </tbody>\n",
       "</table>\n",
       "<p>5196 rows × 28 columns</p>\n",
       "</div>"
      ],
      "text/plain": [
       "      Unnamed: 0  Unnamed: 0.1  ATP Location                  Tournament  \\\n",
       "0           1416          1416   33    Halle            Gerry Weber Open   \n",
       "1           1417          1417   33    Halle            Gerry Weber Open   \n",
       "2           1418          1418   33    Halle            Gerry Weber Open   \n",
       "3           1419          1419   33    Halle            Gerry Weber Open   \n",
       "4           1420          1420   33    Halle            Gerry Weber Open   \n",
       "...          ...           ...  ...      ...                         ...   \n",
       "5191       46127         46127   42  Newport  Hall of Fame Championships   \n",
       "5192       46128         46128   42  Newport  Hall of Fame Championships   \n",
       "5193       46129         46129   42  Newport  Hall of Fame Championships   \n",
       "5194       46130         46130   42  Newport  Hall of Fame Championships   \n",
       "5195       46131         46131   42  Newport  Hall of Fame Championships   \n",
       "\n",
       "            Date         Series    Court Surface          Round  ...   L2  \\\n",
       "0     12/06/2000  International  Outdoor   Grass      1st Round  ...  1.0   \n",
       "1     12/06/2000  International  Outdoor   Grass      1st Round  ...  6.0   \n",
       "2     12/06/2000  International  Outdoor   Grass      1st Round  ...  4.0   \n",
       "3     12/06/2000  International  Outdoor   Grass      1st Round  ...  2.0   \n",
       "4     12/06/2000  International  Outdoor   Grass      1st Round  ...  6.0   \n",
       "...          ...            ...      ...     ...            ...  ...  ...   \n",
       "5191  15/07/2016         ATP250  Outdoor   Grass  Quarterfinals  ...  3.0   \n",
       "5192  15/07/2016         ATP250  Outdoor   Grass  Quarterfinals  ...  1.0   \n",
       "5193  16/07/2016         ATP250  Outdoor   Grass     Semifinals  ...  4.0   \n",
       "5194  16/07/2016         ATP250  Outdoor   Grass     Semifinals  ...  6.0   \n",
       "5195  17/07/2016         ATP250  Outdoor   Grass      The Final  ...  6.0   \n",
       "\n",
       "       W3   L3  W4  L4  W5  L5  Wsets  Lsets    Comment  \n",
       "0     NaN  NaN NaN NaN NaN NaN    2.0    0.0  Completed  \n",
       "1     6.0  3.0 NaN NaN NaN NaN    2.0    1.0  Completed  \n",
       "2     NaN  NaN NaN NaN NaN NaN    2.0    0.0  Completed  \n",
       "3     NaN  NaN NaN NaN NaN NaN    2.0    0.0  Completed  \n",
       "4     6.0  4.0 NaN NaN NaN NaN    2.0    1.0  Completed  \n",
       "...   ...  ...  ..  ..  ..  ..    ...    ...        ...  \n",
       "5191  NaN  NaN NaN NaN NaN NaN    2.0    0.0  Completed  \n",
       "5192  6.0  2.0 NaN NaN NaN NaN    2.0    1.0  Completed  \n",
       "5193  NaN  NaN NaN NaN NaN NaN    2.0    0.0  Completed  \n",
       "5194  NaN  NaN NaN NaN NaN NaN    2.0    0.0  Completed  \n",
       "5195  7.0  6.0 NaN NaN NaN NaN    2.0    1.0  Completed  \n",
       "\n",
       "[5196 rows x 28 columns]"
      ]
     },
     "execution_count": 5,
     "metadata": {},
     "output_type": "execute_result"
    }
   ],
   "source": [
    "data"
   ]
  },
  {
   "cell_type": "code",
   "execution_count": 6,
   "metadata": {
    "_uuid": "35bac39d0eb0df67bd9b060ff1fe40961d192d8a",
    "execution": {
     "iopub.execute_input": "2020-05-17T21:41:25.760570Z",
     "iopub.status.busy": "2020-05-17T21:41:25.759432Z",
     "iopub.status.idle": "2020-05-17T21:41:25.765958Z",
     "shell.execute_reply": "2020-05-17T21:41:25.763704Z"
    },
    "papermill": {
     "duration": 0.021084,
     "end_time": "2020-05-17T21:41:25.766116",
     "exception": false,
     "start_time": "2020-05-17T21:41:25.745032",
     "status": "completed"
    },
    "tags": []
   },
   "outputs": [
    {
     "data": {
      "text/plain": [
       "array(['International', 'Grand Slam', 'ATP250', 'ATP500'], dtype=object)"
      ]
     },
     "execution_count": 6,
     "metadata": {},
     "output_type": "execute_result"
    }
   ],
   "source": [
    "data.Series.unique()"
   ]
  },
  {
   "cell_type": "code",
   "execution_count": 7,
   "metadata": {
    "execution": {
     "iopub.execute_input": "2020-05-17T21:41:25.795201Z",
     "iopub.status.busy": "2020-05-17T21:41:25.793871Z",
     "iopub.status.idle": "2020-05-17T21:41:25.796304Z",
     "shell.execute_reply": "2020-05-17T21:41:25.797118Z"
    },
    "papermill": {
     "duration": 0.018102,
     "end_time": "2020-05-17T21:41:25.797261",
     "exception": false,
     "start_time": "2020-05-17T21:41:25.779159",
     "status": "completed"
    },
    "tags": []
   },
   "outputs": [],
   "source": [
    "# Best 10 players on clay, grass, and hard surfaces"
   ]
  },
  {
   "cell_type": "code",
   "execution_count": 8,
   "metadata": {
    "execution": {
     "iopub.execute_input": "2020-05-17T21:41:25.824992Z",
     "iopub.status.busy": "2020-05-17T21:41:25.823846Z",
     "iopub.status.idle": "2020-05-17T21:41:25.826088Z",
     "shell.execute_reply": "2020-05-17T21:41:25.826903Z"
    },
    "papermill": {
     "duration": 0.018551,
     "end_time": "2020-05-17T21:41:25.827043",
     "exception": false,
     "start_time": "2020-05-17T21:41:25.808492",
     "status": "completed"
    },
    "tags": []
   },
   "outputs": [],
   "source": [
    "# df with column names\n",
    "surface = data[['Surface', 'Winner', 'Loser']]"
   ]
  },
  {
   "cell_type": "code",
   "execution_count": 9,
   "metadata": {
    "execution": {
     "iopub.execute_input": "2020-05-17T21:41:25.855780Z",
     "iopub.status.busy": "2020-05-17T21:41:25.854680Z",
     "iopub.status.idle": "2020-05-17T21:41:25.859206Z",
     "shell.execute_reply": "2020-05-17T21:41:25.858341Z"
    },
    "papermill": {
     "duration": 0.019176,
     "end_time": "2020-05-17T21:41:25.859330",
     "exception": false,
     "start_time": "2020-05-17T21:41:25.840154",
     "status": "completed"
    },
    "tags": []
   },
   "outputs": [
    {
     "data": {
      "text/plain": [
       "(5196, 3)"
      ]
     },
     "execution_count": 9,
     "metadata": {},
     "output_type": "execute_result"
    }
   ],
   "source": [
    "surface.shape"
   ]
  },
  {
   "cell_type": "code",
   "execution_count": 10,
   "metadata": {
    "execution": {
     "iopub.execute_input": "2020-05-17T21:41:25.937938Z",
     "iopub.status.busy": "2020-05-17T21:41:25.936314Z",
     "iopub.status.idle": "2020-05-17T21:41:25.939317Z",
     "shell.execute_reply": "2020-05-17T21:41:25.941127Z"
    },
    "papermill": {
     "duration": 0.071149,
     "end_time": "2020-05-17T21:41:25.941376",
     "exception": false,
     "start_time": "2020-05-17T21:41:25.870227",
     "status": "completed"
    },
    "tags": []
   },
   "outputs": [],
   "source": [
    "# create 2 df for winner and looser and change the column names to player\n",
    "surface_w = surface[['Surface', 'Winner']]\n",
    "surface_l = surface[['Surface', 'Loser']]\n",
    "surface_w.columns = ['Surface', 'Player']\n",
    "surface_l.columns = ['Surface', 'Player']"
   ]
  },
  {
   "cell_type": "code",
   "execution_count": 11,
   "metadata": {
    "execution": {
     "iopub.execute_input": "2020-05-17T21:41:25.975785Z",
     "iopub.status.busy": "2020-05-17T21:41:25.974195Z",
     "iopub.status.idle": "2020-05-17T21:41:25.976910Z",
     "shell.execute_reply": "2020-05-17T21:41:25.977723Z"
    },
    "papermill": {
     "duration": 0.022796,
     "end_time": "2020-05-17T21:41:25.977943",
     "exception": false,
     "start_time": "2020-05-17T21:41:25.955147",
     "status": "completed"
    },
    "tags": []
   },
   "outputs": [],
   "source": [
    "# add 1 more column to the df and fill with sequential nums from 1 to length of df\n",
    "surface_w['idx'] = range(1, len(surface_w) + 1)\n",
    "surface_l['idx'] = range(1, len(surface_l) + 1)"
   ]
  },
  {
   "cell_type": "code",
   "execution_count": 12,
   "metadata": {
    "execution": {
     "iopub.execute_input": "2020-05-17T21:41:26.009734Z",
     "iopub.status.busy": "2020-05-17T21:41:26.008319Z",
     "iopub.status.idle": "2020-05-17T21:41:26.014974Z",
     "shell.execute_reply": "2020-05-17T21:41:26.015997Z"
    },
    "papermill": {
     "duration": 0.026719,
     "end_time": "2020-05-17T21:41:26.016151",
     "exception": false,
     "start_time": "2020-05-17T21:41:25.989432",
     "status": "completed"
    },
    "tags": []
   },
   "outputs": [],
   "source": [
    "# count the num of winning matches for every surface and player combination \n",
    "surface_w = surface_w.groupby(['Surface', 'Player']).count()\n",
    "surface_w = surface_w.reset_index()\n",
    "surface_w.columns = ['Surface', 'Player', 'Count_Win']\n"
   ]
  },
  {
   "cell_type": "code",
   "execution_count": 13,
   "metadata": {
    "execution": {
     "iopub.execute_input": "2020-05-17T21:41:26.049755Z",
     "iopub.status.busy": "2020-05-17T21:41:26.048007Z",
     "iopub.status.idle": "2020-05-17T21:41:26.056938Z",
     "shell.execute_reply": "2020-05-17T21:41:26.059329Z"
    },
    "papermill": {
     "duration": 0.029211,
     "end_time": "2020-05-17T21:41:26.059512",
     "exception": false,
     "start_time": "2020-05-17T21:41:26.030301",
     "status": "completed"
    },
    "tags": []
   },
   "outputs": [],
   "source": [
    "# count the num of lost matches for every surface and player combination\n",
    "surface_l = surface_l.groupby(['Surface', 'Player']).count()\n",
    "surface_l = surface_l.reset_index()\n",
    "surface_l.columns = ['Surface', 'Player', 'Count_Lose']"
   ]
  },
  {
   "cell_type": "code",
   "execution_count": 14,
   "metadata": {
    "execution": {
     "iopub.execute_input": "2020-05-17T21:41:26.125247Z",
     "iopub.status.busy": "2020-05-17T21:41:26.123978Z",
     "iopub.status.idle": "2020-05-17T21:41:26.127209Z",
     "shell.execute_reply": "2020-05-17T21:41:26.126355Z"
    },
    "papermill": {
     "duration": 0.028318,
     "end_time": "2020-05-17T21:41:26.127336",
     "exception": false,
     "start_time": "2020-05-17T21:41:26.099018",
     "status": "completed"
    },
    "tags": []
   },
   "outputs": [],
   "source": [
    "surface = pd.merge(surface_w, surface_l, on=['Surface', 'Player'])"
   ]
  },
  {
   "cell_type": "code",
   "execution_count": 15,
   "metadata": {
    "execution": {
     "iopub.execute_input": "2020-05-17T21:41:26.159908Z",
     "iopub.status.busy": "2020-05-17T21:41:26.155838Z",
     "iopub.status.idle": "2020-05-17T21:41:26.166506Z",
     "shell.execute_reply": "2020-05-17T21:41:26.167456Z"
    },
    "papermill": {
     "duration": 0.02844,
     "end_time": "2020-05-17T21:41:26.167647",
     "exception": false,
     "start_time": "2020-05-17T21:41:26.139207",
     "status": "completed"
    },
    "tags": []
   },
   "outputs": [],
   "source": [
    "surface['total_play'] = surface['Count_Win'] + surface['Count_Lose']"
   ]
  },
  {
   "cell_type": "code",
   "execution_count": 16,
   "metadata": {
    "execution": {
     "iopub.execute_input": "2020-05-17T21:41:26.207907Z",
     "iopub.status.busy": "2020-05-17T21:41:26.206207Z",
     "iopub.status.idle": "2020-05-17T21:41:26.209015Z",
     "shell.execute_reply": "2020-05-17T21:41:26.209844Z"
    },
    "papermill": {
     "duration": 0.021142,
     "end_time": "2020-05-17T21:41:26.209990",
     "exception": false,
     "start_time": "2020-05-17T21:41:26.188848",
     "status": "completed"
    },
    "tags": []
   },
   "outputs": [],
   "source": [
    "surface['perc_win'] = round(surface['Count_Win'] / surface['total_play'],4)*100"
   ]
  },
  {
   "cell_type": "code",
   "execution_count": 17,
   "metadata": {
    "execution": {
     "iopub.execute_input": "2020-05-17T21:41:26.267415Z",
     "iopub.status.busy": "2020-05-17T21:41:26.263589Z",
     "iopub.status.idle": "2020-05-17T21:41:26.270893Z",
     "shell.execute_reply": "2020-05-17T21:41:26.271824Z"
    },
    "papermill": {
     "duration": 0.050367,
     "end_time": "2020-05-17T21:41:26.271976",
     "exception": false,
     "start_time": "2020-05-17T21:41:26.221609",
     "status": "completed"
    },
    "tags": []
   },
   "outputs": [],
   "source": [
    "surface = surface[surface.total_play > 50]"
   ]
  },
  {
   "cell_type": "code",
   "execution_count": 18,
   "metadata": {
    "execution": {
     "iopub.execute_input": "2020-05-17T21:41:26.312154Z",
     "iopub.status.busy": "2020-05-17T21:41:26.310604Z",
     "iopub.status.idle": "2020-05-17T21:41:26.315498Z",
     "shell.execute_reply": "2020-05-17T21:41:26.314530Z"
    },
    "papermill": {
     "duration": 0.028958,
     "end_time": "2020-05-17T21:41:26.315635",
     "exception": false,
     "start_time": "2020-05-17T21:41:26.286677",
     "status": "completed"
    },
    "tags": []
   },
   "outputs": [
    {
     "data": {
      "text/html": [
       "<div>\n",
       "<style scoped>\n",
       "    .dataframe tbody tr th:only-of-type {\n",
       "        vertical-align: middle;\n",
       "    }\n",
       "\n",
       "    .dataframe tbody tr th {\n",
       "        vertical-align: top;\n",
       "    }\n",
       "\n",
       "    .dataframe thead th {\n",
       "        text-align: right;\n",
       "    }\n",
       "</style>\n",
       "<table border=\"1\" class=\"dataframe\">\n",
       "  <thead>\n",
       "    <tr style=\"text-align: right;\">\n",
       "      <th></th>\n",
       "      <th>Surface</th>\n",
       "      <th>Player</th>\n",
       "      <th>Count_Win</th>\n",
       "      <th>Count_Lose</th>\n",
       "      <th>total_play</th>\n",
       "      <th>perc_win</th>\n",
       "    </tr>\n",
       "  </thead>\n",
       "  <tbody>\n",
       "    <tr>\n",
       "      <th>129</th>\n",
       "      <td>Grass</td>\n",
       "      <td>Federer R.</td>\n",
       "      <td>147</td>\n",
       "      <td>20</td>\n",
       "      <td>167</td>\n",
       "      <td>88.02</td>\n",
       "    </tr>\n",
       "    <tr>\n",
       "      <th>289</th>\n",
       "      <td>Grass</td>\n",
       "      <td>Murray A.</td>\n",
       "      <td>90</td>\n",
       "      <td>18</td>\n",
       "      <td>108</td>\n",
       "      <td>83.33</td>\n",
       "    </tr>\n",
       "    <tr>\n",
       "      <th>104</th>\n",
       "      <td>Grass</td>\n",
       "      <td>Djokovic N.</td>\n",
       "      <td>65</td>\n",
       "      <td>14</td>\n",
       "      <td>79</td>\n",
       "      <td>82.28</td>\n",
       "    </tr>\n",
       "    <tr>\n",
       "      <th>345</th>\n",
       "      <td>Grass</td>\n",
       "      <td>Roddick A.</td>\n",
       "      <td>82</td>\n",
       "      <td>21</td>\n",
       "      <td>103</td>\n",
       "      <td>79.61</td>\n",
       "    </tr>\n",
       "    <tr>\n",
       "      <th>291</th>\n",
       "      <td>Grass</td>\n",
       "      <td>Nadal R.</td>\n",
       "      <td>58</td>\n",
       "      <td>17</td>\n",
       "      <td>75</td>\n",
       "      <td>77.33</td>\n",
       "    </tr>\n",
       "    <tr>\n",
       "      <th>182</th>\n",
       "      <td>Grass</td>\n",
       "      <td>Hewitt L.</td>\n",
       "      <td>103</td>\n",
       "      <td>31</td>\n",
       "      <td>134</td>\n",
       "      <td>76.87</td>\n",
       "    </tr>\n",
       "    <tr>\n",
       "      <th>404</th>\n",
       "      <td>Grass</td>\n",
       "      <td>Tsonga J.W.</td>\n",
       "      <td>42</td>\n",
       "      <td>16</td>\n",
       "      <td>58</td>\n",
       "      <td>72.41</td>\n",
       "    </tr>\n",
       "    <tr>\n",
       "      <th>34</th>\n",
       "      <td>Grass</td>\n",
       "      <td>Berdych T.</td>\n",
       "      <td>59</td>\n",
       "      <td>24</td>\n",
       "      <td>83</td>\n",
       "      <td>71.08</td>\n",
       "    </tr>\n",
       "    <tr>\n",
       "      <th>352</th>\n",
       "      <td>Grass</td>\n",
       "      <td>Rusedski G.</td>\n",
       "      <td>41</td>\n",
       "      <td>17</td>\n",
       "      <td>58</td>\n",
       "      <td>70.69</td>\n",
       "    </tr>\n",
       "    <tr>\n",
       "      <th>177</th>\n",
       "      <td>Grass</td>\n",
       "      <td>Henman T.</td>\n",
       "      <td>42</td>\n",
       "      <td>18</td>\n",
       "      <td>60</td>\n",
       "      <td>70.00</td>\n",
       "    </tr>\n",
       "    <tr>\n",
       "      <th>145</th>\n",
       "      <td>Grass</td>\n",
       "      <td>Gasquet R.</td>\n",
       "      <td>55</td>\n",
       "      <td>26</td>\n",
       "      <td>81</td>\n",
       "      <td>67.90</td>\n",
       "    </tr>\n",
       "    <tr>\n",
       "      <th>164</th>\n",
       "      <td>Grass</td>\n",
       "      <td>Grosjean S.</td>\n",
       "      <td>42</td>\n",
       "      <td>20</td>\n",
       "      <td>62</td>\n",
       "      <td>67.74</td>\n",
       "    </tr>\n",
       "    <tr>\n",
       "      <th>76</th>\n",
       "      <td>Grass</td>\n",
       "      <td>Cilic M.</td>\n",
       "      <td>46</td>\n",
       "      <td>23</td>\n",
       "      <td>69</td>\n",
       "      <td>66.67</td>\n",
       "    </tr>\n",
       "    <tr>\n",
       "      <th>37</th>\n",
       "      <td>Grass</td>\n",
       "      <td>Bjorkman J.</td>\n",
       "      <td>51</td>\n",
       "      <td>26</td>\n",
       "      <td>77</td>\n",
       "      <td>66.23</td>\n",
       "    </tr>\n",
       "    <tr>\n",
       "      <th>131</th>\n",
       "      <td>Grass</td>\n",
       "      <td>Ferrer D.</td>\n",
       "      <td>39</td>\n",
       "      <td>20</td>\n",
       "      <td>59</td>\n",
       "      <td>66.10</td>\n",
       "    </tr>\n",
       "    <tr>\n",
       "      <th>202</th>\n",
       "      <td>Grass</td>\n",
       "      <td>Karlovic I.</td>\n",
       "      <td>66</td>\n",
       "      <td>34</td>\n",
       "      <td>100</td>\n",
       "      <td>66.00</td>\n",
       "    </tr>\n",
       "    <tr>\n",
       "      <th>254</th>\n",
       "      <td>Grass</td>\n",
       "      <td>Mahut N.</td>\n",
       "      <td>63</td>\n",
       "      <td>35</td>\n",
       "      <td>98</td>\n",
       "      <td>64.29</td>\n",
       "    </tr>\n",
       "    <tr>\n",
       "      <th>170</th>\n",
       "      <td>Grass</td>\n",
       "      <td>Haas T.</td>\n",
       "      <td>43</td>\n",
       "      <td>24</td>\n",
       "      <td>67</td>\n",
       "      <td>64.18</td>\n",
       "    </tr>\n",
       "    <tr>\n",
       "      <th>267</th>\n",
       "      <td>Grass</td>\n",
       "      <td>Mayer F.</td>\n",
       "      <td>34</td>\n",
       "      <td>19</td>\n",
       "      <td>53</td>\n",
       "      <td>64.15</td>\n",
       "    </tr>\n",
       "    <tr>\n",
       "      <th>134</th>\n",
       "      <td>Grass</td>\n",
       "      <td>Fish M.</td>\n",
       "      <td>46</td>\n",
       "      <td>26</td>\n",
       "      <td>72</td>\n",
       "      <td>63.89</td>\n",
       "    </tr>\n",
       "    <tr>\n",
       "      <th>249</th>\n",
       "      <td>Grass</td>\n",
       "      <td>Lopez F.</td>\n",
       "      <td>61</td>\n",
       "      <td>35</td>\n",
       "      <td>96</td>\n",
       "      <td>63.54</td>\n",
       "    </tr>\n",
       "    <tr>\n",
       "      <th>215</th>\n",
       "      <td>Grass</td>\n",
       "      <td>Kohlschreiber P.</td>\n",
       "      <td>52</td>\n",
       "      <td>30</td>\n",
       "      <td>82</td>\n",
       "      <td>63.41</td>\n",
       "    </tr>\n",
       "    <tr>\n",
       "      <th>255</th>\n",
       "      <td>Grass</td>\n",
       "      <td>Malisse X.</td>\n",
       "      <td>50</td>\n",
       "      <td>29</td>\n",
       "      <td>79</td>\n",
       "      <td>63.29</td>\n",
       "    </tr>\n",
       "    <tr>\n",
       "      <th>328</th>\n",
       "      <td>Grass</td>\n",
       "      <td>Querrey S.</td>\n",
       "      <td>49</td>\n",
       "      <td>29</td>\n",
       "      <td>78</td>\n",
       "      <td>62.82</td>\n",
       "    </tr>\n",
       "    <tr>\n",
       "      <th>197</th>\n",
       "      <td>Grass</td>\n",
       "      <td>Johansson T.</td>\n",
       "      <td>35</td>\n",
       "      <td>21</td>\n",
       "      <td>56</td>\n",
       "      <td>62.50</td>\n",
       "    </tr>\n",
       "    <tr>\n",
       "      <th>360</th>\n",
       "      <td>Grass</td>\n",
       "      <td>Santoro F.</td>\n",
       "      <td>41</td>\n",
       "      <td>26</td>\n",
       "      <td>67</td>\n",
       "      <td>61.19</td>\n",
       "    </tr>\n",
       "    <tr>\n",
       "      <th>439</th>\n",
       "      <td>Grass</td>\n",
       "      <td>Youzhny M.</td>\n",
       "      <td>59</td>\n",
       "      <td>39</td>\n",
       "      <td>98</td>\n",
       "      <td>60.20</td>\n",
       "    </tr>\n",
       "    <tr>\n",
       "      <th>390</th>\n",
       "      <td>Grass</td>\n",
       "      <td>Stepanek R.</td>\n",
       "      <td>43</td>\n",
       "      <td>29</td>\n",
       "      <td>72</td>\n",
       "      <td>59.72</td>\n",
       "    </tr>\n",
       "    <tr>\n",
       "      <th>17</th>\n",
       "      <td>Grass</td>\n",
       "      <td>Baghdatis M.</td>\n",
       "      <td>47</td>\n",
       "      <td>32</td>\n",
       "      <td>79</td>\n",
       "      <td>59.49</td>\n",
       "    </tr>\n",
       "    <tr>\n",
       "      <th>248</th>\n",
       "      <td>Grass</td>\n",
       "      <td>Llodra M.</td>\n",
       "      <td>44</td>\n",
       "      <td>30</td>\n",
       "      <td>74</td>\n",
       "      <td>59.46</td>\n",
       "    </tr>\n",
       "  </tbody>\n",
       "</table>\n",
       "</div>"
      ],
      "text/plain": [
       "    Surface            Player  Count_Win  Count_Lose  total_play  perc_win\n",
       "129   Grass        Federer R.        147          20         167     88.02\n",
       "289   Grass         Murray A.         90          18         108     83.33\n",
       "104   Grass       Djokovic N.         65          14          79     82.28\n",
       "345   Grass        Roddick A.         82          21         103     79.61\n",
       "291   Grass          Nadal R.         58          17          75     77.33\n",
       "182   Grass         Hewitt L.        103          31         134     76.87\n",
       "404   Grass       Tsonga J.W.         42          16          58     72.41\n",
       "34    Grass        Berdych T.         59          24          83     71.08\n",
       "352   Grass       Rusedski G.         41          17          58     70.69\n",
       "177   Grass         Henman T.         42          18          60     70.00\n",
       "145   Grass        Gasquet R.         55          26          81     67.90\n",
       "164   Grass       Grosjean S.         42          20          62     67.74\n",
       "76    Grass          Cilic M.         46          23          69     66.67\n",
       "37    Grass       Bjorkman J.         51          26          77     66.23\n",
       "131   Grass         Ferrer D.         39          20          59     66.10\n",
       "202   Grass       Karlovic I.         66          34         100     66.00\n",
       "254   Grass          Mahut N.         63          35          98     64.29\n",
       "170   Grass           Haas T.         43          24          67     64.18\n",
       "267   Grass          Mayer F.         34          19          53     64.15\n",
       "134   Grass           Fish M.         46          26          72     63.89\n",
       "249   Grass          Lopez F.         61          35          96     63.54\n",
       "215   Grass  Kohlschreiber P.         52          30          82     63.41\n",
       "255   Grass        Malisse X.         50          29          79     63.29\n",
       "328   Grass        Querrey S.         49          29          78     62.82\n",
       "197   Grass      Johansson T.         35          21          56     62.50\n",
       "360   Grass        Santoro F.         41          26          67     61.19\n",
       "439   Grass        Youzhny M.         59          39          98     60.20\n",
       "390   Grass       Stepanek R.         43          29          72     59.72\n",
       "17    Grass      Baghdatis M.         47          32          79     59.49\n",
       "248   Grass         Llodra M.         44          30          74     59.46"
      ]
     },
     "execution_count": 18,
     "metadata": {},
     "output_type": "execute_result"
    }
   ],
   "source": [
    "surface.sort_values(by='perc_win', ascending=False).head(30)"
   ]
  },
  {
   "cell_type": "code",
   "execution_count": 19,
   "metadata": {
    "execution": {
     "iopub.execute_input": "2020-05-17T21:41:26.381235Z",
     "iopub.status.busy": "2020-05-17T21:41:26.355967Z",
     "iopub.status.idle": "2020-05-17T21:41:26.401138Z",
     "shell.execute_reply": "2020-05-17T21:41:26.399590Z"
    },
    "papermill": {
     "duration": 0.073509,
     "end_time": "2020-05-17T21:41:26.401875",
     "exception": false,
     "start_time": "2020-05-17T21:41:26.328366",
     "status": "completed"
    },
    "tags": []
   },
   "outputs": [],
   "source": [
    "# Best players on Grass\n",
    "\n",
    "top_Grass = surface[surface.Surface == 'Grass'].sort_values(by='perc_win', ascending = False).head(10)\n",
    "#top_Grass.to_csv('top_grass.csv')"
   ]
  },
  {
   "cell_type": "code",
   "execution_count": 20,
   "metadata": {
    "execution": {
     "iopub.execute_input": "2020-05-17T21:41:26.462845Z",
     "iopub.status.busy": "2020-05-17T21:41:26.461661Z",
     "iopub.status.idle": "2020-05-17T21:41:26.811742Z",
     "shell.execute_reply": "2020-05-17T21:41:26.812560Z"
    },
    "papermill": {
     "duration": 0.390975,
     "end_time": "2020-05-17T21:41:26.812710",
     "exception": false,
     "start_time": "2020-05-17T21:41:26.421735",
     "status": "completed"
    },
    "tags": []
   },
   "outputs": [
    {
     "data": {
      "image/png": "[encoded data removed]",
      "text/plain": [
       "<Figure size 720x360 with 1 Axes>"
      ]
     },
     "metadata": {
      "needs_background": "light"
     },
     "output_type": "display_data"
    }
   ],
   "source": [
    "# plot the graph\n",
    "g=sns.catplot(x='Player', y='perc_win', data=top_Grass, kind='bar', height=5, aspect=2)\n",
    "g.set_xticklabels(labels = top_Grass.Player,  rotation=45)\n",
    "plt.title('Best players on Grass')\n",
    "plt.savefig(topgrass1png, bbox_inches='tight')"
   ]
  },
  {
   "cell_type": "code",
   "execution_count": 21,
   "metadata": {
    "execution": {
     "iopub.execute_input": "2020-05-17T21:41:26.861844Z",
     "iopub.status.busy": "2020-05-17T21:41:26.859854Z",
     "iopub.status.idle": "2020-05-17T21:41:27.316636Z",
     "shell.execute_reply": "2020-05-17T21:41:27.318567Z"
    },
    "papermill": {
     "duration": 0.492596,
     "end_time": "2020-05-17T21:41:27.318749",
     "exception": false,
     "start_time": "2020-05-17T21:41:26.826153",
     "status": "completed"
    },
    "tags": []
   },
   "outputs": [
    {
     "data": {
      "image/png": "[encoded data removed]",
      "text/plain": [
       "<Figure size 432x288 with 1 Axes>"
      ]
     },
     "metadata": {
      "needs_background": "light"
     },
     "output_type": "display_data"
    }
   ],
   "source": [
    "top_Grass.plot(x='Player', kind='bar')\n",
    "plt.savefig(topgrass2png, bbox_inches='tight')\n"
   ]
  },
  {
   "cell_type": "code",
   "execution_count": 22,
   "metadata": {
    "execution": {
     "iopub.execute_input": "2020-05-17T21:41:27.351004Z",
     "iopub.status.busy": "2020-05-17T21:41:27.349932Z",
     "iopub.status.idle": "2020-05-17T21:41:27.352109Z",
     "shell.execute_reply": "2020-05-17T21:41:27.352915Z"
    },
    "papermill": {
     "duration": 0.019635,
     "end_time": "2020-05-17T21:41:27.353057",
     "exception": false,
     "start_time": "2020-05-17T21:41:27.333422",
     "status": "completed"
    },
    "tags": []
   },
   "outputs": [],
   "source": [
    "#from pandas.plotting import table\n",
    "#ax = plt.subplot(111, frame_on=True) # no visible frame\n",
    "#ax.xaxis.set_visible(False)  # hide the x axis\n",
    "#ax.yaxis.set_visible(False)  # hide the y axis\n",
    "#\n",
    "#table(ax, top_Clay)  # where df is your data frame\n",
    "#\n",
    "#plt.savefig('claytable.png', bbox_inches='tight')"
   ]
  },
  {
   "cell_type": "code",
   "execution_count": 23,
   "metadata": {
    "execution": {
     "iopub.execute_input": "2020-05-17T21:41:27.384535Z",
     "iopub.status.busy": "2020-05-17T21:41:27.383429Z",
     "iopub.status.idle": "2020-05-17T21:41:27.387743Z",
     "shell.execute_reply": "2020-05-17T21:41:27.388822Z"
    },
    "papermill": {
     "duration": 0.022176,
     "end_time": "2020-05-17T21:41:27.388974",
     "exception": false,
     "start_time": "2020-05-17T21:41:27.366798",
     "status": "completed"
    },
    "tags": []
   },
   "outputs": [],
   "source": [
    "top_Grass.to_csv(topgrasscsv)"
   ]
  },
  {
   "cell_type": "code",
   "execution_count": null,
   "metadata": {
    "papermill": {
     "duration": 0.013082,
     "end_time": "2020-05-17T21:41:27.415487",
     "exception": false,
     "start_time": "2020-05-17T21:41:27.402405",
     "status": "completed"
    },
    "tags": []
   },
   "outputs": [],
   "source": []
  }
 ],
 "metadata": {
  "celltoolbar": "Tags",
  "kernelspec": {
   "display_name": "Python 3",
   "language": "python",
   "name": "python3"
  },
  "language_info": {
   "codemirror_mode": {
    "name": "ipython",
    "version": 3
   },
   "file_extension": ".py",
   "mimetype": "text/x-python",
   "name": "python",
   "nbconvert_exporter": "python",
   "pygments_lexer": "ipython3",
   "version": "3.7.4"
  },
  "papermill": {
   "duration": 3.919978,
   "end_time": "2020-05-17T21:41:27.536819",
   "environment_variables": {},
   "exception": null,
   "input_path": "/Users/psehgal/dev/airflow_home/Tennis_Data_Pipeline_Airflow_Project/jupyter_notebooks/atp_top_grasssurface.ipynb",
   "output_path": "/Users/psehgal/dev/airflow_home/Tennis_Data_Pipeline_Airflow_Project/jupyter_notebooks/atp_top_grasssurface_output.ipynb",
   "parameters": {
    "file_name": "/Users/psehgal/atp_test/Data_grass.csv",
    "topgrass1png": "/Users/psehgal/dev/airflow_home/Tennis_Data_Pipeline_airflow_Project/images_for_reports/topgrass1png.png",
    "topgrass2png": "/Users/psehgal/dev/airflow_home/Tennis_Data_Pipeline_airflow_Project/images_for_reports/topgrass2png.png",
    "topgrass3csv": "/Users/psehgal/dev/airflow_home/Tennis_Data_Pipeline_Airflow_Project/images_for_reports/topgrasscsv.csv"
   },
   "start_time": "2020-05-17T21:41:23.616841",
   "version": "2.1.1"
  }
 },
 "nbformat": 4,
 "nbformat_minor": 1
}